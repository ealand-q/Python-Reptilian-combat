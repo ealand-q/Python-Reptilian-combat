{
 "cells": [
  {
   "cell_type": "markdown",
   "id": "97dcc6fb",
   "metadata": {
    "ExecuteTime": {
     "end_time": "2022-11-27T08:05:49.096333Z",
     "start_time": "2022-11-27T08:05:48.822284Z"
    }
   },
   "source": [
    "# 定义url地址"
   ]
  },
  {
   "cell_type": "code",
   "execution_count": 2,
   "id": "0f289548",
   "metadata": {
    "ExecuteTime": {
     "end_time": "2022-11-27T08:06:52.262939Z",
     "start_time": "2022-11-27T08:06:52.246565Z"
    }
   },
   "outputs": [],
   "source": [
    "url='''https://so.toutiao.com/search?dvpf=pc&source=search\n",
    "_subtab_switch&keyword=%E5%8F%AF%E7%88%B1%E8%\n",
    "A1%A8%E6%83%85%E5%8C%85&pd=atlas&\n",
    "action_type=search_subtab_switch&page_num=0&search_\n",
    "id=&from=gallery&cur_tab_title=gallery\n",
    "'''"
   ]
  },
  {
   "cell_type": "markdown",
   "id": "a60e08b7",
   "metadata": {
    "ExecuteTime": {
     "end_time": "2022-11-27T08:08:56.932535Z",
     "start_time": "2022-11-27T08:08:56.912337Z"
    }
   },
   "source": [
    "# 数据解析"
   ]
  },
  {
   "cell_type": "code",
   "execution_count": 4,
   "id": "5aba0ac9",
   "metadata": {
    "ExecuteTime": {
     "end_time": "2022-11-27T08:09:19.941425Z",
     "start_time": "2022-11-27T08:09:19.812584Z"
    }
   },
   "outputs": [],
   "source": [
    "import requests"
   ]
  },
  {
   "cell_type": "code",
   "execution_count": null,
   "id": "30ce40aa",
   "metadata": {},
   "outputs": [],
   "source": []
  },
  {
   "cell_type": "code",
   "execution_count": null,
   "id": "84aa7970",
   "metadata": {},
   "outputs": [],
   "source": []
  },
  {
   "cell_type": "code",
   "execution_count": null,
   "id": "52cbdfeb",
   "metadata": {},
   "outputs": [],
   "source": []
  },
  {
   "cell_type": "code",
   "execution_count": null,
   "id": "55168a69",
   "metadata": {},
   "outputs": [],
   "source": []
  }
 ],
 "metadata": {
  "kernelspec": {
   "display_name": "Python 3",
   "language": "python",
   "name": "python3"
  },
  "language_info": {
   "codemirror_mode": {
    "name": "ipython",
    "version": 3
   },
   "file_extension": ".py",
   "mimetype": "text/x-python",
   "name": "python",
   "nbconvert_exporter": "python",
   "pygments_lexer": "ipython3",
   "version": "3.8.8"
  },
  "toc": {
   "base_numbering": 1,
   "nav_menu": {},
   "number_sections": true,
   "sideBar": true,
   "skip_h1_title": false,
   "title_cell": "Table of Contents",
   "title_sidebar": "Contents",
   "toc_cell": false,
   "toc_position": {},
   "toc_section_display": true,
   "toc_window_display": false
  }
 },
 "nbformat": 4,
 "nbformat_minor": 5
}
