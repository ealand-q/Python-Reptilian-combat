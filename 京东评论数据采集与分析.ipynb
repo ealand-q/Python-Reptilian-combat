{
 "cells": [
  {
   "cell_type": "markdown",
   "id": "6cce89ff",
   "metadata": {
    "ExecuteTime": {
     "end_time": "2023-01-04T12:14:48.771078Z",
     "start_time": "2023-01-04T12:14:48.437542Z"
    }
   },
   "source": [
    "# 定义地址"
   ]
  },
  {
   "cell_type": "code",
   "execution_count": 72,
   "id": "98d27928",
   "metadata": {
    "ExecuteTime": {
     "end_time": "2023-01-04T14:37:54.357450Z",
     "start_time": "2023-01-04T14:37:54.353115Z"
    }
   },
   "outputs": [],
   "source": [
    "url='https://club.jd.com/comment/productPageComments.action?callback=fetchJSON_comment98&productId=100016931001&score=0&sortType=5&page=0&pageSize=10&isShadowSku=0&rid=0&fold=1'"
   ]
  },
  {
   "cell_type": "markdown",
   "id": "fee870f2",
   "metadata": {
    "ExecuteTime": {
     "end_time": "2023-01-04T12:15:26.887382Z",
     "start_time": "2023-01-04T12:15:26.873287Z"
    }
   },
   "source": [
    "# 发出请求"
   ]
  },
  {
   "cell_type": "code",
   "execution_count": 90,
   "id": "c7945ea6",
   "metadata": {
    "ExecuteTime": {
     "end_time": "2023-01-04T14:44:58.065101Z",
     "start_time": "2023-01-04T14:44:58.059379Z"
    }
   },
   "outputs": [],
   "source": [
    "import requests\n",
    "import json"
   ]
  },
  {
   "cell_type": "code",
   "execution_count": 91,
   "id": "b19645fe",
   "metadata": {
    "ExecuteTime": {
     "end_time": "2023-01-04T14:44:58.585923Z",
     "start_time": "2023-01-04T14:44:58.434935Z"
    }
   },
   "outputs": [],
   "source": [
    "res=requests.get(url)"
   ]
  },
  {
   "cell_type": "code",
   "execution_count": 92,
   "id": "de268736",
   "metadata": {
    "ExecuteTime": {
     "end_time": "2023-01-04T14:44:58.904264Z",
     "start_time": "2023-01-04T14:44:58.885269Z"
    }
   },
   "outputs": [
    {
     "data": {
      "text/plain": [
       "200"
      ]
     },
     "execution_count": 92,
     "metadata": {},
     "output_type": "execute_result"
    }
   ],
   "source": [
    "res.status_code"
   ]
  },
  {
   "cell_type": "code",
   "execution_count": 93,
   "id": "c440d298",
   "metadata": {
    "ExecuteTime": {
     "end_time": "2023-01-04T14:45:00.253819Z",
     "start_time": "2023-01-04T14:45:00.238178Z"
    }
   },
   "outputs": [],
   "source": [
    "#发现需要登录，添加请求头\n",
    "headers={'User-Agent':'Mozilla/5.0 (Windows NT 10.0; Win64; x64) AppleWebKit/537.36 (KHTML, like Gecko) Chrome/108.0.0.0 Safari/537.36 Edg/108.0.1462.54'\n",
    "       ,'cookie':'shshshfpa=6f453abe-751f-e5f1-bd85-65bd0d40224e-1672822814; __jdv=122270672|direct|-|none|-|1672822814834; areaId=17; shshshfpb=qmfN9Munoou61SE3wAj8Lcg; __jdu=1672822814834286527399; ip_cityCode=1441; ipLoc-djd=17-1441-1444-41953; jsavif=0; jsavif=0; __jda=122270672.1672822814834286527399.1672822815.1672822815.1672834039.2; __jdc=122270672; wlfstk_smdl=49w8kk2qy480f5zvkny548lny0gjbtpg; TrackID=1KqZ21pYaxL89skWjOyOTpZ7hrWVIBF40CpnkePBW9WpFcT3s-qhx_0fXINtfEdl4TCHQniOPtkpP3pM0XAZSfjyHCtoHzpmVn_X3t5OGJj3QL3HQQJt3CBX6hbaApSQG; thor=DE8108AB6F5DD03AA8792E283050273D3D4E1A3B933E022D4C1ABD03F5E8CF5B9DA58E41ABDE1C3F5BCB4816C3A59352E5F454C094C9A095281D05968B3DD1B74D0CF6C52D72009D4AD075FC5B6FFD24806BF9A0A520922E62E86D5F2BFEF0FEB3357BC2C4D50DA38CC78B7A48D01814E44924816EE219BE608B653DC1B0E33FFA35AD753673BC6280649D75CC9E7E5A76BB68DEDF2176ED4DF3E005CFD36DC4; pinId=_j4LHM1CJmhz6wlG9YxoKrV9-x-f3wj7; pin=jd_6053d9571fa1b; unick=jd_6053d9571fa1b; ceshi3.com=000; _tp=UuhqdlTej3vS1Nq1JmZI6j/ch84cE/T1puGNx13+PPs=; _pst=jd_6053d9571fa1b; token=576840882969c9adcbcb5056277f57cc,3,929352; __tk=cab31ba245b6aa8e9e4b841ba71ad8b2,3,929352; shshshfp=2b5b99a61fc9e87e09e7bdd7f2e213fd; shshshsID=a297d9216fa8cc3e6ce3cd87d5e56017_4_1672834974218; __jdb=122270672.6.1672822814834286527399|2.1672834039; 3AB9D23F7A4B3C9B=ADECELVFYHOKJYYO2SUMEBXXKUA7GYB7CMDOV2SH4N643PV56YGOTJWFNKBPADRZOY53PAVBJJ5J65BVZDIFN5MRUM'}"
   ]
  },
  {
   "cell_type": "code",
   "execution_count": 117,
   "id": "ce53dd13",
   "metadata": {
    "ExecuteTime": {
     "end_time": "2023-01-04T15:14:03.287231Z",
     "start_time": "2023-01-04T15:14:03.069307Z"
    },
    "scrolled": true
   },
   "outputs": [
    {
     "data": {
      "text/plain": [
       "<Response [200]>"
      ]
     },
     "execution_count": 117,
     "metadata": {},
     "output_type": "execute_result"
    }
   ],
   "source": [
    "res = requests.get(url,headers=headers)\n",
    "res"
   ]
  },
  {
   "cell_type": "code",
   "execution_count": 128,
   "id": "4d634282",
   "metadata": {
    "ExecuteTime": {
     "end_time": "2023-01-04T15:18:12.787035Z",
     "start_time": "2023-01-04T15:18:12.772592Z"
    }
   },
   "outputs": [
    {
     "data": {
      "text/plain": [
       "requests.models.Response"
      ]
     },
     "execution_count": 128,
     "metadata": {},
     "output_type": "execute_result"
    }
   ],
   "source": [
    "type(res)"
   ]
  },
  {
   "cell_type": "markdown",
   "id": "d7762912",
   "metadata": {
    "ExecuteTime": {
     "end_time": "2023-01-04T12:28:06.105070Z",
     "start_time": "2023-01-04T12:28:06.081830Z"
    }
   },
   "source": [
    "# 解析数据"
   ]
  },
  {
   "cell_type": "markdown",
   "id": "5deb0d68",
   "metadata": {
    "ExecuteTime": {
     "end_time": "2023-01-04T12:28:48.095487Z",
     "start_time": "2023-01-04T12:28:48.075556Z"
    }
   },
   "source": [
    "## 评论人编号"
   ]
  },
  {
   "cell_type": "code",
   "execution_count": 40,
   "id": "90b7f8eb",
   "metadata": {
    "ExecuteTime": {
     "end_time": "2023-01-04T12:57:32.439532Z",
     "start_time": "2023-01-04T12:57:32.421820Z"
    }
   },
   "outputs": [
    {
     "data": {
      "text/plain": [
       "[]"
      ]
     },
     "execution_count": 40,
     "metadata": {},
     "output_type": "execute_result"
    }
   ],
   "source": [
    "user_info = res[]\n",
    "user_info"
   ]
  },
  {
   "cell_type": "code",
   "execution_count": null,
   "id": "4765d4df",
   "metadata": {},
   "outputs": [],
   "source": []
  },
  {
   "cell_type": "code",
   "execution_count": null,
   "id": "607b2b42",
   "metadata": {},
   "outputs": [],
   "source": []
  },
  {
   "cell_type": "code",
   "execution_count": null,
   "id": "cfa16b47",
   "metadata": {},
   "outputs": [],
   "source": []
  },
  {
   "cell_type": "code",
   "execution_count": null,
   "id": "a04621b0",
   "metadata": {},
   "outputs": [],
   "source": []
  },
  {
   "cell_type": "code",
   "execution_count": null,
   "id": "2061fa67",
   "metadata": {},
   "outputs": [],
   "source": []
  },
  {
   "cell_type": "code",
   "execution_count": null,
   "id": "4dfe074d",
   "metadata": {},
   "outputs": [],
   "source": []
  },
  {
   "cell_type": "code",
   "execution_count": null,
   "id": "294bb6f9",
   "metadata": {},
   "outputs": [],
   "source": []
  },
  {
   "cell_type": "code",
   "execution_count": null,
   "id": "d2005145",
   "metadata": {},
   "outputs": [],
   "source": []
  },
  {
   "cell_type": "code",
   "execution_count": null,
   "id": "04992e41",
   "metadata": {},
   "outputs": [],
   "source": []
  },
  {
   "cell_type": "code",
   "execution_count": null,
   "id": "9be5b1e3",
   "metadata": {},
   "outputs": [],
   "source": []
  },
  {
   "cell_type": "code",
   "execution_count": null,
   "id": "6a91527d",
   "metadata": {},
   "outputs": [],
   "source": []
  },
  {
   "cell_type": "code",
   "execution_count": null,
   "id": "dbf17795",
   "metadata": {},
   "outputs": [],
   "source": []
  },
  {
   "cell_type": "code",
   "execution_count": null,
   "id": "a09a820a",
   "metadata": {},
   "outputs": [],
   "source": []
  },
  {
   "cell_type": "code",
   "execution_count": null,
   "id": "2c92fe67",
   "metadata": {},
   "outputs": [],
   "source": []
  },
  {
   "cell_type": "code",
   "execution_count": null,
   "id": "05b6f569",
   "metadata": {},
   "outputs": [],
   "source": []
  },
  {
   "cell_type": "code",
   "execution_count": null,
   "id": "b3dd5b8f",
   "metadata": {},
   "outputs": [],
   "source": []
  },
  {
   "cell_type": "code",
   "execution_count": null,
   "id": "02440220",
   "metadata": {},
   "outputs": [],
   "source": []
  },
  {
   "cell_type": "code",
   "execution_count": null,
   "id": "bdcc8d1c",
   "metadata": {},
   "outputs": [],
   "source": []
  },
  {
   "cell_type": "code",
   "execution_count": null,
   "id": "4786b392",
   "metadata": {},
   "outputs": [],
   "source": []
  },
  {
   "cell_type": "code",
   "execution_count": null,
   "id": "a4be166a",
   "metadata": {},
   "outputs": [],
   "source": []
  },
  {
   "cell_type": "code",
   "execution_count": null,
   "id": "a6254366",
   "metadata": {},
   "outputs": [],
   "source": []
  },
  {
   "cell_type": "code",
   "execution_count": null,
   "id": "86500a80",
   "metadata": {},
   "outputs": [],
   "source": []
  },
  {
   "cell_type": "code",
   "execution_count": null,
   "id": "bb72b653",
   "metadata": {},
   "outputs": [],
   "source": []
  },
  {
   "cell_type": "code",
   "execution_count": null,
   "id": "093314a0",
   "metadata": {},
   "outputs": [],
   "source": []
  },
  {
   "cell_type": "code",
   "execution_count": null,
   "id": "f3ba0b11",
   "metadata": {},
   "outputs": [],
   "source": []
  },
  {
   "cell_type": "code",
   "execution_count": null,
   "id": "28273775",
   "metadata": {},
   "outputs": [],
   "source": []
  },
  {
   "cell_type": "code",
   "execution_count": null,
   "id": "add354e3",
   "metadata": {},
   "outputs": [],
   "source": []
  },
  {
   "cell_type": "code",
   "execution_count": null,
   "id": "54a2d5ff",
   "metadata": {},
   "outputs": [],
   "source": []
  },
  {
   "cell_type": "code",
   "execution_count": null,
   "id": "1625ae33",
   "metadata": {},
   "outputs": [],
   "source": []
  },
  {
   "cell_type": "code",
   "execution_count": null,
   "id": "ad14d4fd",
   "metadata": {},
   "outputs": [],
   "source": []
  },
  {
   "cell_type": "code",
   "execution_count": null,
   "id": "1f3dd423",
   "metadata": {},
   "outputs": [],
   "source": []
  },
  {
   "cell_type": "code",
   "execution_count": null,
   "id": "61bf489d",
   "metadata": {},
   "outputs": [],
   "source": []
  },
  {
   "cell_type": "code",
   "execution_count": null,
   "id": "026b9d12",
   "metadata": {},
   "outputs": [],
   "source": []
  },
  {
   "cell_type": "code",
   "execution_count": null,
   "id": "71ebd128",
   "metadata": {},
   "outputs": [],
   "source": []
  }
 ],
 "metadata": {
  "kernelspec": {
   "display_name": "Python 3",
   "language": "python",
   "name": "python3"
  },
  "language_info": {
   "codemirror_mode": {
    "name": "ipython",
    "version": 3
   },
   "file_extension": ".py",
   "mimetype": "text/x-python",
   "name": "python",
   "nbconvert_exporter": "python",
   "pygments_lexer": "ipython3",
   "version": "3.8.8"
  },
  "toc": {
   "base_numbering": 1,
   "nav_menu": {},
   "number_sections": true,
   "sideBar": true,
   "skip_h1_title": false,
   "title_cell": "Table of Contents",
   "title_sidebar": "Contents",
   "toc_cell": false,
   "toc_position": {},
   "toc_section_display": true,
   "toc_window_display": false
  }
 },
 "nbformat": 4,
 "nbformat_minor": 5
}
