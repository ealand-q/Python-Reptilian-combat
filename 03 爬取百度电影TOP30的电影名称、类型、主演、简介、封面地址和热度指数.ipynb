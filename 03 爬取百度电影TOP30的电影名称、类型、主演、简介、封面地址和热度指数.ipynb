{
 "cells": [
  {
   "cell_type": "markdown",
   "id": "9ae506aa",
   "metadata": {
    "ExecuteTime": {
     "end_time": "2022-11-13T07:56:45.852946Z",
     "start_time": "2022-11-13T07:56:45.843264Z"
    }
   },
   "source": [
    "网址：https://top.baidu.com/board?tab=movie"
   ]
  },
  {
   "cell_type": "markdown",
   "id": "b6a3b8ce",
   "metadata": {
    "ExecuteTime": {
     "end_time": "2022-11-13T07:57:04.036868Z",
     "start_time": "2022-11-13T07:57:04.018117Z"
    }
   },
   "source": [
    "内容：\n",
    "- 电影名称\n",
    "- 类型\n",
    "- 主演\n",
    "- 简介\n",
    "- 封面地址\n",
    "- 热度指数"
   ]
  },
  {
   "cell_type": "markdown",
   "id": "f561c59f",
   "metadata": {
    "ExecuteTime": {
     "end_time": "2022-11-13T07:59:31.375921Z",
     "start_time": "2022-11-13T07:59:31.098780Z"
    }
   },
   "source": [
    "# 定义url地址"
   ]
  },
  {
   "cell_type": "code",
   "execution_count": 1,
   "id": "e1874fef",
   "metadata": {
    "ExecuteTime": {
     "end_time": "2022-11-13T11:40:47.609713Z",
     "start_time": "2022-11-13T11:40:47.603207Z"
    }
   },
   "outputs": [],
   "source": [
    "url='https://top.baidu.com/board?tab=movie'"
   ]
  },
  {
   "cell_type": "markdown",
   "id": "cd12f285",
   "metadata": {
    "ExecuteTime": {
     "end_time": "2022-11-13T07:59:51.762774Z",
     "start_time": "2022-11-13T07:59:51.748326Z"
    }
   },
   "source": [
    "# 发送GET请求"
   ]
  },
  {
   "cell_type": "code",
   "execution_count": 2,
   "id": "ed6c36ab",
   "metadata": {
    "ExecuteTime": {
     "end_time": "2022-11-13T11:40:47.811888Z",
     "start_time": "2022-11-13T11:40:47.612071Z"
    }
   },
   "outputs": [],
   "source": [
    "import requests"
   ]
  },
  {
   "cell_type": "code",
   "execution_count": 3,
   "id": "3c84762f",
   "metadata": {
    "ExecuteTime": {
     "end_time": "2022-11-13T11:40:48.275129Z",
     "start_time": "2022-11-13T11:40:47.813876Z"
    }
   },
   "outputs": [],
   "source": [
    "respone=requests.get(url)"
   ]
  },
  {
   "cell_type": "code",
   "execution_count": 4,
   "id": "fffefa2c",
   "metadata": {
    "ExecuteTime": {
     "end_time": "2022-11-13T11:40:48.305015Z",
     "start_time": "2022-11-13T11:40:48.281053Z"
    }
   },
   "outputs": [
    {
     "data": {
      "text/plain": [
       "200"
      ]
     },
     "execution_count": 4,
     "metadata": {},
     "output_type": "execute_result"
    }
   ],
   "source": [
    "respone.status_code"
   ]
  },
  {
   "cell_type": "code",
   "execution_count": 5,
   "id": "acfee124",
   "metadata": {
    "ExecuteTime": {
     "end_time": "2022-11-13T11:40:48.338259Z",
     "start_time": "2022-11-13T11:40:48.308082Z"
    }
   },
   "outputs": [
    {
     "data": {
      "text/plain": [
       "'\\n        <!DOCTYPE html>\\n        <html>\\n            <head>\\n                <meta http-equiv=\"Content-Type\" content=\"text/html;charset=utf-8\">\\n                <meta http-equiv=\"X-UA-Compatible\" content=\"IE=edge,chrome=1\">\\n                <meta content=\"always\" name=\"referrer\">\\n                <meta name=\"theme-color\" content=\"#2932e1\">\\n                <link rel=\"shortcut icon\" href=\"//www.baidu.com/favicon.ico\" type=\"image/x-icon\" />\\n                <link rel=\"icon\" sizes=\"any\" mask href=\"//www.baidu.com/img/baidu_85beaf5496f291521eb75ba38eacbd87.svg\">\\n                <link rel=\"dns-prefetch\" href=\"//fyb-pc-static.cdn.bcebos.com\"/>\\n                <meta name=\"keywords\" content=\"百度热搜,百度热搜榜,百度搜索排行榜,搜索排行榜,百度热门搜索,今日热搜,今日热点,排行榜,热搜榜,热词榜,热门话题,网络热点,实时热点,热门事件,热点\">\\n                <meta name=\"description\" content=\"百度热搜以数亿用户海量的真实数据为基础，通过专业的数据挖掘方法，计算关键词的热搜指数，旨在建立权威、全面、热门、时效的各类关键词排行榜，引领热词阅读时代。\">\\n                <title>百度热搜</title>\\n                <style data-vue-ssr-id=\"22cfed39:0\">\\n.c-gap-top-small {\\n  margin-top: 3px;\\n}\\n.c-gap-top {\\n  margin-top: 7px;\\n}\\n.c-gap-top-large {\\n  margin-top: 11px;\\n}\\n.c-gap-top-mini {\\n  margin-top: 2px;\\n}\\n.c-gap-top-xsmall {\\n  margin-top: 4px;\\n}\\n.c-gap-top-middle {\\n  margin-top: 10px;\\n}\\n.c-gap-bottom-small {\\n  margin-bottom: 3px;\\n}\\n.c-gap-bottom {\\n  margin-bottom: 7px;\\n}\\n.c-gap-bottom-large {\\n  margin-bottom: 11px;\\n}\\n.c-gap-bottom-mini {\\n  margin-bottom: 2px;\\n}\\n.c-gap-bottom-xsmall {\\n  margin-bottom: 4px;\\n}\\n.c-gap-bottom-middle {\\n  margin-bottom: 10px;\\n}\\n.c-gap-left {\\n  margin-left: 12px;\\n}\\n.c-gap-left-small {\\n  margin-left: 8px;\\n}\\n.c-gap-left-xsmall {\\n  margin-left: 4px;\\n}\\n.c-gap-left-mini {\\n  margin-left: 2px;\\n}\\n.c-gap-left-large {\\n  margin-left: 16px;\\n}\\n.c-gap-left-middle {\\n  margin-left: 10px;\\n}\\n.c-gap-right {\\n  margin-right: 12px;\\n}\\n.c-gap-right-small {\\n  margin-right: 8px;\\n}\\n.c-gap-right-xsmall {\\n  margin-right: 4px;\\n}\\n.c-gap-right-mini {\\n  margin-right: 2px;\\n}\\n.c-gap-right-large {\\n  margin-right: 16px;\\n}\\n.c-gap-right-middle {\\n  margin-right: 10px;\\n}\\n.c-gap-icon-right-small {\\n  margin-right: 5px;\\n}\\n.c-gap-icon-right {\\n  margin-right: 10px;\\n}\\n.c-gap-icon-left-small {\\n  margin-left: 5px;\\n}\\n.c-gap-icon-left {\\n  margin-left: 10px;\\n}\\n.c-row {\\n  *zoom: 1;\\n}\\n.c-row:after {\\n  display: block;\\n  height: 0;\\n  content: \"\";\\n  clear: both;\\n  visibility: hidden;\\n}\\n.c-span1 {\\n  width: 32px;\\n}\\n.c-span2 {\\n  width: 80px;\\n}\\n.c-span3 {\\n  width: 128px;\\n}\\n.c-span4 {\\n  width: 176px;\\n}\\n.c-span5 {\\n  width: 224px;\\n}\\n.c-span6 {\\n  width: 272px;\\n}\\n.c-span7 {\\n  width: 320px;\\n}\\n.c-span8 {\\n  width: 368px;\\n}\\n.c-span9 {\\n  width: 416px;\\n}\\n.c-span10 {\\n  width: 464px;\\n}\\n.c-span11 {\\n  width: 512px;\\n}\\n.c-span12 {\\n  width: 560px;\\n}\\n.c-span2,\\n.c-span3,\\n.c-span4,\\n.c-span5,\\n.c-span6,\\n.c-span7,\\n.c-span8,\\n.c-span9,\\n.c-span10,\\n.c-span11,\\n.c-span12 {\\n  float: left;\\n  _display: inline;\\n  margin-right: 16px;\\n  list-style: none;\\n}\\n.c-span-last {\\n  margin-right: 0;\\n}\\n.c-span-last-s {\\n  margin-right: 0;\\n}\\n.c-feed-box .c-span1 {\\n  width: 43px;\\n}\\n.c-feed-box .c-span2 {\\n  width: 90px;\\n}\\n.c-feed-box .c-span3 {\\n  width: 137px;\\n}\\n.c-feed-box .c-span4 {\\n  width: 184px;\\n}\\n.c-feed-box .c-span5 {\\n  width: 231px;\\n}\\n.c-feed-box .c-span6 {\\n  width: 278px;\\n}\\n.c-feed-box .c-span7 {\\n  width: 325px;\\n}\\n.c-feed-box .c-span8 {\\n  width: 372px;\\n}\\n.c-feed-box .c-span9 {\\n  width: 419px;\\n}\\n.c-feed-box .c-span10 {\\n  width: 466px;\\n}\\n.c-feed-box .c-span11 {\\n  width: 513px;\\n}\\n.c-feed-box .c-span12 {\\n  width: 560px;\\n}\\n.c-feed-box .c-span2,\\n.c-feed-box .c-span3,\\n.c-feed-box .c-span4,\\n.c-feed-box .c-span5,\\n.c-feed-box .c-span6,\\n.c-feed-box .c-span7,\\n.c-feed-box .c-span8,\\n.c-feed-box .c-span9,\\n.c-feed-box .c-span10,\\n.c-feed-box .c-span11,\\n.c-feed-box .c-span12 {\\n  margin-right: 4px;\\n}\\n.c-feed-box .c-span-last {\\n  margin-right: 0;\\n}\\n.c-index {\\n  display: inline-block;\\n  width: 14px;\\n  padding: 1px 0;\\n  line-height: 100%;\\n  text-align: center;\\n  color: #fff;\\n  background-color: #8eb9f5;\\n  font-size: 12px;\\n}\\n.c-index-hot,\\n.c-index-hot1 {\\n  background-color: #f54545;\\n}\\n.c-index-hot2 {\\n  background-color: #ff8547;\\n}\\n.c-index-hot3 {\\n  background-color: #ffac38;\\n}\\n.c-index-single {\\n  display: inline-block;\\n  background: 0 0;\\n  color: #9195A3;\\n  width: 18px;\\n  font-size: 15px;\\n  letter-spacing: -1px;\\n}\\n.c-index-single-hot,\\n.c-index-single-hot1 {\\n  color: #FE2D46;\\n}\\n.c-index-single-hot2 {\\n  color: #F60;\\n}\\n.c-index-single-hot3 {\\n  color: #FAA90E;\\n}\\n.c-font-sigma {\\n  font: 36px/60px Arial, sans-serif;\\n}\\n.c-font-large {\\n  font: 20px/30px Arial, sans-serif;\\n}\\n.c-font-big {\\n  font: 20px/30px Arial, sans-serif;\\n}\\n.c-font-special {\\n  font: 16px/26px Arial, sans-serif;\\n}\\n.c-font-medium {\\n  font: 14px/24px Arial, sans-serif;\\n}\\n.c-font-middle {\\n  font: 14px/24px Arial, sans-serif;\\n}\\n.c-font-normal {\\n  font: 13px/23px Arial, sans-serif;\\n}\\n.c-font-small {\\n  font: 12px/20px Arial, sans-serif;\\n}\\n.c-font-family {\\n  font-family: Arial, sans-serif;\\n}\\n.c-color-t {\\n  color: #222;\\n}\\n.c-color-text {\\n  color: #333;\\n}\\n.c-color-gray {\\n  color: #626675;\\n}\\n.c-color-gray2 {\\n  color: #9195A3;\\n}\\n.c-color-visited {\\n  color: #626675;\\n}\\n.c-color-link {\\n  color: #222;\\n}\\n.c-color-orange {\\n  color: #FA4901;\\n}\\n.c-color-green {\\n  color: #0EBE90;\\n}\\n.c-color-ad {\\n  color: #77A9F9;\\n}\\n.c-color-red {\\n  color: #F63051;\\n}\\n.c-color-red:visited {\\n  color: #F63051;\\n}\\n.c-color-warn {\\n  color: #FF7900;\\n}\\n.c-color-warn:visited {\\n  color: #FF7900;\\n}\\n.c-color-link {\\n  color: #3951b3;\\n}\\n.c-btn,\\n.c-btn:visited {\\n  color: #333 !important;\\n}\\n.c-btn {\\n  display: inline-block;\\n  overflow: hidden;\\n  font-family: inherit;\\n  font-weight: 400;\\n  text-align: center;\\n  vertical-align: middle;\\n  outline: 0;\\n  border: 0;\\n  height: 30px;\\n  width: 80px;\\n  line-height: 30px;\\n  font-size: 13px;\\n  border-radius: 6px;\\n  padding: 0;\\n  background-color: #F5F5F6;\\n  *zoom: 1;\\n  cursor: pointer;\\n}\\n.c-btn:hover {\\n  background-color: #315EFB;\\n  color: #FFF !important;\\n}\\na.c-btn {\\n  text-decoration: none;\\n}\\nbutton.c-btn {\\n  *overflow: visible;\\n  border: 0;\\n}\\nbutton.c-btn::-moz-focus-inner {\\n  padding: 0;\\n  border: 0;\\n}\\n.c-btn-disable {\\n  color: #C4C7CE !important;\\n}\\n.c-btn-disable:visited {\\n  color: #C4C7CE !important;\\n}\\n.c-btn-disable:hover {\\n  cursor: default;\\n  color: #C4C7CE !important;\\n  background-color: #F5F5F6;\\n}\\n.c-btn-mini {\\n  height: 24px;\\n  width: 48px;\\n  line-height: 24px;\\n}\\n.c-btn-mini .c-icon {\\n  margin-top: 2px;\\n}\\n.c-btn-large {\\n  height: 30px;\\n  line-height: 30px;\\n  font-size: 14px;\\n}\\nbutton.c-btn-large {\\n  height: 30px;\\n  _line-height: 24px;\\n}\\n.c-btn-large .c-icon {\\n  margin-top: 7px;\\n  _margin-top: 6px;\\n}\\n.c-btn-primary,\\n.c-btn-primary:visited {\\n  color: #fff !important;\\n}\\n.c-btn-primary {\\n  background-color: #4E6EF2;\\n}\\n.c-btn-primary:hover {\\n  background-color: #315EFB;\\n}\\n.c-btn-weak {\\n  height: 24px;\\n  line-height: 24px;\\n  border-radius: 4px;\\n  font-size: 12px;\\n}\\n.c-btn-add {\\n  width: 32px;\\n  height: 32px;\\n  line-height: 32px;\\n  text-align: center;\\n  color: #9195A3 !important;\\n}\\n.c-btn-add:hover {\\n  background-color: #4E6EF2;\\n  color: #fff !important;\\n}\\n.c-btn-add .c-icon {\\n  float: none;\\n}\\n.c-btn-add-disable:hover {\\n  cursor: default;\\n  color: #C4C7CE !important;\\n  background-color: #F5F5F6;\\n}\\n.c-select {\\n  position: relative;\\n  display: inline-block;\\n  width: 96px;\\n  box-sizing: border-box;\\n  -webkit-box-sizing: border-box;\\n  -moz-box-sizing: border-box;\\n  vertical-align: middle;\\n  color: #222;\\n  font: 13px/23px Arial, sans-serif;\\n}\\n.c-select-selection {\\n  display: block;\\n  height: 30px;\\n  line-height: 29px;\\n  box-sizing: border-box;\\n  -webkit-box-sizing: border-box;\\n  -moz-box-sizing: border-box;\\n  padding: 0 26px 0 10px;\\n  background-color: #fff;\\n  border-radius: 6px;\\n  border: 1px solid #D7D9E0;\\n  outline: 0;\\n  user-select: none;\\n  cursor: pointer;\\n  position: relative;\\n  overflow: hidden;\\n  text-overflow: ellipsis;\\n  white-space: nowrap;\\n}\\n.c-select-arrow,\\n.c-select-arrow-up {\\n  position: absolute;\\n  top: -1px;\\n  right: 10px;\\n  color: #9195A3;\\n  font-size: 16px;\\n}\\n.c-select-dropdown {\\n  display: none;\\n  position: absolute;\\n  padding-top: 4px;\\n  top: 25px;\\n  z-index: 999;\\n  left: 0;\\n  width: 94px;\\n  box-sizing: content-box;\\n  -webkit-box-sizing: content-box;\\n  -moz-box-sizing: content-box;\\n  background: #fff;\\n  border-radius: 0 0 6px 6px;\\n  border: 1px solid #D7D9E0;\\n  border-top: 0;\\n  zoom: 1;\\n}\\n.c-select-split {\\n  border-top: 1px solid #f5f5f5;\\n  margin: 0 5px;\\n}\\n.c-select-dropdown-list {\\n  padding: 0;\\n  margin: 5px 0 0;\\n  list-style: none;\\n}\\n.c-select-dropdown-list.c-select-scroll {\\n  max-height: 207px;\\n  overflow-y: auto;\\n  overflow-x: hidden;\\n  margin-right: 5px;\\n  margin-bottom: 9px;\\n}\\n.c-select-dropdown-list.c-select-scroll::-webkit-scrollbar {\\n  width: 2px;\\n}\\n.c-select-dropdown-list.c-select-scroll::-webkit-scrollbar-track {\\n  width: 2px;\\n  background: #f5f5f6;\\n  border-radius: 1px;\\n}\\n.c-select-dropdown-list.c-select-scroll::-webkit-scrollbar-thumb {\\n  width: 2px;\\n  height: 58px;\\n  background-color: #4e71f2;\\n  border-radius: 1px;\\n}\\n.c-select-dropdown-list.c-select-scroll .c-select-item:last-child {\\n  margin: 0;\\n}\\n.c-select-item {\\n  margin: 0 0 4px;\\n  padding: 0 10px;\\n  clear: both;\\n  white-space: nowrap;\\n  list-style: none;\\n  cursor: pointer;\\n  box-sizing: border-box;\\n  -webkit-box-sizing: border-box;\\n  -moz-box-sizing: border-box;\\n}\\n.c-select-item:hover {\\n  color: #315EFB;\\n}\\n.c-select-item-selected {\\n  color: #315EFB;\\n}\\n.c-select-arrow-up {\\n  display: none;\\n}\\n.c-select-visible .c-select-selection {\\n  border-radius: 6px 6px 0 0;\\n}\\n.c-select-visible .c-select-dropdown {\\n  display: block;\\n}\\n.c-select-visible .c-select-arrow {\\n  display: none;\\n}\\n.c-select-visible .c-select-arrow-up {\\n  display: inline-block;\\n}\\n.c-img {\\n  position: relative;\\n  display: block;\\n  min-height: 1px;\\n  border: 0;\\n  line-height: 0;\\n  background: #f5f5f6;\\n  overflow: hidden;\\n}\\n.c-img img {\\n  width: 100%;\\n}\\n.c-img1 {\\n  width: 32px;\\n}\\n.c-img2 {\\n  width: 80px;\\n}\\n.c-img3 {\\n  width: 128px;\\n}\\n.c-img4 {\\n  width: 176px;\\n}\\n.c-img6 {\\n  width: 272px;\\n}\\n.c-img12 {\\n  width: 560px;\\n}\\n.c-feed-box .c-img1 {\\n  width: 43px;\\n}\\n.c-feed-box .c-img2 {\\n  width: 90px;\\n}\\n.c-feed-box .c-img3 {\\n  width: 137px;\\n}\\n.c-feed-box .c-img4 {\\n  width: 184px;\\n}\\n.c-feed-box .c-img6 {\\n  width: 278px;\\n}\\n.c-feed-box .c-img12 {\\n  width: 560px;\\n}\\n.c-img-s,\\n.c-img-l,\\n.c-img-w,\\n.c-img-x,\\n.c-img-y,\\n.c-img-v,\\n.c-img-z {\\n  height: 0;\\n  overflow: hidden;\\n}\\n.c-img-s {\\n  padding-bottom: 100%;\\n}\\n.c-img-l {\\n  padding-bottom: 133.33333333%;\\n}\\n.c-img-w {\\n  padding-bottom: 56.25%;\\n}\\n.c-img-x {\\n  padding-bottom: 75%;\\n}\\n.c-img-y {\\n  padding-bottom: 66.66666667%;\\n}\\n.c-img-v {\\n  padding-bottom: 116.66666667%;\\n}\\n.c-img-z {\\n  padding-bottom: 62.5%;\\n}\\n.c-img-radius {\\n  border-radius: 6px;\\n}\\n.c-img-radius-s {\\n  border-radius: 2px;\\n}\\n.c-img-radius-small {\\n  border-radius: 2px;\\n}\\n.c-img-radius-large {\\n  border-radius: 12px;\\n}\\n.c-img-radius-middle {\\n  border-radius: 4px;\\n}\\n.c-img-radius-left {\\n  border-top-left-radius: 6px;\\n  border-bottom-left-radius: 6px;\\n}\\n.c-img-radius-right {\\n  border-top-right-radius: 6px;\\n  border-bottom-right-radius: 6px;\\n}\\n.c-img-radius-left-s {\\n  border-top-left-radius: 2px;\\n  border-bottom-left-radius: 2px;\\n}\\n.c-img-radius-right-s {\\n  border-top-right-radius: 2px;\\n  border-bottom-right-radius: 2px;\\n}\\n.c-img-radius-left-l {\\n  border-top-left-radius: 12px;\\n  border-bottom-left-radius: 12px;\\n}\\n.c-img-radius-right-l {\\n  border-top-right-radius: 12px;\\n  border-bottom-right-radius: 12px;\\n}\\n.c-img-mask {\\n  position: absolute;\\n  top: 0;\\n  left: 0;\\n  z-index: 2;\\n  width: 100%;\\n  height: 100%;\\n  background-image: radial-gradient(circle, rgba(0, 0, 0, 0), rgba(0, 0, 0, 0.04));\\n  background-image: -ms-radial-gradient(circle, rgba(0, 0, 0, 0), rgba(0, 0, 0, 0.04));\\n}\\n.c-img-border {\\n  content: \\'\\';\\n  position: absolute;\\n  top: 0;\\n  left: 0;\\n  bottom: 0;\\n  right: 0;\\n  border: 1px solid rgba(0, 0, 0, 0.05);\\n}\\n.c-img-circle {\\n  border-radius: 100%;\\n  overflow: hidden;\\n}\\n.c-input {\\n  display: inline-block;\\n  font: 13px/23px Arial, sans-serif;\\n  color: #333;\\n  padding: 0 10px;\\n  border: 1px solid #D7D9E0;\\n  border-radius: 6px;\\n  height: 28px;\\n  line-height: 28px\\\\9;\\n  font-size: 13px;\\n  outline: 0;\\n  box-sizing: content-box;\\n  -webkit-box-sizing: content-box;\\n  -moz-box-sizing: content-box;\\n  vertical-align: top;\\n  overflow: hidden;\\n}\\n.c-input .c-icon {\\n  float: right;\\n  margin-top: 6px;\\n  font-size: 16px;\\n  color: #9195A3;\\n}\\n.c-input .c-icon-left {\\n  float: left;\\n  margin-right: 4px;\\n}\\n.c-input input {\\n  float: left;\\n  font-size: 13px;\\n  border: 0;\\n  outline: 0;\\n}\\n.c-input input::-webkit-input-placeholder {\\n  color: #9195A3;\\n}\\n.c-input input::-ms-input-placeholder {\\n  color: #9195A3;\\n}\\n.c-input input::-moz-placeholder {\\n  color: #9195A3;\\n}\\n.c-input::-webkit-input-placeholder {\\n  color: #9195A3;\\n}\\n.c-input::-ms-input-placeholder {\\n  color: #9195A3;\\n}\\n.c-input::-moz-placeholder {\\n  color: #9195A3;\\n}\\n.c-input {\\n  width: 394px;\\n}\\n.c-input input {\\n  width: 374px;\\n}\\n.c-input-xmini {\\n  width: 154px;\\n}\\n.c-input-xmini input {\\n  width: 134px;\\n}\\n.c-input-mini {\\n  width: 202px;\\n}\\n.c-input-mini input {\\n  width: 182px;\\n}\\n.c-input-small {\\n  width: 346px;\\n}\\n.c-input-small input {\\n  width: 326px;\\n}\\n.c-input-large {\\n  width: 442px;\\n}\\n.c-input-large input {\\n  width: 422px;\\n}\\n.c-input-xlarge {\\n  width: 730px;\\n}\\n.c-input-xlarge input {\\n  width: 710px;\\n}\\n.c-input12 {\\n  width: 538px;\\n}\\n.c-input12 input {\\n  width: 518px;\\n}\\n.c-input20 {\\n  width: 922px;\\n}\\n.c-input20 input {\\n  width: 902px;\\n}\\n.c-radio,\\n.c-checkbox {\\n  display: inline-block;\\n  position: relative;\\n  white-space: nowrap;\\n  outline: 0;\\n  line-height: 1;\\n  vertical-align: middle;\\n  cursor: pointer;\\n  width: 16px;\\n  height: 16px;\\n}\\n.c-radio-inner,\\n.c-checkbox-inner {\\n  display: inline-block;\\n  position: relative;\\n  width: 16px;\\n  height: 16px;\\n  line-height: 16px;\\n  text-align: center;\\n  top: 0;\\n  left: 0;\\n  background-color: #fff;\\n  color: #D7D9E0;\\n}\\n.c-radio-input,\\n.c-checkbox-input {\\n  position: absolute;\\n  top: 0;\\n  bottom: 0;\\n  left: 0;\\n  right: 0;\\n  z-index: 1;\\n  opacity: 0;\\n  filter: alpha(opacity=0) \\\\9;\\n  user-select: none;\\n  margin: 0;\\n  padding: 0;\\n  width: 100%;\\n  height: 100%;\\n  cursor: pointer;\\n  zoom: 1;\\n}\\n.c-radio-inner-i,\\n.c-checkbox-inner-i {\\n  display: none;\\n  font-size: 16px;\\n}\\n.c-radio-inner-bg,\\n.c-checkbox-inner-bg {\\n  font-size: 16px;\\n  position: absolute;\\n  top: 0;\\n  left: 0;\\n  z-index: 1;\\n}\\n.c-radio-checked .c-radio-inner-i,\\n.c-checkbox-checked .c-checkbox-inner-i {\\n  color: #4E71F2;\\n  display: inline-block;\\n}\\n.c-textarea {\\n  font: 13px/23px Arial, sans-serif;\\n  color: #333;\\n  padding: 0 10px;\\n  border: 1px solid #D7D9E0;\\n  border-radius: 6px;\\n  padding: 5px 10px;\\n  resize: none;\\n  outline: 0;\\n}\\n.c-textarea::-webkit-input-placeholder {\\n  color: #9195A3;\\n}\\n.c-textarea::-ms-input-placeholder {\\n  color: #9195A3;\\n}\\n.c-textarea::-moz-placeholder {\\n  color: #9195A3;\\n}\\n.c-icon {\\n  font-family: cIconfont!important;\\n  font-style: normal;\\n  -webkit-font-smoothing: antialiased;\\n  -moz-osx-font-smoothing: grayscale;\\n}\\n.c-line-clamp1 {\\n  overflow: hidden;\\n  text-overflow: ellipsis;\\n  white-space: nowrap;\\n}\\n.c-line-clamp2 {\\n  display: -webkit-box;\\n  overflow: hidden;\\n  -webkit-line-clamp: 2;\\n  -webkit-box-orient: vertical;\\n}\\n.c-text {\\n  display: inline-block;\\n  padding: 0 2px;\\n  text-align: center;\\n  vertical-align: middle;\\n  font-style: normal;\\n  color: #fff;\\n  overflow: hidden;\\n  line-height: 16px;\\n  height: 16px;\\n  font-size: 12px;\\n  border-radius: 4px;\\n  font-weight: 200;\\n}\\na.c-text {\\n  text-decoration: none !important;\\n}\\n.c-text-info {\\n  padding-left: 0;\\n  padding-right: 0;\\n  font-weight: 700;\\n  color: #2b99ff;\\n  vertical-align: text-bottom;\\n}\\n.c-text-info span {\\n  padding: 0 2px;\\n  font-weight: 400;\\n}\\n.c-text-important {\\n  background-color: #1cb7fd;\\n}\\n.c-text-public {\\n  background-color: #4E6EF2;\\n}\\n.c-text-warning {\\n  background-color: #f60;\\n}\\n.c-text-prompt {\\n  background-color: #ffc20d;\\n}\\n.c-text-danger {\\n  background-color: #f73131;\\n}\\n.c-text-safe {\\n  background-color: #39b362;\\n}\\n.c-text-mult {\\n  padding: 0 4px;\\n  line-height: 18px;\\n  height: 18px;\\n  border-radius: 4px;\\n  font-weight: 400;\\n}\\n.c-text-blue {\\n  background-color: #4E6EF2;\\n}\\n.c-text-blue-border {\\n  border: 1px solid #CBD2FF;\\n  padding: 0 8px;\\n  border-radius: 4px;\\n  font-weight: 400;\\n  color: #4E6EF2 !important;\\n}\\n.c-text-green {\\n  background-color: #39b362;\\n}\\n.c-text-green-border {\\n  border: 1px solid #C9E7CD;\\n  padding: 0 8px;\\n  border-radius: 4px;\\n  font-weight: 400;\\n  color: #39b362 !important;\\n}\\n.c-text-red {\\n  background-color: #f73131;\\n}\\n.c-text-red-border {\\n  border: 1px solid #F0C8BD;\\n  padding: 0 8px;\\n  border-radius: 4px;\\n  font-weight: 400;\\n  color: #f73131 !important;\\n}\\n.c-text-yellow {\\n  background-color: #ffc20d;\\n}\\n.c-text-yellow-border {\\n  border: 1px solid #FCEDB1;\\n  padding: 0 8px;\\n  border-radius: 4px;\\n  font-weight: 400;\\n  color: #ffc20d !important;\\n}\\n.c-text-orange {\\n  background-color: #f60;\\n}\\n.c-text-orange-border {\\n  border: 1px solid #F8D2B0;\\n  padding: 0 8px;\\n  border-radius: 4px;\\n  font-weight: 400;\\n  color: #f60 !important;\\n}\\n.c-text-pink {\\n  background-color: #fc3274;\\n}\\n.c-text-pink-border {\\n  border: 1px solid #F6C4D7;\\n  padding: 0 8px;\\n  border-radius: 4px;\\n  font-weight: 400;\\n  color: #fc3274 !important;\\n}\\n.c-text-gray {\\n  background-color: #858585;\\n}\\n.c-text-gray-border {\\n  border: 1px solid #DBDBDB;\\n  padding: 0 8px;\\n  border-radius: 4px;\\n  font-weight: 400;\\n  color: #858585 !important;\\n}\\n.c-text-dark-red {\\n  background-color: #CC2929;\\n}\\n.c-text-gray-opacity {\\n  background-color: rgba(0, 0, 0, 0.3);\\n}\\n.c-text-white-border {\\n  border: 1px solid rgba(255, 255, 255, 0.8);\\n  padding: 0 8px;\\n  border-radius: 4px;\\n  font-weight: 400;\\n  color: #fff !important;\\n}\\n.c-text-hot {\\n  background-color: #F60;\\n}\\n.c-text-new {\\n  background-color: #FF455B;\\n}\\n.c-text-fei {\\n  background-color: #FC3200;\\n}\\n.c-text-bao {\\n  background-color: #DE1544;\\n}\\n.c-text-rec {\\n  background-color: #4DADFE;\\n}\\n.c-text-business {\\n  background-color: #B4C4FF;\\n}\\n.c-text-time {\\n  background-color: rgba(0, 0, 0, 0.3);\\n}\\n.c-wrapper {\\n  word-wrap: break-word;\\n  word-break: break-all;\\n  font: 14px/24px Arial, sans-serif;\\n  color: #222;\\n}\\n.c-wrapper:after {\\n  display: block;\\n  height: 0;\\n  content: \"\";\\n  clear: both;\\n  visibility: hidden;\\n}\\n.c-container {\\n  width: 560px;\\n}\\n.c-wrapper-l {\\n  width: 1040px;\\n}\\n.c-wrapper-l .c-container-r {\\n  width: 368px;\\n}\\n.c-wrapper-s {\\n  width: 896px;\\n}\\n.c-wrapper-s .c-container-r {\\n  width: 272px;\\n}\\n@media screen and (max-width: 1340px) {\\n  .c-wrapper {\\n    width: 896px;\\n  }\\n  .c-wrapper .c-container-r {\\n    width: 272px;\\n  }\\n}\\n.c-dialog-box {\\n  display: none;\\n  position: absolute;\\n  z-index: 999;\\n  box-shadow: 0 2px 10px 0 rgba(0, 0, 0, 0.1);\\n  -webkit-box-shadow: 0 2px 10px 0 rgba(0, 0, 0, 0.1);\\n  -moz-box-shadow: 0 2px 10px 0 rgba(0, 0, 0, 0.1);\\n  -o-box-shadow: 0 2px 10px 0 rgba(0, 0, 0, 0.1);\\n  border-radius: 16px;\\n  background: #FFF;\\n  padding: 19px 24px;\\n}\\n.c-dialog-box .c-dialog-close {\\n  position: absolute;\\n  cursor: pointer;\\n  top: 12px;\\n  right: 12px;\\n  height: 14px;\\n  width: 14px;\\n  line-height: 1;\\n  color: #D7D9E0;\\n}\\n.c-dialog-box .c-dialog-close:hover {\\n  color: #315EFB;\\n}\\n.c-floating-box {\\n  background: #FFF;\\n  box-shadow: 0 2px 10px 0 rgba(0, 0, 0, 0.15);\\n  -webkit-box-shadow: 0 2px 10px 0 rgba(0, 0, 0, 0.15);\\n  -moz-box-shadow: 0 2px 10px 0 rgba(0, 0, 0, 0.15);\\n  -o-box-shadow: 0 2px 10px 0 rgba(0, 0, 0, 0.15);\\n  border-radius: 12px;\\n  *border: 1px solid #D7D9E0;\\n}\\n.c-link {\\n  color: #222;\\n  text-decoration: none;\\n}\\n.c-link:visited {\\n  color: #626675;\\n}\\n.c-link:hover {\\n  color: #315EFB;\\n  text-decoration: none;\\n}\\n.c-capsule-tip {\\n  display: inline-block;\\n  background: #F63051;\\n  border-radius: 7px;\\n  padding: 0 4px;\\n  height: 13px;\\n  font-size: 11px;\\n  line-height: 14px;\\n  color: #fff;\\n  text-align: center;\\n}\\nhtml,\\nbody {\\n  height: 100%;\\n  color: #222;\\n}\\n* {\\n  margin: 0;\\n  padding: 0;\\n}\\nbutton,\\ninput,\\nimg {\\n  outline: 0;\\n  border: 0;\\n}\\nbutton {\\n  background-color: unset;\\n}\\nbutton,\\na {\\n  cursor: pointer;\\n}\\na {\\n  text-decoration: none;\\n  color: inherit;\\n}\\nul {\\n  list-style: none;\\n}\\n.wrapper {\\n  min-width: 1320px;\\n}\\n.wrapper .responsive-wrapper {\\n  min-width: 1320px;\\n}\\n@media (max-width: 1320px) {\\n  .wrapper {\\n    min-width: 1320px;\\n  }\\n  .wrapper .responsive-wrapper {\\n    min-width: 1320px;\\n  }\\n}\\n.wrapper-narrow {\\n  min-width: 1320px;\\n}\\n.wrapper-narrow .responsive-wrapper {\\n  min-width: 1320px;\\n}\\n.container {\\n  display: block;\\n  width: 1088px;\\n  margin: 0 auto;\\n  box-sizing: border-box;\\n}\\n@media (max-width: 1320px) {\\n  .container {\\n    width: 992px;\\n  }\\n}\\n.wrapper-narrow .container {\\n  width: 992px;\\n}\\n.rel {\\n  position: relative;\\n}\\n.abs {\\n  position: absolute;\\n}\\n@font-face {\\n  font-family: \\'cIconfont\\';\\n  src: url(//fyb-pc-static.cdn.bcebos.com/static/asset/iconfont_489aa1f2f0a6e1dfacb56a991a67d6cf.eot);\\n  src: url(//fyb-pc-static.cdn.bcebos.com/static/asset/iconfont_489aa1f2f0a6e1dfacb56a991a67d6cf.eot?#iefix) format(\\'embedded-opentype\\'), url(//fyb-pc-static.cdn.bcebos.com/static/asset/iconfont_92a48d1bbedbf4e9edf36cb3b355039a.woff2) format(\\'woff2\\'), url(//fyb-pc-static.cdn.bcebos.com/static/asset/iconfont_8d19d0cbd6e76cd46858910930e4c4ba.woff) format(\\'woff\\'), url(//fyb-pc-static.cdn.bcebos.com/static/asset/iconfont_4906e5628fa7ee368606ee5fa605ff40.ttf) format(\\'ttf\\'), url(//fyb-pc-static.cdn.bcebos.com/static/asset/iconfont_5bfbad8e8b4fb39824e4823554647eb3.svg#iconfont) format(\\'svg\\');\\n}\\n[theme=\"realtime\"] .c-theme-color,\\n[theme=\"homepage\"] .c-theme-color {\\n  color: #ff6600;\\n}\\n[theme=\"realtime\"] .c-theme-color-bg,\\n[theme=\"homepage\"] .c-theme-color-bg {\\n  background-color: #ff6600;\\n}\\n[theme=\"novel\"] .c-theme-color {\\n  color: #faa90e;\\n}\\n[theme=\"novel\"] .c-theme-color-bg {\\n  background-color: #faa90e;\\n}\\n[theme=\"movie\"] .c-theme-color {\\n  color: #495dee;\\n}\\n[theme=\"movie\"] .c-theme-color-bg {\\n  background-color: #495dee;\\n}\\n[theme=\"teleplay\"] .c-theme-color {\\n  color: #495dee;\\n}\\n[theme=\"teleplay\"] .c-theme-color-bg {\\n  background-color: #495dee;\\n}\\n[theme=\"cartoon\"] .c-theme-color {\\n  color: #ff6600;\\n}\\n[theme=\"cartoon\"] .c-theme-color-bg {\\n  background-color: #ff6600;\\n}\\n[theme=\"variety\"] .c-theme-color {\\n  color: #8a42ff;\\n}\\n[theme=\"variety\"] .c-theme-color-bg {\\n  background-color: #8a42ff;\\n}\\n[theme=\"documentary\"] .c-theme-color {\\n  color: #319ef3;\\n}\\n[theme=\"documentary\"] .c-theme-color-bg {\\n  background-color: #319ef3;\\n}\\n[theme=\"game\"] .c-theme-color {\\n  color: #319ef3;\\n}\\n[theme=\"game\"] .c-theme-color-bg {\\n  background-color: #319ef3;\\n}\\n[theme=\"car\"] .c-theme-color {\\n  color: #00b8b9;\\n}\\n[theme=\"car\"] .c-theme-color-bg {\\n  background-color: #00b8b9;\\n}\\n.c-single-text-ellipsis {\\n  overflow: hidden;\\n  white-space: nowrap;\\n  text-overflow: ellipsis;\\n}\\n.bg-wrapper {\\n  position: absolute;\\n  z-index: -1;\\n  overflow: hidden;\\n  width: 100%;\\n  height: 800px;\\n}\\n.bg-wrapper img {\\n  position: absolute;\\n  top: 0;\\n  left: 50%;\\n  z-index: 1;\\n  height: 100%;\\n  margin-left: -960px;\\n}\\n.bg-wrapper img.default {\\n  left: 0;\\n  z-index: 0;\\n  width: 100%;\\n  margin-left: 0;\\n}\\n[theme=\"homepage\"] .bg-wrapper,\\n[theme=\"realtime\"] .bg-wrapper {\\n  background-image: linear-gradient(180deg, #f44522 0%, #fff 88%);\\n}\\n[theme=\"variety\"] .bg-wrapper {\\n  background-image: linear-gradient(180deg, #b933ed 0%, #fff 100%);\\n}\\n[theme=\"car\"] .bg-wrapper {\\n  background-image: linear-gradient(180deg, #1aaeeb 0%, #fff 100%);\\n}\\n[theme=\"novel\"] .bg-wrapper,\\n[theme=\"cartoon\"] .bg-wrapper {\\n  background-image: linear-gradient(180deg, #fc5809 0%, #fff 100%);\\n}\\n[theme=\"movie\"] .bg-wrapper,\\n[theme=\"teleplay\"] .bg-wrapper {\\n  background-image: linear-gradient(180deg, #6242dc 0%, #fff 100%);\\n}\\n[theme=\"documentary\"] .bg-wrapper,\\n[theme=\"game\"] .bg-wrapper {\\n  background-image: linear-gradient(180deg, #4d6af5 0%, #fff 100%);\\n}\\n</style>\\n<style data-vue-ssr-id=\"7ef4bd4a:0\">\\n.header-placeholder_3y-pN {\\n  margin-bottom: 8px;\\n}\\n.header_3wayL {\\n  box-sizing: border-box;\\n  width: 100%;\\n  color: #fff;\\n}\\n.navi-top-wrapper_20foP {\\n  height: 48px;\\n  margin-bottom: 34px;\\n  color: rgba(255, 255, 255, 0.9);\\n  box-shadow: 0 2px 10px 0 rgba(0, 0, 0, 0.1);\\n}\\n.navi-top-wrapper_20foP:after {\\n  content: \\'\\';\\n  clear: both;\\n}\\n.navi-top-left_1Zuqa {\\n  top: 0;\\n  left: 24px;\\n}\\n.navi-top-right_33qd2 {\\n  top: 0;\\n  right: 24px;\\n}\\n.navi-item_2z3vU {\\n  float: left;\\n  margin-top: 13px;\\n  margin-right: 24px;\\n}\\n.navi-item_2z3vU:hover {\\n  color: #fff;\\n}\\n.tab-wrap_23sEv {\\n  overflow: hidden;\\n  margin: 34px auto 24px;\\n  padding: 0 9px 0 17px;\\n}\\n.logo-trends-wrapper_150M5 {\\n  float: left;\\n  width: 196px;\\n  height: 58px;\\n  cursor: pointer;\\n}\\n.logo-trends-wrapper_150M5 > img {\\n  width: 100%;\\n}\\n</style>\\n<style data-vue-ssr-id=\"48b40237:0\">\\n.user-info-wrapper_3WiHw {\\n  display: inline-block;\\n  box-sizing: border-box;\\n  height: 48px;\\n  vertical-align: middle;\\n  cursor: pointer;\\n}\\n.user-info-wrapper_3WiHw:hover .user-info-popup_1v_mi {\\n  display: block;\\n}\\n.login-btn_2CUrM {\\n  float: left;\\n  box-sizing: border-box;\\n  margin-top: 12px;\\n  padding: 5.5px 0;\\n  font-size: 13px;\\n  line-height: 13px;\\n  background-color: rgba(255, 255, 255, 0.9);\\n  color: #3b1107 !important;\\n}\\n.login-btn_2CUrM:hover {\\n  background-color: #fff;\\n}\\n.user-image-wrapper_Gz69P {\\n  float: left;\\n  box-sizing: border-box;\\n  width: 30px;\\n  height: 30px;\\n  margin-top: 9px;\\n  margin-left: -2px;\\n  padding: 2px;\\n  border: 1px solid rgba(255, 255, 255, 0.9);\\n  border-radius: 50%;\\n}\\n.user-image-wrapper_Gz69P .user-image_1nM2E {\\n  width: 100%;\\n  height: 100%;\\n  border-radius: 50%;\\n}\\n.user-name_3qt_g {\\n  float: left;\\n  margin-top: 13px;\\n  margin-left: 6px;\\n}\\n.user-info-popup_1v_mi {\\n  position: absolute;\\n  top: 100%;\\n  right: 50%;\\n  display: none;\\n  margin-top: -4px;\\n  margin-right: -42px;\\n  padding: 0 16px 16px;\\n}\\n.user-info-popup_1v_mi a {\\n  display: block;\\n  margin-top: 16px;\\n  font-size: 13px;\\n  line-height: 13px;\\n  word-break: keep-all;\\n  color: #333;\\n}\\n.user-info-popup_1v_mi a:hover {\\n  color: #315efb;\\n}\\n.login-form-wrapper_1E7lG {\\n  position: fixed;\\n  top: 0;\\n  right: 0;\\n  left: 0;\\n  z-index: 100;\\n  width: 350px;\\n  margin: 100px auto;\\n}\\n.pop-mask {\\n  width: 100% !important;\\n  height: 100% !important;\\n  opacity: 0.5 !important;\\n}\\n</style>\\n<style data-vue-ssr-id=\"cdc6770a:0\">\\n.tabs-wrap_3Ac9n {\\n  float: right;\\n  padding: 13px 0;\\n  font-size: 0;\\n}\\n.tab-item_17MbK {\\n  position: relative;\\n  display: inline-block;\\n  padding: 8px 18px;\\n  font-size: 16px;\\n  line-height: 16px;\\n  color: rgba(255, 255, 255, 0.9);\\n}\\n@media (max-width: 1320px) {\\n  .tab-item_17MbK {\\n    padding: 8px 15px;\\n  }\\n}\\n.wrapper-narrow .tab-item_17MbK {\\n  padding: 8px 15px;\\n}\\n.tab-item_17MbK.active {\\n  border-radius: 15.5px;\\n  background-color: #fff;\\n  color: inherit;\\n}\\n.tab-item_17MbK.active:hover {\\n  color: inherit;\\n}\\n.tab-item_17MbK:hover {\\n  color: #fff;\\n}\\n</style>\\n<style data-vue-ssr-id=\"211c6f11:0\">\\n.tabs-wrapper_7ri4o {\\n  position: fixed;\\n  top: -40px;\\n  z-index: 99;\\n  width: 100%;\\n  height: 40px;\\n  border-radius: 0;\\n  background-color: #fff;\\n  box-shadow: 0 2px 10px 0 rgba(0, 0, 0, 0.1);\\n}\\n@media (max-width: 1320px) {\\n  .tabs-wrapper_7ri4o {\\n    min-width: 1320px;\\n  }\\n}\\n.wrapper-narrow .tabs-wrapper_7ri4o {\\n  min-width: 1320px;\\n}\\n.tabs-container__LAaf {\\n  padding: 0 24px;\\n}\\n.tab_3QhDq {\\n  position: relative;\\n  display: inline-block;\\n  font-size: 16px;\\n  line-height: 40px;\\n  color: #222;\\n}\\n.tab_3QhDq.active {\\n  color: inherit;\\n}\\n.tab_3QhDq:hover {\\n  color: #315efb;\\n}\\n.tab_3QhDq + .tab_3QhDq {\\n  margin-left: 36px;\\n}\\n@media (max-width: 1320px) {\\n  .tab_3QhDq + .tab_3QhDq {\\n    margin-left: 24px;\\n  }\\n}\\n.wrapper-narrow .tab_3QhDq + .tab_3QhDq {\\n  margin-left: 24px;\\n}\\n.active-underline-wrapper_Lv1CQ {\\n  position: absolute;\\n  bottom: 0;\\n  left: 50%;\\n  display: block;\\n  overflow: hidden;\\n  width: 24px;\\n  height: 2px;\\n  margin-left: -12px;\\n  border-radius: 3.5px;\\n}\\n.qrcode-wrapper_2Mhwh {\\n  float: right;\\n  font-size: 14px;\\n  color: rgba(255, 255, 255, 0.9);\\n  cursor: pointer;\\n}\\n.qrcode-wrapper_2Mhwh:hover {\\n  color: #fff;\\n}\\n.qrcode-wrapper_2Mhwh:hover .qrcode-popup_q4FMZ {\\n  display: block;\\n}\\n.fixed .qrcode-wrapper_2Mhwh {\\n  color: #222;\\n}\\n.fixed .qrcode-wrapper_2Mhwh:hover {\\n  color: #315efb;\\n}\\n.qrcode-wrapper_2Mhwh .c-icon {\\n  float: left;\\n  height: 40px;\\n  font-size: 21px;\\n  line-height: 40px;\\n  vertical-align: middle;\\n}\\n.qrcode-text_1cRGR {\\n  float: left;\\n  line-height: 40px;\\n}\\n.qrcode-popup_q4FMZ {\\n  position: absolute;\\n  top: 100%;\\n  left: 50%;\\n  z-index: 10;\\n  display: none;\\n  box-sizing: border-box;\\n  width: 128px;\\n  margin-top: 4px;\\n  margin-left: -64px;\\n  padding: 16px;\\n  border-radius: 12px;\\n  font-size: 12px;\\n  line-height: 12px;\\n  text-align: center;\\n  background-color: #fff;\\n}\\n.qrcode-popup_q4FMZ p {\\n  margin: 6px 0 0;\\n  word-break: keep-all;\\n}\\n.qrcode-image_3Oyr8 {\\n  display: block;\\n  width: 80px;\\n  height: 80px;\\n  margin-right: auto;\\n  margin-bottom: 8px;\\n  margin-left: auto;\\n}\\n</style>\\n<style data-vue-ssr-id=\"7d5bfdb2:0\">\\n.empty-img_2yOph {\\n  display: block;\\n  width: 120px;\\n  height: 120px;\\n  margin: 115px auto 0;\\n}\\n.empty-text_2IeoW {\\n  margin-top: 16px;\\n  font-size: 13px;\\n  line-height: 13px;\\n  text-align: center;\\n  color: #626675;\\n}\\n</style>\\n<style data-vue-ssr-id=\"393f488d:0\">\\n.container_2VTvm {\\n  min-height: 600px;\\n}\\n.right-container_2EFJr {\\n  position: relative;\\n  padding-left: 192px;\\n}\\n.container-bg_lQ801 {\\n  border-radius: 12px;\\n  background-color: #fff;\\n}\\n.left-side-wrapper_1kYr7 {\\n  top: 0;\\n  left: 0;\\n  z-index: 10;\\n  width: 100%;\\n}\\n.left-side-bg-wrapper_23qvy {\\n  top: 0;\\n  left: 0;\\n  width: 100%;\\n}\\n.left-side-bg-wrapper_23qvy img {\\n  width: 100%;\\n}\\n.left-side_1rpOJ {\\n  position: absolute;\\n  top: 0;\\n  left: 0;\\n  z-index: 99;\\n  box-sizing: border-box;\\n  width: 176px;\\n  min-height: 359px;\\n  padding: 24px 23px;\\n  border-radius: 12px;\\n  background-color: #fff;\\n}\\n.side-title_1wfo5 {\\n  margin-bottom: 31px;\\n  font-size: 18px;\\n  line-height: 18px;\\n}\\n.path-wrapper_3euWM {\\n  padding: 24px 24px 2px;\\n  line-height: 13px;\\n}\\n.path-wrapper_3euWM .c-font-normal {\\n  line-height: 13px;\\n}\\n</style>\\n<style data-vue-ssr-id=\"865f8b72:0\">\\n.tags-wrap_InWap {\\n  margin-top: 24px;\\n}\\n.tags_1mjZF {\\n  overflow: hidden;\\n  margin-left: -8px;\\n}\\n.title_bOM2Q {\\n  margin-bottom: 12px;\\n  font-size: 13px;\\n  line-height: 13px;\\n}\\n.tag-item_2erEC {\\n  float: left;\\n  margin: 2px 0;\\n  padding: 6px 8px;\\n  font-size: 13px;\\n  line-height: 13px;\\n  color: #626675;\\n  cursor: pointer;\\n}\\n.tag-item_2erEC.active_1oD-- {\\n  border-radius: 4px;\\n  background-color: #f9f9f9;\\n}\\n.tag-item_2erEC:hover {\\n  color: #315efb;\\n}\\n[theme=\"realtime\"] .tag-item_2erEC.active_1oD-- {\\n  color: #ff6600;\\n}\\n[theme=\"novel\"] .tag-item_2erEC.active_1oD-- {\\n  color: #faa90e;\\n}\\n[theme=\"movie\"] .tag-item_2erEC.active_1oD-- {\\n  color: #495dee;\\n}\\n[theme=\"teleplay\"] .tag-item_2erEC.active_1oD-- {\\n  color: #495dee;\\n}\\n[theme=\"cartoon\"] .tag-item_2erEC.active_1oD-- {\\n  color: #ff6600;\\n}\\n[theme=\"variety\"] .tag-item_2erEC.active_1oD-- {\\n  color: #8a42ff;\\n}\\n[theme=\"documentary\"] .tag-item_2erEC.active_1oD-- {\\n  color: #319ef3;\\n}\\n[theme=\"game\"] .tag-item_2erEC.active_1oD-- {\\n  color: #319ef3;\\n}\\n[theme=\"car\"] .tag-item_2erEC.active_1oD-- {\\n  color: #00b8b9;\\n}\\n</style>\\n<style data-vue-ssr-id=\"f3f1d306:0\">\\n.category-wrap_iQLoo {\\n  overflow: hidden;\\n  padding: 14px 0;\\n  padding-left: 24px;\\n}\\n.category-wrap_iQLoo:hover {\\n  border-radius: 12px;\\n  background-color: rgba(245, 245, 246, 0.5);\\n  background-image: linear-gradient(to bottom, #f5f5f6 0%, #fff 100%);\\n}\\n.horizontal_1eKyQ {\\n  height: 85px;\\n}\\n.horizontal_1eKyQ .img-wrapper_29V76 {\\n  width: 128px;\\n  height: 85px;\\n}\\n.horizontal_1eKyQ .trend_2RttY .trend-icon_1Z3Cd {\\n  margin-top: 2px;\\n}\\n.horizontal_1eKyQ .trend_2RttY .hot-index_1Bl1a {\\n  margin: 8px 0 4px;\\n}\\n.square_1ULM9 {\\n  height: 107px;\\n}\\n.square_1ULM9 .img-wrapper_29V76 {\\n  width: 107px;\\n  height: 107px;\\n}\\n.img-wrapper_29V76 {\\n  position: relative;\\n  display: block;\\n  float: left;\\n  overflow: hidden;\\n  width: 80px;\\n  height: 107px;\\n  margin-right: 16px;\\n  border-radius: 12px;\\n  background-color: #fff;\\n  cursor: pointer;\\n}\\n.img-wrapper_29V76 .border_3WfEn {\\n  position: absolute;\\n  top: 0;\\n  right: 0;\\n  bottom: 0;\\n  left: 0;\\n  border: 1px solid rgba(0, 0, 0, 0.03);\\n  border-radius: 12px;\\n}\\n.img-wrapper_29V76 .index_1Ew5p {\\n  position: absolute;\\n  top: 0;\\n  left: 0;\\n  width: 20px;\\n  height: 20px;\\n  border-radius: 8px 1px 8px 1px;\\n  font-size: 14px;\\n  line-height: 20px;\\n  text-align: center;\\n  background-color: #faa90e;\\n  color: #fff;\\n}\\n.img-wrapper_29V76 .index_1Ew5p.c-index-bg1 {\\n  background-color: #fe2d46;\\n}\\n.img-wrapper_29V76 .index_1Ew5p.c-index-bg2 {\\n  background-color: #f60;\\n}\\n.img-wrapper_29V76 img {\\n  width: 100%;\\n  height: 100%;\\n}\\n.content_1YWBm {\\n  overflow: hidden;\\n  margin: 0 150px 0 96px;\\n  font-size: 13px;\\n  color: #626675;\\n}\\n.content_1YWBm .title_dIF3B {\\n  position: relative;\\n  display: block;\\n  overflow: hidden;\\n  height: 22px;\\n  margin: 8px 0 12px;\\n  padding-right: 24px;\\n  font-size: 18px;\\n  line-height: 22px;\\n  color: #222;\\n}\\n.content_1YWBm .title_dIF3B .c-single-text-ellipsis {\\n  display: inline-block;\\n  max-width: 100%;\\n}\\n.content_1YWBm .title_dIF3B .hot-tag_1G080 {\\n  position: absolute;\\n  top: 2.5px;\\n  margin-left: 7px;\\n}\\n.content_1YWBm .title_dIF3B:hover,\\n.content_1YWBm .title_dIF3B.hover_128In {\\n  color: #315efb;\\n}\\n.content_1YWBm .intro_1l0wp {\\n  margin-bottom: 8px;\\n  line-height: 13px;\\n}\\n.content_1YWBm .hot-desc_1m_jR {\\n  line-height: 20px;\\n}\\n.content_1YWBm .hot-desc_1m_jR.large_nSuFU {\\n  display: inline-block;\\n}\\n.content_1YWBm .hot-desc_1m_jR.small_Uvkd3 {\\n  display: none;\\n}\\n.content_1YWBm .hot-desc_1m_jR.ellipsis_DupbZ .look-more_3oNWC {\\n  margin-left: 6px;\\n}\\n@media (max-width: 1320px) {\\n  .content_1YWBm .hot-desc_1m_jR.large_nSuFU {\\n    display: none;\\n  }\\n  .content_1YWBm .hot-desc_1m_jR.small_Uvkd3 {\\n    display: block;\\n  }\\n}\\n.wrapper-narrow .content_1YWBm .hot-desc_1m_jR.large_nSuFU {\\n  display: none;\\n}\\n.wrapper-narrow .content_1YWBm .hot-desc_1m_jR.small_Uvkd3 {\\n  display: block;\\n}\\n.content_1YWBm .hot-desc_1m_jR .look-more_3oNWC {\\n  position: static;\\n}\\n.content_1YWBm .desc_3CTjT {\\n  position: relative;\\n  display: block;\\n  box-sizing: border-box;\\n  max-width: 100%;\\n  padding-right: 70px;\\n  line-height: 13px;\\n}\\n.content_1YWBm .look-more_3oNWC {\\n  position: absolute;\\n  right: 0;\\n  white-space: nowrap;\\n  cursor: pointer;\\n}\\n.content_1YWBm .look-more_3oNWC:hover {\\n  color: #315efb;\\n}\\n.line_3-bzA {\\n  float: right;\\n  width: 1px;\\n  height: 100%;\\n  margin-left: 28px;\\n}\\n.trend_2RttY {\\n  float: right;\\n  width: 150px;\\n  text-align: center;\\n}\\n.trend_2RttY.hide-icon {\\n  margin-top: 18px;\\n}\\n.trend_2RttY.hide-icon .trend-icon_1Z3Cd {\\n  display: none;\\n}\\n.trend_2RttY .trend-icon_1Z3Cd {\\n  width: 28px;\\n  height: 28px;\\n  margin-top: 11px;\\n}\\n.trend_2RttY .hot-index_1Bl1a {\\n  margin: 10px 0;\\n  font-size: 16px;\\n  line-height: 16px;\\n  color: #9195a3;\\n}\\n.trend_2RttY .text_1lUwZ {\\n  font-size: 13px;\\n  line-height: 13px;\\n  color: #c4c7ce;\\n}\\n.top-icon_15tUE {\\n  width: 12px !important;\\n  height: 12px !important;\\n  margin-top: 4px;\\n}\\n</style>\\n<style data-vue-ssr-id=\"b516b632:0\">\\n.img-wrap_JPOmE {\\n  display: inline-block;\\n  width: 14px;\\n  height: 14px;\\n  vertical-align: top;\\n}\\n.img-wrap_JPOmE img {\\n  width: 100%;\\n  height: 100%;\\n}\\n</style>\\n<style data-vue-ssr-id=\"5dc25958:0\">\\n.footer_aoJsU {\\n  text-align: center;\\n  height: 40px;\\n  color: #bbb;\\n  vertical-align: middle;\\n}\\n.footer_aoJsU:after {\\n  content: \\'\\';\\n  line-height: 40px;\\n}\\n.footer_aoJsU a {\\n  margin-right: 20px;\\n}\\n.footer_aoJsU a:hover {\\n  color: #222;\\n}\\n</style>\\n<style data-vue-ssr-id=\"eb641056:0\">\\n.container_2R1hQ {\\n  position: fixed;\\n  right: 24px;\\n  bottom: 64px;\\n  background-color: #fbfbfb;\\n  width: 44px;\\n  border-radius: 22px;\\n  z-index: 10;\\n}\\n@media screen and (max-width: 1158px) {\\n  .container_2R1hQ {\\n    display: none;\\n  }\\n}\\n.container_2R1hQ > * {\\n  display: block;\\n  position: relative;\\n  height: 44px;\\n  line-height: 44px;\\n  width: 44px;\\n  border-radius: 22px;\\n  padding: 10px;\\n  box-sizing: border-box;\\n}\\n.container_2R1hQ > *:hover {\\n  box-shadow: 0 2px 10px 0 rgba(0, 0, 0, 0.1);\\n}\\n.container_2R1hQ > *:hover .side-float-popup {\\n  display: block;\\n}\\n.container_2R1hQ > * .side-float-popup {\\n  display: none;\\n  position: absolute;\\n  width: auto;\\n  word-break: keep-all;\\n  padding: 5px 16px;\\n  bottom: 50%;\\n  margin-bottom: -17px;\\n  right: 100%;\\n  margin-right: 12px;\\n  border-radius: 6px;\\n  box-shadow: 0 2px 10px 0 rgba(0, 0, 0, 0.1);\\n  background-color: #fff;\\n  font-size: 14px;\\n  line-height: 24px;\\n}\\n.container_2R1hQ .c-icon {\\n  display: block;\\n  font-size: 24px;\\n  line-height: 24px;\\n  height: 24px;\\n  color: #626675;\\n}\\n.container_2R1hQ .c-icon:hover {\\n  color: #315efb;\\n}\\n</style>\\n<style data-vue-ssr-id=\"229c8428:0\">\\n</style>\\n            </head>\\n            <body>\\n                <div><div id=\"sanRoot\" theme=\"movie\" class=\"wrapper c-font-normal rel\"><!--s-data:{\"data\":{\"cards\":[{\"component\":\"textImgListVerticalNormal\",\"content\":[{\"appUrl\":\"https://www.baidu.com/s?wd=%E7%8B%AC%E8%A1%8C%E6%9C%88%E7%90%83+%E7%94%B5%E5%BD%B1&sa=fyb_movie_all_all&rsv_dl=fyb_movie_all_all\",\"desc\":\"人类为抵御小行星的撞击,拯救地球,在月球部署了月盾计划。陨石提前来袭,全员紧急撤离时,维修工独孤月(沈腾 饰)因为意外,错过了领队马蓝星(马丽 饰)的撤离通知,一个人落在了月球。不料月盾计划失败,独孤月成为了“宇宙最后的人类”,开始了他在月球上破罐子破摔的生活\",\"hotChange\":\"down\",\"hotScore\":\"435876\",\"img\":\"https://fyb-1.cdn.bcebos.com/fyb-1/20221110/f17a86c2ef55343956cdfacefff7b380\",\"index\":0,\"indexUrl\":\"https://index.baidu.com/v2/main/index.html#/brand/100245633?words=%E7%8B%AC%E8%A1%8C%E6%9C%88%E7%90%83\",\"query\":\"独行月球 电影\",\"rawUrl\":\"https://www.baidu.com/s?wd=%E7%8B%AC%E8%A1%8C%E6%9C%88%E7%90%83+%E7%94%B5%E5%BD%B1\",\"show\":[\"类型：搞笑、科幻\",\"演员：沈腾、马丽\"],\"url\":\"https://www.baidu.com/s?wd=%E7%8B%AC%E8%A1%8C%E6%9C%88%E7%90%83+%E7%94%B5%E5%BD%B1&sa=fyb_movie_all_all&rsv_dl=fyb_movie_all_all\",\"word\":\"独行月球\"},{\"appUrl\":\"https://www.baidu.com/s?wd=%E9%98%BF%E5%87%A1%E8%BE%BE2+%E7%94%B5%E5%BD%B1&sa=fyb_movie_all_all&rsv_dl=fyb_movie_all_all\",\"desc\":\"《阿凡达2》的剧情承接自第一部的5年之后。曾经的地球残疾军人杰克萨利,如今已经是潘多拉星球纳美族一方部族的族长,并且与爱妻娜塔莉共同育有一对可爱的儿女,日子过得平淡而充实。然而某天,有个部族的兄弟在海岸附近巡逻时遭到利器割喉身亡。通过现场勘查,以及作为前海军陆战队员的敏锐直觉,杰克判断已经有人类的阿凡达混入了部落\",\"hotChange\":\"same\",\"hotScore\":\"200196\",\"img\":\"https://fyb-1.cdn.bcebos.com/fyb-1/20221110/84178e56523e0ab59af2ad4fe6846d8d\",\"index\":1,\"indexUrl\":\"https://index.baidu.com/v2/main/index.html#/brand/100273594?words=%E9%98%BF%E5%87%A1%E8%BE%BE2\",\"query\":\"阿凡达2 电影\",\"rawUrl\":\"https://www.baidu.com/s?wd=%E9%98%BF%E5%87%A1%E8%BE%BE2+%E7%94%B5%E5%BD%B1\",\"show\":[\"类型：冒险、奇幻\",\"演员：萨姆·沃辛顿、佐伊·索尔达娜\"],\"url\":\"https://www.baidu.com/s?wd=%E9%98%BF%E5%87%A1%E8%BE%BE2+%E7%94%B5%E5%BD%B1&sa=fyb_movie_all_all&rsv_dl=fyb_movie_all_all\",\"word\":\"阿凡达2\"},{\"appUrl\":\"https://www.baidu.com/s?wd=%E4%BE%8F%E7%BD%97%E7%BA%AA%E4%B8%96%E7%95%8C3+%E7%94%B5%E5%BD%B1&sa=fyb_movie_all_all&rsv_dl=fyb_movie_all_all\",\"desc\":\"影片为《侏罗纪世界》系列的完结篇,故事的开篇设定在纳布拉尔岛被摧毁的四年后。如今,恐龙在世界各地与人类共同生活、共同捕猎。这一脆弱的平衡将重塑未来,并最终决定人类能否与史上最可怕生物共享这颗星球,并继续站在食物链的顶端。\",\"hotChange\":\"same\",\"hotScore\":\"180550\",\"img\":\"https://fyb-1.cdn.bcebos.com/fyb-1/20221110/abcccc66f4f14227d1413fe8515ef342\",\"index\":2,\"indexUrl\":\"https://index.baidu.com/v2/main/index.html#/brand/100368987?words=%E4%BE%8F%E7%BD%97%E7%BA%AA%E4%B8%96%E7%95%8C3\",\"query\":\"侏罗纪世界3 电影\",\"rawUrl\":\"https://www.baidu.com/s?wd=%E4%BE%8F%E7%BD%97%E7%BA%AA%E4%B8%96%E7%95%8C3+%E7%94%B5%E5%BD%B1\",\"show\":[\"类型：动作、科幻\",\"演员：克里斯·帕拉特、布莱丝·达拉斯·霍华德\"],\"url\":\"https://www.baidu.com/s?wd=%E4%BE%8F%E7%BD%97%E7%BA%AA%E4%B8%96%E7%95%8C3+%E7%94%B5%E5%BD%B1&sa=fyb_movie_all_all&rsv_dl=fyb_movie_all_all\",\"word\":\"侏罗纪世界3\"},{\"appUrl\":\"https://www.baidu.com/s?wd=%E7%A5%9E%E6%8E%A2%E5%A4%A7%E6%88%98+%E7%94%B5%E5%BD%B1&sa=fyb_movie_all_all&rsv_dl=fyb_movie_all_all\",\"desc\":\"《神探大战》是由韦家辉执导，刘青云、蔡卓妍、林峯、李若彤、谭凯、陈家乐、汤怡、何珮瑜等主演的犯罪动作悬疑电影，于2022年7月8日在中国大陆上映。该片讲述了自封“神探”的凶手与真正的“神探”鬼才之间展开的斗智斗勇的港式七宗罪故事。\",\"hotChange\":\"same\",\"hotScore\":\"169531\",\"img\":\"https://fyb-1.cdn.bcebos.com/fyb-1/20221110/394469ca15680ff34460d260687ea219\",\"index\":3,\"indexUrl\":\"https://index.baidu.com/v2/main/index.html#/brand/100353679?words=%E7%A5%9E%E6%8E%A2%E5%A4%A7%E6%88%98\",\"query\":\"神探大战 电影\",\"rawUrl\":\"https://www.baidu.com/s?wd=%E7%A5%9E%E6%8E%A2%E5%A4%A7%E6%88%98+%E7%94%B5%E5%BD%B1\",\"show\":[\"类型：动作、悬疑\",\"演员：刘青云、蔡卓妍\"],\"url\":\"https://www.baidu.com/s?wd=%E7%A5%9E%E6%8E%A2%E5%A4%A7%E6%88%98+%E7%94%B5%E5%BD%B1&sa=fyb_movie_all_all&rsv_dl=fyb_movie_all_all\",\"word\":\"神探大战\"},{\"appUrl\":\"https://www.baidu.com/s?wd=%E9%AD%94%E5%A5%B32+%E7%94%B5%E5%BD%B1&sa=fyb_movie_all_all&rsv_dl=fyb_movie_all_all\",\"desc\":\"《魔女2》是由朴勋政执导和编剧，申诗雅、朴恩斌、徐恩秀、晋久、成宥彬、赵敏修主演，李钟硕、金多美特别出演的科幻动作电影，于2022年6月15日韩国上映。该片讲述了少女从实验室醒来并且试着逃出，偶然遇到了被犯罪组织操控的庆熙，而威胁庆熙的犯罪组织与少女碰上了，少女用压倒性的力量制服住组织，因此实验室开始追逐少女的行踪。\",\"hotChange\":\"same\",\"hotScore\":\"166509\",\"img\":\"https://fyb-1.cdn.bcebos.com/fyb-1/20221110/32252ecc15981695b4a13c4cf12a0a84\",\"index\":4,\"indexUrl\":\"https://index.baidu.com/v2/main/index.html#/brand/100362572?words=%E9%AD%94%E5%A5%B32\",\"query\":\"魔女2 电影\",\"rawUrl\":\"https://www.baidu.com/s?wd=%E9%AD%94%E5%A5%B32+%E7%94%B5%E5%BD%B1\",\"show\":[\"类型：动作、悬疑\",\"演员：申诗雅、李钟硕\"],\"url\":\"https://www.baidu.com/s?wd=%E9%AD%94%E5%A5%B32+%E7%94%B5%E5%BD%B1&sa=fyb_movie_all_all&rsv_dl=fyb_movie_all_all\",\"word\":\"魔女2\"},{\"appUrl\":\"https://www.baidu.com/s?wd=%E4%BA%BA%E7%94%9F%E5%A4%A7%E4%BA%8B+%E7%94%B5%E5%BD%B1&sa=fyb_movie_all_all&rsv_dl=fyb_movie_all_all\",\"desc\":\"《人生大事》是由韩延监制，刘江江编剧并执导，朱一龙领衔主演，杨恩又特别介绍出演，王戈特邀主演，刘陆、罗京民主演的电影，该片于2022年6月24日上映。该片讲述刑满释放的殡葬师三哥在一次出殡中遇见了孤儿武小文，意外地改变了三哥对职业和生活态度的故事。\",\"hotChange\":\"same\",\"hotScore\":\"165818\",\"img\":\"https://fyb-1.cdn.bcebos.com/fyb-1/20221110/3cffe6cd36c752fc9603418268f431cd\",\"index\":5,\"indexUrl\":\"https://index.baidu.com/v2/main/index.html#/brand/100243995?words=%E4%BA%BA%E7%94%9F%E5%A4%A7%E4%BA%8B\",\"query\":\"人生大事 电影\",\"rawUrl\":\"https://www.baidu.com/s?wd=%E4%BA%BA%E7%94%9F%E5%A4%A7%E4%BA%8B+%E7%94%B5%E5%BD%B1\",\"show\":[\"类型：剧情、家庭\",\"演员：朱一龙、杨恩又\"],\"url\":\"https://www.baidu.com/s?wd=%E4%BA%BA%E7%94%9F%E5%A4%A7%E4%BA%8B+%E7%94%B5%E5%BD%B1&sa=fyb_movie_all_all&rsv_dl=fyb_movie_all_all\",\"word\":\"人生大事\"},{\"appUrl\":\"https://www.baidu.com/s?wd=%E7%96%AF%E7%8B%8272%E5%B0%8F%E6%97%B6+%E7%94%B5%E5%BD%B1&sa=fyb_movie_all_all&rsv_dl=fyb_movie_all_all\",\"desc\":\"7月23日，都市爱情黑色喜剧电影《夜夜夜》在北京举办“疯狂初夜”首次媒体见面会，由此这部剧情紧张、充满黑色喜剧气氛的电影揭开了神秘面纱。《夜夜夜》由李继贤执导，李青阳编剧，闫妮、冯馨瑶、耿乐、邵兵、李菁等主演。\",\"hotChange\":\"down\",\"hotScore\":\"165638\",\"img\":\"https://fyb-1.cdn.bcebos.com/fyb-1/20221110/fef466a6b6201fa5e5f1e9bd2619947b\",\"index\":6,\"indexUrl\":\"https://index.baidu.com/v2/main/index.html#/brand/100348384?words=%E7%96%AF%E7%8B%8272%E5%B0%8F%E6%97%B6\",\"query\":\"疯狂72小时 电影\",\"rawUrl\":\"https://www.baidu.com/s?wd=%E7%96%AF%E7%8B%8272%E5%B0%8F%E6%97%B6+%E7%94%B5%E5%BD%B1\",\"show\":[\"类型：喜剧、搞笑\",\"演员：闫妮、耿乐\"],\"url\":\"https://www.baidu.com/s?wd=%E7%96%AF%E7%8B%8272%E5%B0%8F%E6%97%B6+%E7%94%B5%E5%BD%B1&sa=fyb_movie_all_all&rsv_dl=fyb_movie_all_all\",\"word\":\"疯狂72小时\"},{\"appUrl\":\"https://www.baidu.com/s?wd=%E6%98%8E%E6%97%A5%E6%88%98%E8%AE%B0+%E7%94%B5%E5%BD%B1&sa=fyb_movie_all_all&rsv_dl=fyb_movie_all_all\",\"desc\":\"《明日战记》的故事设定在2055年，那时候的地球深受污染和全球变暖问题的困扰，一颗陨石击中地球，带来一种快速生长的触须类外星生物，它在净化地球的同时，也在杀死一切生命。拯救地球的任务落在了一支精英部队身上。在与外星生物作战的同时，他们也发现了一个惊天阴谋……\",\"hotChange\":\"same\",\"hotScore\":\"159408\",\"img\":\"https://fyb-1.cdn.bcebos.com/fyb-1/20221110/03f102ba5e8a73147e321e18fa7098d2\",\"index\":7,\"indexUrl\":\"https://index.baidu.com/v2/main/index.html#/brand/100391271?words=%E6%98%8E%E6%97%A5%E6%88%98%E8%AE%B0\",\"query\":\"明日战记 电影\",\"rawUrl\":\"https://www.baidu.com/s?wd=%E6%98%8E%E6%97%A5%E6%88%98%E8%AE%B0+%E7%94%B5%E5%BD%B1\",\"show\":[\"类型：科幻、动作\",\"演员：古天乐、刘青云\"],\"url\":\"https://www.baidu.com/s?wd=%E6%98%8E%E6%97%A5%E6%88%98%E8%AE%B0+%E7%94%B5%E5%BD%B1&sa=fyb_movie_all_all&rsv_dl=fyb_movie_all_all\",\"word\":\"明日战记\"},{\"appUrl\":\"https://www.baidu.com/s?wd=%E8%8B%B1%E4%BC%A6%E5%AF%B9%E5%86%B3+%E7%94%B5%E5%BD%B1&sa=fyb_movie_all_all&rsv_dl=fyb_movie_all_all\",\"desc\":\"该片根据史蒂芬·莱瑟1992年出版的小说《中国佬》（The Chinaman）改编。讲述了身经百战的越战退伍老兵（成龙 饰）退役之后在伦敦唐人街开了家餐馆。当小女儿被爱尔兰恐怖团伙残害，正义得不到伸张的情况下，悲愤之中他再度举枪为女复仇。\",\"hotChange\":\"down\",\"hotScore\":\"157046\",\"img\":\"https://fyb-1.cdn.bcebos.com/fyb-1/20221110/a1c9d9e6a3596e31f9b894e9e6f85394\",\"index\":8,\"indexUrl\":\"https://index.baidu.com/v2/main/index.html#/brand/100362221?words=%E8%8B%B1%E4%BC%A6%E5%AF%B9%E5%86%B3\",\"query\":\"英伦对决 电影\",\"rawUrl\":\"https://www.baidu.com/s?wd=%E8%8B%B1%E4%BC%A6%E5%AF%B9%E5%86%B3+%E7%94%B5%E5%BD%B1\",\"show\":[\"类型：动作、惊悚\",\"演员：成龙、皮尔斯·布鲁斯南\"],\"url\":\"https://www.baidu.com/s?wd=%E8%8B%B1%E4%BC%A6%E5%AF%B9%E5%86%B3+%E7%94%B5%E5%BD%B1&sa=fyb_movie_all_all&rsv_dl=fyb_movie_all_all\",\"word\":\"英伦对决\"},{\"appUrl\":\"https://www.baidu.com/s?wd=%E4%B8%87%E9%87%8C%E5%BD%92%E9%80%94+%E7%94%B5%E5%BD%B1&sa=fyb_movie_all_all&rsv_dl=fyb_movie_all_all\",\"desc\":\"《万里归途》是由饶晓志执导，秦海燕编剧，郭帆、王红卫监制，张译、王俊凯、殷桃领衔主演的剧情片。该片讲述了老金带领小文等翻译学院的毕业生到非洲某地实习，返程时却在机场遭到绑匪绑架。老金和小文与绑匪斗智斗勇，让绑匪从暴力不沟通，转变为谈判沟通，凭借翻译的职业优势带领大家打通了回家之路。\",\"hotChange\":\"up\",\"hotScore\":\"94496\",\"img\":\"https://fyb-1.cdn.bcebos.com/fyb-1/20221110/c4e2106272886efcd4b9e3de7cfd7770\",\"index\":9,\"indexUrl\":\"https://index.baidu.com/v2/main/index.html#/brand/100305092?words=%E4%B8%87%E9%87%8C%E5%BD%92%E9%80%94\",\"query\":\"万里归途 电影\",\"rawUrl\":\"https://www.baidu.com/s?wd=%E4%B8%87%E9%87%8C%E5%BD%92%E9%80%94+%E7%94%B5%E5%BD%B1\",\"show\":[\"类型：剧情\",\"演员：张译、王俊凯\"],\"url\":\"https://www.baidu.com/s?wd=%E4%B8%87%E9%87%8C%E5%BD%92%E9%80%94+%E7%94%B5%E5%BD%B1&sa=fyb_movie_all_all&rsv_dl=fyb_movie_all_all\",\"word\":\"万里归途\"},{\"appUrl\":\"https://www.baidu.com/s?wd=%E8%9C%98%E8%9B%9B%E4%BE%A0+%E7%94%B5%E5%BD%B1&sa=fyb_movie_all_all&rsv_dl=fyb_movie_all_all\",\"desc\":\"彼得帕克只是美国一个平凡的高中生，当一次他被蜘蛛博物馆偷跑出来的变种蜘蛛咬了一口之后，彼得的生活彻底改变了。他变得和蜘蛛一样，拥有各种蜘蛛特有的超能力：从手指喷出粘力极强的蜘蛛丝、飞檐走壁等等。\",\"hotChange\":\"up\",\"hotScore\":\"67014\",\"img\":\"https://fyb-1.cdn.bcebos.com/fyb-1/20221110/638ea34c1a714fa691ac967dcc621482\",\"index\":10,\"indexUrl\":\"https://index.baidu.com/v2/main/index.html#/brand/100249542?words=%E8%9C%98%E8%9B%9B%E4%BE%A0\",\"query\":\"蜘蛛侠 电影\",\"rawUrl\":\"https://www.baidu.com/s?wd=%E8%9C%98%E8%9B%9B%E4%BE%A0+%E7%94%B5%E5%BD%B1\",\"show\":[\"类型：搞笑、爱情\",\"演员：Alison Rood、Josh Eichenbaum\"],\"url\":\"https://www.baidu.com/s?wd=%E8%9C%98%E8%9B%9B%E4%BE%A0+%E7%94%B5%E5%BD%B1&sa=fyb_movie_all_all&rsv_dl=fyb_movie_all_all\",\"word\":\"蜘蛛侠\"},{\"appUrl\":\"https://www.baidu.com/s?wd=%E5%B9%B3%E5%AE%89%E4%B8%AD%E5%9B%BD%E4%B9%8B%E5%AE%88%E6%8A%A4%E8%80%85+%E7%94%B5%E5%BD%B1&sa=fyb_movie_all_all&rsv_dl=fyb_movie_all_all\",\"desc\":\"电影《平安中国之守护者》以真实人物为原型，公、检、法、司、安五大政法机关作为背景，分别讲述了“牦牛盗案”、“凶杀悬案”、“房屋腾退案”、“未成年司法矫正”与“国安人的一生”五个真实故事。本片以“平安中国之守护者”这一暗线贯穿始终，不同侧面展现政法队伍忠诚奉献，一心为民的精神风采。\",\"hotChange\":\"up\",\"hotScore\":\"61336\",\"img\":\"https://fyb-1.cdn.bcebos.com/fyb-1/20221110/c847bb6cec75904d447aa11669faae6b\",\"index\":11,\"indexUrl\":\"https://index.baidu.com/v2/main/index.html#/brand/100351243?words=%E5%B9%B3%E5%AE%89%E4%B8%AD%E5%9B%BD%E4%B9%8B%E5%AE%88%E6%8A%A4%E8%80%85\",\"query\":\"平安中国之守护者 电影\",\"rawUrl\":\"https://www.baidu.com/s?wd=%E5%B9%B3%E5%AE%89%E4%B8%AD%E5%9B%BD%E4%B9%8B%E5%AE%88%E6%8A%A4%E8%80%85+%E7%94%B5%E5%BD%B1\",\"show\":[\"类型：剧情、犯罪\",\"演员：张皓承、黄晓明\"],\"url\":\"https://www.baidu.com/s?wd=%E5%B9%B3%E5%AE%89%E4%B8%AD%E5%9B%BD%E4%B9%8B%E5%AE%88%E6%8A%A4%E8%80%85+%E7%94%B5%E5%BD%B1&sa=fyb_movie_all_all&rsv_dl=fyb_movie_all_all\",\"word\":\"平安中国之守护者\"},{\"appUrl\":\"https://www.baidu.com/s?wd=%E8%AE%A9%E5%AD%90%E5%BC%B9%E9%A3%9E+%E7%94%B5%E5%BD%B1&sa=fyb_movie_all_all&rsv_dl=fyb_movie_all_all\",\"desc\":\"民国年间，花钱捐得县长的马邦德（葛优 饰）携妻（刘嘉玲 饰）及随从走马上任。途经南国某地，遭劫匪张麻子（姜文 饰）一伙伏击，随从尽死，只夫妻二人侥幸活命。马为保命，谎称自己是县长的汤师爷。为汤师爷许下的财富所动，张麻子摇身一变化身县长，带着手下赶赴鹅城上任。有道是天高皇帝远，鹅城地处偏僻，一方霸主黄四郎（周润发 饰）只手遮天，全然不将这个新来的县长放在眼里。张麻子痛打了黄的武教头（姜武 饰），黄则\",\"hotChange\":\"same\",\"hotScore\":\"56595\",\"img\":\"https://fyb-1.cdn.bcebos.com/fyb-1/20221110/848b399c100c435a67675db459ebee28\",\"index\":12,\"indexUrl\":\"https://index.baidu.com/v2/main/index.html#/brand/100280957?words=%E8%AE%A9%E5%AD%90%E5%BC%B9%E9%A3%9E\",\"query\":\"让子弹飞 电影\",\"rawUrl\":\"https://www.baidu.com/s?wd=%E8%AE%A9%E5%AD%90%E5%BC%B9%E9%A3%9E+%E7%94%B5%E5%BD%B1\",\"show\":[\"类型：喜剧、动作\",\"演员：姜文、葛优\"],\"url\":\"https://www.baidu.com/s?wd=%E8%AE%A9%E5%AD%90%E5%BC%B9%E9%A3%9E+%E7%94%B5%E5%BD%B1&sa=fyb_movie_all_all&rsv_dl=fyb_movie_all_all\",\"word\":\"让子弹飞\"},{\"appUrl\":\"https://www.baidu.com/s?wd=%E8%B7%B3%E6%94%AF%E5%8D%8E%E5%B0%94%E5%85%B9+%E7%94%B5%E5%BD%B1&sa=fyb_movie_all_all&rsv_dl=fyb_movie_all_all\",\"desc\":\"《跳支华尔兹》是萨拉·波莉执导的喜剧片，米歇尔·威廉姆斯,塞斯·罗根出演。该片讲述了女主角玛格特在28岁时开始了一段婚外情的故事。\",\"hotChange\":\"up\",\"hotScore\":\"45699\",\"img\":\"https://fyb-1.cdn.bcebos.com/fyb-1/20221110/8d2207d4917a37914d1deffb9c2d4333\",\"index\":13,\"indexUrl\":\"https://index.baidu.com/v2/main/index.html#/brand/100268820?words=%E8%B7%B3%E6%94%AF%E5%8D%8E%E5%B0%94%E5%85%B9\",\"query\":\"跳支华尔兹 电影\",\"rawUrl\":\"https://www.baidu.com/s?wd=%E8%B7%B3%E6%94%AF%E5%8D%8E%E5%B0%94%E5%85%B9+%E7%94%B5%E5%BD%B1\",\"show\":[\"类型：剧情、搞笑\",\"演员：米歇尔·威廉姆斯、塞斯·罗根\"],\"url\":\"https://www.baidu.com/s?wd=%E8%B7%B3%E6%94%AF%E5%8D%8E%E5%B0%94%E5%85%B9+%E7%94%B5%E5%BD%B1&sa=fyb_movie_all_all&rsv_dl=fyb_movie_all_all\",\"word\":\"跳支华尔兹\"},{\"appUrl\":\"https://www.baidu.com/s?wd=%E5%AE%AB%E9%94%81%E6%B2%89%E9%A6%99+%E7%94%B5%E5%BD%B1&sa=fyb_movie_all_all&rsv_dl=fyb_movie_all_all\",\"desc\":\"满清康熙鼎盛之际,自十三岁入宫当宫女的兆佳沉香(周冬雨 饰)与同在乾西四所当差的好朋友琉璃(赵丽颖 饰)度过七年春秋.深宫内院,挡不住少女春心萌动.单纯无知的沉香偷偷恋上十三阿哥胤祥(陈晓 饰),情缘前定,两个身分有着巨大差异的青年男女互生好感.另一方面,琉璃偶然得到九阿哥胤禟(朱梓骁 饰)临幸,后被抛弃,一心攀援富贵的她被嫉妒与虚荣所充满,遂假托沉香之名得以许配十三阿哥.沉香深藏心中委屈,以贴身\",\"hotChange\":\"same\",\"hotScore\":\"45028\",\"img\":\"https://fyb-1.cdn.bcebos.com/fyb-1/20221110/64f6b8da1303539c797389aaf0d06f62\",\"index\":14,\"indexUrl\":\"https://index.baidu.com/v2/main/index.html#/brand/100372676?words=%E5%AE%AB%E9%94%81%E6%B2%89%E9%A6%99\",\"query\":\"宫锁沉香 电影\",\"rawUrl\":\"https://www.baidu.com/s?wd=%E5%AE%AB%E9%94%81%E6%B2%89%E9%A6%99+%E7%94%B5%E5%BD%B1\",\"show\":[\"类型：爱情、剧情\",\"演员：周冬雨、陈晓\"],\"url\":\"https://www.baidu.com/s?wd=%E5%AE%AB%E9%94%81%E6%B2%89%E9%A6%99+%E7%94%B5%E5%BD%B1&sa=fyb_movie_all_all&rsv_dl=fyb_movie_all_all\",\"word\":\"宫锁沉香\"},{\"appUrl\":\"https://www.baidu.com/s?wd=%E5%AF%84%E7%94%9F%E8%99%AB+%E7%94%B5%E5%BD%B1&sa=fyb_movie_all_all&rsv_dl=fyb_movie_all_all\",\"desc\":\"基宇出生在一个贫穷的家庭之中，和妹妹基婷以及父母在狭窄的地下室里过着相依为命的日子。一天，基宇的同学上门拜访，他告诉基宇，自己在一个有钱人家里给他们的女儿做家教，太太是一个头脑简单出手又阔绰的女人，因为自己要出国留学，所以将家教的职位暂时转交给基宇。就这样，基宇来到了朴社长家中，并且见到了他的太太，没过多久，基宇的妹妹和父母也如同寄生虫一般的进入了朴社长家里工作。然而，他们的野心并没有止步于此，基\",\"hotChange\":\"same\",\"hotScore\":\"41323\",\"img\":\"https://fyb-1.cdn.bcebos.com/fyb-1/20221110/52aa42100775197904433ef8b6a505f6\",\"index\":15,\"indexUrl\":\"https://index.baidu.com/v2/main/index.html#/brand/100329239?words=%E5%AF%84%E7%94%9F%E8%99%AB\",\"query\":\"寄生虫 电影\",\"rawUrl\":\"https://www.baidu.com/s?wd=%E5%AF%84%E7%94%9F%E8%99%AB+%E7%94%B5%E5%BD%B1\",\"show\":[\"类型：搞笑、剧情\",\"演员：宋康昊、李善均\"],\"url\":\"https://www.baidu.com/s?wd=%E5%AF%84%E7%94%9F%E8%99%AB+%E7%94%B5%E5%BD%B1&sa=fyb_movie_all_all&rsv_dl=fyb_movie_all_all\",\"word\":\"寄生虫\"},{\"appUrl\":\"https://www.baidu.com/s?wd=%E6%90%9C%E6%95%91+%E7%94%B5%E5%BD%B1&sa=fyb_movie_all_all&rsv_dl=fyb_movie_all_all\",\"desc\":\"寒冬季节，一组深圳游客家庭自驾进入东北长白山旅行，原本是其乐融融的旅行，却因父亲阿德的过失导致8岁的儿子不幸走失。阿德夫妇向当地相关部门寻求援助，搜救行动即刻展开。黄金救援时间24小时过去了，常规安全极限48小时也过去了，孩子却仍未找到。即使希望渺茫，搜救警察及雪域搜救队依然不离不弃… 生命的奇迹会出现吗？\",\"hotChange\":\"down\",\"hotScore\":\"41232\",\"img\":\"https://fyb-1.cdn.bcebos.com/fyb-1/20221110/a188ee377f7208fb58ab6d9e21d19ea8\",\"index\":16,\"indexUrl\":\"https://index.baidu.com/v2/main/index.html#/brand/100251550?words=%E6%90%9C%E6%95%91\",\"query\":\"搜救 电影\",\"rawUrl\":\"https://www.baidu.com/s?wd=%E6%90%9C%E6%95%91+%E7%94%B5%E5%BD%B1\",\"show\":[\"类型：冒险、剧情\",\"演员：甄子丹、韩雪\"],\"url\":\"https://www.baidu.com/s?wd=%E6%90%9C%E6%95%91+%E7%94%B5%E5%BD%B1&sa=fyb_movie_all_all&rsv_dl=fyb_movie_all_all\",\"word\":\"搜救\"},{\"appUrl\":\"https://www.baidu.com/s?wd=%E5%93%A5%E6%96%AF%E6%8B%89+%E7%94%B5%E5%BD%B1&sa=fyb_movie_all_all&rsv_dl=fyb_movie_all_all\",\"desc\":\"新版《哥斯拉》由2010年《怪兽禁区》（Monsters）的导演加雷斯·爱德华兹（Gareth Edwards）执导，和1998年索尼的那部完全无关，将更忠于日本原作，让哥斯拉和其他怪兽（不止一个）对打。在今年圣迭戈Comic-Con动漫展上，华纳公司曾曝光了一小段新《哥斯拉》的片花，反响非常强烈。改编自1954年日本电影《哥斯拉》，围绕一位人类大兵的生活展开。讲述了沉睡的古代巨型怪兽被人们意外唤\",\"hotChange\":\"down\",\"hotScore\":\"36005\",\"img\":\"https://fyb-1.cdn.bcebos.com/fyb-1/20221110/bc77117cdbb09d731cd7dc384869cc86\",\"index\":17,\"indexUrl\":\"https://index.baidu.com/v2/main/index.html#/brand/100318363?words=%E5%93%A5%E6%96%AF%E6%8B%89\",\"query\":\"哥斯拉 电影\",\"rawUrl\":\"https://www.baidu.com/s?wd=%E5%93%A5%E6%96%AF%E6%8B%89+%E7%94%B5%E5%BD%B1\",\"show\":[\"类型：冒险、科幻\",\"演员：亚伦·泰勒-约翰逊、卡梅隆·CJ·亚当斯\"],\"url\":\"https://www.baidu.com/s?wd=%E5%93%A5%E6%96%AF%E6%8B%89+%E7%94%B5%E5%BD%B1&sa=fyb_movie_all_all&rsv_dl=fyb_movie_all_all\",\"word\":\"哥斯拉\"},{\"appUrl\":\"https://www.baidu.com/s?wd=%E5%80%A9%E5%A5%B3%E5%B9%BD%E9%AD%82+%E7%94%B5%E5%BD%B1&sa=fyb_movie_all_all&rsv_dl=fyb_movie_all_all\",\"desc\":\"很多年以前，他矢志要成为一个优秀的猎妖师，他选择了黑山做他修行和圆梦之旅的起点。那时，燕赤霞很年轻，黑山已经是一座很老的大山，那里有更老的精灵妖怪，它们过着原始的生活，粗糙简单却充满杀戮气息。他在黑山经历一场又一场的凶险恶斗，村民们都害怕进入黑山和这间寺院被称为“兰若寺。他的剑变得更可怕，他的力量也更强大，他自信可以战胜一切，直到那一天，他遇上了她和他们的悲痛故事由此开始。很多年以后，黑山山下的所\",\"hotChange\":\"same\",\"hotScore\":\"35593\",\"img\":\"https://fyb-1.cdn.bcebos.com/fyb-1/20221110/37c561a8c21cee77d8f67b333b9895c6\",\"index\":18,\"indexUrl\":\"https://index.baidu.com/v2/main/index.html#/brand/100276104?words=%E5%80%A9%E5%A5%B3%E5%B9%BD%E9%AD%82\",\"query\":\"倩女幽魂 电影\",\"rawUrl\":\"https://www.baidu.com/s?wd=%E5%80%A9%E5%A5%B3%E5%B9%BD%E9%AD%82+%E7%94%B5%E5%BD%B1\",\"show\":[\"类型：剧情、爱情\",\"演员：刘亦菲、古天乐\"],\"url\":\"https://www.baidu.com/s?wd=%E5%80%A9%E5%A5%B3%E5%B9%BD%E9%AD%82+%E7%94%B5%E5%BD%B1&sa=fyb_movie_all_all&rsv_dl=fyb_movie_all_all\",\"word\":\"倩女幽魂\"},{\"appUrl\":\"https://www.baidu.com/s?wd=%E5%8D%83%E4%B8%8E%E5%8D%83%E5%AF%BB+%E7%94%B5%E5%BD%B1&sa=fyb_movie_all_all&rsv_dl=fyb_movie_all_all\",\"desc\":\"千寻和爸爸妈妈一同驱车前往新家,在郊外的小路上不慎进入了神秘的隧道他们去到了另外一个诡异世界一个中世纪的小镇。远处飘来食物的香味,爸爸妈妈大快朵颐,孰料之后变成了猪!这时小镇上渐渐来了许多样子古怪、半透明的人。 千寻仓皇逃出,一个叫小白的人救了他,喂了她阻止身体消 失的药,并且告诉她怎样去找锅炉爷爷以及汤婆婆,而且必须获得一分工作才能不被魔法变成别的东西。 千寻在小白的帮助下幸运地获得了一份在浴池\",\"hotChange\":\"up\",\"hotScore\":\"33402\",\"img\":\"https://fyb-1.cdn.bcebos.com/fyb-1/20221110/100cc9dbe3fed44d4dea96dfe59e5368\",\"index\":19,\"indexUrl\":\"https://index.baidu.com/v2/main/index.html#/brand/100329348?words=%E5%8D%83%E4%B8%8E%E5%8D%83%E5%AF%BB\",\"query\":\"千与千寻 电影\",\"rawUrl\":\"https://www.baidu.com/s?wd=%E5%8D%83%E4%B8%8E%E5%8D%83%E5%AF%BB+%E7%94%B5%E5%BD%B1\",\"show\":[\"类型：奇幻、剧情\",\"演员：柊瑠美、入野自由\"],\"url\":\"https://www.baidu.com/s?wd=%E5%8D%83%E4%B8%8E%E5%8D%83%E5%AF%BB+%E7%94%B5%E5%BD%B1&sa=fyb_movie_all_all&rsv_dl=fyb_movie_all_all\",\"word\":\"千与千寻\"},{\"appUrl\":\"https://www.baidu.com/s?wd=%E8%A5%BF%E7%BA%BF%E6%97%A0%E6%88%98%E4%BA%8B2022+%E7%94%B5%E5%BD%B1&sa=fyb_movie_all_all&rsv_dl=fyb_movie_all_all\",\"desc\":\"该片改编自埃里希·玛利亚·雷马克撰写的同名经典小说，讲述在第一次世界大战期间，保罗·鲍曼和同学莱尔、米勒参加了德国国民志愿兵，被派往前线与法军作战。在战场上，他们目睹到了残酷的饥饿、血腥和死亡，战争的荒谬无情让保罗从迷恋战争到心灰意冷。\",\"hotChange\":\"same\",\"hotScore\":\"32072\",\"img\":\"https://fyb-1.cdn.bcebos.com/fyb-1/20221110/90d955eb8893db3a628f1c7733e8d02b\",\"index\":20,\"indexUrl\":\"https://index.baidu.com/v2/main/index.html#/brand/100306841?words=%E8%A5%BF%E7%BA%BF%E6%97%A0%E6%88%98%E4%BA%8B\",\"query\":\"西线无战事2022 电影\",\"rawUrl\":\"https://www.baidu.com/s?wd=%E8%A5%BF%E7%BA%BF%E6%97%A0%E6%88%98%E4%BA%8B2022+%E7%94%B5%E5%BD%B1\",\"show\":[\"类型：剧情、动作\",\"演员：费利克斯·卡米勒、丹尼尔·布鲁赫\"],\"url\":\"https://www.baidu.com/s?wd=%E8%A5%BF%E7%BA%BF%E6%97%A0%E6%88%98%E4%BA%8B2022+%E7%94%B5%E5%BD%B1&sa=fyb_movie_all_all&rsv_dl=fyb_movie_all_all\",\"word\":\"西线无战事2022\"},{\"appUrl\":\"https://www.baidu.com/s?wd=%E6%B3%B0%E5%9D%A6%E5%B0%BC%E5%85%8B%E5%8F%B7+%E7%94%B5%E5%BD%B1&sa=fyb_movie_all_all&rsv_dl=fyb_movie_all_all\",\"desc\":\"1912年4月10日,号称 “世界工业史上的奇迹”的豪华客轮泰坦尼克号开始了自己的处女航,从英国的南安普顿出发驶往美国纽约。富家少女罗丝(凯特温丝莱特)与母亲及未婚夫卡尔坐上了头等舱;另一边,放荡不羁的少年画家杰克(莱昂纳多迪卡普里奥)也在码头的一场赌博中赢得了下等舱的船票。 罗丝厌倦了上流社会虚伪的生活,不愿嫁给卡尔,打算投海自尽,被杰克救起。很快,美丽活泼的罗丝与英俊开朗的杰克相爱,杰克带罗丝\",\"hotChange\":\"down\",\"hotScore\":\"31778\",\"img\":\"https://fyb-1.cdn.bcebos.com/fyb-1/20221110/ba5321990b08185d1f2d4436073fc6c8\",\"index\":21,\"indexUrl\":\"https://index.baidu.com/v2/main/index.html#/brand/100293681?words=%E6%B3%B0%E5%9D%A6%E5%B0%BC%E5%85%8B%E5%8F%B7\",\"query\":\"泰坦尼克号 电影\",\"rawUrl\":\"https://www.baidu.com/s?wd=%E6%B3%B0%E5%9D%A6%E5%B0%BC%E5%85%8B%E5%8F%B7+%E7%94%B5%E5%BD%B1\",\"show\":[\"类型：灾难、剧情\",\"演员：莱昂纳多·迪卡普里奥、凯特·温丝莱特\"],\"url\":\"https://www.baidu.com/s?wd=%E6%B3%B0%E5%9D%A6%E5%B0%BC%E5%85%8B%E5%8F%B7+%E7%94%B5%E5%BD%B1&sa=fyb_movie_all_all&rsv_dl=fyb_movie_all_all\",\"word\":\"泰坦尼克号\"},{\"appUrl\":\"https://www.baidu.com/s?wd=%E6%97%A0%E4%BA%BA%E5%8C%BA+%E7%94%B5%E5%BD%B1&sa=fyb_movie_all_all&rsv_dl=fyb_movie_all_all\",\"desc\":\"小有名气但利欲熏心的律师潘肖（徐峥饰），凭借扎实的法律知识和巧舌如簧的庭辩技巧，成功帮盗捕国家珍禽阿拉泰隼并残忍杀害一名警察的西北盗猎团伙老大（多布杰 饰）洗脱罪名。老大承诺十天后付清余款，潘肖则要求对方用一辆红色轿车抵押。在此之后，他驾驶着新车踏上从西北荒漠返回大都会的路程。谁知路上险情不断，先是和一对开卡车拉茅草的哥俩（王双宝 & 巴多 饰）发生摩擦，导致人伤车损，接着又不慎撞飞一个似乎拦车求\",\"hotChange\":\"same\",\"hotScore\":\"29636\",\"img\":\"https://fyb-1.cdn.bcebos.com/fyb-1/20221110/eac1ef6f818d1cad5048fbc13e19d995\",\"index\":22,\"indexUrl\":\"https://index.baidu.com/v2/main/index.html#/brand/100266129?words=%E6%97%A0%E4%BA%BA%E5%8C%BA\",\"query\":\"无人区 电影\",\"rawUrl\":\"https://www.baidu.com/s?wd=%E6%97%A0%E4%BA%BA%E5%8C%BA+%E7%94%B5%E5%BD%B1\",\"show\":[\"类型：剧情、犯罪\",\"演员：徐峥、黄渤\"],\"url\":\"https://www.baidu.com/s?wd=%E6%97%A0%E4%BA%BA%E5%8C%BA+%E7%94%B5%E5%BD%B1&sa=fyb_movie_all_all&rsv_dl=fyb_movie_all_all\",\"word\":\"无人区\"},{\"appUrl\":\"https://www.baidu.com/s?wd=%E5%85%B1%E5%8A%A9+%E7%94%B5%E5%BD%B1&sa=fyb_movie_all_all&rsv_dl=fyb_movie_all_all\",\"desc\":\"朝鲜一座国家秘密工厂对美元的仿制度超过了百分之九十九，朝鲜特种部队首长车奇成，在之前的行动失去了妻子，因而对国家产生不满，决定带领一众手下脱北出逃。并且在走之前要抢走工厂最宝贵的伪钞模板。车奇正的手下，一个行动小组的组长林哲令（玄彬饰）率领自己的组员，与车奇正一伙发生了激烈交火。最后除林哲令一人幸存，其余工人和保安人员全部被杀害，其中就包括林哲令的妻子。\",\"hotChange\":\"up\",\"hotScore\":\"29183\",\"img\":\"https://fyb-1.cdn.bcebos.com/fyb-1/20221110/915560f2551d589059bd5197dff9e6da\",\"index\":23,\"indexUrl\":\"https://index.baidu.com/v2/main/index.html#/brand/100289563?words=%E5%85%B1%E5%8A%A9\",\"query\":\"共助 电影\",\"rawUrl\":\"https://www.baidu.com/s?wd=%E5%85%B1%E5%8A%A9+%E7%94%B5%E5%BD%B1\",\"show\":[\"类型：动作、剧情\",\"演员：玄彬、柳海真\"],\"url\":\"https://www.baidu.com/s?wd=%E5%85%B1%E5%8A%A9+%E7%94%B5%E5%BD%B1&sa=fyb_movie_all_all&rsv_dl=fyb_movie_all_all\",\"word\":\"共助\"},{\"appUrl\":\"https://www.baidu.com/s?wd=%E7%96%AF%E7%8B%82%E5%8A%A8%E7%89%A9%E5%9F%8E+%E7%94%B5%E5%BD%B1&sa=fyb_movie_all_all&rsv_dl=fyb_movie_all_all\",\"desc\":\"疯狂动物城是一座独一无二的现代动物都市。每种动物在这里都有自己的居所，比如富丽堂皇的撒哈拉广场，或者常年严寒的冰川镇。它就像一座大熔炉，动物们在这里和平共处——无论是大象还是小老鼠，只要你努力，都能在此闯出一番名堂。不过乐观的警官兔朱迪（金妮弗·古德温 Ginnifer Goodwin 配音）却发现，作为史上第一任兔子警官，要和一群强硬的大块头动物警察合作可不是件容易事。为了证明自己，她决心侦破一\",\"hotChange\":\"up\",\"hotScore\":\"28764\",\"img\":\"https://fyb-1.cdn.bcebos.com/fyb-1/20221110/14d0facab510ca2d0dc730f115aac8e5\",\"index\":24,\"indexUrl\":\"https://index.baidu.com/v2/main/index.html#/brand/100367464?words=%E7%96%AF%E7%8B%82%E5%8A%A8%E7%89%A9%E5%9F%8E\",\"query\":\"疯狂动物城 电影\",\"rawUrl\":\"https://www.baidu.com/s?wd=%E7%96%AF%E7%8B%82%E5%8A%A8%E7%89%A9%E5%9F%8E+%E7%94%B5%E5%BD%B1\",\"show\":[\"类型：动画、动作\",\"演员：金妮弗·古德温、杰森·贝特曼\"],\"url\":\"https://www.baidu.com/s?wd=%E7%96%AF%E7%8B%82%E5%8A%A8%E7%89%A9%E5%9F%8E+%E7%94%B5%E5%BD%B1&sa=fyb_movie_all_all&rsv_dl=fyb_movie_all_all\",\"word\":\"疯狂动物城\"},{\"appUrl\":\"https://www.baidu.com/s?wd=%E7%99%BD%E9%B9%BF%E5%8E%9F+%E7%94%B5%E5%BD%B1&sa=fyb_movie_all_all&rsv_dl=fyb_movie_all_all\",\"desc\":\"电影《白鹿原》改编自陈忠实同名小说，由王全安执导，集结了张丰毅，张雨绮，段奕宏，吴刚，刘威，郭涛等众多影星。影片以陕西关中平原上素有“仁义村”之称的白鹿村为主要背景，细腻地反映了出白姓和鹿姓两大家族祖孙三代人的恩怨纷争。此外著名编剧芦苇，美术设计师霍廷霄，配乐赵季平，德国摄影师卢茨·赖特迈尔等重量级幕后主创的加盟，一流的班底全力打造，影片品质令人期待。\",\"hotChange\":\"down\",\"hotScore\":\"28478\",\"img\":\"https://fyb-1.cdn.bcebos.com/fyb-1/20221110/fe367fb2d1ee66d568274ecad4b7718d\",\"index\":25,\"indexUrl\":\"https://index.baidu.com/v2/main/index.html#/brand/100316739?words=%E7%99%BD%E9%B9%BF%E5%8E%9F\",\"query\":\"白鹿原 电影\",\"rawUrl\":\"https://www.baidu.com/s?wd=%E7%99%BD%E9%B9%BF%E5%8E%9F+%E7%94%B5%E5%BD%B1\",\"show\":[\"类型：剧情、年代\",\"演员：张丰毅、张雨绮\"],\"url\":\"https://www.baidu.com/s?wd=%E7%99%BD%E9%B9%BF%E5%8E%9F+%E7%94%B5%E5%BD%B1&sa=fyb_movie_all_all&rsv_dl=fyb_movie_all_all\",\"word\":\"白鹿原\"},{\"appUrl\":\"https://www.baidu.com/s?wd=%E5%8F%8D%E8%B4%AA%E9%A3%8E%E6%9A%B4+%E7%94%B5%E5%BD%B1&sa=fyb_movie_all_all&rsv_dl=fyb_movie_all_all\",\"desc\":\"有人说：香港幸有廉政公署，才能有今天国际金融中心的地位。这可能是廉政公署成立四十年来，最严重的集团贪污案件。事件牵涉到香港政府用作扶贫的150亿「关怀基金」！一个庞大的贪污集团：当中包括了退休高官、警队高层、商界富豪、资深律师、会计师等，廉署调查员承受了前所未有的压力。这是一个心狠手辣的贪污集团：涉案的证人不是被暴力恐吓，就是被消灭掉，连廉政公署调查员也成了攻击的对象，调查员承受着前所未有的凶险！\",\"hotChange\":\"up\",\"hotScore\":\"28099\",\"img\":\"https://fyb-1.cdn.bcebos.com/fyb-1/20221110/547610b144176fdec403dc559f67a2d5\",\"index\":26,\"indexUrl\":\"https://index.baidu.com/v2/main/index.html#/brand/100227301?words=%E5%8F%8D%E8%B4%AA%E9%A3%8E%E6%9A%B4\",\"query\":\"反贪风暴 电影\",\"rawUrl\":\"https://www.baidu.com/s?wd=%E5%8F%8D%E8%B4%AA%E9%A3%8E%E6%9A%B4+%E7%94%B5%E5%BD%B1\",\"show\":[\"类型：剧情、犯罪\",\"演员：古天乐、林家栋\"],\"url\":\"https://www.baidu.com/s?wd=%E5%8F%8D%E8%B4%AA%E9%A3%8E%E6%9A%B4+%E7%94%B5%E5%BD%B1&sa=fyb_movie_all_all&rsv_dl=fyb_movie_all_all\",\"word\":\"反贪风暴\"},{\"appUrl\":\"https://www.baidu.com/s?wd=%E7%BB%9D%E5%91%BD%E8%88%AA%E7%8F%AD+%E7%94%B5%E5%BD%B1&sa=fyb_movie_all_all&rsv_dl=fyb_movie_all_all\",\"desc\":\"一架老旧的波音747飞机准备进行其最后一次夜间飞行，载着仅有的九位乘客从位于太平洋中心的好运岛飞往新加坡。由于乘客的锐减，该航线已经被取消。飞机起飞后，怪事便不断在这趟最后的航班上发生，先是土着老太突发癫狂非要带孙女下机；又是商务舱电视屏幕离奇中断；接着又是自闭症女孩举止诡异，最后连空姐杰西卡也神秘失踪……不安的气氛开始在机舱里蔓延，直至杰西卡被发现惨死在洗手间，身上留有奇怪的伤痕，飞机上仅有的十\",\"hotChange\":\"up\",\"hotScore\":\"26996\",\"img\":\"https://fyb-1.cdn.bcebos.com/fyb-1/20221110/d2050afb7249836492c0bc1bf6492d82\",\"index\":27,\"indexUrl\":\"https://index.baidu.com/v2/main/index.html#/brand/100239796?words=%E7%BB%9D%E5%91%BD%E8%88%AA%E7%8F%AD\",\"query\":\"绝命航班 电影\",\"rawUrl\":\"https://www.baidu.com/s?wd=%E7%BB%9D%E5%91%BD%E8%88%AA%E7%8F%AD+%E7%94%B5%E5%BD%B1\",\"show\":[\"类型：灾难、动作\",\"演员：爱德·维斯特维克、朱珠\"],\"url\":\"https://www.baidu.com/s?wd=%E7%BB%9D%E5%91%BD%E8%88%AA%E7%8F%AD+%E7%94%B5%E5%BD%B1&sa=fyb_movie_all_all&rsv_dl=fyb_movie_all_all\",\"word\":\"绝命航班\"},{\"appUrl\":\"https://www.baidu.com/s?wd=%E5%A5%87%E5%BC%82%E5%8D%9A%E5%A3%AB+%E7%94%B5%E5%BD%B1&sa=fyb_movie_all_all&rsv_dl=fyb_movie_all_all\",\"desc\":\"性格高傲的神经外科手术专家史蒂芬·斯特兰奇（本尼迪克特·康伯巴奇饰）事业有成，在遭遇一次车祸悲剧后，双手再也无法握住手术刀，不能继续他的医生职业，为了治疗他的伤，他远赴尼泊尔遇到了莫度男爵（切瓦特·埃加福特饰），在莫度男爵带动下他得到古一法师（蒂尔达·斯文顿饰）帮助。斯蒂芬-斯特兰奇把自己曾经的自负都抛在了一边，开始接触和学习鲜为人知的玄学，以及多维空间世界的学问。在纽约的格林威治村，变身奇异博士\",\"hotChange\":\"up\",\"hotScore\":\"26382\",\"img\":\"https://fyb-1.cdn.bcebos.com/fyb-1/20221110/ce6eb9eb976d95d04f53526bf2b934ec\",\"index\":28,\"indexUrl\":\"https://index.baidu.com/v2/main/index.html#/brand/100319221?words=%E5%A5%87%E5%BC%82%E5%8D%9A%E5%A3%AB\",\"query\":\"奇异博士 电影\",\"rawUrl\":\"https://www.baidu.com/s?wd=%E5%A5%87%E5%BC%82%E5%8D%9A%E5%A3%AB+%E7%94%B5%E5%BD%B1\",\"show\":[\"类型：奇幻、冒险\",\"演员：本尼迪克特·康伯巴奇、蒂尔达·斯文顿\"],\"url\":\"https://www.baidu.com/s?wd=%E5%A5%87%E5%BC%82%E5%8D%9A%E5%A3%AB+%E7%94%B5%E5%BD%B1&sa=fyb_movie_all_all&rsv_dl=fyb_movie_all_all\",\"word\":\"奇异博士\"},{\"appUrl\":\"https://www.baidu.com/s?wd=%E9%82%AA%E4%B8%8D%E5%8E%8B%E6%AD%A3+%E7%94%B5%E5%BD%B1&sa=fyb_movie_all_all&rsv_dl=fyb_movie_all_all\",\"desc\":\"北洋年间，北京以北。习武少年李天然目睹师兄朱潜龙勾结日本特务根本一郎，杀害师父全家。李天然侥幸从枪下逃脱，被美国医生亨德勒救下。李天然伤愈后，赴美学医多年，并同时接受特工训练。1937年初，李天然突然受命回国。“七七事变”前夜，北平，这座国际间谍之城，华洋混杂，山头林立。每时每刻充满诱惑与杀机。一心复仇的李天然，并不知道自己被卷入了一场阴谋，亦搅乱了一盘棋局。彼时彼刻，如同李小龙闯进了谍都卡萨布兰\",\"hotChange\":\"down\",\"hotScore\":\"25724\",\"img\":\"https://fyb-1.cdn.bcebos.com/fyb-1/20221110/71f5730e2019a7cc58bfb613d5d92e19\",\"index\":29,\"indexUrl\":\"https://index.baidu.com/v2/main/index.html#/brand/100295105?words=%E9%82%AA%E4%B8%8D%E5%8E%8B%E6%AD%A3\",\"query\":\"邪不压正 电影\",\"rawUrl\":\"https://www.baidu.com/s?wd=%E9%82%AA%E4%B8%8D%E5%8E%8B%E6%AD%A3+%E7%94%B5%E5%BD%B1\",\"show\":[\"类型：搞笑、爱情\",\"演员：姜文、彭于晏\"],\"url\":\"https://www.baidu.com/s?wd=%E9%82%AA%E4%B8%8D%E5%8E%8B%E6%AD%A3+%E7%94%B5%E5%BD%B1&sa=fyb_movie_all_all&rsv_dl=fyb_movie_all_all\",\"word\":\"邪不压正\"}],\"more\":0,\"moreAppUrl\":\"https://top.baidu.com/board?tab=movie&sa=fyb_movie\",\"moreUrl\":\"https://top.baidu.com/board?tab=movie&sa=fyb_movie\",\"text\":\"电影榜\",\"topContent\":null,\"typeName\":\"movie\",\"updateTime\":\"1668051232\"}],\"curBoardName\":\"电影榜\",\"logid\":\"2421678268\",\"platform\":\"pc\",\"tabBoard\":[{\"index\":0,\"text\":\"首页\",\"typeName\":\"homepage\"},{\"index\":1,\"text\":\"热搜榜\",\"typeName\":\"realtime\"},{\"index\":2,\"text\":\"小说榜\",\"typeName\":\"novel\"},{\"index\":3,\"text\":\"电影榜\",\"typeName\":\"movie\"},{\"index\":4,\"text\":\"电视剧榜\",\"typeName\":\"teleplay\"},{\"index\":5,\"text\":\"汽车榜\",\"typeName\":\"car\"},{\"index\":6,\"text\":\"游戏榜\",\"typeName\":\"game\"}],\"tag\":[{\"typeName\":\"category\",\"text\":\"类型\",\"content\":[\"全部类型\",\"爱情\",\"喜剧\",\"动作\",\"剧情\",\"科幻\",\"恐怖\",\"动画\",\"惊悚\",\"犯罪\"],\"curIndex\":0},{\"typeName\":\"country\",\"text\":\"地区\",\"content\":[\"全部地区\",\"中国大陆\",\"中国香港\",\"中国台湾\",\"欧美\",\"日本\",\"韩国\"],\"curIndex\":0}]},\"view\":\"v-category\",\"tab\":\"movie\",\"config\":{},\"rootWrapperClass\":\"wrapper\",\"showScrollToTop\":false}--> <div class=\"bg-wrapper\"> <!--s-frag--> <img src=\"//fyb-pc-static.cdn.bcebos.com/static/asset/movie-bg_07f8ff5dad542565bf58b1b900a60057.png\"> <img class=\"default\" src=\"//fyb-pc-static.cdn.bcebos.com/static/asset/default-movie-bg_c925556129ba6511827d74d77154d20e.png\"> <!--/s-frag--> </div> <header class=\"responsive-wrapper header_3wayL\"> <div class=\"c-font-normal navi-top-wrapper_20foP rel\"> <div class=\"navi-top-left_1Zuqa abs\"> <a class=\"navi-item_2z3vU\" href=\"http://news.baidu.com\" target=\"_blank\">新闻</a> <a class=\"navi-item_2z3vU\" href=\"https://www.hao123.com\" target=\"_blank\">hao123</a> <a class=\"navi-item_2z3vU\" href=\"http://map.baidu.com\" target=\"_blank\">地图</a> <a class=\"navi-item_2z3vU\" href=\"https://haokan.baidu.com\" target=\"_blank\">视频</a> <a class=\"navi-item_2z3vU\" href=\"http://tieba.baidu.com\" target=\"_blank\">贴吧</a> <a class=\"navi-item_2z3vU\" href=\"http://xueshu.baidu.com\" target=\"_blank\">学术</a> <a class=\"navi-item_2z3vU\" href=\"http://www.baidu.com/more/\" target=\"_blank\">更多</a> </div> <div class=\"navi-top-right_33qd2 abs\"> <a class=\"navi-item_2z3vU\" href=\"http://www.baidu.com/\" target=\"_blank\">百度首页</a> <!--s-frag--> <a class=\"c-btn c-btn-mini login-btn_2CUrM\">登录</a> <div class=\"login-form-wrapper_1E7lG c-floating-box\"> <div id=\"login1\"></div> </div> <!--/s-frag--> </div> </div> <div class=\"container tab-wrap_23sEv\"> <div class=\"logo-trends-wrapper_150M5\"> <img src=\"//fyb-pc-static.cdn.bcebos.com/static/asset/movie@2x_9764219be648f018a4d1fddaebb0118d.png\"> </div> <div class=\"c-theme-color tabs-wrap_3Ac9n\"> <a href=\"/board?tab=homepage\" class=\"tab-item_17MbK\" data-click=\"{&quot;pos&quot;:&quot;tab_homepage&quot;}\"> <span>首页</span> </a><a href=\"/board?tab=realtime\" class=\"tab-item_17MbK\" data-click=\"{&quot;pos&quot;:&quot;tab_realtime&quot;}\"> <span>热搜</span> </a><a href=\"/board?tab=novel\" class=\"tab-item_17MbK\" data-click=\"{&quot;pos&quot;:&quot;tab_novel&quot;}\"> <span>小说</span> </a><a href=\"/board?tab=movie\" class=\"tab-item_17MbK active\" data-click=\"{&quot;pos&quot;:&quot;tab_movie&quot;}\"> <span>电影</span> </a><a href=\"/board?tab=teleplay\" class=\"tab-item_17MbK\" data-click=\"{&quot;pos&quot;:&quot;tab_teleplay&quot;}\"> <span>电视剧</span> </a><a href=\"/board?tab=car\" class=\"tab-item_17MbK\" data-click=\"{&quot;pos&quot;:&quot;tab_car&quot;}\"> <span>汽车</span> </a><a href=\"/board?tab=game\" class=\"tab-item_17MbK\" data-click=\"{&quot;pos&quot;:&quot;tab_game&quot;}\"> <span>游戏</span> </a> </div> </div> <div id=\"tabs\" class=\"tabs-wrapper_7ri4o\"> <div class=\"container tabs-container__LAaf c-theme-color\"> <a href=\"/board?tab=homepage\" class=\"tab_3QhDq\" data-click=\"{&quot;pos&quot;:&quot;tab_homepage&quot;}\"> <span>首页</span>  </a><a href=\"/board?tab=realtime\" class=\"tab_3QhDq\" data-click=\"{&quot;pos&quot;:&quot;tab_realtime&quot;}\"> <span>热搜</span>  </a><a href=\"/board?tab=novel\" class=\"tab_3QhDq\" data-click=\"{&quot;pos&quot;:&quot;tab_novel&quot;}\"> <span>小说</span>  </a><a href=\"/board?tab=movie\" class=\"tab_3QhDq active\" data-click=\"{&quot;pos&quot;:&quot;tab_movie&quot;}\"> <span>电影</span> <div class=\"active-underline-wrapper_Lv1CQ c-theme-color-bg\"></div> </a><a href=\"/board?tab=teleplay\" class=\"tab_3QhDq\" data-click=\"{&quot;pos&quot;:&quot;tab_teleplay&quot;}\"> <span>电视剧</span>  </a><a href=\"/board?tab=car\" class=\"tab_3QhDq\" data-click=\"{&quot;pos&quot;:&quot;tab_car&quot;}\"> <span>汽车</span>  </a><a href=\"/board?tab=game\" class=\"tab_3QhDq\" data-click=\"{&quot;pos&quot;:&quot;tab_game&quot;}\"> <span>游戏</span>  </a> </div> </div> </header> <main class=\"rel container_2VTvm\"> <div class=\"responsive-wrapper left-side-wrapper_1kYr7\"> <div class=\"container rel\"> <div class=\"left-side_1rpOJ c-font-normal\"> <div class=\"abs left-side-bg-wrapper_23qvy\"> <img src=\"//fyb-pc-static.cdn.bcebos.com/static/asset/dark-blue_f373ab5750b03042965ebb35820bf972.png\"> </div> <div class=\"side-title_1wfo5 c-theme-color\"> 电影榜 </div> <!--s-frag--> <div class=\"tags-wrap_InWap\"> <div class=\"c-color-text title_bOM2Q\"> 类型 </div> <div class=\"tags_1mjZF\"> <div class=\"tag-item_2erEC active_1oD--\"> 全部类型 </div><div class=\"tag-item_2erEC \"> 爱情 </div><div class=\"tag-item_2erEC \"> 喜剧 </div><div class=\"tag-item_2erEC \"> 动作 </div><div class=\"tag-item_2erEC \"> 剧情 </div><div class=\"tag-item_2erEC \"> 科幻 </div><div class=\"tag-item_2erEC \"> 恐怖 </div><div class=\"tag-item_2erEC \"> 动画 </div><div class=\"tag-item_2erEC \"> 惊悚 </div><div class=\"tag-item_2erEC \"> 犯罪 </div> </div> </div> <div class=\"tags-wrap_InWap\"> <div class=\"c-color-text title_bOM2Q\"> 地区 </div> <div class=\"tags_1mjZF\"> <div class=\"tag-item_2erEC active_1oD--\"> 全部地区 </div><div class=\"tag-item_2erEC \"> 中国大陆 </div><div class=\"tag-item_2erEC \"> 中国香港 </div><div class=\"tag-item_2erEC \"> 中国台湾 </div><div class=\"tag-item_2erEC \"> 欧美 </div><div class=\"tag-item_2erEC \"> 日本 </div><div class=\"tag-item_2erEC \"> 韩国 </div> </div> </div> <!--/s-frag--> </div> </div> </div> <div class=\"container right-container_2EFJr\"> <div class=\"container-bg_lQ801\"> <div class=\"path-wrapper_3euWM\"> <span class=\"c-font-normal c-color-gray2\"> 电影榜 </span><span class=\"c-font-normal c-color-gray2\">  / 全部类型 </span><span class=\"c-font-normal c-color-gray2\">  / 全部地区 </span> </div>   <div style=\"margin-bottom:20px\"> <div class=\"category-wrap_iQLoo \"> <a class=\"img-wrapper_29V76\" href=\"https://www.baidu.com/s?wd=%E7%8B%AC%E8%A1%8C%E6%9C%88%E7%90%83+%E7%94%B5%E5%BD%B1&amp;sa=fyb_movie_all_all&amp;rsv_dl=fyb_movie_all_all\" target=\"_blank\"> <div class=\"index_1Ew5p c-index-bg1\">  1 </div> <img src=\"https://fyb-1.cdn.bcebos.com/fyb-1/20221110/f17a86c2ef55343956cdfacefff7b380?x-bce-process=image/resize,m_fill,w_160,h_214\" alt=\"\"> <div class=\"border_3WfEn\"></div> </a> <div class=\"trend_2RttY\"> <div class=\"img-wrap_JPOmE trend-icon_1Z3Cd\"> <img src=\"//fyb-pc-static.cdn.bcebos.com/static/asset/icon-down_7631dbf23c7a55f2216e4406b5d4adcf.png\"> </div> <div class=\"hot-index_1Bl1a\"> 435876 </div> <div class=\"text_1lUwZ\"> 热搜指数 </div> </div> <img class=\"line_3-bzA\" src=\"//fyb-pc-static.cdn.bcebos.com/static/asset/line-bg@2x_95cb5a089159c6d5a959a596d460d60a.png\"> <div class=\"content_1YWBm\"> <a href=\"https://www.baidu.com/s?wd=%E7%8B%AC%E8%A1%8C%E6%9C%88%E7%90%83+%E7%94%B5%E5%BD%B1&amp;sa=fyb_movie_all_all&amp;rsv_dl=fyb_movie_all_all\" class=\"title_dIF3B \" target=\"_blank\"> <div class=\"c-single-text-ellipsis\">  独行月球 </div>  </a> <!--s-frag--> <div class=\"intro_1l0wp\"> 类型：搞笑、科幻 </div><div class=\"intro_1l0wp\"> 演员：沈腾、马丽 </div> <div class=\"c-single-text-ellipsis desc_3CTjT\"> 人类为抵御小行星的撞击,拯救地球,在月球部署了月盾计划。陨石提前来袭,全员紧急撤离时,维修工独孤月(沈腾 饰)因为意外,错过了领队马蓝星(马丽 饰)的撤离通知,一个人落在了月球。不料月盾计划失败,独孤月成为了“宇宙最后的人类”,开始了他在月球上破罐子破摔的生活 <a href=\"https://www.baidu.com/s?wd=%E7%8B%AC%E8%A1%8C%E6%9C%88%E7%90%83+%E7%94%B5%E5%BD%B1&amp;sa=fyb_movie_all_all&amp;rsv_dl=fyb_movie_all_all\" class=\"look-more_3oNWC\" target=\"_blank\"> 查看更多&gt; </a> </div> <!--/s-frag--> </div> </div><div class=\"category-wrap_iQLoo \"> <a class=\"img-wrapper_29V76\" href=\"https://www.baidu.com/s?wd=%E9%98%BF%E5%87%A1%E8%BE%BE2+%E7%94%B5%E5%BD%B1&amp;sa=fyb_movie_all_all&amp;rsv_dl=fyb_movie_all_all\" target=\"_blank\"> <div class=\"index_1Ew5p c-index-bg2\">  2 </div> <img src=\"https://fyb-1.cdn.bcebos.com/fyb-1/20221110/84178e56523e0ab59af2ad4fe6846d8d?x-bce-process=image/resize,m_fill,w_160,h_214\" alt=\"\"> <div class=\"border_3WfEn\"></div> </a> <div class=\"trend_2RttY\"> <div class=\"img-wrap_JPOmE trend-icon_1Z3Cd\"> <img src=\"//fyb-pc-static.cdn.bcebos.com/static/asset/icon-same_886375f242bd1538af21a9721f16b170.png\"> </div> <div class=\"hot-index_1Bl1a\"> 200196 </div> <div class=\"text_1lUwZ\"> 热搜指数 </div> </div> <img class=\"line_3-bzA\" src=\"//fyb-pc-static.cdn.bcebos.com/static/asset/line-bg@2x_95cb5a089159c6d5a959a596d460d60a.png\"> <div class=\"content_1YWBm\"> <a href=\"https://www.baidu.com/s?wd=%E9%98%BF%E5%87%A1%E8%BE%BE2+%E7%94%B5%E5%BD%B1&amp;sa=fyb_movie_all_all&amp;rsv_dl=fyb_movie_all_all\" class=\"title_dIF3B \" target=\"_blank\"> <div class=\"c-single-text-ellipsis\">  阿凡达2 </div>  </a> <!--s-frag--> <div class=\"intro_1l0wp\"> 类型：冒险、奇幻 </div><div class=\"intro_1l0wp\"> 演员：萨姆·沃辛顿、佐伊·索尔达娜 </div> <div class=\"c-single-text-ellipsis desc_3CTjT\"> 《阿凡达2》的剧情承接自第一部的5年之后。曾经的地球残疾军人杰克萨利,如今已经是潘多拉星球纳美族一方部族的族长,并且与爱妻娜塔莉共同育有一对可爱的儿女,日子过得平淡而充实。然而某天,有个部族的兄弟在海岸附近巡逻时遭到利器割喉身亡。通过现场勘查,以及作为前海军陆战队员的敏锐直觉,杰克判断已经有人类的阿凡达混入了部落 <a href=\"https://www.baidu.com/s?wd=%E9%98%BF%E5%87%A1%E8%BE%BE2+%E7%94%B5%E5%BD%B1&amp;sa=fyb_movie_all_all&amp;rsv_dl=fyb_movie_all_all\" class=\"look-more_3oNWC\" target=\"_blank\"> 查看更多&gt; </a> </div> <!--/s-frag--> </div> </div><div class=\"category-wrap_iQLoo \"> <a class=\"img-wrapper_29V76\" href=\"https://www.baidu.com/s?wd=%E4%BE%8F%E7%BD%97%E7%BA%AA%E4%B8%96%E7%95%8C3+%E7%94%B5%E5%BD%B1&amp;sa=fyb_movie_all_all&amp;rsv_dl=fyb_movie_all_all\" target=\"_blank\"> <div class=\"index_1Ew5p c-index-bg3\">  3 </div> <img src=\"https://fyb-1.cdn.bcebos.com/fyb-1/20221110/abcccc66f4f14227d1413fe8515ef342?x-bce-process=image/resize,m_fill,w_160,h_214\" alt=\"\"> <div class=\"border_3WfEn\"></div> </a> <div class=\"trend_2RttY\"> <div class=\"img-wrap_JPOmE trend-icon_1Z3Cd\"> <img src=\"//fyb-pc-static.cdn.bcebos.com/static/asset/icon-same_886375f242bd1538af21a9721f16b170.png\"> </div> <div class=\"hot-index_1Bl1a\"> 180550 </div> <div class=\"text_1lUwZ\"> 热搜指数 </div> </div> <img class=\"line_3-bzA\" src=\"//fyb-pc-static.cdn.bcebos.com/static/asset/line-bg@2x_95cb5a089159c6d5a959a596d460d60a.png\"> <div class=\"content_1YWBm\"> <a href=\"https://www.baidu.com/s?wd=%E4%BE%8F%E7%BD%97%E7%BA%AA%E4%B8%96%E7%95%8C3+%E7%94%B5%E5%BD%B1&amp;sa=fyb_movie_all_all&amp;rsv_dl=fyb_movie_all_all\" class=\"title_dIF3B \" target=\"_blank\"> <div class=\"c-single-text-ellipsis\">  侏罗纪世界3 </div>  </a> <!--s-frag--> <div class=\"intro_1l0wp\"> 类型：动作、科幻 </div><div class=\"intro_1l0wp\"> 演员：克里斯·帕拉特、布莱丝·达拉斯·霍华德 </div> <div class=\"c-single-text-ellipsis desc_3CTjT\"> 影片为《侏罗纪世界》系列的完结篇,故事的开篇设定在纳布拉尔岛被摧毁的四年后。如今,恐龙在世界各地与人类共同生活、共同捕猎。这一脆弱的平衡将重塑未来,并最终决定人类能否与史上最可怕生物共享这颗星球,并继续站在食物链的顶端。 <a href=\"https://www.baidu.com/s?wd=%E4%BE%8F%E7%BD%97%E7%BA%AA%E4%B8%96%E7%95%8C3+%E7%94%B5%E5%BD%B1&amp;sa=fyb_movie_all_all&amp;rsv_dl=fyb_movie_all_all\" class=\"look-more_3oNWC\" target=\"_blank\"> 查看更多&gt; </a> </div> <!--/s-frag--> </div> </div><div class=\"category-wrap_iQLoo \"> <a class=\"img-wrapper_29V76\" href=\"https://www.baidu.com/s?wd=%E7%A5%9E%E6%8E%A2%E5%A4%A7%E6%88%98+%E7%94%B5%E5%BD%B1&amp;sa=fyb_movie_all_all&amp;rsv_dl=fyb_movie_all_all\" target=\"_blank\"> <div class=\"index_1Ew5p c-index-bg4\">  4 </div> <img src=\"https://fyb-1.cdn.bcebos.com/fyb-1/20221110/394469ca15680ff34460d260687ea219?x-bce-process=image/resize,m_fill,w_160,h_214\" alt=\"\"> <div class=\"border_3WfEn\"></div> </a> <div class=\"trend_2RttY\"> <div class=\"img-wrap_JPOmE trend-icon_1Z3Cd\"> <img src=\"//fyb-pc-static.cdn.bcebos.com/static/asset/icon-same_886375f242bd1538af21a9721f16b170.png\"> </div> <div class=\"hot-index_1Bl1a\"> 169531 </div> <div class=\"text_1lUwZ\"> 热搜指数 </div> </div> <img class=\"line_3-bzA\" src=\"//fyb-pc-static.cdn.bcebos.com/static/asset/line-bg@2x_95cb5a089159c6d5a959a596d460d60a.png\"> <div class=\"content_1YWBm\"> <a href=\"https://www.baidu.com/s?wd=%E7%A5%9E%E6%8E%A2%E5%A4%A7%E6%88%98+%E7%94%B5%E5%BD%B1&amp;sa=fyb_movie_all_all&amp;rsv_dl=fyb_movie_all_all\" class=\"title_dIF3B \" target=\"_blank\"> <div class=\"c-single-text-ellipsis\">  神探大战 </div>  </a> <!--s-frag--> <div class=\"intro_1l0wp\"> 类型：动作、悬疑 </div><div class=\"intro_1l0wp\"> 演员：刘青云、蔡卓妍 </div> <div class=\"c-single-text-ellipsis desc_3CTjT\"> 《神探大战》是由韦家辉执导，刘青云、蔡卓妍、林峯、李若彤、谭凯、陈家乐、汤怡、何珮瑜等主演的犯罪动作悬疑电影，于2022年7月8日在中国大陆上映。该片讲述了自封“神探”的凶手与真正的“神探”鬼才之间展开的斗智斗勇的港式七宗罪故事。 <a href=\"https://www.baidu.com/s?wd=%E7%A5%9E%E6%8E%A2%E5%A4%A7%E6%88%98+%E7%94%B5%E5%BD%B1&amp;sa=fyb_movie_all_all&amp;rsv_dl=fyb_movie_all_all\" class=\"look-more_3oNWC\" target=\"_blank\"> 查看更多&gt; </a> </div> <!--/s-frag--> </div> </div><div class=\"category-wrap_iQLoo \"> <a class=\"img-wrapper_29V76\" href=\"https://www.baidu.com/s?wd=%E9%AD%94%E5%A5%B32+%E7%94%B5%E5%BD%B1&amp;sa=fyb_movie_all_all&amp;rsv_dl=fyb_movie_all_all\" target=\"_blank\"> <div class=\"index_1Ew5p c-index-bg5\">  5 </div> <img src=\"https://fyb-1.cdn.bcebos.com/fyb-1/20221110/32252ecc15981695b4a13c4cf12a0a84?x-bce-process=image/resize,m_fill,w_160,h_214\" alt=\"\"> <div class=\"border_3WfEn\"></div> </a> <div class=\"trend_2RttY\"> <div class=\"img-wrap_JPOmE trend-icon_1Z3Cd\"> <img src=\"//fyb-pc-static.cdn.bcebos.com/static/asset/icon-same_886375f242bd1538af21a9721f16b170.png\"> </div> <div class=\"hot-index_1Bl1a\"> 166509 </div> <div class=\"text_1lUwZ\"> 热搜指数 </div> </div> <img class=\"line_3-bzA\" src=\"//fyb-pc-static.cdn.bcebos.com/static/asset/line-bg@2x_95cb5a089159c6d5a959a596d460d60a.png\"> <div class=\"content_1YWBm\"> <a href=\"https://www.baidu.com/s?wd=%E9%AD%94%E5%A5%B32+%E7%94%B5%E5%BD%B1&amp;sa=fyb_movie_all_all&amp;rsv_dl=fyb_movie_all_all\" class=\"title_dIF3B \" target=\"_blank\"> <div class=\"c-single-text-ellipsis\">  魔女2 </div>  </a> <!--s-frag--> <div class=\"intro_1l0wp\"> 类型：动作、悬疑 </div><div class=\"intro_1l0wp\"> 演员：申诗雅、李钟硕 </div> <div class=\"c-single-text-ellipsis desc_3CTjT\"> 《魔女2》是由朴勋政执导和编剧，申诗雅、朴恩斌、徐恩秀、晋久、成宥彬、赵敏修主演，李钟硕、金多美特别出演的科幻动作电影，于2022年6月15日韩国上映。该片讲述了少女从实验室醒来并且试着逃出，偶然遇到了被犯罪组织操控的庆熙，而威胁庆熙的犯罪组织与少女碰上了，少女用压倒性的力量制服住组织，因此实验室开始追逐少女的行踪。 <a href=\"https://www.baidu.com/s?wd=%E9%AD%94%E5%A5%B32+%E7%94%B5%E5%BD%B1&amp;sa=fyb_movie_all_all&amp;rsv_dl=fyb_movie_all_all\" class=\"look-more_3oNWC\" target=\"_blank\"> 查看更多&gt; </a> </div> <!--/s-frag--> </div> </div><div class=\"category-wrap_iQLoo \"> <a class=\"img-wrapper_29V76\" href=\"https://www.baidu.com/s?wd=%E4%BA%BA%E7%94%9F%E5%A4%A7%E4%BA%8B+%E7%94%B5%E5%BD%B1&amp;sa=fyb_movie_all_all&amp;rsv_dl=fyb_movie_all_all\" target=\"_blank\"> <div class=\"index_1Ew5p c-index-bg6\">  6 </div> <img src=\"https://fyb-1.cdn.bcebos.com/fyb-1/20221110/3cffe6cd36c752fc9603418268f431cd?x-bce-process=image/resize,m_fill,w_160,h_214\" alt=\"\"> <div class=\"border_3WfEn\"></div> </a> <div class=\"trend_2RttY\"> <div class=\"img-wrap_JPOmE trend-icon_1Z3Cd\"> <img src=\"//fyb-pc-static.cdn.bcebos.com/static/asset/icon-same_886375f242bd1538af21a9721f16b170.png\"> </div> <div class=\"hot-index_1Bl1a\"> 165818 </div> <div class=\"text_1lUwZ\"> 热搜指数 </div> </div> <img class=\"line_3-bzA\" src=\"//fyb-pc-static.cdn.bcebos.com/static/asset/line-bg@2x_95cb5a089159c6d5a959a596d460d60a.png\"> <div class=\"content_1YWBm\"> <a href=\"https://www.baidu.com/s?wd=%E4%BA%BA%E7%94%9F%E5%A4%A7%E4%BA%8B+%E7%94%B5%E5%BD%B1&amp;sa=fyb_movie_all_all&amp;rsv_dl=fyb_movie_all_all\" class=\"title_dIF3B \" target=\"_blank\"> <div class=\"c-single-text-ellipsis\">  人生大事 </div>  </a> <!--s-frag--> <div class=\"intro_1l0wp\"> 类型：剧情、家庭 </div><div class=\"intro_1l0wp\"> 演员：朱一龙、杨恩又 </div> <div class=\"c-single-text-ellipsis desc_3CTjT\"> 《人生大事》是由韩延监制，刘江江编剧并执导，朱一龙领衔主演，杨恩又特别介绍出演，王戈特邀主演，刘陆、罗京民主演的电影，该片于2022年6月24日上映。该片讲述刑满释放的殡葬师三哥在一次出殡中遇见了孤儿武小文，意外地改变了三哥对职业和生活态度的故事。 <a href=\"https://www.baidu.com/s?wd=%E4%BA%BA%E7%94%9F%E5%A4%A7%E4%BA%8B+%E7%94%B5%E5%BD%B1&amp;sa=fyb_movie_all_all&amp;rsv_dl=fyb_movie_all_all\" class=\"look-more_3oNWC\" target=\"_blank\"> 查看更多&gt; </a> </div> <!--/s-frag--> </div> </div><div class=\"category-wrap_iQLoo \"> <a class=\"img-wrapper_29V76\" href=\"https://www.baidu.com/s?wd=%E7%96%AF%E7%8B%8272%E5%B0%8F%E6%97%B6+%E7%94%B5%E5%BD%B1&amp;sa=fyb_movie_all_all&amp;rsv_dl=fyb_movie_all_all\" target=\"_blank\"> <div class=\"index_1Ew5p c-index-bg7\">  7 </div> <img src=\"https://fyb-1.cdn.bcebos.com/fyb-1/20221110/fef466a6b6201fa5e5f1e9bd2619947b?x-bce-process=image/resize,m_fill,w_160,h_214\" alt=\"\"> <div class=\"border_3WfEn\"></div> </a> <div class=\"trend_2RttY\"> <div class=\"img-wrap_JPOmE trend-icon_1Z3Cd\"> <img src=\"//fyb-pc-static.cdn.bcebos.com/static/asset/icon-down_7631dbf23c7a55f2216e4406b5d4adcf.png\"> </div> <div class=\"hot-index_1Bl1a\"> 165638 </div> <div class=\"text_1lUwZ\"> 热搜指数 </div> </div> <img class=\"line_3-bzA\" src=\"//fyb-pc-static.cdn.bcebos.com/static/asset/line-bg@2x_95cb5a089159c6d5a959a596d460d60a.png\"> <div class=\"content_1YWBm\"> <a href=\"https://www.baidu.com/s?wd=%E7%96%AF%E7%8B%8272%E5%B0%8F%E6%97%B6+%E7%94%B5%E5%BD%B1&amp;sa=fyb_movie_all_all&amp;rsv_dl=fyb_movie_all_all\" class=\"title_dIF3B \" target=\"_blank\"> <div class=\"c-single-text-ellipsis\">  疯狂72小时 </div>  </a> <!--s-frag--> <div class=\"intro_1l0wp\"> 类型：喜剧、搞笑 </div><div class=\"intro_1l0wp\"> 演员：闫妮、耿乐 </div> <div class=\"c-single-text-ellipsis desc_3CTjT\"> 7月23日，都市爱情黑色喜剧电影《夜夜夜》在北京举办“疯狂初夜”首次媒体见面会，由此这部剧情紧张、充满黑色喜剧气氛的电影揭开了神秘面纱。《夜夜夜》由李继贤执导，李青阳编剧，闫妮、冯馨瑶、耿乐、邵兵、李菁等主演。 <a href=\"https://www.baidu.com/s?wd=%E7%96%AF%E7%8B%8272%E5%B0%8F%E6%97%B6+%E7%94%B5%E5%BD%B1&amp;sa=fyb_movie_all_all&amp;rsv_dl=fyb_movie_all_all\" class=\"look-more_3oNWC\" target=\"_blank\"> 查看更多&gt; </a> </div> <!--/s-frag--> </div> </div><div class=\"category-wrap_iQLoo \"> <a class=\"img-wrapper_29V76\" href=\"https://www.baidu.com/s?wd=%E6%98%8E%E6%97%A5%E6%88%98%E8%AE%B0+%E7%94%B5%E5%BD%B1&amp;sa=fyb_movie_all_all&amp;rsv_dl=fyb_movie_all_all\" target=\"_blank\"> <div class=\"index_1Ew5p c-index-bg8\">  8 </div> <img src=\"https://fyb-1.cdn.bcebos.com/fyb-1/20221110/03f102ba5e8a73147e321e18fa7098d2?x-bce-process=image/resize,m_fill,w_160,h_214\" alt=\"\"> <div class=\"border_3WfEn\"></div> </a> <div class=\"trend_2RttY\"> <div class=\"img-wrap_JPOmE trend-icon_1Z3Cd\"> <img src=\"//fyb-pc-static.cdn.bcebos.com/static/asset/icon-same_886375f242bd1538af21a9721f16b170.png\"> </div> <div class=\"hot-index_1Bl1a\"> 159408 </div> <div class=\"text_1lUwZ\"> 热搜指数 </div> </div> <img class=\"line_3-bzA\" src=\"//fyb-pc-static.cdn.bcebos.com/static/asset/line-bg@2x_95cb5a089159c6d5a959a596d460d60a.png\"> <div class=\"content_1YWBm\"> <a href=\"https://www.baidu.com/s?wd=%E6%98%8E%E6%97%A5%E6%88%98%E8%AE%B0+%E7%94%B5%E5%BD%B1&amp;sa=fyb_movie_all_all&amp;rsv_dl=fyb_movie_all_all\" class=\"title_dIF3B \" target=\"_blank\"> <div class=\"c-single-text-ellipsis\">  明日战记 </div>  </a> <!--s-frag--> <div class=\"intro_1l0wp\"> 类型：科幻、动作 </div><div class=\"intro_1l0wp\"> 演员：古天乐、刘青云 </div> <div class=\"c-single-text-ellipsis desc_3CTjT\"> 《明日战记》的故事设定在2055年，那时候的地球深受污染和全球变暖问题的困扰，一颗陨石击中地球，带来一种快速生长的触须类外星生物，它在净化地球的同时，也在杀死一切生命。拯救地球的任务落在了一支精英部队身上。在与外星生物作战的同时，他们也发现了一个惊天阴谋…… <a href=\"https://www.baidu.com/s?wd=%E6%98%8E%E6%97%A5%E6%88%98%E8%AE%B0+%E7%94%B5%E5%BD%B1&amp;sa=fyb_movie_all_all&amp;rsv_dl=fyb_movie_all_all\" class=\"look-more_3oNWC\" target=\"_blank\"> 查看更多&gt; </a> </div> <!--/s-frag--> </div> </div><div class=\"category-wrap_iQLoo \"> <a class=\"img-wrapper_29V76\" href=\"https://www.baidu.com/s?wd=%E8%8B%B1%E4%BC%A6%E5%AF%B9%E5%86%B3+%E7%94%B5%E5%BD%B1&amp;sa=fyb_movie_all_all&amp;rsv_dl=fyb_movie_all_all\" target=\"_blank\"> <div class=\"index_1Ew5p c-index-bg9\">  9 </div> <img src=\"https://fyb-1.cdn.bcebos.com/fyb-1/20221110/a1c9d9e6a3596e31f9b894e9e6f85394?x-bce-process=image/resize,m_fill,w_160,h_214\" alt=\"\"> <div class=\"border_3WfEn\"></div> </a> <div class=\"trend_2RttY\"> <div class=\"img-wrap_JPOmE trend-icon_1Z3Cd\"> <img src=\"//fyb-pc-static.cdn.bcebos.com/static/asset/icon-down_7631dbf23c7a55f2216e4406b5d4adcf.png\"> </div> <div class=\"hot-index_1Bl1a\"> 157046 </div> <div class=\"text_1lUwZ\"> 热搜指数 </div> </div> <img class=\"line_3-bzA\" src=\"//fyb-pc-static.cdn.bcebos.com/static/asset/line-bg@2x_95cb5a089159c6d5a959a596d460d60a.png\"> <div class=\"content_1YWBm\"> <a href=\"https://www.baidu.com/s?wd=%E8%8B%B1%E4%BC%A6%E5%AF%B9%E5%86%B3+%E7%94%B5%E5%BD%B1&amp;sa=fyb_movie_all_all&amp;rsv_dl=fyb_movie_all_all\" class=\"title_dIF3B \" target=\"_blank\"> <div class=\"c-single-text-ellipsis\">  英伦对决 </div>  </a> <!--s-frag--> <div class=\"intro_1l0wp\"> 类型：动作、惊悚 </div><div class=\"intro_1l0wp\"> 演员：成龙、皮尔斯·布鲁斯南 </div> <div class=\"c-single-text-ellipsis desc_3CTjT\"> 该片根据史蒂芬·莱瑟1992年出版的小说《中国佬》（The Chinaman）改编。讲述了身经百战的越战退伍老兵（成龙 饰）退役之后在伦敦唐人街开了家餐馆。当小女儿被爱尔兰恐怖团伙残害，正义得不到伸张的情况下，悲愤之中他再度举枪为女复仇。 <a href=\"https://www.baidu.com/s?wd=%E8%8B%B1%E4%BC%A6%E5%AF%B9%E5%86%B3+%E7%94%B5%E5%BD%B1&amp;sa=fyb_movie_all_all&amp;rsv_dl=fyb_movie_all_all\" class=\"look-more_3oNWC\" target=\"_blank\"> 查看更多&gt; </a> </div> <!--/s-frag--> </div> </div><div class=\"category-wrap_iQLoo \"> <a class=\"img-wrapper_29V76\" href=\"https://www.baidu.com/s?wd=%E4%B8%87%E9%87%8C%E5%BD%92%E9%80%94+%E7%94%B5%E5%BD%B1&amp;sa=fyb_movie_all_all&amp;rsv_dl=fyb_movie_all_all\" target=\"_blank\"> <div class=\"index_1Ew5p c-index-bg10\">  10 </div> <img src=\"https://fyb-1.cdn.bcebos.com/fyb-1/20221110/c4e2106272886efcd4b9e3de7cfd7770?x-bce-process=image/resize,m_fill,w_160,h_214\" alt=\"\"> <div class=\"border_3WfEn\"></div> </a> <div class=\"trend_2RttY\"> <div class=\"img-wrap_JPOmE trend-icon_1Z3Cd\"> <img src=\"//fyb-pc-static.cdn.bcebos.com/static/asset/icon-up_c8c420c124133a8eafa34b36d89cc92a.png\"> </div> <div class=\"hot-index_1Bl1a\"> 94496 </div> <div class=\"text_1lUwZ\"> 热搜指数 </div> </div> <img class=\"line_3-bzA\" src=\"//fyb-pc-static.cdn.bcebos.com/static/asset/line-bg@2x_95cb5a089159c6d5a959a596d460d60a.png\"> <div class=\"content_1YWBm\"> <a href=\"https://www.baidu.com/s?wd=%E4%B8%87%E9%87%8C%E5%BD%92%E9%80%94+%E7%94%B5%E5%BD%B1&amp;sa=fyb_movie_all_all&amp;rsv_dl=fyb_movie_all_all\" class=\"title_dIF3B \" target=\"_blank\"> <div class=\"c-single-text-ellipsis\">  万里归途 </div>  </a> <!--s-frag--> <div class=\"intro_1l0wp\"> 类型：剧情 </div><div class=\"intro_1l0wp\"> 演员：张译、王俊凯 </div> <div class=\"c-single-text-ellipsis desc_3CTjT\"> 《万里归途》是由饶晓志执导，秦海燕编剧，郭帆、王红卫监制，张译、王俊凯、殷桃领衔主演的剧情片。该片讲述了老金带领小文等翻译学院的毕业生到非洲某地实习，返程时却在机场遭到绑匪绑架。老金和小文与绑匪斗智斗勇，让绑匪从暴力不沟通，转变为谈判沟通，凭借翻译的职业优势带领大家打通了回家之路。 <a href=\"https://www.baidu.com/s?wd=%E4%B8%87%E9%87%8C%E5%BD%92%E9%80%94+%E7%94%B5%E5%BD%B1&amp;sa=fyb_movie_all_all&amp;rsv_dl=fyb_movie_all_all\" class=\"look-more_3oNWC\" target=\"_blank\"> 查看更多&gt; </a> </div> <!--/s-frag--> </div> </div><div class=\"category-wrap_iQLoo \"> <a class=\"img-wrapper_29V76\" href=\"https://www.baidu.com/s?wd=%E8%9C%98%E8%9B%9B%E4%BE%A0+%E7%94%B5%E5%BD%B1&amp;sa=fyb_movie_all_all&amp;rsv_dl=fyb_movie_all_all\" target=\"_blank\"> <div class=\"index_1Ew5p c-index-bg11\">  11 </div> <img src=\"https://fyb-1.cdn.bcebos.com/fyb-1/20221110/638ea34c1a714fa691ac967dcc621482?x-bce-process=image/resize,m_fill,w_160,h_214\" alt=\"\"> <div class=\"border_3WfEn\"></div> </a> <div class=\"trend_2RttY\"> <div class=\"img-wrap_JPOmE trend-icon_1Z3Cd\"> <img src=\"//fyb-pc-static.cdn.bcebos.com/static/asset/icon-up_c8c420c124133a8eafa34b36d89cc92a.png\"> </div> <div class=\"hot-index_1Bl1a\"> 67014 </div> <div class=\"text_1lUwZ\"> 热搜指数 </div> </div> <img class=\"line_3-bzA\" src=\"//fyb-pc-static.cdn.bcebos.com/static/asset/line-bg@2x_95cb5a089159c6d5a959a596d460d60a.png\"> <div class=\"content_1YWBm\"> <a href=\"https://www.baidu.com/s?wd=%E8%9C%98%E8%9B%9B%E4%BE%A0+%E7%94%B5%E5%BD%B1&amp;sa=fyb_movie_all_all&amp;rsv_dl=fyb_movie_all_all\" class=\"title_dIF3B \" target=\"_blank\"> <div class=\"c-single-text-ellipsis\">  蜘蛛侠 </div>  </a> <!--s-frag--> <div class=\"intro_1l0wp\"> 类型：搞笑、爱情 </div><div class=\"intro_1l0wp\"> 演员：Alison Rood、Josh Eichenbaum </div> <div class=\"c-single-text-ellipsis desc_3CTjT\"> 彼得帕克只是美国一个平凡的高中生，当一次他被蜘蛛博物馆偷跑出来的变种蜘蛛咬了一口之后，彼得的生活彻底改变了。他变得和蜘蛛一样，拥有各种蜘蛛特有的超能力：从手指喷出粘力极强的蜘蛛丝、飞檐走壁等等。 <a href=\"https://www.baidu.com/s?wd=%E8%9C%98%E8%9B%9B%E4%BE%A0+%E7%94%B5%E5%BD%B1&amp;sa=fyb_movie_all_all&amp;rsv_dl=fyb_movie_all_all\" class=\"look-more_3oNWC\" target=\"_blank\"> 查看更多&gt; </a> </div> <!--/s-frag--> </div> </div><div class=\"category-wrap_iQLoo \"> <a class=\"img-wrapper_29V76\" href=\"https://www.baidu.com/s?wd=%E5%B9%B3%E5%AE%89%E4%B8%AD%E5%9B%BD%E4%B9%8B%E5%AE%88%E6%8A%A4%E8%80%85+%E7%94%B5%E5%BD%B1&amp;sa=fyb_movie_all_all&amp;rsv_dl=fyb_movie_all_all\" target=\"_blank\"> <div class=\"index_1Ew5p c-index-bg12\">  12 </div> <img src=\"https://fyb-1.cdn.bcebos.com/fyb-1/20221110/c847bb6cec75904d447aa11669faae6b?x-bce-process=image/resize,m_fill,w_160,h_214\" alt=\"\"> <div class=\"border_3WfEn\"></div> </a> <div class=\"trend_2RttY\"> <div class=\"img-wrap_JPOmE trend-icon_1Z3Cd\"> <img src=\"//fyb-pc-static.cdn.bcebos.com/static/asset/icon-up_c8c420c124133a8eafa34b36d89cc92a.png\"> </div> <div class=\"hot-index_1Bl1a\"> 61336 </div> <div class=\"text_1lUwZ\"> 热搜指数 </div> </div> <img class=\"line_3-bzA\" src=\"//fyb-pc-static.cdn.bcebos.com/static/asset/line-bg@2x_95cb5a089159c6d5a959a596d460d60a.png\"> <div class=\"content_1YWBm\"> <a href=\"https://www.baidu.com/s?wd=%E5%B9%B3%E5%AE%89%E4%B8%AD%E5%9B%BD%E4%B9%8B%E5%AE%88%E6%8A%A4%E8%80%85+%E7%94%B5%E5%BD%B1&amp;sa=fyb_movie_all_all&amp;rsv_dl=fyb_movie_all_all\" class=\"title_dIF3B \" target=\"_blank\"> <div class=\"c-single-text-ellipsis\">  平安中国之守护者 </div>  </a> <!--s-frag--> <div class=\"intro_1l0wp\"> 类型：剧情、犯罪 </div><div class=\"intro_1l0wp\"> 演员：张皓承、黄晓明 </div> <div class=\"c-single-text-ellipsis desc_3CTjT\"> 电影《平安中国之守护者》以真实人物为原型，公、检、法、司、安五大政法机关作为背景，分别讲述了“牦牛盗案”、“凶杀悬案”、“房屋腾退案”、“未成年司法矫正”与“国安人的一生”五个真实故事。本片以“平安中国之守护者”这一暗线贯穿始终，不同侧面展现政法队伍忠诚奉献，一心为民的精神风采。 <a href=\"https://www.baidu.com/s?wd=%E5%B9%B3%E5%AE%89%E4%B8%AD%E5%9B%BD%E4%B9%8B%E5%AE%88%E6%8A%A4%E8%80%85+%E7%94%B5%E5%BD%B1&amp;sa=fyb_movie_all_all&amp;rsv_dl=fyb_movie_all_all\" class=\"look-more_3oNWC\" target=\"_blank\"> 查看更多&gt; </a> </div> <!--/s-frag--> </div> </div><div class=\"category-wrap_iQLoo \"> <a class=\"img-wrapper_29V76\" href=\"https://www.baidu.com/s?wd=%E8%AE%A9%E5%AD%90%E5%BC%B9%E9%A3%9E+%E7%94%B5%E5%BD%B1&amp;sa=fyb_movie_all_all&amp;rsv_dl=fyb_movie_all_all\" target=\"_blank\"> <div class=\"index_1Ew5p c-index-bg13\">  13 </div> <img src=\"https://fyb-1.cdn.bcebos.com/fyb-1/20221110/848b399c100c435a67675db459ebee28?x-bce-process=image/resize,m_fill,w_160,h_214\" alt=\"\"> <div class=\"border_3WfEn\"></div> </a> <div class=\"trend_2RttY\"> <div class=\"img-wrap_JPOmE trend-icon_1Z3Cd\"> <img src=\"//fyb-pc-static.cdn.bcebos.com/static/asset/icon-same_886375f242bd1538af21a9721f16b170.png\"> </div> <div class=\"hot-index_1Bl1a\"> 56595 </div> <div class=\"text_1lUwZ\"> 热搜指数 </div> </div> <img class=\"line_3-bzA\" src=\"//fyb-pc-static.cdn.bcebos.com/static/asset/line-bg@2x_95cb5a089159c6d5a959a596d460d60a.png\"> <div class=\"content_1YWBm\"> <a href=\"https://www.baidu.com/s?wd=%E8%AE%A9%E5%AD%90%E5%BC%B9%E9%A3%9E+%E7%94%B5%E5%BD%B1&amp;sa=fyb_movie_all_all&amp;rsv_dl=fyb_movie_all_all\" class=\"title_dIF3B \" target=\"_blank\"> <div class=\"c-single-text-ellipsis\">  让子弹飞 </div>  </a> <!--s-frag--> <div class=\"intro_1l0wp\"> 类型：喜剧、动作 </div><div class=\"intro_1l0wp\"> 演员：姜文、葛优 </div> <div class=\"c-single-text-ellipsis desc_3CTjT\"> 民国年间，花钱捐得县长的马邦德（葛优 饰）携妻（刘嘉玲 饰）及随从走马上任。途经南国某地，遭劫匪张麻子（姜文 饰）一伙伏击，随从尽死，只夫妻二人侥幸活命。马为保命，谎称自己是县长的汤师爷。为汤师爷许下的财富所动，张麻子摇身一变化身县长，带着手下赶赴鹅城上任。有道是天高皇帝远，鹅城地处偏僻，一方霸主黄四郎（周润发 饰）只手遮天，全然不将这个新来的县长放在眼里。张麻子痛打了黄的武教头（姜武 饰），黄则 <a href=\"https://www.baidu.com/s?wd=%E8%AE%A9%E5%AD%90%E5%BC%B9%E9%A3%9E+%E7%94%B5%E5%BD%B1&amp;sa=fyb_movie_all_all&amp;rsv_dl=fyb_movie_all_all\" class=\"look-more_3oNWC\" target=\"_blank\"> 查看更多&gt; </a> </div> <!--/s-frag--> </div> </div><div class=\"category-wrap_iQLoo \"> <a class=\"img-wrapper_29V76\" href=\"https://www.baidu.com/s?wd=%E8%B7%B3%E6%94%AF%E5%8D%8E%E5%B0%94%E5%85%B9+%E7%94%B5%E5%BD%B1&amp;sa=fyb_movie_all_all&amp;rsv_dl=fyb_movie_all_all\" target=\"_blank\"> <div class=\"index_1Ew5p c-index-bg14\">  14 </div> <img src=\"https://fyb-1.cdn.bcebos.com/fyb-1/20221110/8d2207d4917a37914d1deffb9c2d4333?x-bce-process=image/resize,m_fill,w_160,h_214\" alt=\"\"> <div class=\"border_3WfEn\"></div> </a> <div class=\"trend_2RttY\"> <div class=\"img-wrap_JPOmE trend-icon_1Z3Cd\"> <img src=\"//fyb-pc-static.cdn.bcebos.com/static/asset/icon-up_c8c420c124133a8eafa34b36d89cc92a.png\"> </div> <div class=\"hot-index_1Bl1a\"> 45699 </div> <div class=\"text_1lUwZ\"> 热搜指数 </div> </div> <img class=\"line_3-bzA\" src=\"//fyb-pc-static.cdn.bcebos.com/static/asset/line-bg@2x_95cb5a089159c6d5a959a596d460d60a.png\"> <div class=\"content_1YWBm\"> <a href=\"https://www.baidu.com/s?wd=%E8%B7%B3%E6%94%AF%E5%8D%8E%E5%B0%94%E5%85%B9+%E7%94%B5%E5%BD%B1&amp;sa=fyb_movie_all_all&amp;rsv_dl=fyb_movie_all_all\" class=\"title_dIF3B \" target=\"_blank\"> <div class=\"c-single-text-ellipsis\">  跳支华尔兹 </div>  </a> <!--s-frag--> <div class=\"intro_1l0wp\"> 类型：剧情、搞笑 </div><div class=\"intro_1l0wp\"> 演员：米歇尔·威廉姆斯、塞斯·罗根 </div> <div class=\"c-single-text-ellipsis desc_3CTjT\"> 《跳支华尔兹》是萨拉·波莉执导的喜剧片，米歇尔·威廉姆斯,塞斯·罗根出演。该片讲述了女主角玛格特在28岁时开始了一段婚外情的故事。 <a href=\"https://www.baidu.com/s?wd=%E8%B7%B3%E6%94%AF%E5%8D%8E%E5%B0%94%E5%85%B9+%E7%94%B5%E5%BD%B1&amp;sa=fyb_movie_all_all&amp;rsv_dl=fyb_movie_all_all\" class=\"look-more_3oNWC\" target=\"_blank\"> 查看更多&gt; </a> </div> <!--/s-frag--> </div> </div><div class=\"category-wrap_iQLoo \"> <a class=\"img-wrapper_29V76\" href=\"https://www.baidu.com/s?wd=%E5%AE%AB%E9%94%81%E6%B2%89%E9%A6%99+%E7%94%B5%E5%BD%B1&amp;sa=fyb_movie_all_all&amp;rsv_dl=fyb_movie_all_all\" target=\"_blank\"> <div class=\"index_1Ew5p c-index-bg15\">  15 </div> <img src=\"https://fyb-1.cdn.bcebos.com/fyb-1/20221110/64f6b8da1303539c797389aaf0d06f62?x-bce-process=image/resize,m_fill,w_160,h_214\" alt=\"\"> <div class=\"border_3WfEn\"></div> </a> <div class=\"trend_2RttY\"> <div class=\"img-wrap_JPOmE trend-icon_1Z3Cd\"> <img src=\"//fyb-pc-static.cdn.bcebos.com/static/asset/icon-same_886375f242bd1538af21a9721f16b170.png\"> </div> <div class=\"hot-index_1Bl1a\"> 45028 </div> <div class=\"text_1lUwZ\"> 热搜指数 </div> </div> <img class=\"line_3-bzA\" src=\"//fyb-pc-static.cdn.bcebos.com/static/asset/line-bg@2x_95cb5a089159c6d5a959a596d460d60a.png\"> <div class=\"content_1YWBm\"> <a href=\"https://www.baidu.com/s?wd=%E5%AE%AB%E9%94%81%E6%B2%89%E9%A6%99+%E7%94%B5%E5%BD%B1&amp;sa=fyb_movie_all_all&amp;rsv_dl=fyb_movie_all_all\" class=\"title_dIF3B \" target=\"_blank\"> <div class=\"c-single-text-ellipsis\">  宫锁沉香 </div>  </a> <!--s-frag--> <div class=\"intro_1l0wp\"> 类型：爱情、剧情 </div><div class=\"intro_1l0wp\"> 演员：周冬雨、陈晓 </div> <div class=\"c-single-text-ellipsis desc_3CTjT\"> 满清康熙鼎盛之际,自十三岁入宫当宫女的兆佳沉香(周冬雨 饰)与同在乾西四所当差的好朋友琉璃(赵丽颖 饰)度过七年春秋.深宫内院,挡不住少女春心萌动.单纯无知的沉香偷偷恋上十三阿哥胤祥(陈晓 饰),情缘前定,两个身分有着巨大差异的青年男女互生好感.另一方面,琉璃偶然得到九阿哥胤禟(朱梓骁 饰)临幸,后被抛弃,一心攀援富贵的她被嫉妒与虚荣所充满,遂假托沉香之名得以许配十三阿哥.沉香深藏心中委屈,以贴身 <a href=\"https://www.baidu.com/s?wd=%E5%AE%AB%E9%94%81%E6%B2%89%E9%A6%99+%E7%94%B5%E5%BD%B1&amp;sa=fyb_movie_all_all&amp;rsv_dl=fyb_movie_all_all\" class=\"look-more_3oNWC\" target=\"_blank\"> 查看更多&gt; </a> </div> <!--/s-frag--> </div> </div><div class=\"category-wrap_iQLoo \"> <a class=\"img-wrapper_29V76\" href=\"https://www.baidu.com/s?wd=%E5%AF%84%E7%94%9F%E8%99%AB+%E7%94%B5%E5%BD%B1&amp;sa=fyb_movie_all_all&amp;rsv_dl=fyb_movie_all_all\" target=\"_blank\"> <div class=\"index_1Ew5p c-index-bg16\">  16 </div> <img src=\"https://fyb-1.cdn.bcebos.com/fyb-1/20221110/52aa42100775197904433ef8b6a505f6?x-bce-process=image/resize,m_fill,w_160,h_214\" alt=\"\"> <div class=\"border_3WfEn\"></div> </a> <div class=\"trend_2RttY\"> <div class=\"img-wrap_JPOmE trend-icon_1Z3Cd\"> <img src=\"//fyb-pc-static.cdn.bcebos.com/static/asset/icon-same_886375f242bd1538af21a9721f16b170.png\"> </div> <div class=\"hot-index_1Bl1a\"> 41323 </div> <div class=\"text_1lUwZ\"> 热搜指数 </div> </div> <img class=\"line_3-bzA\" src=\"//fyb-pc-static.cdn.bcebos.com/static/asset/line-bg@2x_95cb5a089159c6d5a959a596d460d60a.png\"> <div class=\"content_1YWBm\"> <a href=\"https://www.baidu.com/s?wd=%E5%AF%84%E7%94%9F%E8%99%AB+%E7%94%B5%E5%BD%B1&amp;sa=fyb_movie_all_all&amp;rsv_dl=fyb_movie_all_all\" class=\"title_dIF3B \" target=\"_blank\"> <div class=\"c-single-text-ellipsis\">  寄生虫 </div>  </a> <!--s-frag--> <div class=\"intro_1l0wp\"> 类型：搞笑、剧情 </div><div class=\"intro_1l0wp\"> 演员：宋康昊、李善均 </div> <div class=\"c-single-text-ellipsis desc_3CTjT\"> 基宇出生在一个贫穷的家庭之中，和妹妹基婷以及父母在狭窄的地下室里过着相依为命的日子。一天，基宇的同学上门拜访，他告诉基宇，自己在一个有钱人家里给他们的女儿做家教，太太是一个头脑简单出手又阔绰的女人，因为自己要出国留学，所以将家教的职位暂时转交给基宇。就这样，基宇来到了朴社长家中，并且见到了他的太太，没过多久，基宇的妹妹和父母也如同寄生虫一般的进入了朴社长家里工作。然而，他们的野心并没有止步于此，基 <a href=\"https://www.baidu.com/s?wd=%E5%AF%84%E7%94%9F%E8%99%AB+%E7%94%B5%E5%BD%B1&amp;sa=fyb_movie_all_all&amp;rsv_dl=fyb_movie_all_all\" class=\"look-more_3oNWC\" target=\"_blank\"> 查看更多&gt; </a> </div> <!--/s-frag--> </div> </div><div class=\"category-wrap_iQLoo \"> <a class=\"img-wrapper_29V76\" href=\"https://www.baidu.com/s?wd=%E6%90%9C%E6%95%91+%E7%94%B5%E5%BD%B1&amp;sa=fyb_movie_all_all&amp;rsv_dl=fyb_movie_all_all\" target=\"_blank\"> <div class=\"index_1Ew5p c-index-bg17\">  17 </div> <img src=\"https://fyb-1.cdn.bcebos.com/fyb-1/20221110/a188ee377f7208fb58ab6d9e21d19ea8?x-bce-process=image/resize,m_fill,w_160,h_214\" alt=\"\"> <div class=\"border_3WfEn\"></div> </a> <div class=\"trend_2RttY\"> <div class=\"img-wrap_JPOmE trend-icon_1Z3Cd\"> <img src=\"//fyb-pc-static.cdn.bcebos.com/static/asset/icon-down_7631dbf23c7a55f2216e4406b5d4adcf.png\"> </div> <div class=\"hot-index_1Bl1a\"> 41232 </div> <div class=\"text_1lUwZ\"> 热搜指数 </div> </div> <img class=\"line_3-bzA\" src=\"//fyb-pc-static.cdn.bcebos.com/static/asset/line-bg@2x_95cb5a089159c6d5a959a596d460d60a.png\"> <div class=\"content_1YWBm\"> <a href=\"https://www.baidu.com/s?wd=%E6%90%9C%E6%95%91+%E7%94%B5%E5%BD%B1&amp;sa=fyb_movie_all_all&amp;rsv_dl=fyb_movie_all_all\" class=\"title_dIF3B \" target=\"_blank\"> <div class=\"c-single-text-ellipsis\">  搜救 </div>  </a> <!--s-frag--> <div class=\"intro_1l0wp\"> 类型：冒险、剧情 </div><div class=\"intro_1l0wp\"> 演员：甄子丹、韩雪 </div> <div class=\"c-single-text-ellipsis desc_3CTjT\"> 寒冬季节，一组深圳游客家庭自驾进入东北长白山旅行，原本是其乐融融的旅行，却因父亲阿德的过失导致8岁的儿子不幸走失。阿德夫妇向当地相关部门寻求援助，搜救行动即刻展开。黄金救援时间24小时过去了，常规安全极限48小时也过去了，孩子却仍未找到。即使希望渺茫，搜救警察及雪域搜救队依然不离不弃… 生命的奇迹会出现吗？ <a href=\"https://www.baidu.com/s?wd=%E6%90%9C%E6%95%91+%E7%94%B5%E5%BD%B1&amp;sa=fyb_movie_all_all&amp;rsv_dl=fyb_movie_all_all\" class=\"look-more_3oNWC\" target=\"_blank\"> 查看更多&gt; </a> </div> <!--/s-frag--> </div> </div><div class=\"category-wrap_iQLoo \"> <a class=\"img-wrapper_29V76\" href=\"https://www.baidu.com/s?wd=%E5%93%A5%E6%96%AF%E6%8B%89+%E7%94%B5%E5%BD%B1&amp;sa=fyb_movie_all_all&amp;rsv_dl=fyb_movie_all_all\" target=\"_blank\"> <div class=\"index_1Ew5p c-index-bg18\">  18 </div> <img src=\"https://fyb-1.cdn.bcebos.com/fyb-1/20221110/bc77117cdbb09d731cd7dc384869cc86?x-bce-process=image/resize,m_fill,w_160,h_214\" alt=\"\"> <div class=\"border_3WfEn\"></div> </a> <div class=\"trend_2RttY\"> <div class=\"img-wrap_JPOmE trend-icon_1Z3Cd\"> <img src=\"//fyb-pc-static.cdn.bcebos.com/static/asset/icon-down_7631dbf23c7a55f2216e4406b5d4adcf.png\"> </div> <div class=\"hot-index_1Bl1a\"> 36005 </div> <div class=\"text_1lUwZ\"> 热搜指数 </div> </div> <img class=\"line_3-bzA\" src=\"//fyb-pc-static.cdn.bcebos.com/static/asset/line-bg@2x_95cb5a089159c6d5a959a596d460d60a.png\"> <div class=\"content_1YWBm\"> <a href=\"https://www.baidu.com/s?wd=%E5%93%A5%E6%96%AF%E6%8B%89+%E7%94%B5%E5%BD%B1&amp;sa=fyb_movie_all_all&amp;rsv_dl=fyb_movie_all_all\" class=\"title_dIF3B \" target=\"_blank\"> <div class=\"c-single-text-ellipsis\">  哥斯拉 </div>  </a> <!--s-frag--> <div class=\"intro_1l0wp\"> 类型：冒险、科幻 </div><div class=\"intro_1l0wp\"> 演员：亚伦·泰勒-约翰逊、卡梅隆·CJ·亚当斯 </div> <div class=\"c-single-text-ellipsis desc_3CTjT\"> 新版《哥斯拉》由2010年《怪兽禁区》（Monsters）的导演加雷斯·爱德华兹（Gareth Edwards）执导，和1998年索尼的那部完全无关，将更忠于日本原作，让哥斯拉和其他怪兽（不止一个）对打。在今年圣迭戈Comic-Con动漫展上，华纳公司曾曝光了一小段新《哥斯拉》的片花，反响非常强烈。改编自1954年日本电影《哥斯拉》，围绕一位人类大兵的生活展开。讲述了沉睡的古代巨型怪兽被人们意外唤 <a href=\"https://www.baidu.com/s?wd=%E5%93%A5%E6%96%AF%E6%8B%89+%E7%94%B5%E5%BD%B1&amp;sa=fyb_movie_all_all&amp;rsv_dl=fyb_movie_all_all\" class=\"look-more_3oNWC\" target=\"_blank\"> 查看更多&gt; </a> </div> <!--/s-frag--> </div> </div><div class=\"category-wrap_iQLoo \"> <a class=\"img-wrapper_29V76\" href=\"https://www.baidu.com/s?wd=%E5%80%A9%E5%A5%B3%E5%B9%BD%E9%AD%82+%E7%94%B5%E5%BD%B1&amp;sa=fyb_movie_all_all&amp;rsv_dl=fyb_movie_all_all\" target=\"_blank\"> <div class=\"index_1Ew5p c-index-bg19\">  19 </div> <img src=\"https://fyb-1.cdn.bcebos.com/fyb-1/20221110/37c561a8c21cee77d8f67b333b9895c6?x-bce-process=image/resize,m_fill,w_160,h_214\" alt=\"\"> <div class=\"border_3WfEn\"></div> </a> <div class=\"trend_2RttY\"> <div class=\"img-wrap_JPOmE trend-icon_1Z3Cd\"> <img src=\"//fyb-pc-static.cdn.bcebos.com/static/asset/icon-same_886375f242bd1538af21a9721f16b170.png\"> </div> <div class=\"hot-index_1Bl1a\"> 35593 </div> <div class=\"text_1lUwZ\"> 热搜指数 </div> </div> <img class=\"line_3-bzA\" src=\"//fyb-pc-static.cdn.bcebos.com/static/asset/line-bg@2x_95cb5a089159c6d5a959a596d460d60a.png\"> <div class=\"content_1YWBm\"> <a href=\"https://www.baidu.com/s?wd=%E5%80%A9%E5%A5%B3%E5%B9%BD%E9%AD%82+%E7%94%B5%E5%BD%B1&amp;sa=fyb_movie_all_all&amp;rsv_dl=fyb_movie_all_all\" class=\"title_dIF3B \" target=\"_blank\"> <div class=\"c-single-text-ellipsis\">  倩女幽魂 </div>  </a> <!--s-frag--> <div class=\"intro_1l0wp\"> 类型：剧情、爱情 </div><div class=\"intro_1l0wp\"> 演员：刘亦菲、古天乐 </div> <div class=\"c-single-text-ellipsis desc_3CTjT\"> 很多年以前，他矢志要成为一个优秀的猎妖师，他选择了黑山做他修行和圆梦之旅的起点。那时，燕赤霞很年轻，黑山已经是一座很老的大山，那里有更老的精灵妖怪，它们过着原始的生活，粗糙简单却充满杀戮气息。他在黑山经历一场又一场的凶险恶斗，村民们都害怕进入黑山和这间寺院被称为“兰若寺。他的剑变得更可怕，他的力量也更强大，他自信可以战胜一切，直到那一天，他遇上了她和他们的悲痛故事由此开始。很多年以后，黑山山下的所 <a href=\"https://www.baidu.com/s?wd=%E5%80%A9%E5%A5%B3%E5%B9%BD%E9%AD%82+%E7%94%B5%E5%BD%B1&amp;sa=fyb_movie_all_all&amp;rsv_dl=fyb_movie_all_all\" class=\"look-more_3oNWC\" target=\"_blank\"> 查看更多&gt; </a> </div> <!--/s-frag--> </div> </div><div class=\"category-wrap_iQLoo \"> <a class=\"img-wrapper_29V76\" href=\"https://www.baidu.com/s?wd=%E5%8D%83%E4%B8%8E%E5%8D%83%E5%AF%BB+%E7%94%B5%E5%BD%B1&amp;sa=fyb_movie_all_all&amp;rsv_dl=fyb_movie_all_all\" target=\"_blank\"> <div class=\"index_1Ew5p c-index-bg20\">  20 </div> <img src=\"https://fyb-1.cdn.bcebos.com/fyb-1/20221110/100cc9dbe3fed44d4dea96dfe59e5368?x-bce-process=image/resize,m_fill,w_160,h_214\" alt=\"\"> <div class=\"border_3WfEn\"></div> </a> <div class=\"trend_2RttY\"> <div class=\"img-wrap_JPOmE trend-icon_1Z3Cd\"> <img src=\"//fyb-pc-static.cdn.bcebos.com/static/asset/icon-up_c8c420c124133a8eafa34b36d89cc92a.png\"> </div> <div class=\"hot-index_1Bl1a\"> 33402 </div> <div class=\"text_1lUwZ\"> 热搜指数 </div> </div> <img class=\"line_3-bzA\" src=\"//fyb-pc-static.cdn.bcebos.com/static/asset/line-bg@2x_95cb5a089159c6d5a959a596d460d60a.png\"> <div class=\"content_1YWBm\"> <a href=\"https://www.baidu.com/s?wd=%E5%8D%83%E4%B8%8E%E5%8D%83%E5%AF%BB+%E7%94%B5%E5%BD%B1&amp;sa=fyb_movie_all_all&amp;rsv_dl=fyb_movie_all_all\" class=\"title_dIF3B \" target=\"_blank\"> <div class=\"c-single-text-ellipsis\">  千与千寻 </div>  </a> <!--s-frag--> <div class=\"intro_1l0wp\"> 类型：奇幻、剧情 </div><div class=\"intro_1l0wp\"> 演员：柊瑠美、入野自由 </div> <div class=\"c-single-text-ellipsis desc_3CTjT\"> 千寻和爸爸妈妈一同驱车前往新家,在郊外的小路上不慎进入了神秘的隧道他们去到了另外一个诡异世界一个中世纪的小镇。远处飘来食物的香味,爸爸妈妈大快朵颐,孰料之后变成了猪!这时小镇上渐渐来了许多样子古怪、半透明的人。 千寻仓皇逃出,一个叫小白的人救了他,喂了她阻止身体消 失的药,并且告诉她怎样去找锅炉爷爷以及汤婆婆,而且必须获得一分工作才能不被魔法变成别的东西。 千寻在小白的帮助下幸运地获得了一份在浴池 <a href=\"https://www.baidu.com/s?wd=%E5%8D%83%E4%B8%8E%E5%8D%83%E5%AF%BB+%E7%94%B5%E5%BD%B1&amp;sa=fyb_movie_all_all&amp;rsv_dl=fyb_movie_all_all\" class=\"look-more_3oNWC\" target=\"_blank\"> 查看更多&gt; </a> </div> <!--/s-frag--> </div> </div><div class=\"category-wrap_iQLoo \"> <a class=\"img-wrapper_29V76\" href=\"https://www.baidu.com/s?wd=%E8%A5%BF%E7%BA%BF%E6%97%A0%E6%88%98%E4%BA%8B2022+%E7%94%B5%E5%BD%B1&amp;sa=fyb_movie_all_all&amp;rsv_dl=fyb_movie_all_all\" target=\"_blank\"> <div class=\"index_1Ew5p c-index-bg21\">  21 </div> <img src=\"https://fyb-1.cdn.bcebos.com/fyb-1/20221110/90d955eb8893db3a628f1c7733e8d02b?x-bce-process=image/resize,m_fill,w_160,h_214\" alt=\"\"> <div class=\"border_3WfEn\"></div> </a> <div class=\"trend_2RttY\"> <div class=\"img-wrap_JPOmE trend-icon_1Z3Cd\"> <img src=\"//fyb-pc-static.cdn.bcebos.com/static/asset/icon-same_886375f242bd1538af21a9721f16b170.png\"> </div> <div class=\"hot-index_1Bl1a\"> 32072 </div> <div class=\"text_1lUwZ\"> 热搜指数 </div> </div> <img class=\"line_3-bzA\" src=\"//fyb-pc-static.cdn.bcebos.com/static/asset/line-bg@2x_95cb5a089159c6d5a959a596d460d60a.png\"> <div class=\"content_1YWBm\"> <a href=\"https://www.baidu.com/s?wd=%E8%A5%BF%E7%BA%BF%E6%97%A0%E6%88%98%E4%BA%8B2022+%E7%94%B5%E5%BD%B1&amp;sa=fyb_movie_all_all&amp;rsv_dl=fyb_movie_all_all\" class=\"title_dIF3B \" target=\"_blank\"> <div class=\"c-single-text-ellipsis\">  西线无战事2022 </div>  </a> <!--s-frag--> <div class=\"intro_1l0wp\"> 类型：剧情、动作 </div><div class=\"intro_1l0wp\"> 演员：费利克斯·卡米勒、丹尼尔·布鲁赫 </div> <div class=\"c-single-text-ellipsis desc_3CTjT\"> 该片改编自埃里希·玛利亚·雷马克撰写的同名经典小说，讲述在第一次世界大战期间，保罗·鲍曼和同学莱尔、米勒参加了德国国民志愿兵，被派往前线与法军作战。在战场上，他们目睹到了残酷的饥饿、血腥和死亡，战争的荒谬无情让保罗从迷恋战争到心灰意冷。 <a href=\"https://www.baidu.com/s?wd=%E8%A5%BF%E7%BA%BF%E6%97%A0%E6%88%98%E4%BA%8B2022+%E7%94%B5%E5%BD%B1&amp;sa=fyb_movie_all_all&amp;rsv_dl=fyb_movie_all_all\" class=\"look-more_3oNWC\" target=\"_blank\"> 查看更多&gt; </a> </div> <!--/s-frag--> </div> </div><div class=\"category-wrap_iQLoo \"> <a class=\"img-wrapper_29V76\" href=\"https://www.baidu.com/s?wd=%E6%B3%B0%E5%9D%A6%E5%B0%BC%E5%85%8B%E5%8F%B7+%E7%94%B5%E5%BD%B1&amp;sa=fyb_movie_all_all&amp;rsv_dl=fyb_movie_all_all\" target=\"_blank\"> <div class=\"index_1Ew5p c-index-bg22\">  22 </div> <img src=\"https://fyb-1.cdn.bcebos.com/fyb-1/20221110/ba5321990b08185d1f2d4436073fc6c8?x-bce-process=image/resize,m_fill,w_160,h_214\" alt=\"\"> <div class=\"border_3WfEn\"></div> </a> <div class=\"trend_2RttY\"> <div class=\"img-wrap_JPOmE trend-icon_1Z3Cd\"> <img src=\"//fyb-pc-static.cdn.bcebos.com/static/asset/icon-down_7631dbf23c7a55f2216e4406b5d4adcf.png\"> </div> <div class=\"hot-index_1Bl1a\"> 31778 </div> <div class=\"text_1lUwZ\"> 热搜指数 </div> </div> <img class=\"line_3-bzA\" src=\"//fyb-pc-static.cdn.bcebos.com/static/asset/line-bg@2x_95cb5a089159c6d5a959a596d460d60a.png\"> <div class=\"content_1YWBm\"> <a href=\"https://www.baidu.com/s?wd=%E6%B3%B0%E5%9D%A6%E5%B0%BC%E5%85%8B%E5%8F%B7+%E7%94%B5%E5%BD%B1&amp;sa=fyb_movie_all_all&amp;rsv_dl=fyb_movie_all_all\" class=\"title_dIF3B \" target=\"_blank\"> <div class=\"c-single-text-ellipsis\">  泰坦尼克号 </div>  </a> <!--s-frag--> <div class=\"intro_1l0wp\"> 类型：灾难、剧情 </div><div class=\"intro_1l0wp\"> 演员：莱昂纳多·迪卡普里奥、凯特·温丝莱特 </div> <div class=\"c-single-text-ellipsis desc_3CTjT\"> 1912年4月10日,号称 “世界工业史上的奇迹”的豪华客轮泰坦尼克号开始了自己的处女航,从英国的南安普顿出发驶往美国纽约。富家少女罗丝(凯特温丝莱特)与母亲及未婚夫卡尔坐上了头等舱;另一边,放荡不羁的少年画家杰克(莱昂纳多迪卡普里奥)也在码头的一场赌博中赢得了下等舱的船票。 罗丝厌倦了上流社会虚伪的生活,不愿嫁给卡尔,打算投海自尽,被杰克救起。很快,美丽活泼的罗丝与英俊开朗的杰克相爱,杰克带罗丝 <a href=\"https://www.baidu.com/s?wd=%E6%B3%B0%E5%9D%A6%E5%B0%BC%E5%85%8B%E5%8F%B7+%E7%94%B5%E5%BD%B1&amp;sa=fyb_movie_all_all&amp;rsv_dl=fyb_movie_all_all\" class=\"look-more_3oNWC\" target=\"_blank\"> 查看更多&gt; </a> </div> <!--/s-frag--> </div> </div><div class=\"category-wrap_iQLoo \"> <a class=\"img-wrapper_29V76\" href=\"https://www.baidu.com/s?wd=%E6%97%A0%E4%BA%BA%E5%8C%BA+%E7%94%B5%E5%BD%B1&amp;sa=fyb_movie_all_all&amp;rsv_dl=fyb_movie_all_all\" target=\"_blank\"> <div class=\"index_1Ew5p c-index-bg23\">  23 </div> <img src=\"https://fyb-1.cdn.bcebos.com/fyb-1/20221110/eac1ef6f818d1cad5048fbc13e19d995?x-bce-process=image/resize,m_fill,w_160,h_214\" alt=\"\"> <div class=\"border_3WfEn\"></div> </a> <div class=\"trend_2RttY\"> <div class=\"img-wrap_JPOmE trend-icon_1Z3Cd\"> <img src=\"//fyb-pc-static.cdn.bcebos.com/static/asset/icon-same_886375f242bd1538af21a9721f16b170.png\"> </div> <div class=\"hot-index_1Bl1a\"> 29636 </div> <div class=\"text_1lUwZ\"> 热搜指数 </div> </div> <img class=\"line_3-bzA\" src=\"//fyb-pc-static.cdn.bcebos.com/static/asset/line-bg@2x_95cb5a089159c6d5a959a596d460d60a.png\"> <div class=\"content_1YWBm\"> <a href=\"https://www.baidu.com/s?wd=%E6%97%A0%E4%BA%BA%E5%8C%BA+%E7%94%B5%E5%BD%B1&amp;sa=fyb_movie_all_all&amp;rsv_dl=fyb_movie_all_all\" class=\"title_dIF3B \" target=\"_blank\"> <div class=\"c-single-text-ellipsis\">  无人区 </div>  </a> <!--s-frag--> <div class=\"intro_1l0wp\"> 类型：剧情、犯罪 </div><div class=\"intro_1l0wp\"> 演员：徐峥、黄渤 </div> <div class=\"c-single-text-ellipsis desc_3CTjT\"> 小有名气但利欲熏心的律师潘肖（徐峥饰），凭借扎实的法律知识和巧舌如簧的庭辩技巧，成功帮盗捕国家珍禽阿拉泰隼并残忍杀害一名警察的西北盗猎团伙老大（多布杰 饰）洗脱罪名。老大承诺十天后付清余款，潘肖则要求对方用一辆红色轿车抵押。在此之后，他驾驶着新车踏上从西北荒漠返回大都会的路程。谁知路上险情不断，先是和一对开卡车拉茅草的哥俩（王双宝 &amp; 巴多 饰）发生摩擦，导致人伤车损，接着又不慎撞飞一个似乎拦车求 <a href=\"https://www.baidu.com/s?wd=%E6%97%A0%E4%BA%BA%E5%8C%BA+%E7%94%B5%E5%BD%B1&amp;sa=fyb_movie_all_all&amp;rsv_dl=fyb_movie_all_all\" class=\"look-more_3oNWC\" target=\"_blank\"> 查看更多&gt; </a> </div> <!--/s-frag--> </div> </div><div class=\"category-wrap_iQLoo \"> <a class=\"img-wrapper_29V76\" href=\"https://www.baidu.com/s?wd=%E5%85%B1%E5%8A%A9+%E7%94%B5%E5%BD%B1&amp;sa=fyb_movie_all_all&amp;rsv_dl=fyb_movie_all_all\" target=\"_blank\"> <div class=\"index_1Ew5p c-index-bg24\">  24 </div> <img src=\"https://fyb-1.cdn.bcebos.com/fyb-1/20221110/915560f2551d589059bd5197dff9e6da?x-bce-process=image/resize,m_fill,w_160,h_214\" alt=\"\"> <div class=\"border_3WfEn\"></div> </a> <div class=\"trend_2RttY\"> <div class=\"img-wrap_JPOmE trend-icon_1Z3Cd\"> <img src=\"//fyb-pc-static.cdn.bcebos.com/static/asset/icon-up_c8c420c124133a8eafa34b36d89cc92a.png\"> </div> <div class=\"hot-index_1Bl1a\"> 29183 </div> <div class=\"text_1lUwZ\"> 热搜指数 </div> </div> <img class=\"line_3-bzA\" src=\"//fyb-pc-static.cdn.bcebos.com/static/asset/line-bg@2x_95cb5a089159c6d5a959a596d460d60a.png\"> <div class=\"content_1YWBm\"> <a href=\"https://www.baidu.com/s?wd=%E5%85%B1%E5%8A%A9+%E7%94%B5%E5%BD%B1&amp;sa=fyb_movie_all_all&amp;rsv_dl=fyb_movie_all_all\" class=\"title_dIF3B \" target=\"_blank\"> <div class=\"c-single-text-ellipsis\">  共助 </div>  </a> <!--s-frag--> <div class=\"intro_1l0wp\"> 类型：动作、剧情 </div><div class=\"intro_1l0wp\"> 演员：玄彬、柳海真 </div> <div class=\"c-single-text-ellipsis desc_3CTjT\"> 朝鲜一座国家秘密工厂对美元的仿制度超过了百分之九十九，朝鲜特种部队首长车奇成，在之前的行动失去了妻子，因而对国家产生不满，决定带领一众手下脱北出逃。并且在走之前要抢走工厂最宝贵的伪钞模板。车奇正的手下，一个行动小组的组长林哲令（玄彬饰）率领自己的组员，与车奇正一伙发生了激烈交火。最后除林哲令一人幸存，其余工人和保安人员全部被杀害，其中就包括林哲令的妻子。 <a href=\"https://www.baidu.com/s?wd=%E5%85%B1%E5%8A%A9+%E7%94%B5%E5%BD%B1&amp;sa=fyb_movie_all_all&amp;rsv_dl=fyb_movie_all_all\" class=\"look-more_3oNWC\" target=\"_blank\"> 查看更多&gt; </a> </div> <!--/s-frag--> </div> </div><div class=\"category-wrap_iQLoo \"> <a class=\"img-wrapper_29V76\" href=\"https://www.baidu.com/s?wd=%E7%96%AF%E7%8B%82%E5%8A%A8%E7%89%A9%E5%9F%8E+%E7%94%B5%E5%BD%B1&amp;sa=fyb_movie_all_all&amp;rsv_dl=fyb_movie_all_all\" target=\"_blank\"> <div class=\"index_1Ew5p c-index-bg25\">  25 </div> <img src=\"https://fyb-1.cdn.bcebos.com/fyb-1/20221110/14d0facab510ca2d0dc730f115aac8e5?x-bce-process=image/resize,m_fill,w_160,h_214\" alt=\"\"> <div class=\"border_3WfEn\"></div> </a> <div class=\"trend_2RttY\"> <div class=\"img-wrap_JPOmE trend-icon_1Z3Cd\"> <img src=\"//fyb-pc-static.cdn.bcebos.com/static/asset/icon-up_c8c420c124133a8eafa34b36d89cc92a.png\"> </div> <div class=\"hot-index_1Bl1a\"> 28764 </div> <div class=\"text_1lUwZ\"> 热搜指数 </div> </div> <img class=\"line_3-bzA\" src=\"//fyb-pc-static.cdn.bcebos.com/static/asset/line-bg@2x_95cb5a089159c6d5a959a596d460d60a.png\"> <div class=\"content_1YWBm\"> <a href=\"https://www.baidu.com/s?wd=%E7%96%AF%E7%8B%82%E5%8A%A8%E7%89%A9%E5%9F%8E+%E7%94%B5%E5%BD%B1&amp;sa=fyb_movie_all_all&amp;rsv_dl=fyb_movie_all_all\" class=\"title_dIF3B \" target=\"_blank\"> <div class=\"c-single-text-ellipsis\">  疯狂动物城 </div>  </a> <!--s-frag--> <div class=\"intro_1l0wp\"> 类型：动画、动作 </div><div class=\"intro_1l0wp\"> 演员：金妮弗·古德温、杰森·贝特曼 </div> <div class=\"c-single-text-ellipsis desc_3CTjT\"> 疯狂动物城是一座独一无二的现代动物都市。每种动物在这里都有自己的居所，比如富丽堂皇的撒哈拉广场，或者常年严寒的冰川镇。它就像一座大熔炉，动物们在这里和平共处——无论是大象还是小老鼠，只要你努力，都能在此闯出一番名堂。不过乐观的警官兔朱迪（金妮弗·古德温 Ginnifer Goodwin 配音）却发现，作为史上第一任兔子警官，要和一群强硬的大块头动物警察合作可不是件容易事。为了证明自己，她决心侦破一 <a href=\"https://www.baidu.com/s?wd=%E7%96%AF%E7%8B%82%E5%8A%A8%E7%89%A9%E5%9F%8E+%E7%94%B5%E5%BD%B1&amp;sa=fyb_movie_all_all&amp;rsv_dl=fyb_movie_all_all\" class=\"look-more_3oNWC\" target=\"_blank\"> 查看更多&gt; </a> </div> <!--/s-frag--> </div> </div><div class=\"category-wrap_iQLoo \"> <a class=\"img-wrapper_29V76\" href=\"https://www.baidu.com/s?wd=%E7%99%BD%E9%B9%BF%E5%8E%9F+%E7%94%B5%E5%BD%B1&amp;sa=fyb_movie_all_all&amp;rsv_dl=fyb_movie_all_all\" target=\"_blank\"> <div class=\"index_1Ew5p c-index-bg26\">  26 </div> <img src=\"https://fyb-1.cdn.bcebos.com/fyb-1/20221110/fe367fb2d1ee66d568274ecad4b7718d?x-bce-process=image/resize,m_fill,w_160,h_214\" alt=\"\"> <div class=\"border_3WfEn\"></div> </a> <div class=\"trend_2RttY\"> <div class=\"img-wrap_JPOmE trend-icon_1Z3Cd\"> <img src=\"//fyb-pc-static.cdn.bcebos.com/static/asset/icon-down_7631dbf23c7a55f2216e4406b5d4adcf.png\"> </div> <div class=\"hot-index_1Bl1a\"> 28478 </div> <div class=\"text_1lUwZ\"> 热搜指数 </div> </div> <img class=\"line_3-bzA\" src=\"//fyb-pc-static.cdn.bcebos.com/static/asset/line-bg@2x_95cb5a089159c6d5a959a596d460d60a.png\"> <div class=\"content_1YWBm\"> <a href=\"https://www.baidu.com/s?wd=%E7%99%BD%E9%B9%BF%E5%8E%9F+%E7%94%B5%E5%BD%B1&amp;sa=fyb_movie_all_all&amp;rsv_dl=fyb_movie_all_all\" class=\"title_dIF3B \" target=\"_blank\"> <div class=\"c-single-text-ellipsis\">  白鹿原 </div>  </a> <!--s-frag--> <div class=\"intro_1l0wp\"> 类型：剧情、年代 </div><div class=\"intro_1l0wp\"> 演员：张丰毅、张雨绮 </div> <div class=\"c-single-text-ellipsis desc_3CTjT\"> 电影《白鹿原》改编自陈忠实同名小说，由王全安执导，集结了张丰毅，张雨绮，段奕宏，吴刚，刘威，郭涛等众多影星。影片以陕西关中平原上素有“仁义村”之称的白鹿村为主要背景，细腻地反映了出白姓和鹿姓两大家族祖孙三代人的恩怨纷争。此外著名编剧芦苇，美术设计师霍廷霄，配乐赵季平，德国摄影师卢茨·赖特迈尔等重量级幕后主创的加盟，一流的班底全力打造，影片品质令人期待。 <a href=\"https://www.baidu.com/s?wd=%E7%99%BD%E9%B9%BF%E5%8E%9F+%E7%94%B5%E5%BD%B1&amp;sa=fyb_movie_all_all&amp;rsv_dl=fyb_movie_all_all\" class=\"look-more_3oNWC\" target=\"_blank\"> 查看更多&gt; </a> </div> <!--/s-frag--> </div> </div><div class=\"category-wrap_iQLoo \"> <a class=\"img-wrapper_29V76\" href=\"https://www.baidu.com/s?wd=%E5%8F%8D%E8%B4%AA%E9%A3%8E%E6%9A%B4+%E7%94%B5%E5%BD%B1&amp;sa=fyb_movie_all_all&amp;rsv_dl=fyb_movie_all_all\" target=\"_blank\"> <div class=\"index_1Ew5p c-index-bg27\">  27 </div> <img src=\"https://fyb-1.cdn.bcebos.com/fyb-1/20221110/547610b144176fdec403dc559f67a2d5?x-bce-process=image/resize,m_fill,w_160,h_214\" alt=\"\"> <div class=\"border_3WfEn\"></div> </a> <div class=\"trend_2RttY\"> <div class=\"img-wrap_JPOmE trend-icon_1Z3Cd\"> <img src=\"//fyb-pc-static.cdn.bcebos.com/static/asset/icon-up_c8c420c124133a8eafa34b36d89cc92a.png\"> </div> <div class=\"hot-index_1Bl1a\"> 28099 </div> <div class=\"text_1lUwZ\"> 热搜指数 </div> </div> <img class=\"line_3-bzA\" src=\"//fyb-pc-static.cdn.bcebos.com/static/asset/line-bg@2x_95cb5a089159c6d5a959a596d460d60a.png\"> <div class=\"content_1YWBm\"> <a href=\"https://www.baidu.com/s?wd=%E5%8F%8D%E8%B4%AA%E9%A3%8E%E6%9A%B4+%E7%94%B5%E5%BD%B1&amp;sa=fyb_movie_all_all&amp;rsv_dl=fyb_movie_all_all\" class=\"title_dIF3B \" target=\"_blank\"> <div class=\"c-single-text-ellipsis\">  反贪风暴 </div>  </a> <!--s-frag--> <div class=\"intro_1l0wp\"> 类型：剧情、犯罪 </div><div class=\"intro_1l0wp\"> 演员：古天乐、林家栋 </div> <div class=\"c-single-text-ellipsis desc_3CTjT\"> 有人说：香港幸有廉政公署，才能有今天国际金融中心的地位。这可能是廉政公署成立四十年来，最严重的集团贪污案件。事件牵涉到香港政府用作扶贫的150亿「关怀基金」！一个庞大的贪污集团：当中包括了退休高官、警队高层、商界富豪、资深律师、会计师等，廉署调查员承受了前所未有的压力。这是一个心狠手辣的贪污集团：涉案的证人不是被暴力恐吓，就是被消灭掉，连廉政公署调查员也成了攻击的对象，调查员承受着前所未有的凶险！ <a href=\"https://www.baidu.com/s?wd=%E5%8F%8D%E8%B4%AA%E9%A3%8E%E6%9A%B4+%E7%94%B5%E5%BD%B1&amp;sa=fyb_movie_all_all&amp;rsv_dl=fyb_movie_all_all\" class=\"look-more_3oNWC\" target=\"_blank\"> 查看更多&gt; </a> </div> <!--/s-frag--> </div> </div><div class=\"category-wrap_iQLoo \"> <a class=\"img-wrapper_29V76\" href=\"https://www.baidu.com/s?wd=%E7%BB%9D%E5%91%BD%E8%88%AA%E7%8F%AD+%E7%94%B5%E5%BD%B1&amp;sa=fyb_movie_all_all&amp;rsv_dl=fyb_movie_all_all\" target=\"_blank\"> <div class=\"index_1Ew5p c-index-bg28\">  28 </div> <img src=\"https://fyb-1.cdn.bcebos.com/fyb-1/20221110/d2050afb7249836492c0bc1bf6492d82?x-bce-process=image/resize,m_fill,w_160,h_214\" alt=\"\"> <div class=\"border_3WfEn\"></div> </a> <div class=\"trend_2RttY\"> <div class=\"img-wrap_JPOmE trend-icon_1Z3Cd\"> <img src=\"//fyb-pc-static.cdn.bcebos.com/static/asset/icon-up_c8c420c124133a8eafa34b36d89cc92a.png\"> </div> <div class=\"hot-index_1Bl1a\"> 26996 </div> <div class=\"text_1lUwZ\"> 热搜指数 </div> </div> <img class=\"line_3-bzA\" src=\"//fyb-pc-static.cdn.bcebos.com/static/asset/line-bg@2x_95cb5a089159c6d5a959a596d460d60a.png\"> <div class=\"content_1YWBm\"> <a href=\"https://www.baidu.com/s?wd=%E7%BB%9D%E5%91%BD%E8%88%AA%E7%8F%AD+%E7%94%B5%E5%BD%B1&amp;sa=fyb_movie_all_all&amp;rsv_dl=fyb_movie_all_all\" class=\"title_dIF3B \" target=\"_blank\"> <div class=\"c-single-text-ellipsis\">  绝命航班 </div>  </a> <!--s-frag--> <div class=\"intro_1l0wp\"> 类型：灾难、动作 </div><div class=\"intro_1l0wp\"> 演员：爱德·维斯特维克、朱珠 </div> <div class=\"c-single-text-ellipsis desc_3CTjT\"> 一架老旧的波音747飞机准备进行其最后一次夜间飞行，载着仅有的九位乘客从位于太平洋中心的好运岛飞往新加坡。由于乘客的锐减，该航线已经被取消。飞机起飞后，怪事便不断在这趟最后的航班上发生，先是土着老太突发癫狂非要带孙女下机；又是商务舱电视屏幕离奇中断；接着又是自闭症女孩举止诡异，最后连空姐杰西卡也神秘失踪……不安的气氛开始在机舱里蔓延，直至杰西卡被发现惨死在洗手间，身上留有奇怪的伤痕，飞机上仅有的十 <a href=\"https://www.baidu.com/s?wd=%E7%BB%9D%E5%91%BD%E8%88%AA%E7%8F%AD+%E7%94%B5%E5%BD%B1&amp;sa=fyb_movie_all_all&amp;rsv_dl=fyb_movie_all_all\" class=\"look-more_3oNWC\" target=\"_blank\"> 查看更多&gt; </a> </div> <!--/s-frag--> </div> </div><div class=\"category-wrap_iQLoo \"> <a class=\"img-wrapper_29V76\" href=\"https://www.baidu.com/s?wd=%E5%A5%87%E5%BC%82%E5%8D%9A%E5%A3%AB+%E7%94%B5%E5%BD%B1&amp;sa=fyb_movie_all_all&amp;rsv_dl=fyb_movie_all_all\" target=\"_blank\"> <div class=\"index_1Ew5p c-index-bg29\">  29 </div> <img src=\"https://fyb-1.cdn.bcebos.com/fyb-1/20221110/ce6eb9eb976d95d04f53526bf2b934ec?x-bce-process=image/resize,m_fill,w_160,h_214\" alt=\"\"> <div class=\"border_3WfEn\"></div> </a> <div class=\"trend_2RttY\"> <div class=\"img-wrap_JPOmE trend-icon_1Z3Cd\"> <img src=\"//fyb-pc-static.cdn.bcebos.com/static/asset/icon-up_c8c420c124133a8eafa34b36d89cc92a.png\"> </div> <div class=\"hot-index_1Bl1a\"> 26382 </div> <div class=\"text_1lUwZ\"> 热搜指数 </div> </div> <img class=\"line_3-bzA\" src=\"//fyb-pc-static.cdn.bcebos.com/static/asset/line-bg@2x_95cb5a089159c6d5a959a596d460d60a.png\"> <div class=\"content_1YWBm\"> <a href=\"https://www.baidu.com/s?wd=%E5%A5%87%E5%BC%82%E5%8D%9A%E5%A3%AB+%E7%94%B5%E5%BD%B1&amp;sa=fyb_movie_all_all&amp;rsv_dl=fyb_movie_all_all\" class=\"title_dIF3B \" target=\"_blank\"> <div class=\"c-single-text-ellipsis\">  奇异博士 </div>  </a> <!--s-frag--> <div class=\"intro_1l0wp\"> 类型：奇幻、冒险 </div><div class=\"intro_1l0wp\"> 演员：本尼迪克特·康伯巴奇、蒂尔达·斯文顿 </div> <div class=\"c-single-text-ellipsis desc_3CTjT\"> 性格高傲的神经外科手术专家史蒂芬·斯特兰奇（本尼迪克特·康伯巴奇饰）事业有成，在遭遇一次车祸悲剧后，双手再也无法握住手术刀，不能继续他的医生职业，为了治疗他的伤，他远赴尼泊尔遇到了莫度男爵（切瓦特·埃加福特饰），在莫度男爵带动下他得到古一法师（蒂尔达·斯文顿饰）帮助。斯蒂芬-斯特兰奇把自己曾经的自负都抛在了一边，开始接触和学习鲜为人知的玄学，以及多维空间世界的学问。在纽约的格林威治村，变身奇异博士 <a href=\"https://www.baidu.com/s?wd=%E5%A5%87%E5%BC%82%E5%8D%9A%E5%A3%AB+%E7%94%B5%E5%BD%B1&amp;sa=fyb_movie_all_all&amp;rsv_dl=fyb_movie_all_all\" class=\"look-more_3oNWC\" target=\"_blank\"> 查看更多&gt; </a> </div> <!--/s-frag--> </div> </div><div class=\"category-wrap_iQLoo \"> <a class=\"img-wrapper_29V76\" href=\"https://www.baidu.com/s?wd=%E9%82%AA%E4%B8%8D%E5%8E%8B%E6%AD%A3+%E7%94%B5%E5%BD%B1&amp;sa=fyb_movie_all_all&amp;rsv_dl=fyb_movie_all_all\" target=\"_blank\"> <div class=\"index_1Ew5p c-index-bg30\">  30 </div> <img src=\"https://fyb-1.cdn.bcebos.com/fyb-1/20221110/71f5730e2019a7cc58bfb613d5d92e19?x-bce-process=image/resize,m_fill,w_160,h_214\" alt=\"\"> <div class=\"border_3WfEn\"></div> </a> <div class=\"trend_2RttY\"> <div class=\"img-wrap_JPOmE trend-icon_1Z3Cd\"> <img src=\"//fyb-pc-static.cdn.bcebos.com/static/asset/icon-down_7631dbf23c7a55f2216e4406b5d4adcf.png\"> </div> <div class=\"hot-index_1Bl1a\"> 25724 </div> <div class=\"text_1lUwZ\"> 热搜指数 </div> </div> <img class=\"line_3-bzA\" src=\"//fyb-pc-static.cdn.bcebos.com/static/asset/line-bg@2x_95cb5a089159c6d5a959a596d460d60a.png\"> <div class=\"content_1YWBm\"> <a href=\"https://www.baidu.com/s?wd=%E9%82%AA%E4%B8%8D%E5%8E%8B%E6%AD%A3+%E7%94%B5%E5%BD%B1&amp;sa=fyb_movie_all_all&amp;rsv_dl=fyb_movie_all_all\" class=\"title_dIF3B \" target=\"_blank\"> <div class=\"c-single-text-ellipsis\">  邪不压正 </div>  </a> <!--s-frag--> <div class=\"intro_1l0wp\"> 类型：搞笑、爱情 </div><div class=\"intro_1l0wp\"> 演员：姜文、彭于晏 </div> <div class=\"c-single-text-ellipsis desc_3CTjT\"> 北洋年间，北京以北。习武少年李天然目睹师兄朱潜龙勾结日本特务根本一郎，杀害师父全家。李天然侥幸从枪下逃脱，被美国医生亨德勒救下。李天然伤愈后，赴美学医多年，并同时接受特工训练。1937年初，李天然突然受命回国。“七七事变”前夜，北平，这座国际间谍之城，华洋混杂，山头林立。每时每刻充满诱惑与杀机。一心复仇的李天然，并不知道自己被卷入了一场阴谋，亦搅乱了一盘棋局。彼时彼刻，如同李小龙闯进了谍都卡萨布兰 <a href=\"https://www.baidu.com/s?wd=%E9%82%AA%E4%B8%8D%E5%8E%8B%E6%AD%A3+%E7%94%B5%E5%BD%B1&amp;sa=fyb_movie_all_all&amp;rsv_dl=fyb_movie_all_all\" class=\"look-more_3oNWC\" target=\"_blank\"> 查看更多&gt; </a> </div> <!--/s-frag--> </div> </div>  </div>  </div> </div> </main> <div class=\"container footer_aoJsU\"> <a class=\"c-font-small\" href=\"//www.baidu.com/cache/setindex/index.html\" target=\"_blank\">设为首页</a> <a class=\"c-font-small\" href=\"//home.baidu.com\" target=\"_blank\">关于百度</a> <a class=\"c-font-small\" href=\"http://ir.baidu.com\" target=\"_blank\">About Baidu</a> <a class=\"c-font-small\" href=\"//www.baidu.com/duty\" target=\"_blank\">使用百度前必读</a> <a class=\"c-font-small\" href=\"//help.baidu.com/newadd?prod_id=1&amp;category=4\" target=\"_blank\">意见反馈</a> <a class=\"c-font-small\" href=\"//help.baidu.com\" target=\"_blank\">帮助中心</a> <span class=\"c-font-small\">&copy;2021 Baidu</span> </div> <div class=\"container_2R1hQ\">  <a href=\"/board?page=rule&amp;tab=movie\"> <i class=\"c-icon\">\\ue67c</i> <div class=\"side-float-popup\">查看榜单规则</div> </a>   </div> </div></div>\\n                <script src=\"//fe-prod.cdn.bcebos.com/wise/svg/polyfills.js\"></script>\\n                <script src=\"//fe-prod.cdn.bcebos.com/wise/svg/polyfillsIE.js\"></script>\\n                <script id=\"svglib\" src=\"//fe-prod.cdn.bcebos.com/wise/svn.min.js\"></script>\\n                <script src=\"//fyb-pc-static.cdn.bcebos.com/static/main_8157926.js\" crossorigin=\"anonymous\"></script>\\n            </body>\\n        </html>'"
      ]
     },
     "execution_count": 5,
     "metadata": {},
     "output_type": "execute_result"
    }
   ],
   "source": [
    "respone.text"
   ]
  },
  {
   "cell_type": "markdown",
   "id": "2b9c829c",
   "metadata": {
    "ExecuteTime": {
     "end_time": "2022-11-13T07:59:59.988350Z",
     "start_time": "2022-11-13T07:59:59.964791Z"
    }
   },
   "source": [
    "# 数据解析"
   ]
  },
  {
   "cell_type": "markdown",
   "id": "5e412c33",
   "metadata": {
    "ExecuteTime": {
     "end_time": "2022-11-13T08:20:02.751158Z",
     "start_time": "2022-11-13T08:20:02.736519Z"
    }
   },
   "source": [
    "## 电影名称"
   ]
  },
  {
   "cell_type": "code",
   "execution_count": 6,
   "id": "2248675c",
   "metadata": {
    "ExecuteTime": {
     "end_time": "2022-11-13T11:40:48.384167Z",
     "start_time": "2022-11-13T11:40:48.341451Z"
    }
   },
   "outputs": [],
   "source": [
    "from lxml import etree "
   ]
  },
  {
   "cell_type": "code",
   "execution_count": 7,
   "id": "3a767d15",
   "metadata": {
    "ExecuteTime": {
     "end_time": "2022-11-13T11:40:48.399680Z",
     "start_time": "2022-11-13T11:40:48.388609Z"
    }
   },
   "outputs": [],
   "source": [
    "html=etree.HTML(respone.text)"
   ]
  },
  {
   "cell_type": "code",
   "execution_count": 8,
   "id": "8a66bcdd",
   "metadata": {
    "ExecuteTime": {
     "end_time": "2022-11-13T11:40:48.415125Z",
     "start_time": "2022-11-13T11:40:48.402977Z"
    }
   },
   "outputs": [
    {
     "data": {
      "text/plain": [
       "['  独行月球 ',\n",
       " '  阿凡达2 ',\n",
       " '  侏罗纪世界3 ',\n",
       " '  神探大战 ',\n",
       " '  魔女2 ',\n",
       " '  人生大事 ',\n",
       " '  疯狂72小时 ',\n",
       " '  明日战记 ',\n",
       " '  英伦对决 ',\n",
       " '  万里归途 ',\n",
       " '  蜘蛛侠 ',\n",
       " '  平安中国之守护者 ',\n",
       " '  让子弹飞 ',\n",
       " '  跳支华尔兹 ',\n",
       " '  宫锁沉香 ',\n",
       " '  寄生虫 ',\n",
       " '  搜救 ',\n",
       " '  哥斯拉 ',\n",
       " '  倩女幽魂 ',\n",
       " '  千与千寻 ',\n",
       " '  西线无战事2022 ',\n",
       " '  泰坦尼克号 ',\n",
       " '  无人区 ',\n",
       " '  共助 ',\n",
       " '  疯狂动物城 ',\n",
       " '  白鹿原 ',\n",
       " '  反贪风暴 ',\n",
       " '  绝命航班 ',\n",
       " '  奇异博士 ',\n",
       " '  邪不压正 ']"
      ]
     },
     "execution_count": 8,
     "metadata": {},
     "output_type": "execute_result"
    }
   ],
   "source": [
    "movie_name=html.xpath('//div[@class=\"c-single-text-ellipsis\"]/text()')\n",
    "movie_name"
   ]
  },
  {
   "cell_type": "markdown",
   "id": "69c904c3",
   "metadata": {
    "ExecuteTime": {
     "end_time": "2022-11-13T08:36:37.104130Z",
     "start_time": "2022-11-13T08:36:37.086301Z"
    }
   },
   "source": [
    "## 类型"
   ]
  },
  {
   "cell_type": "code",
   "execution_count": 9,
   "id": "8e574eae",
   "metadata": {
    "ExecuteTime": {
     "end_time": "2022-11-13T11:40:48.430609Z",
     "start_time": "2022-11-13T11:40:48.418244Z"
    }
   },
   "outputs": [
    {
     "data": {
      "text/plain": [
       "[' 类型：搞笑、科幻 ',\n",
       " ' 演员：沈腾、马丽 ',\n",
       " ' 类型：冒险、奇幻 ',\n",
       " ' 演员：萨姆·沃辛顿、佐伊·索尔达娜 ',\n",
       " ' 类型：动作、科幻 ',\n",
       " ' 演员：克里斯·帕拉特、布莱丝·达拉斯·霍华德 ',\n",
       " ' 类型：动作、悬疑 ',\n",
       " ' 演员：刘青云、蔡卓妍 ',\n",
       " ' 类型：动作、悬疑 ',\n",
       " ' 演员：申诗雅、李钟硕 ',\n",
       " ' 类型：剧情、家庭 ',\n",
       " ' 演员：朱一龙、杨恩又 ',\n",
       " ' 类型：喜剧、搞笑 ',\n",
       " ' 演员：闫妮、耿乐 ',\n",
       " ' 类型：科幻、动作 ',\n",
       " ' 演员：古天乐、刘青云 ',\n",
       " ' 类型：动作、惊悚 ',\n",
       " ' 演员：成龙、皮尔斯·布鲁斯南 ',\n",
       " ' 类型：剧情 ',\n",
       " ' 演员：张译、王俊凯 ',\n",
       " ' 类型：搞笑、爱情 ',\n",
       " ' 演员：Alison Rood、Josh Eichenbaum ',\n",
       " ' 类型：剧情、犯罪 ',\n",
       " ' 演员：张皓承、黄晓明 ',\n",
       " ' 类型：喜剧、动作 ',\n",
       " ' 演员：姜文、葛优 ',\n",
       " ' 类型：剧情、搞笑 ',\n",
       " ' 演员：米歇尔·威廉姆斯、塞斯·罗根 ',\n",
       " ' 类型：爱情、剧情 ',\n",
       " ' 演员：周冬雨、陈晓 ',\n",
       " ' 类型：搞笑、剧情 ',\n",
       " ' 演员：宋康昊、李善均 ',\n",
       " ' 类型：冒险、剧情 ',\n",
       " ' 演员：甄子丹、韩雪 ',\n",
       " ' 类型：冒险、科幻 ',\n",
       " ' 演员：亚伦·泰勒-约翰逊、卡梅隆·CJ·亚当斯 ',\n",
       " ' 类型：剧情、爱情 ',\n",
       " ' 演员：刘亦菲、古天乐 ',\n",
       " ' 类型：奇幻、剧情 ',\n",
       " ' 演员：柊瑠美、入野自由 ',\n",
       " ' 类型：剧情、动作 ',\n",
       " ' 演员：费利克斯·卡米勒、丹尼尔·布鲁赫 ',\n",
       " ' 类型：灾难、剧情 ',\n",
       " ' 演员：莱昂纳多·迪卡普里奥、凯特·温丝莱特 ',\n",
       " ' 类型：剧情、犯罪 ',\n",
       " ' 演员：徐峥、黄渤 ',\n",
       " ' 类型：动作、剧情 ',\n",
       " ' 演员：玄彬、柳海真 ',\n",
       " ' 类型：动画、动作 ',\n",
       " ' 演员：金妮弗·古德温、杰森·贝特曼 ',\n",
       " ' 类型：剧情、年代 ',\n",
       " ' 演员：张丰毅、张雨绮 ',\n",
       " ' 类型：剧情、犯罪 ',\n",
       " ' 演员：古天乐、林家栋 ',\n",
       " ' 类型：灾难、动作 ',\n",
       " ' 演员：爱德·维斯特维克、朱珠 ',\n",
       " ' 类型：奇幻、冒险 ',\n",
       " ' 演员：本尼迪克特·康伯巴奇、蒂尔达·斯文顿 ',\n",
       " ' 类型：搞笑、爱情 ',\n",
       " ' 演员：姜文、彭于晏 ']"
      ]
     },
     "execution_count": 9,
     "metadata": {},
     "output_type": "execute_result"
    }
   ],
   "source": [
    "temp=html.xpath('//div[@class=\"intro_1l0wp\"]/text()')\n",
    "temp"
   ]
  },
  {
   "cell_type": "code",
   "execution_count": 10,
   "id": "4855c081",
   "metadata": {
    "ExecuteTime": {
     "end_time": "2022-11-13T11:40:48.446076Z",
     "start_time": "2022-11-13T11:40:48.434322Z"
    }
   },
   "outputs": [
    {
     "data": {
      "text/plain": [
       "['  搞笑、科幻 ',\n",
       " '  冒险、奇幻 ',\n",
       " '  动作、科幻 ',\n",
       " '  动作、悬疑 ',\n",
       " '  动作、悬疑 ',\n",
       " '  剧情、家庭 ',\n",
       " '  喜剧、搞笑 ',\n",
       " '  科幻、动作 ',\n",
       " '  动作、惊悚 ',\n",
       " '  剧情 ',\n",
       " '  搞笑、爱情 ',\n",
       " '  剧情、犯罪 ',\n",
       " '  喜剧、动作 ',\n",
       " '  剧情、搞笑 ',\n",
       " '  爱情、剧情 ',\n",
       " '  搞笑、剧情 ',\n",
       " '  冒险、剧情 ',\n",
       " '  冒险、科幻 ',\n",
       " '  剧情、爱情 ',\n",
       " '  奇幻、剧情 ',\n",
       " '  剧情、动作 ',\n",
       " '  灾难、剧情 ',\n",
       " '  剧情、犯罪 ',\n",
       " '  动作、剧情 ',\n",
       " '  动画、动作 ',\n",
       " '  剧情、年代 ',\n",
       " '  剧情、犯罪 ',\n",
       " '  灾难、动作 ',\n",
       " '  奇幻、冒险 ',\n",
       " '  搞笑、爱情 ']"
      ]
     },
     "execution_count": 10,
     "metadata": {},
     "output_type": "execute_result"
    }
   ],
   "source": [
    "movie_class=temp[::2]#取出奇数项\n",
    "for i in movie_class:\n",
    "    kong=''\n",
    "    kong+=str(i)\n",
    "    num=movie_class.index(i)\n",
    "    kong=kong.replace('类型：',' ')\n",
    "    movie_class[num]=kong\n",
    "movie_class"
   ]
  },
  {
   "cell_type": "markdown",
   "id": "a2bbc511",
   "metadata": {
    "ExecuteTime": {
     "end_time": "2022-11-13T08:41:41.359082Z",
     "start_time": "2022-11-13T08:41:41.335334Z"
    }
   },
   "source": [
    "## 主演"
   ]
  },
  {
   "cell_type": "code",
   "execution_count": 11,
   "id": "a7418855",
   "metadata": {
    "ExecuteTime": {
     "end_time": "2022-11-13T11:40:48.462142Z",
     "start_time": "2022-11-13T11:40:48.449563Z"
    }
   },
   "outputs": [
    {
     "data": {
      "text/plain": [
       "['  沈腾、马丽 ',\n",
       " '  萨姆·沃辛顿、佐伊·索尔达娜 ',\n",
       " '  克里斯·帕拉特、布莱丝·达拉斯·霍华德 ',\n",
       " '  刘青云、蔡卓妍 ',\n",
       " '  申诗雅、李钟硕 ',\n",
       " '  朱一龙、杨恩又 ',\n",
       " '  闫妮、耿乐 ',\n",
       " '  古天乐、刘青云 ',\n",
       " '  成龙、皮尔斯·布鲁斯南 ',\n",
       " '  张译、王俊凯 ',\n",
       " '  Alison Rood、Josh Eichenbaum ',\n",
       " '  张皓承、黄晓明 ',\n",
       " '  姜文、葛优 ',\n",
       " '  米歇尔·威廉姆斯、塞斯·罗根 ',\n",
       " '  周冬雨、陈晓 ',\n",
       " '  宋康昊、李善均 ',\n",
       " '  甄子丹、韩雪 ',\n",
       " '  亚伦·泰勒-约翰逊、卡梅隆·CJ·亚当斯 ',\n",
       " '  刘亦菲、古天乐 ',\n",
       " '  柊瑠美、入野自由 ',\n",
       " '  费利克斯·卡米勒、丹尼尔·布鲁赫 ',\n",
       " '  莱昂纳多·迪卡普里奥、凯特·温丝莱特 ',\n",
       " '  徐峥、黄渤 ',\n",
       " '  玄彬、柳海真 ',\n",
       " '  金妮弗·古德温、杰森·贝特曼 ',\n",
       " '  张丰毅、张雨绮 ',\n",
       " '  古天乐、林家栋 ',\n",
       " '  爱德·维斯特维克、朱珠 ',\n",
       " '  本尼迪克特·康伯巴奇、蒂尔达·斯文顿 ',\n",
       " '  姜文、彭于晏 ']"
      ]
     },
     "execution_count": 11,
     "metadata": {},
     "output_type": "execute_result"
    }
   ],
   "source": [
    "movie_actor=temp[1::2]#取出偶数项\n",
    "for i in movie_actor:\n",
    "    kong=''\n",
    "    kong+=str(i)\n",
    "    num=movie_actor.index(i)\n",
    "    kong=kong.replace('演员：',' ')\n",
    "    movie_actor[num]=kong\n",
    "movie_actor"
   ]
  },
  {
   "cell_type": "markdown",
   "id": "3f9835c9",
   "metadata": {
    "ExecuteTime": {
     "end_time": "2022-11-13T08:43:30.726108Z",
     "start_time": "2022-11-13T08:43:30.702782Z"
    }
   },
   "source": [
    "## 简介"
   ]
  },
  {
   "cell_type": "code",
   "execution_count": 12,
   "id": "05d0e026",
   "metadata": {
    "ExecuteTime": {
     "end_time": "2022-11-13T11:40:48.478084Z",
     "start_time": "2022-11-13T11:40:48.464260Z"
    }
   },
   "outputs": [
    {
     "data": {
      "text/plain": [
       "[' 人类为抵御小行星的撞击,拯救地球,在月球部署了月盾计划。陨石提前来袭,全员紧急撤离时,维修工独孤月(沈腾 饰)因为意外,错过了领队马蓝星(马丽 饰)的撤离通知,一个人落在了月球。不料月盾计划失败,独孤月成为了“宇宙最后的人类”,开始了他在月球上破罐子破摔的生活 ',\n",
       " ' 《阿凡达2》的剧情承接自第一部的5年之后。曾经的地球残疾军人杰克萨利,如今已经是潘多拉星球纳美族一方部族的族长,并且与爱妻娜塔莉共同育有一对可爱的儿女,日子过得平淡而充实。然而某天,有个部族的兄弟在海岸附近巡逻时遭到利器割喉身亡。通过现场勘查,以及作为前海军陆战队员的敏锐直觉,杰克判断已经有人类的阿凡达混入了部落 ',\n",
       " ' 影片为《侏罗纪世界》系列的完结篇,故事的开篇设定在纳布拉尔岛被摧毁的四年后。如今,恐龙在世界各地与人类共同生活、共同捕猎。这一脆弱的平衡将重塑未来,并最终决定人类能否与史上最可怕生物共享这颗星球,并继续站在食物链的顶端。 ',\n",
       " ' 《神探大战》是由韦家辉执导，刘青云、蔡卓妍、林峯、李若彤、谭凯、陈家乐、汤怡、何珮瑜等主演的犯罪动作悬疑电影，于2022年7月8日在中国大陆上映。该片讲述了自封“神探”的凶手与真正的“神探”鬼才之间展开的斗智斗勇的港式七宗罪故事。 ',\n",
       " ' 《魔女2》是由朴勋政执导和编剧，申诗雅、朴恩斌、徐恩秀、晋久、成宥彬、赵敏修主演，李钟硕、金多美特别出演的科幻动作电影，于2022年6月15日韩国上映。该片讲述了少女从实验室醒来并且试着逃出，偶然遇到了被犯罪组织操控的庆熙，而威胁庆熙的犯罪组织与少女碰上了，少女用压倒性的力量制服住组织，因此实验室开始追逐少女的行踪。 ',\n",
       " ' 《人生大事》是由韩延监制，刘江江编剧并执导，朱一龙领衔主演，杨恩又特别介绍出演，王戈特邀主演，刘陆、罗京民主演的电影，该片于2022年6月24日上映。该片讲述刑满释放的殡葬师三哥在一次出殡中遇见了孤儿武小文，意外地改变了三哥对职业和生活态度的故事。 ',\n",
       " ' 7月23日，都市爱情黑色喜剧电影《夜夜夜》在北京举办“疯狂初夜”首次媒体见面会，由此这部剧情紧张、充满黑色喜剧气氛的电影揭开了神秘面纱。《夜夜夜》由李继贤执导，李青阳编剧，闫妮、冯馨瑶、耿乐、邵兵、李菁等主演。 ',\n",
       " ' 《明日战记》的故事设定在2055年，那时候的地球深受污染和全球变暖问题的困扰，一颗陨石击中地球，带来一种快速生长的触须类外星生物，它在净化地球的同时，也在杀死一切生命。拯救地球的任务落在了一支精英部队身上。在与外星生物作战的同时，他们也发现了一个惊天阴谋…… ',\n",
       " ' 该片根据史蒂芬·莱瑟1992年出版的小说《中国佬》（The Chinaman）改编。讲述了身经百战的越战退伍老兵（成龙 饰）退役之后在伦敦唐人街开了家餐馆。当小女儿被爱尔兰恐怖团伙残害，正义得不到伸张的情况下，悲愤之中他再度举枪为女复仇。 ',\n",
       " ' 《万里归途》是由饶晓志执导，秦海燕编剧，郭帆、王红卫监制，张译、王俊凯、殷桃领衔主演的剧情片。该片讲述了老金带领小文等翻译学院的毕业生到非洲某地实习，返程时却在机场遭到绑匪绑架。老金和小文与绑匪斗智斗勇，让绑匪从暴力不沟通，转变为谈判沟通，凭借翻译的职业优势带领大家打通了回家之路。 ',\n",
       " ' 彼得帕克只是美国一个平凡的高中生，当一次他被蜘蛛博物馆偷跑出来的变种蜘蛛咬了一口之后，彼得的生活彻底改变了。他变得和蜘蛛一样，拥有各种蜘蛛特有的超能力：从手指喷出粘力极强的蜘蛛丝、飞檐走壁等等。 ',\n",
       " ' 电影《平安中国之守护者》以真实人物为原型，公、检、法、司、安五大政法机关作为背景，分别讲述了“牦牛盗案”、“凶杀悬案”、“房屋腾退案”、“未成年司法矫正”与“国安人的一生”五个真实故事。本片以“平安中国之守护者”这一暗线贯穿始终，不同侧面展现政法队伍忠诚奉献，一心为民的精神风采。 ',\n",
       " ' 民国年间，花钱捐得县长的马邦德（葛优 饰）携妻（刘嘉玲 饰）及随从走马上任。途经南国某地，遭劫匪张麻子（姜文 饰）一伙伏击，随从尽死，只夫妻二人侥幸活命。马为保命，谎称自己是县长的汤师爷。为汤师爷许下的财富所动，张麻子摇身一变化身县长，带着手下赶赴鹅城上任。有道是天高皇帝远，鹅城地处偏僻，一方霸主黄四郎（周润发 饰）只手遮天，全然不将这个新来的县长放在眼里。张麻子痛打了黄的武教头（姜武 饰），黄则 ',\n",
       " ' 《跳支华尔兹》是萨拉·波莉执导的喜剧片，米歇尔·威廉姆斯,塞斯·罗根出演。该片讲述了女主角玛格特在28岁时开始了一段婚外情的故事。 ',\n",
       " ' 满清康熙鼎盛之际,自十三岁入宫当宫女的兆佳沉香(周冬雨 饰)与同在乾西四所当差的好朋友琉璃(赵丽颖 饰)度过七年春秋.深宫内院,挡不住少女春心萌动.单纯无知的沉香偷偷恋上十三阿哥胤祥(陈晓 饰),情缘前定,两个身分有着巨大差异的青年男女互生好感.另一方面,琉璃偶然得到九阿哥胤禟(朱梓骁 饰)临幸,后被抛弃,一心攀援富贵的她被嫉妒与虚荣所充满,遂假托沉香之名得以许配十三阿哥.沉香深藏心中委屈,以贴身 ',\n",
       " ' 基宇出生在一个贫穷的家庭之中，和妹妹基婷以及父母在狭窄的地下室里过着相依为命的日子。一天，基宇的同学上门拜访，他告诉基宇，自己在一个有钱人家里给他们的女儿做家教，太太是一个头脑简单出手又阔绰的女人，因为自己要出国留学，所以将家教的职位暂时转交给基宇。就这样，基宇来到了朴社长家中，并且见到了他的太太，没过多久，基宇的妹妹和父母也如同寄生虫一般的进入了朴社长家里工作。然而，他们的野心并没有止步于此，基 ',\n",
       " ' 寒冬季节，一组深圳游客家庭自驾进入东北长白山旅行，原本是其乐融融的旅行，却因父亲阿德的过失导致8岁的儿子不幸走失。阿德夫妇向当地相关部门寻求援助，搜救行动即刻展开。黄金救援时间24小时过去了，常规安全极限48小时也过去了，孩子却仍未找到。即使希望渺茫，搜救警察及雪域搜救队依然不离不弃… 生命的奇迹会出现吗？ ',\n",
       " ' 新版《哥斯拉》由2010年《怪兽禁区》（Monsters）的导演加雷斯·爱德华兹（Gareth Edwards）执导，和1998年索尼的那部完全无关，将更忠于日本原作，让哥斯拉和其他怪兽（不止一个）对打。在今年圣迭戈Comic-Con动漫展上，华纳公司曾曝光了一小段新《哥斯拉》的片花，反响非常强烈。改编自1954年日本电影《哥斯拉》，围绕一位人类大兵的生活展开。讲述了沉睡的古代巨型怪兽被人们意外唤 ',\n",
       " ' 很多年以前，他矢志要成为一个优秀的猎妖师，他选择了黑山做他修行和圆梦之旅的起点。那时，燕赤霞很年轻，黑山已经是一座很老的大山，那里有更老的精灵妖怪，它们过着原始的生活，粗糙简单却充满杀戮气息。他在黑山经历一场又一场的凶险恶斗，村民们都害怕进入黑山和这间寺院被称为“兰若寺。他的剑变得更可怕，他的力量也更强大，他自信可以战胜一切，直到那一天，他遇上了她和他们的悲痛故事由此开始。很多年以后，黑山山下的所 ',\n",
       " ' 千寻和爸爸妈妈一同驱车前往新家,在郊外的小路上不慎进入了神秘的隧道他们去到了另外一个诡异世界一个中世纪的小镇。远处飘来食物的香味,爸爸妈妈大快朵颐,孰料之后变成了猪!这时小镇上渐渐来了许多样子古怪、半透明的人。 千寻仓皇逃出,一个叫小白的人救了他,喂了她阻止身体消 失的药,并且告诉她怎样去找锅炉爷爷以及汤婆婆,而且必须获得一分工作才能不被魔法变成别的东西。 千寻在小白的帮助下幸运地获得了一份在浴池 ',\n",
       " ' 该片改编自埃里希·玛利亚·雷马克撰写的同名经典小说，讲述在第一次世界大战期间，保罗·鲍曼和同学莱尔、米勒参加了德国国民志愿兵，被派往前线与法军作战。在战场上，他们目睹到了残酷的饥饿、血腥和死亡，战争的荒谬无情让保罗从迷恋战争到心灰意冷。 ',\n",
       " ' 1912年4月10日,号称 “世界工业史上的奇迹”的豪华客轮泰坦尼克号开始了自己的处女航,从英国的南安普顿出发驶往美国纽约。富家少女罗丝(凯特温丝莱特)与母亲及未婚夫卡尔坐上了头等舱;另一边,放荡不羁的少年画家杰克(莱昂纳多迪卡普里奥)也在码头的一场赌博中赢得了下等舱的船票。 罗丝厌倦了上流社会虚伪的生活,不愿嫁给卡尔,打算投海自尽,被杰克救起。很快,美丽活泼的罗丝与英俊开朗的杰克相爱,杰克带罗丝 ',\n",
       " ' 小有名气但利欲熏心的律师潘肖（徐峥饰），凭借扎实的法律知识和巧舌如簧的庭辩技巧，成功帮盗捕国家珍禽阿拉泰隼并残忍杀害一名警察的西北盗猎团伙老大（多布杰 饰）洗脱罪名。老大承诺十天后付清余款，潘肖则要求对方用一辆红色轿车抵押。在此之后，他驾驶着新车踏上从西北荒漠返回大都会的路程。谁知路上险情不断，先是和一对开卡车拉茅草的哥俩（王双宝 & 巴多 饰）发生摩擦，导致人伤车损，接着又不慎撞飞一个似乎拦车求 ',\n",
       " ' 朝鲜一座国家秘密工厂对美元的仿制度超过了百分之九十九，朝鲜特种部队首长车奇成，在之前的行动失去了妻子，因而对国家产生不满，决定带领一众手下脱北出逃。并且在走之前要抢走工厂最宝贵的伪钞模板。车奇正的手下，一个行动小组的组长林哲令（玄彬饰）率领自己的组员，与车奇正一伙发生了激烈交火。最后除林哲令一人幸存，其余工人和保安人员全部被杀害，其中就包括林哲令的妻子。 ',\n",
       " ' 疯狂动物城是一座独一无二的现代动物都市。每种动物在这里都有自己的居所，比如富丽堂皇的撒哈拉广场，或者常年严寒的冰川镇。它就像一座大熔炉，动物们在这里和平共处——无论是大象还是小老鼠，只要你努力，都能在此闯出一番名堂。不过乐观的警官兔朱迪（金妮弗·古德温 Ginnifer Goodwin 配音）却发现，作为史上第一任兔子警官，要和一群强硬的大块头动物警察合作可不是件容易事。为了证明自己，她决心侦破一 ',\n",
       " ' 电影《白鹿原》改编自陈忠实同名小说，由王全安执导，集结了张丰毅，张雨绮，段奕宏，吴刚，刘威，郭涛等众多影星。影片以陕西关中平原上素有“仁义村”之称的白鹿村为主要背景，细腻地反映了出白姓和鹿姓两大家族祖孙三代人的恩怨纷争。此外著名编剧芦苇，美术设计师霍廷霄，配乐赵季平，德国摄影师卢茨·赖特迈尔等重量级幕后主创的加盟，一流的班底全力打造，影片品质令人期待。 ',\n",
       " ' 有人说：香港幸有廉政公署，才能有今天国际金融中心的地位。这可能是廉政公署成立四十年来，最严重的集团贪污案件。事件牵涉到香港政府用作扶贫的150亿「关怀基金」！一个庞大的贪污集团：当中包括了退休高官、警队高层、商界富豪、资深律师、会计师等，廉署调查员承受了前所未有的压力。这是一个心狠手辣的贪污集团：涉案的证人不是被暴力恐吓，就是被消灭掉，连廉政公署调查员也成了攻击的对象，调查员承受着前所未有的凶险！ ',\n",
       " ' 一架老旧的波音747飞机准备进行其最后一次夜间飞行，载着仅有的九位乘客从位于太平洋中心的好运岛飞往新加坡。由于乘客的锐减，该航线已经被取消。飞机起飞后，怪事便不断在这趟最后的航班上发生，先是土着老太突发癫狂非要带孙女下机；又是商务舱电视屏幕离奇中断；接着又是自闭症女孩举止诡异，最后连空姐杰西卡也神秘失踪……不安的气氛开始在机舱里蔓延，直至杰西卡被发现惨死在洗手间，身上留有奇怪的伤痕，飞机上仅有的十 ',\n",
       " ' 性格高傲的神经外科手术专家史蒂芬·斯特兰奇（本尼迪克特·康伯巴奇饰）事业有成，在遭遇一次车祸悲剧后，双手再也无法握住手术刀，不能继续他的医生职业，为了治疗他的伤，他远赴尼泊尔遇到了莫度男爵（切瓦特·埃加福特饰），在莫度男爵带动下他得到古一法师（蒂尔达·斯文顿饰）帮助。斯蒂芬-斯特兰奇把自己曾经的自负都抛在了一边，开始接触和学习鲜为人知的玄学，以及多维空间世界的学问。在纽约的格林威治村，变身奇异博士 ',\n",
       " ' 北洋年间，北京以北。习武少年李天然目睹师兄朱潜龙勾结日本特务根本一郎，杀害师父全家。李天然侥幸从枪下逃脱，被美国医生亨德勒救下。李天然伤愈后，赴美学医多年，并同时接受特工训练。1937年初，李天然突然受命回国。“七七事变”前夜，北平，这座国际间谍之城，华洋混杂，山头林立。每时每刻充满诱惑与杀机。一心复仇的李天然，并不知道自己被卷入了一场阴谋，亦搅乱了一盘棋局。彼时彼刻，如同李小龙闯进了谍都卡萨布兰 ']"
      ]
     },
     "execution_count": 12,
     "metadata": {},
     "output_type": "execute_result"
    }
   ],
   "source": [
    "movie_intro=html.xpath('//div[@class=\"c-single-text-ellipsis desc_3CTjT\"]/text()')\n",
    "movie_intro=movie_intro[::2]\n",
    "movie_intro"
   ]
  },
  {
   "cell_type": "markdown",
   "id": "49cb1d41",
   "metadata": {
    "ExecuteTime": {
     "end_time": "2022-11-13T08:43:43.112150Z",
     "start_time": "2022-11-13T08:43:43.088824Z"
    }
   },
   "source": [
    "## 封面地址"
   ]
  },
  {
   "cell_type": "code",
   "execution_count": 13,
   "id": "7fbe8fb7",
   "metadata": {
    "ExecuteTime": {
     "end_time": "2022-11-13T11:40:48.494114Z",
     "start_time": "2022-11-13T11:40:48.481542Z"
    }
   },
   "outputs": [
    {
     "data": {
      "text/plain": [
       "['https://fyb-1.cdn.bcebos.com/fyb-1/20221110/f17a86c2ef55343956cdfacefff7b380?x-bce-process=image/resize,m_fill,w_160,h_214',\n",
       " 'https://fyb-1.cdn.bcebos.com/fyb-1/20221110/84178e56523e0ab59af2ad4fe6846d8d?x-bce-process=image/resize,m_fill,w_160,h_214',\n",
       " 'https://fyb-1.cdn.bcebos.com/fyb-1/20221110/abcccc66f4f14227d1413fe8515ef342?x-bce-process=image/resize,m_fill,w_160,h_214',\n",
       " 'https://fyb-1.cdn.bcebos.com/fyb-1/20221110/394469ca15680ff34460d260687ea219?x-bce-process=image/resize,m_fill,w_160,h_214',\n",
       " 'https://fyb-1.cdn.bcebos.com/fyb-1/20221110/32252ecc15981695b4a13c4cf12a0a84?x-bce-process=image/resize,m_fill,w_160,h_214',\n",
       " 'https://fyb-1.cdn.bcebos.com/fyb-1/20221110/3cffe6cd36c752fc9603418268f431cd?x-bce-process=image/resize,m_fill,w_160,h_214',\n",
       " 'https://fyb-1.cdn.bcebos.com/fyb-1/20221110/fef466a6b6201fa5e5f1e9bd2619947b?x-bce-process=image/resize,m_fill,w_160,h_214',\n",
       " 'https://fyb-1.cdn.bcebos.com/fyb-1/20221110/03f102ba5e8a73147e321e18fa7098d2?x-bce-process=image/resize,m_fill,w_160,h_214',\n",
       " 'https://fyb-1.cdn.bcebos.com/fyb-1/20221110/a1c9d9e6a3596e31f9b894e9e6f85394?x-bce-process=image/resize,m_fill,w_160,h_214',\n",
       " 'https://fyb-1.cdn.bcebos.com/fyb-1/20221110/c4e2106272886efcd4b9e3de7cfd7770?x-bce-process=image/resize,m_fill,w_160,h_214',\n",
       " 'https://fyb-1.cdn.bcebos.com/fyb-1/20221110/638ea34c1a714fa691ac967dcc621482?x-bce-process=image/resize,m_fill,w_160,h_214',\n",
       " 'https://fyb-1.cdn.bcebos.com/fyb-1/20221110/c847bb6cec75904d447aa11669faae6b?x-bce-process=image/resize,m_fill,w_160,h_214',\n",
       " 'https://fyb-1.cdn.bcebos.com/fyb-1/20221110/848b399c100c435a67675db459ebee28?x-bce-process=image/resize,m_fill,w_160,h_214',\n",
       " 'https://fyb-1.cdn.bcebos.com/fyb-1/20221110/8d2207d4917a37914d1deffb9c2d4333?x-bce-process=image/resize,m_fill,w_160,h_214',\n",
       " 'https://fyb-1.cdn.bcebos.com/fyb-1/20221110/64f6b8da1303539c797389aaf0d06f62?x-bce-process=image/resize,m_fill,w_160,h_214',\n",
       " 'https://fyb-1.cdn.bcebos.com/fyb-1/20221110/52aa42100775197904433ef8b6a505f6?x-bce-process=image/resize,m_fill,w_160,h_214',\n",
       " 'https://fyb-1.cdn.bcebos.com/fyb-1/20221110/a188ee377f7208fb58ab6d9e21d19ea8?x-bce-process=image/resize,m_fill,w_160,h_214',\n",
       " 'https://fyb-1.cdn.bcebos.com/fyb-1/20221110/bc77117cdbb09d731cd7dc384869cc86?x-bce-process=image/resize,m_fill,w_160,h_214',\n",
       " 'https://fyb-1.cdn.bcebos.com/fyb-1/20221110/37c561a8c21cee77d8f67b333b9895c6?x-bce-process=image/resize,m_fill,w_160,h_214',\n",
       " 'https://fyb-1.cdn.bcebos.com/fyb-1/20221110/100cc9dbe3fed44d4dea96dfe59e5368?x-bce-process=image/resize,m_fill,w_160,h_214',\n",
       " 'https://fyb-1.cdn.bcebos.com/fyb-1/20221110/90d955eb8893db3a628f1c7733e8d02b?x-bce-process=image/resize,m_fill,w_160,h_214',\n",
       " 'https://fyb-1.cdn.bcebos.com/fyb-1/20221110/ba5321990b08185d1f2d4436073fc6c8?x-bce-process=image/resize,m_fill,w_160,h_214',\n",
       " 'https://fyb-1.cdn.bcebos.com/fyb-1/20221110/eac1ef6f818d1cad5048fbc13e19d995?x-bce-process=image/resize,m_fill,w_160,h_214',\n",
       " 'https://fyb-1.cdn.bcebos.com/fyb-1/20221110/915560f2551d589059bd5197dff9e6da?x-bce-process=image/resize,m_fill,w_160,h_214',\n",
       " 'https://fyb-1.cdn.bcebos.com/fyb-1/20221110/14d0facab510ca2d0dc730f115aac8e5?x-bce-process=image/resize,m_fill,w_160,h_214',\n",
       " 'https://fyb-1.cdn.bcebos.com/fyb-1/20221110/fe367fb2d1ee66d568274ecad4b7718d?x-bce-process=image/resize,m_fill,w_160,h_214',\n",
       " 'https://fyb-1.cdn.bcebos.com/fyb-1/20221110/547610b144176fdec403dc559f67a2d5?x-bce-process=image/resize,m_fill,w_160,h_214',\n",
       " 'https://fyb-1.cdn.bcebos.com/fyb-1/20221110/d2050afb7249836492c0bc1bf6492d82?x-bce-process=image/resize,m_fill,w_160,h_214',\n",
       " 'https://fyb-1.cdn.bcebos.com/fyb-1/20221110/ce6eb9eb976d95d04f53526bf2b934ec?x-bce-process=image/resize,m_fill,w_160,h_214',\n",
       " 'https://fyb-1.cdn.bcebos.com/fyb-1/20221110/71f5730e2019a7cc58bfb613d5d92e19?x-bce-process=image/resize,m_fill,w_160,h_214']"
      ]
     },
     "execution_count": 13,
     "metadata": {},
     "output_type": "execute_result"
    }
   ],
   "source": [
    "movie_cover=html.xpath('//a[@class=\"img-wrapper_29V76\"]/img/@src')\n",
    "movie_cover"
   ]
  },
  {
   "cell_type": "markdown",
   "id": "8a5560c0",
   "metadata": {
    "ExecuteTime": {
     "end_time": "2022-11-13T08:43:50.906233Z",
     "start_time": "2022-11-13T08:43:50.890882Z"
    }
   },
   "source": [
    "## 热度指数"
   ]
  },
  {
   "cell_type": "code",
   "execution_count": 14,
   "id": "9d0a77c3",
   "metadata": {
    "ExecuteTime": {
     "end_time": "2022-11-13T11:40:48.510154Z",
     "start_time": "2022-11-13T11:40:48.497623Z"
    }
   },
   "outputs": [
    {
     "data": {
      "text/plain": [
       "[' 435876 ',\n",
       " ' 200196 ',\n",
       " ' 180550 ',\n",
       " ' 169531 ',\n",
       " ' 166509 ',\n",
       " ' 165818 ',\n",
       " ' 165638 ',\n",
       " ' 159408 ',\n",
       " ' 157046 ',\n",
       " ' 94496 ',\n",
       " ' 67014 ',\n",
       " ' 61336 ',\n",
       " ' 56595 ',\n",
       " ' 45699 ',\n",
       " ' 45028 ',\n",
       " ' 41323 ',\n",
       " ' 41232 ',\n",
       " ' 36005 ',\n",
       " ' 35593 ',\n",
       " ' 33402 ',\n",
       " ' 32072 ',\n",
       " ' 31778 ',\n",
       " ' 29636 ',\n",
       " ' 29183 ',\n",
       " ' 28764 ',\n",
       " ' 28478 ',\n",
       " ' 28099 ',\n",
       " ' 26996 ',\n",
       " ' 26382 ',\n",
       " ' 25724 ']"
      ]
     },
     "execution_count": 14,
     "metadata": {},
     "output_type": "execute_result"
    }
   ],
   "source": [
    "hot_index=html.xpath('//div[@class=\"hot-index_1Bl1a\"]/text()')\n",
    "hot_index"
   ]
  },
  {
   "cell_type": "markdown",
   "id": "e073be3c",
   "metadata": {
    "ExecuteTime": {
     "end_time": "2022-11-13T08:00:27.443703Z",
     "start_time": "2022-11-13T08:00:27.428657Z"
    }
   },
   "source": [
    "# 数据存储"
   ]
  },
  {
   "cell_type": "code",
   "execution_count": 15,
   "id": "08955e75",
   "metadata": {
    "ExecuteTime": {
     "end_time": "2022-11-13T11:40:48.526218Z",
     "start_time": "2022-11-13T11:40:48.512636Z"
    }
   },
   "outputs": [
    {
     "data": {
      "text/plain": [
       "(30, 30, 30, 30, 30, 30)"
      ]
     },
     "execution_count": 15,
     "metadata": {},
     "output_type": "execute_result"
    }
   ],
   "source": [
    "len(movie_name),len(movie_class),len(movie_actor),len(movie_intro),len(movie_cover),len(hot_index)"
   ]
  },
  {
   "cell_type": "code",
   "execution_count": 16,
   "id": "46658de5",
   "metadata": {
    "ExecuteTime": {
     "end_time": "2022-11-13T11:40:49.119863Z",
     "start_time": "2022-11-13T11:40:48.528397Z"
    }
   },
   "outputs": [],
   "source": [
    "import pandas as pd"
   ]
  },
  {
   "cell_type": "code",
   "execution_count": 19,
   "id": "e8b4e83e",
   "metadata": {
    "ExecuteTime": {
     "end_time": "2022-11-13T11:41:56.378110Z",
     "start_time": "2022-11-13T11:41:56.314494Z"
    }
   },
   "outputs": [
    {
     "data": {
      "text/html": [
       "<div>\n",
       "<style scoped>\n",
       "    .dataframe tbody tr th:only-of-type {\n",
       "        vertical-align: middle;\n",
       "    }\n",
       "\n",
       "    .dataframe tbody tr th {\n",
       "        vertical-align: top;\n",
       "    }\n",
       "\n",
       "    .dataframe thead th {\n",
       "        text-align: right;\n",
       "    }\n",
       "</style>\n",
       "<table border=\"1\" class=\"dataframe\">\n",
       "  <thead>\n",
       "    <tr style=\"text-align: right;\">\n",
       "      <th></th>\n",
       "      <th>电影名称</th>\n",
       "      <th>类型</th>\n",
       "      <th>主演</th>\n",
       "      <th>简介</th>\n",
       "      <th>封面地址</th>\n",
       "      <th>热度指数</th>\n",
       "    </tr>\n",
       "  </thead>\n",
       "  <tbody>\n",
       "    <tr>\n",
       "      <th>0</th>\n",
       "      <td>独行月球</td>\n",
       "      <td>搞笑、科幻</td>\n",
       "      <td>沈腾、马丽</td>\n",
       "      <td>人类为抵御小行星的撞击,拯救地球,在月球部署了月盾计划。陨石提前来袭,全员紧急撤离时,维修...</td>\n",
       "      <td>https://fyb-1.cdn.bcebos.com/fyb-1/20221110/f1...</td>\n",
       "      <td>435876</td>\n",
       "    </tr>\n",
       "    <tr>\n",
       "      <th>1</th>\n",
       "      <td>阿凡达2</td>\n",
       "      <td>冒险、奇幻</td>\n",
       "      <td>萨姆·沃辛顿、佐伊·索尔达娜</td>\n",
       "      <td>《阿凡达2》的剧情承接自第一部的5年之后。曾经的地球残疾军人杰克萨利,如今已经是潘多拉星球...</td>\n",
       "      <td>https://fyb-1.cdn.bcebos.com/fyb-1/20221110/84...</td>\n",
       "      <td>200196</td>\n",
       "    </tr>\n",
       "    <tr>\n",
       "      <th>2</th>\n",
       "      <td>侏罗纪世界3</td>\n",
       "      <td>动作、科幻</td>\n",
       "      <td>克里斯·帕拉特、布莱丝·达拉斯·霍华德</td>\n",
       "      <td>影片为《侏罗纪世界》系列的完结篇,故事的开篇设定在纳布拉尔岛被摧毁的四年后。如今,恐龙在世...</td>\n",
       "      <td>https://fyb-1.cdn.bcebos.com/fyb-1/20221110/ab...</td>\n",
       "      <td>180550</td>\n",
       "    </tr>\n",
       "    <tr>\n",
       "      <th>3</th>\n",
       "      <td>神探大战</td>\n",
       "      <td>动作、悬疑</td>\n",
       "      <td>刘青云、蔡卓妍</td>\n",
       "      <td>《神探大战》是由韦家辉执导，刘青云、蔡卓妍、林峯、李若彤、谭凯、陈家乐、汤怡、何珮瑜等主演...</td>\n",
       "      <td>https://fyb-1.cdn.bcebos.com/fyb-1/20221110/39...</td>\n",
       "      <td>169531</td>\n",
       "    </tr>\n",
       "    <tr>\n",
       "      <th>4</th>\n",
       "      <td>魔女2</td>\n",
       "      <td>动作、悬疑</td>\n",
       "      <td>申诗雅、李钟硕</td>\n",
       "      <td>《魔女2》是由朴勋政执导和编剧，申诗雅、朴恩斌、徐恩秀、晋久、成宥彬、赵敏修主演，李钟硕、...</td>\n",
       "      <td>https://fyb-1.cdn.bcebos.com/fyb-1/20221110/32...</td>\n",
       "      <td>166509</td>\n",
       "    </tr>\n",
       "    <tr>\n",
       "      <th>5</th>\n",
       "      <td>人生大事</td>\n",
       "      <td>剧情、家庭</td>\n",
       "      <td>朱一龙、杨恩又</td>\n",
       "      <td>《人生大事》是由韩延监制，刘江江编剧并执导，朱一龙领衔主演，杨恩又特别介绍出演，王戈特邀主...</td>\n",
       "      <td>https://fyb-1.cdn.bcebos.com/fyb-1/20221110/3c...</td>\n",
       "      <td>165818</td>\n",
       "    </tr>\n",
       "    <tr>\n",
       "      <th>6</th>\n",
       "      <td>疯狂72小时</td>\n",
       "      <td>喜剧、搞笑</td>\n",
       "      <td>闫妮、耿乐</td>\n",
       "      <td>7月23日，都市爱情黑色喜剧电影《夜夜夜》在北京举办“疯狂初夜”首次媒体见面会，由此这部剧...</td>\n",
       "      <td>https://fyb-1.cdn.bcebos.com/fyb-1/20221110/fe...</td>\n",
       "      <td>165638</td>\n",
       "    </tr>\n",
       "    <tr>\n",
       "      <th>7</th>\n",
       "      <td>明日战记</td>\n",
       "      <td>科幻、动作</td>\n",
       "      <td>古天乐、刘青云</td>\n",
       "      <td>《明日战记》的故事设定在2055年，那时候的地球深受污染和全球变暖问题的困扰，一颗陨石击中...</td>\n",
       "      <td>https://fyb-1.cdn.bcebos.com/fyb-1/20221110/03...</td>\n",
       "      <td>159408</td>\n",
       "    </tr>\n",
       "    <tr>\n",
       "      <th>8</th>\n",
       "      <td>英伦对决</td>\n",
       "      <td>动作、惊悚</td>\n",
       "      <td>成龙、皮尔斯·布鲁斯南</td>\n",
       "      <td>该片根据史蒂芬·莱瑟1992年出版的小说《中国佬》（The Chinaman）改编。讲述了...</td>\n",
       "      <td>https://fyb-1.cdn.bcebos.com/fyb-1/20221110/a1...</td>\n",
       "      <td>157046</td>\n",
       "    </tr>\n",
       "    <tr>\n",
       "      <th>9</th>\n",
       "      <td>万里归途</td>\n",
       "      <td>剧情</td>\n",
       "      <td>张译、王俊凯</td>\n",
       "      <td>《万里归途》是由饶晓志执导，秦海燕编剧，郭帆、王红卫监制，张译、王俊凯、殷桃领衔主演的剧情...</td>\n",
       "      <td>https://fyb-1.cdn.bcebos.com/fyb-1/20221110/c4...</td>\n",
       "      <td>94496</td>\n",
       "    </tr>\n",
       "    <tr>\n",
       "      <th>10</th>\n",
       "      <td>蜘蛛侠</td>\n",
       "      <td>搞笑、爱情</td>\n",
       "      <td>Alison Rood、Josh Eichenbaum</td>\n",
       "      <td>彼得帕克只是美国一个平凡的高中生，当一次他被蜘蛛博物馆偷跑出来的变种蜘蛛咬了一口之后，彼得...</td>\n",
       "      <td>https://fyb-1.cdn.bcebos.com/fyb-1/20221110/63...</td>\n",
       "      <td>67014</td>\n",
       "    </tr>\n",
       "    <tr>\n",
       "      <th>11</th>\n",
       "      <td>平安中国之守护者</td>\n",
       "      <td>剧情、犯罪</td>\n",
       "      <td>张皓承、黄晓明</td>\n",
       "      <td>电影《平安中国之守护者》以真实人物为原型，公、检、法、司、安五大政法机关作为背景，分别讲述...</td>\n",
       "      <td>https://fyb-1.cdn.bcebos.com/fyb-1/20221110/c8...</td>\n",
       "      <td>61336</td>\n",
       "    </tr>\n",
       "    <tr>\n",
       "      <th>12</th>\n",
       "      <td>让子弹飞</td>\n",
       "      <td>喜剧、动作</td>\n",
       "      <td>姜文、葛优</td>\n",
       "      <td>民国年间，花钱捐得县长的马邦德（葛优 饰）携妻（刘嘉玲 饰）及随从走马上任。途经南国某地，...</td>\n",
       "      <td>https://fyb-1.cdn.bcebos.com/fyb-1/20221110/84...</td>\n",
       "      <td>56595</td>\n",
       "    </tr>\n",
       "    <tr>\n",
       "      <th>13</th>\n",
       "      <td>跳支华尔兹</td>\n",
       "      <td>剧情、搞笑</td>\n",
       "      <td>米歇尔·威廉姆斯、塞斯·罗根</td>\n",
       "      <td>《跳支华尔兹》是萨拉·波莉执导的喜剧片，米歇尔·威廉姆斯,塞斯·罗根出演。该片讲述了女主角...</td>\n",
       "      <td>https://fyb-1.cdn.bcebos.com/fyb-1/20221110/8d...</td>\n",
       "      <td>45699</td>\n",
       "    </tr>\n",
       "    <tr>\n",
       "      <th>14</th>\n",
       "      <td>宫锁沉香</td>\n",
       "      <td>爱情、剧情</td>\n",
       "      <td>周冬雨、陈晓</td>\n",
       "      <td>满清康熙鼎盛之际,自十三岁入宫当宫女的兆佳沉香(周冬雨 饰)与同在乾西四所当差的好朋友琉璃...</td>\n",
       "      <td>https://fyb-1.cdn.bcebos.com/fyb-1/20221110/64...</td>\n",
       "      <td>45028</td>\n",
       "    </tr>\n",
       "    <tr>\n",
       "      <th>15</th>\n",
       "      <td>寄生虫</td>\n",
       "      <td>搞笑、剧情</td>\n",
       "      <td>宋康昊、李善均</td>\n",
       "      <td>基宇出生在一个贫穷的家庭之中，和妹妹基婷以及父母在狭窄的地下室里过着相依为命的日子。一天，...</td>\n",
       "      <td>https://fyb-1.cdn.bcebos.com/fyb-1/20221110/52...</td>\n",
       "      <td>41323</td>\n",
       "    </tr>\n",
       "    <tr>\n",
       "      <th>16</th>\n",
       "      <td>搜救</td>\n",
       "      <td>冒险、剧情</td>\n",
       "      <td>甄子丹、韩雪</td>\n",
       "      <td>寒冬季节，一组深圳游客家庭自驾进入东北长白山旅行，原本是其乐融融的旅行，却因父亲阿德的过失...</td>\n",
       "      <td>https://fyb-1.cdn.bcebos.com/fyb-1/20221110/a1...</td>\n",
       "      <td>41232</td>\n",
       "    </tr>\n",
       "    <tr>\n",
       "      <th>17</th>\n",
       "      <td>哥斯拉</td>\n",
       "      <td>冒险、科幻</td>\n",
       "      <td>亚伦·泰勒-约翰逊、卡梅隆·CJ·亚当斯</td>\n",
       "      <td>新版《哥斯拉》由2010年《怪兽禁区》（Monsters）的导演加雷斯·爱德华兹（Gare...</td>\n",
       "      <td>https://fyb-1.cdn.bcebos.com/fyb-1/20221110/bc...</td>\n",
       "      <td>36005</td>\n",
       "    </tr>\n",
       "    <tr>\n",
       "      <th>18</th>\n",
       "      <td>倩女幽魂</td>\n",
       "      <td>剧情、爱情</td>\n",
       "      <td>刘亦菲、古天乐</td>\n",
       "      <td>很多年以前，他矢志要成为一个优秀的猎妖师，他选择了黑山做他修行和圆梦之旅的起点。那时，燕赤...</td>\n",
       "      <td>https://fyb-1.cdn.bcebos.com/fyb-1/20221110/37...</td>\n",
       "      <td>35593</td>\n",
       "    </tr>\n",
       "    <tr>\n",
       "      <th>19</th>\n",
       "      <td>千与千寻</td>\n",
       "      <td>奇幻、剧情</td>\n",
       "      <td>柊瑠美、入野自由</td>\n",
       "      <td>千寻和爸爸妈妈一同驱车前往新家,在郊外的小路上不慎进入了神秘的隧道他们去到了另外一个诡异世...</td>\n",
       "      <td>https://fyb-1.cdn.bcebos.com/fyb-1/20221110/10...</td>\n",
       "      <td>33402</td>\n",
       "    </tr>\n",
       "    <tr>\n",
       "      <th>20</th>\n",
       "      <td>西线无战事2022</td>\n",
       "      <td>剧情、动作</td>\n",
       "      <td>费利克斯·卡米勒、丹尼尔·布鲁赫</td>\n",
       "      <td>该片改编自埃里希·玛利亚·雷马克撰写的同名经典小说，讲述在第一次世界大战期间，保罗·鲍曼和...</td>\n",
       "      <td>https://fyb-1.cdn.bcebos.com/fyb-1/20221110/90...</td>\n",
       "      <td>32072</td>\n",
       "    </tr>\n",
       "    <tr>\n",
       "      <th>21</th>\n",
       "      <td>泰坦尼克号</td>\n",
       "      <td>灾难、剧情</td>\n",
       "      <td>莱昂纳多·迪卡普里奥、凯特·温丝莱特</td>\n",
       "      <td>1912年4月10日,号称 “世界工业史上的奇迹”的豪华客轮泰坦尼克号开始了自己的处女航,...</td>\n",
       "      <td>https://fyb-1.cdn.bcebos.com/fyb-1/20221110/ba...</td>\n",
       "      <td>31778</td>\n",
       "    </tr>\n",
       "    <tr>\n",
       "      <th>22</th>\n",
       "      <td>无人区</td>\n",
       "      <td>剧情、犯罪</td>\n",
       "      <td>徐峥、黄渤</td>\n",
       "      <td>小有名气但利欲熏心的律师潘肖（徐峥饰），凭借扎实的法律知识和巧舌如簧的庭辩技巧，成功帮盗捕...</td>\n",
       "      <td>https://fyb-1.cdn.bcebos.com/fyb-1/20221110/ea...</td>\n",
       "      <td>29636</td>\n",
       "    </tr>\n",
       "    <tr>\n",
       "      <th>23</th>\n",
       "      <td>共助</td>\n",
       "      <td>动作、剧情</td>\n",
       "      <td>玄彬、柳海真</td>\n",
       "      <td>朝鲜一座国家秘密工厂对美元的仿制度超过了百分之九十九，朝鲜特种部队首长车奇成，在之前的行动...</td>\n",
       "      <td>https://fyb-1.cdn.bcebos.com/fyb-1/20221110/91...</td>\n",
       "      <td>29183</td>\n",
       "    </tr>\n",
       "    <tr>\n",
       "      <th>24</th>\n",
       "      <td>疯狂动物城</td>\n",
       "      <td>动画、动作</td>\n",
       "      <td>金妮弗·古德温、杰森·贝特曼</td>\n",
       "      <td>疯狂动物城是一座独一无二的现代动物都市。每种动物在这里都有自己的居所，比如富丽堂皇的撒哈拉...</td>\n",
       "      <td>https://fyb-1.cdn.bcebos.com/fyb-1/20221110/14...</td>\n",
       "      <td>28764</td>\n",
       "    </tr>\n",
       "    <tr>\n",
       "      <th>25</th>\n",
       "      <td>白鹿原</td>\n",
       "      <td>剧情、年代</td>\n",
       "      <td>张丰毅、张雨绮</td>\n",
       "      <td>电影《白鹿原》改编自陈忠实同名小说，由王全安执导，集结了张丰毅，张雨绮，段奕宏，吴刚，刘威...</td>\n",
       "      <td>https://fyb-1.cdn.bcebos.com/fyb-1/20221110/fe...</td>\n",
       "      <td>28478</td>\n",
       "    </tr>\n",
       "    <tr>\n",
       "      <th>26</th>\n",
       "      <td>反贪风暴</td>\n",
       "      <td>剧情、犯罪</td>\n",
       "      <td>古天乐、林家栋</td>\n",
       "      <td>有人说：香港幸有廉政公署，才能有今天国际金融中心的地位。这可能是廉政公署成立四十年来，最严...</td>\n",
       "      <td>https://fyb-1.cdn.bcebos.com/fyb-1/20221110/54...</td>\n",
       "      <td>28099</td>\n",
       "    </tr>\n",
       "    <tr>\n",
       "      <th>27</th>\n",
       "      <td>绝命航班</td>\n",
       "      <td>灾难、动作</td>\n",
       "      <td>爱德·维斯特维克、朱珠</td>\n",
       "      <td>一架老旧的波音747飞机准备进行其最后一次夜间飞行，载着仅有的九位乘客从位于太平洋中心的好...</td>\n",
       "      <td>https://fyb-1.cdn.bcebos.com/fyb-1/20221110/d2...</td>\n",
       "      <td>26996</td>\n",
       "    </tr>\n",
       "    <tr>\n",
       "      <th>28</th>\n",
       "      <td>奇异博士</td>\n",
       "      <td>奇幻、冒险</td>\n",
       "      <td>本尼迪克特·康伯巴奇、蒂尔达·斯文顿</td>\n",
       "      <td>性格高傲的神经外科手术专家史蒂芬·斯特兰奇（本尼迪克特·康伯巴奇饰）事业有成，在遭遇一次车...</td>\n",
       "      <td>https://fyb-1.cdn.bcebos.com/fyb-1/20221110/ce...</td>\n",
       "      <td>26382</td>\n",
       "    </tr>\n",
       "    <tr>\n",
       "      <th>29</th>\n",
       "      <td>邪不压正</td>\n",
       "      <td>搞笑、爱情</td>\n",
       "      <td>姜文、彭于晏</td>\n",
       "      <td>北洋年间，北京以北。习武少年李天然目睹师兄朱潜龙勾结日本特务根本一郎，杀害师父全家。李天然...</td>\n",
       "      <td>https://fyb-1.cdn.bcebos.com/fyb-1/20221110/71...</td>\n",
       "      <td>25724</td>\n",
       "    </tr>\n",
       "  </tbody>\n",
       "</table>\n",
       "</div>"
      ],
      "text/plain": [
       "            电影名称        类型                              主演  \\\n",
       "0          独行月球     搞笑、科幻                           沈腾、马丽    \n",
       "1          阿凡达2     冒险、奇幻                  萨姆·沃辛顿、佐伊·索尔达娜    \n",
       "2        侏罗纪世界3     动作、科幻             克里斯·帕拉特、布莱丝·达拉斯·霍华德    \n",
       "3          神探大战     动作、悬疑                         刘青云、蔡卓妍    \n",
       "4           魔女2     动作、悬疑                         申诗雅、李钟硕    \n",
       "5          人生大事     剧情、家庭                         朱一龙、杨恩又    \n",
       "6        疯狂72小时     喜剧、搞笑                           闫妮、耿乐    \n",
       "7          明日战记     科幻、动作                         古天乐、刘青云    \n",
       "8          英伦对决     动作、惊悚                     成龙、皮尔斯·布鲁斯南    \n",
       "9          万里归途        剧情                          张译、王俊凯    \n",
       "10          蜘蛛侠     搞笑、爱情     Alison Rood、Josh Eichenbaum    \n",
       "11     平安中国之守护者     剧情、犯罪                         张皓承、黄晓明    \n",
       "12         让子弹飞     喜剧、动作                           姜文、葛优    \n",
       "13        跳支华尔兹     剧情、搞笑                  米歇尔·威廉姆斯、塞斯·罗根    \n",
       "14         宫锁沉香     爱情、剧情                          周冬雨、陈晓    \n",
       "15          寄生虫     搞笑、剧情                         宋康昊、李善均    \n",
       "16           搜救     冒险、剧情                          甄子丹、韩雪    \n",
       "17          哥斯拉     冒险、科幻            亚伦·泰勒-约翰逊、卡梅隆·CJ·亚当斯    \n",
       "18         倩女幽魂     剧情、爱情                         刘亦菲、古天乐    \n",
       "19         千与千寻     奇幻、剧情                        柊瑠美、入野自由    \n",
       "20    西线无战事2022     剧情、动作                费利克斯·卡米勒、丹尼尔·布鲁赫    \n",
       "21        泰坦尼克号     灾难、剧情              莱昂纳多·迪卡普里奥、凯特·温丝莱特    \n",
       "22          无人区     剧情、犯罪                           徐峥、黄渤    \n",
       "23           共助     动作、剧情                          玄彬、柳海真    \n",
       "24        疯狂动物城     动画、动作                  金妮弗·古德温、杰森·贝特曼    \n",
       "25          白鹿原     剧情、年代                         张丰毅、张雨绮    \n",
       "26         反贪风暴     剧情、犯罪                         古天乐、林家栋    \n",
       "27         绝命航班     灾难、动作                     爱德·维斯特维克、朱珠    \n",
       "28         奇异博士     奇幻、冒险              本尼迪克特·康伯巴奇、蒂尔达·斯文顿    \n",
       "29         邪不压正     搞笑、爱情                          姜文、彭于晏    \n",
       "\n",
       "                                                   简介  \\\n",
       "0    人类为抵御小行星的撞击,拯救地球,在月球部署了月盾计划。陨石提前来袭,全员紧急撤离时,维修...   \n",
       "1    《阿凡达2》的剧情承接自第一部的5年之后。曾经的地球残疾军人杰克萨利,如今已经是潘多拉星球...   \n",
       "2    影片为《侏罗纪世界》系列的完结篇,故事的开篇设定在纳布拉尔岛被摧毁的四年后。如今,恐龙在世...   \n",
       "3    《神探大战》是由韦家辉执导，刘青云、蔡卓妍、林峯、李若彤、谭凯、陈家乐、汤怡、何珮瑜等主演...   \n",
       "4    《魔女2》是由朴勋政执导和编剧，申诗雅、朴恩斌、徐恩秀、晋久、成宥彬、赵敏修主演，李钟硕、...   \n",
       "5    《人生大事》是由韩延监制，刘江江编剧并执导，朱一龙领衔主演，杨恩又特别介绍出演，王戈特邀主...   \n",
       "6    7月23日，都市爱情黑色喜剧电影《夜夜夜》在北京举办“疯狂初夜”首次媒体见面会，由此这部剧...   \n",
       "7    《明日战记》的故事设定在2055年，那时候的地球深受污染和全球变暖问题的困扰，一颗陨石击中...   \n",
       "8    该片根据史蒂芬·莱瑟1992年出版的小说《中国佬》（The Chinaman）改编。讲述了...   \n",
       "9    《万里归途》是由饶晓志执导，秦海燕编剧，郭帆、王红卫监制，张译、王俊凯、殷桃领衔主演的剧情...   \n",
       "10   彼得帕克只是美国一个平凡的高中生，当一次他被蜘蛛博物馆偷跑出来的变种蜘蛛咬了一口之后，彼得...   \n",
       "11   电影《平安中国之守护者》以真实人物为原型，公、检、法、司、安五大政法机关作为背景，分别讲述...   \n",
       "12   民国年间，花钱捐得县长的马邦德（葛优 饰）携妻（刘嘉玲 饰）及随从走马上任。途经南国某地，...   \n",
       "13   《跳支华尔兹》是萨拉·波莉执导的喜剧片，米歇尔·威廉姆斯,塞斯·罗根出演。该片讲述了女主角...   \n",
       "14   满清康熙鼎盛之际,自十三岁入宫当宫女的兆佳沉香(周冬雨 饰)与同在乾西四所当差的好朋友琉璃...   \n",
       "15   基宇出生在一个贫穷的家庭之中，和妹妹基婷以及父母在狭窄的地下室里过着相依为命的日子。一天，...   \n",
       "16   寒冬季节，一组深圳游客家庭自驾进入东北长白山旅行，原本是其乐融融的旅行，却因父亲阿德的过失...   \n",
       "17   新版《哥斯拉》由2010年《怪兽禁区》（Monsters）的导演加雷斯·爱德华兹（Gare...   \n",
       "18   很多年以前，他矢志要成为一个优秀的猎妖师，他选择了黑山做他修行和圆梦之旅的起点。那时，燕赤...   \n",
       "19   千寻和爸爸妈妈一同驱车前往新家,在郊外的小路上不慎进入了神秘的隧道他们去到了另外一个诡异世...   \n",
       "20   该片改编自埃里希·玛利亚·雷马克撰写的同名经典小说，讲述在第一次世界大战期间，保罗·鲍曼和...   \n",
       "21   1912年4月10日,号称 “世界工业史上的奇迹”的豪华客轮泰坦尼克号开始了自己的处女航,...   \n",
       "22   小有名气但利欲熏心的律师潘肖（徐峥饰），凭借扎实的法律知识和巧舌如簧的庭辩技巧，成功帮盗捕...   \n",
       "23   朝鲜一座国家秘密工厂对美元的仿制度超过了百分之九十九，朝鲜特种部队首长车奇成，在之前的行动...   \n",
       "24   疯狂动物城是一座独一无二的现代动物都市。每种动物在这里都有自己的居所，比如富丽堂皇的撒哈拉...   \n",
       "25   电影《白鹿原》改编自陈忠实同名小说，由王全安执导，集结了张丰毅，张雨绮，段奕宏，吴刚，刘威...   \n",
       "26   有人说：香港幸有廉政公署，才能有今天国际金融中心的地位。这可能是廉政公署成立四十年来，最严...   \n",
       "27   一架老旧的波音747飞机准备进行其最后一次夜间飞行，载着仅有的九位乘客从位于太平洋中心的好...   \n",
       "28   性格高傲的神经外科手术专家史蒂芬·斯特兰奇（本尼迪克特·康伯巴奇饰）事业有成，在遭遇一次车...   \n",
       "29   北洋年间，北京以北。习武少年李天然目睹师兄朱潜龙勾结日本特务根本一郎，杀害师父全家。李天然...   \n",
       "\n",
       "                                                 封面地址      热度指数  \n",
       "0   https://fyb-1.cdn.bcebos.com/fyb-1/20221110/f1...   435876   \n",
       "1   https://fyb-1.cdn.bcebos.com/fyb-1/20221110/84...   200196   \n",
       "2   https://fyb-1.cdn.bcebos.com/fyb-1/20221110/ab...   180550   \n",
       "3   https://fyb-1.cdn.bcebos.com/fyb-1/20221110/39...   169531   \n",
       "4   https://fyb-1.cdn.bcebos.com/fyb-1/20221110/32...   166509   \n",
       "5   https://fyb-1.cdn.bcebos.com/fyb-1/20221110/3c...   165818   \n",
       "6   https://fyb-1.cdn.bcebos.com/fyb-1/20221110/fe...   165638   \n",
       "7   https://fyb-1.cdn.bcebos.com/fyb-1/20221110/03...   159408   \n",
       "8   https://fyb-1.cdn.bcebos.com/fyb-1/20221110/a1...   157046   \n",
       "9   https://fyb-1.cdn.bcebos.com/fyb-1/20221110/c4...    94496   \n",
       "10  https://fyb-1.cdn.bcebos.com/fyb-1/20221110/63...    67014   \n",
       "11  https://fyb-1.cdn.bcebos.com/fyb-1/20221110/c8...    61336   \n",
       "12  https://fyb-1.cdn.bcebos.com/fyb-1/20221110/84...    56595   \n",
       "13  https://fyb-1.cdn.bcebos.com/fyb-1/20221110/8d...    45699   \n",
       "14  https://fyb-1.cdn.bcebos.com/fyb-1/20221110/64...    45028   \n",
       "15  https://fyb-1.cdn.bcebos.com/fyb-1/20221110/52...    41323   \n",
       "16  https://fyb-1.cdn.bcebos.com/fyb-1/20221110/a1...    41232   \n",
       "17  https://fyb-1.cdn.bcebos.com/fyb-1/20221110/bc...    36005   \n",
       "18  https://fyb-1.cdn.bcebos.com/fyb-1/20221110/37...    35593   \n",
       "19  https://fyb-1.cdn.bcebos.com/fyb-1/20221110/10...    33402   \n",
       "20  https://fyb-1.cdn.bcebos.com/fyb-1/20221110/90...    32072   \n",
       "21  https://fyb-1.cdn.bcebos.com/fyb-1/20221110/ba...    31778   \n",
       "22  https://fyb-1.cdn.bcebos.com/fyb-1/20221110/ea...    29636   \n",
       "23  https://fyb-1.cdn.bcebos.com/fyb-1/20221110/91...    29183   \n",
       "24  https://fyb-1.cdn.bcebos.com/fyb-1/20221110/14...    28764   \n",
       "25  https://fyb-1.cdn.bcebos.com/fyb-1/20221110/fe...    28478   \n",
       "26  https://fyb-1.cdn.bcebos.com/fyb-1/20221110/54...    28099   \n",
       "27  https://fyb-1.cdn.bcebos.com/fyb-1/20221110/d2...    26996   \n",
       "28  https://fyb-1.cdn.bcebos.com/fyb-1/20221110/ce...    26382   \n",
       "29  https://fyb-1.cdn.bcebos.com/fyb-1/20221110/71...    25724   "
      ]
     },
     "execution_count": 19,
     "metadata": {},
     "output_type": "execute_result"
    }
   ],
   "source": [
    "#定义数据框\n",
    "dataframe=pd.DataFrame([movie_name,movie_class,movie_actor,movie_intro,movie_cover,hot_index],index=[ '电影名称','类型','主演','简介','封面地址','热度指数']).T\n",
    "dataframe"
   ]
  },
  {
   "cell_type": "code",
   "execution_count": 20,
   "id": "1237c840",
   "metadata": {
    "ExecuteTime": {
     "end_time": "2022-11-13T11:42:11.749903Z",
     "start_time": "2022-11-13T11:42:11.691858Z"
    }
   },
   "outputs": [],
   "source": [
    "#储存为Excel文件\n",
    "dataframe.to_excel('baidu_top30.xlsx')"
   ]
  }
 ],
 "metadata": {
  "kernelspec": {
   "display_name": "Python 3",
   "language": "python",
   "name": "python3"
  },
  "language_info": {
   "codemirror_mode": {
    "name": "ipython",
    "version": 3
   },
   "file_extension": ".py",
   "mimetype": "text/x-python",
   "name": "python",
   "nbconvert_exporter": "python",
   "pygments_lexer": "ipython3",
   "version": "3.8.8"
  },
  "toc": {
   "base_numbering": 1,
   "nav_menu": {},
   "number_sections": true,
   "sideBar": true,
   "skip_h1_title": false,
   "title_cell": "Table of Contents",
   "title_sidebar": "Contents",
   "toc_cell": false,
   "toc_position": {
    "height": "calc(100% - 180px)",
    "left": "10px",
    "top": "150px",
    "width": "307.2px"
   },
   "toc_section_display": true,
   "toc_window_display": true
  },
  "varInspector": {
   "cols": {
    "lenName": 16,
    "lenType": 16,
    "lenVar": 40
   },
   "kernels_config": {
    "python": {
     "delete_cmd_postfix": "",
     "delete_cmd_prefix": "del ",
     "library": "var_list.py",
     "varRefreshCmd": "print(var_dic_list())"
    },
    "r": {
     "delete_cmd_postfix": ") ",
     "delete_cmd_prefix": "rm(",
     "library": "var_list.r",
     "varRefreshCmd": "cat(var_dic_list()) "
    }
   },
   "oldHeight": 122.85033399999999,
   "position": {
    "height": "40px",
    "left": "1426px",
    "right": "20px",
    "top": "120px",
    "width": "250px"
   },
   "types_to_exclude": [
    "module",
    "function",
    "builtin_function_or_method",
    "instance",
    "_Feature"
   ],
   "varInspector_section_display": "none",
   "window_display": false
  }
 },
 "nbformat": 4,
 "nbformat_minor": 5
}
