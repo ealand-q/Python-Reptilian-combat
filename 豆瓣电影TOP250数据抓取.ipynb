{
 "cells": [
  {
   "cell_type": "markdown",
   "id": "f18654a9",
   "metadata": {
    "ExecuteTime": {
     "end_time": "2022-11-13T11:54:10.936361Z",
     "start_time": "2022-11-13T11:54:10.929833Z"
    }
   },
   "source": [
    "目标网址：https://movie.douban.com/top250"
   ]
  },
  {
   "cell_type": "markdown",
   "id": "9c6a1b41",
   "metadata": {
    "ExecuteTime": {
     "end_time": "2022-11-13T11:55:30.053892Z",
     "start_time": "2022-11-13T11:55:30.030840Z"
    }
   },
   "source": [
    "目标字段：\n",
    "- 电影名称\n",
    "- 导演\n",
    "- 主演\n",
    "- 电影放映年份、\n",
    "- 电影拍摄国家\n",
    "- 电影类型\n",
    "- 评分\n",
    "- 评价数 \n",
    "- 电影名言\n",
    "- 电影封面地址"
   ]
  },
  {
   "cell_type": "markdown",
   "id": "6933c0f9",
   "metadata": {
    "ExecuteTime": {
     "end_time": "2022-11-13T11:57:59.804759Z",
     "start_time": "2022-11-13T11:57:59.501220Z"
    }
   },
   "source": [
    "# 定义url地址"
   ]
  },
  {
   "cell_type": "code",
   "execution_count": 1,
   "id": "1537f53c",
   "metadata": {
    "ExecuteTime": {
     "end_time": "2022-11-20T07:15:22.818970Z",
     "start_time": "2022-11-20T07:15:22.804067Z"
    }
   },
   "outputs": [],
   "source": [
    "url='https://movie.douban.com/top250?start=0&filter='"
   ]
  },
  {
   "cell_type": "markdown",
   "id": "051367f6",
   "metadata": {
    "ExecuteTime": {
     "end_time": "2022-11-13T11:58:26.953941Z",
     "start_time": "2022-11-13T11:58:26.928550Z"
    }
   },
   "source": [
    "# 发送请求"
   ]
  },
  {
   "cell_type": "code",
   "execution_count": 2,
   "id": "d4eab58e",
   "metadata": {
    "ExecuteTime": {
     "end_time": "2022-11-20T07:15:22.961125Z",
     "start_time": "2022-11-20T07:15:22.821291Z"
    }
   },
   "outputs": [],
   "source": [
    "import requests"
   ]
  },
  {
   "cell_type": "code",
   "execution_count": 3,
   "id": "328313d3",
   "metadata": {
    "ExecuteTime": {
     "end_time": "2022-11-20T07:15:22.976667Z",
     "start_time": "2022-11-20T07:15:22.963289Z"
    }
   },
   "outputs": [],
   "source": [
    "#添加请求头\n",
    "headers={\n",
    "    'User-Agent':'Mozilla/5.0 (Windows NT 10.0; Win64; x64; rv:106.0) Gecko/20100101 Firefox/106.0',\n",
    "    'Cookie':'bid=BnEflZB6fNI; douban-fav-remind=1; ll=\"118254\"; ct=y; push_noty_num=0; push_doumail_num=0; ap_v=0,6.0; dbcl2=\"242291396:p/7AbnTukt8\"; ck=FmxX'\n",
    "}"
   ]
  },
  {
   "cell_type": "code",
   "execution_count": 4,
   "id": "2b3c8a2d",
   "metadata": {
    "ExecuteTime": {
     "end_time": "2022-11-20T07:15:23.350486Z",
     "start_time": "2022-11-20T07:15:22.979223Z"
    }
   },
   "outputs": [],
   "source": [
    "reponse=requests.get(url,headers=headers)"
   ]
  },
  {
   "cell_type": "code",
   "execution_count": 5,
   "id": "1b1460b6",
   "metadata": {
    "ExecuteTime": {
     "end_time": "2022-11-20T07:15:23.382258Z",
     "start_time": "2022-11-20T07:15:23.355914Z"
    }
   },
   "outputs": [
    {
     "data": {
      "text/plain": [
       "200"
      ]
     },
     "execution_count": 5,
     "metadata": {},
     "output_type": "execute_result"
    }
   ],
   "source": [
    "reponse.status_code"
   ]
  },
  {
   "cell_type": "code",
   "execution_count": 6,
   "id": "fa514677",
   "metadata": {
    "ExecuteTime": {
     "end_time": "2022-11-20T07:15:23.413619Z",
     "start_time": "2022-11-20T07:15:23.385502Z"
    }
   },
   "outputs": [
    {
     "data": {
      "text/plain": [
       "'<!DOCTYPE html>\\n<html lang=\"zh-CN\" class=\"ua-windows ua-ff10\">\\n<head>\\n    <meta http-equiv=\"Content-Type\" content=\"text/html; charset=utf-8\">\\n    <meta name=\"renderer\" content=\"webkit\">\\n    <meta name=\"referrer\" content=\"always\">\\n    <meta name=\"google-site-verification\" content=\"ok0wCgT20tBBgo9_zat2iAcimtN4Ftf5ccsh092Xeyw\" />\\n    <title>\\n豆瓣电影 Top 250\\n</title>\\n    \\n    <meta name=\"baidu-site-verification\" content=\"cZdR4xxR7RxmM4zE\" />\\n    <meta http-equiv=\"Pragma\" content=\"no-cache\">\\n    <meta http-equiv=\"Expires\" content=\"Sun, 6 Mar 2005 01:00:00 GMT\">\\n    \\n    <link rel=\"apple-touch-icon\" href=\"https://img3.doubanio.com/f/movie/d59b2715fdea4968a450ee5f6c95c7d7a2030065/pics/movie/apple-touch-icon.png\">\\n    <link href=\"https://img3.doubanio.com/f/shire/204847ecc7d679de915c283531d14f16cfbee65e/css/douban.css\" rel=\"stylesheet\" type=\"text/css\">\\n    <link href=\"https://img3.doubanio.com/f/shire/0b4cdb02dd620693709d9314196b617f17c2f9ea/css/separation/_all.css\" rel=\"stylesheet\" type=\"text/css\">\\n    <link href=\"https://img3.doubanio.com/f/movie/252bef058b97005c6a41e8f1b9f7b06b84bc71b3/css/movie/base/init.css\" rel=\"stylesheet\">\\n    <script type=\"text/javascript\">var _head_start = new Date();</script>\\n    <script type=\"text/javascript\" src=\"https://img3.doubanio.com/f/movie/0495cb173e298c28593766009c7b0a953246c5b5/js/movie/lib/jquery.js\"></script>\\n    <script type=\"text/javascript\" src=\"https://img3.doubanio.com/f/shire/4888ee2fda6812f70a064a51c93b84fde8e4a3c2/js/douban.js\"></script>\\n    <script type=\"text/javascript\" src=\"https://img3.doubanio.com/f/shire/b0d3faaf7a432605add54908e39e17746824d6cc/js/separation/_all.js\"></script>\\n    \\n<link href=\"https://img3.doubanio.com/f/movie/2c95f768ea74284b900c04c0209b0a44f0a0de52/css/movie/top_movies.css\" rel=\"stylesheet\" type=\"text/css\" />\\n<script type=\"text/javascript\" src=\"https://img3.doubanio.com/f/shire/2c0c1c6b83f9a457b0f38c38a32fc43a42ec9bad/js/do.js\" data-cfg-autoload=\"false\"></script>\\n<script type=\\'text/javascript\\'>\\n    Do.ready(function(){\\n            $(\"#mine-selector input[type=\\'checkbox\\']\").click(function(){\\n                var val = $(this).is(\":checked\")?$(this).val():\"\";\\n                window.location.href = \\'/top250?filter=\\' + val;\\n            })\\n    })\\n</script>\\n\\n    <style type=\"text/css\">\\n.site-nav-logo img{margin-bottom:0;}\\n</style>\\n    <style type=\"text/css\">img { max-width: 100%; }</style>\\n    <script type=\"text/javascript\"></script>\\n    <link rel=\"stylesheet\" href=\"https://img3.doubanio.com/misc/mixed_static/562925b5e3824700.css\">\\n\\n    <link rel=\"shortcut icon\" href=\"https://img3.doubanio.com/favicon.ico\" type=\"image/x-icon\">\\n</head>\\n\\n<body>\\n  \\n    <script type=\"text/javascript\">var _body_start = new Date();</script>\\n\\n    \\n    \\n\\n\\n\\n    <link href=\"//img3.doubanio.com/dae/accounts/resources/3e96b44/shire/bundle.css\" rel=\"stylesheet\" type=\"text/css\">\\n\\n\\n\\n<div id=\"db-global-nav\" class=\"global-nav\">\\n  <div class=\"bd\">\\n    \\n<div class=\"top-nav-info\">\\n  <ul>\\n    <li>\\n    <a id=\"top-nav-doumail-link\" href=\"https://www.douban.com/doumail/\">豆邮</a>\\n    </li>\\n    <li class=\"nav-user-account\">\\n      <a target=\"_blank\" href=\"https://accounts.douban.com/passport/setting/\" class=\"bn-more\">\\n        <span>957.的帐号</span><span class=\"arrow\"></span>\\n      </a>\\n      <div class=\"more-items\">\\n        <table cellpadding=\"0\" cellspacing=\"0\">\\n          <tbody>\\n            <tr>\\n              <td>\\n                <a href=\"https://www.douban.com/mine/\">个人主页</a>\\n              </td>\\n            </tr>\\n            <tr>\\n              <td>\\n                <a target=\"_blank\" href=\"https://www.douban.com/mine/orders/\">我的订单</a>\\n              </td>\\n            </tr>\\n            <tr>\\n              <td>\\n                <a target=\"_blank\" href=\"https://www.douban.com/mine/wallet/\">我的钱包</a>\\n              </td>\\n            </tr>\\n            <tr>\\n              <td>\\n                <a target=\"_blank\" href=\"https://accounts.douban.com/passport/setting/\">帐号管理</a>\\n              </td>\\n            </tr>\\n            <tr>\\n              <td>\\n                <a href=\"https://www.douban.com/accounts/logout?source=movie&ck=FmxX\">退出</a>\\n              </td>\\n            </tr>\\n          </tbody>\\n        </table>\\n      </div>\\n    </li>\\n  </ul>\\n</div>\\n\\n  <div class=\"top-nav-reminder\">\\n    <a href=\"https://www.douban.com/notification/\" class=\"lnk-remind\">提醒</a>\\n    <div id=\"top-nav-notimenu\" class=\"more-items\">\\n      <div class=\"bd\">\\n        <p>加载中...</p>\\n      </div>\\n    </div>\\n  </div>\\n\\n    <div class=\"top-nav-doubanapp\">\\n  <a href=\"https://www.douban.com/doubanapp/app?channel=top-nav\" class=\"lnk-doubanapp\">下载豆瓣客户端</a>\\n  <div id=\"doubanapp-tip\">\\n    <a href=\"https://www.douban.com/doubanapp/app?channel=qipao\" class=\"tip-link\">豆瓣 <span class=\"version\">6.0</span> 全新发布</a>\\n    <a href=\"javascript: void 0;\" class=\"tip-close\">×</a>\\n  </div>\\n  <div id=\"top-nav-appintro\" class=\"more-items\">\\n    <p class=\"appintro-title\">豆瓣</p>\\n    <p class=\"qrcode\">扫码直接下载</p>\\n    <div class=\"download\">\\n      <a href=\"https://www.douban.com/doubanapp/redirect?channel=top-nav&direct_dl=1&download=iOS\">iPhone</a>\\n      <span>·</span>\\n      <a href=\"https://www.douban.com/doubanapp/redirect?channel=top-nav&direct_dl=1&download=Android\" class=\"download-android\">Android</a>\\n    </div>\\n  </div>\\n</div>\\n\\n    \\n\\n\\n<div class=\"global-nav-items\">\\n  <ul>\\n    <li class=\"\">\\n      <a href=\"https://www.douban.com\" target=\"_blank\" data-moreurl-dict=\"{&quot;from&quot;:&quot;top-nav-click-main&quot;,&quot;uid&quot;:&quot;242291396&quot;}\">豆瓣</a>\\n    </li>\\n    <li class=\"\">\\n      <a href=\"https://book.douban.com\" target=\"_blank\" data-moreurl-dict=\"{&quot;from&quot;:&quot;top-nav-click-book&quot;,&quot;uid&quot;:&quot;242291396&quot;}\">读书</a>\\n    </li>\\n    <li class=\"on\">\\n      <a href=\"https://movie.douban.com\"  data-moreurl-dict=\"{&quot;from&quot;:&quot;top-nav-click-movie&quot;,&quot;uid&quot;:&quot;242291396&quot;}\">电影</a>\\n    </li>\\n    <li class=\"\">\\n      <a href=\"https://music.douban.com\" target=\"_blank\" data-moreurl-dict=\"{&quot;from&quot;:&quot;top-nav-click-music&quot;,&quot;uid&quot;:&quot;242291396&quot;}\">音乐</a>\\n    </li>\\n    <li class=\"\">\\n      <a href=\"https://www.douban.com/location\" target=\"_blank\" data-moreurl-dict=\"{&quot;from&quot;:&quot;top-nav-click-location&quot;,&quot;uid&quot;:&quot;242291396&quot;}\">同城</a>\\n    </li>\\n    <li class=\"\">\\n      <a href=\"https://www.douban.com/group\" target=\"_blank\" data-moreurl-dict=\"{&quot;from&quot;:&quot;top-nav-click-group&quot;,&quot;uid&quot;:&quot;242291396&quot;}\">小组</a>\\n    </li>\\n    <li class=\"\">\\n      <a href=\"https://read.douban.com&#47;?dcs=top-nav&amp;dcm=douban\" target=\"_blank\" data-moreurl-dict=\"{&quot;from&quot;:&quot;top-nav-click-read&quot;,&quot;uid&quot;:&quot;242291396&quot;}\">阅读</a>\\n    </li>\\n    <li class=\"\">\\n      <a href=\"https://douban.fm&#47;?from_=shire_top_nav\" target=\"_blank\" data-moreurl-dict=\"{&quot;from&quot;:&quot;top-nav-click-fm&quot;,&quot;uid&quot;:&quot;242291396&quot;}\">FM</a>\\n    </li>\\n    <li class=\"\">\\n      <a href=\"https://time.douban.com&#47;?dt_time_source=douban-web_top_nav\" target=\"_blank\" data-moreurl-dict=\"{&quot;from&quot;:&quot;top-nav-click-time&quot;,&quot;uid&quot;:&quot;242291396&quot;}\">时间</a>\\n    </li>\\n    <li class=\"\">\\n      <a href=\"https://market.douban.com&#47;?utm_campaign=douban_top_nav&amp;utm_source=douban&amp;utm_medium=pc_web\" target=\"_blank\" data-moreurl-dict=\"{&quot;from&quot;:&quot;top-nav-click-market&quot;,&quot;uid&quot;:&quot;242291396&quot;}\">豆品</a>\\n    </li>\\n  </ul>\\n</div>\\n\\n  </div>\\n</div>\\n<script>\\n  ;window._GLOBAL_NAV = {\\n    USER_ID: \"242291396\",\\n    UPLOAD_AUTH_TOKEN: \"242291396:9ee7812b0384d769d77fd1ba19c449f82f4b655c\",\\n    SSE_TOKEN: \"998c3210651a58e51ac4136888136f047f37ee05\",\\n    SSE_TIMESTAMP: \"1668928525\",\\n    DOUBAN_URL: \"https://www.douban.com\",\\n    N_NEW_NOTIS: 0,\\n    N_NEW_DOUMAIL: 0\\n  };\\n</script>\\n\\n\\n\\n    <script src=\"//img3.doubanio.com/dae/accounts/resources/3e96b44/shire/bundle.js\" defer=\"defer\"></script>\\n\\n\\n\\n\\n    \\n\\n\\n\\n    <link href=\"//img3.doubanio.com/dae/accounts/resources/3e96b44/movie/bundle.css\" rel=\"stylesheet\" type=\"text/css\">\\n\\n\\n\\n\\n<div id=\"db-nav-movie\" class=\"nav\">\\n  <div class=\"nav-wrap\">\\n  <div class=\"nav-primary\">\\n    <div class=\"nav-logo\">\\n      <a href=\"https:&#47;&#47;movie.douban.com\">豆瓣电影</a>\\n    </div>\\n    <div class=\"nav-search\">\\n      <form action=\"https:&#47;&#47;search.douban.com&#47;movie/subject_search\" method=\"get\">\\n        <fieldset>\\n          <legend>搜索：</legend>\\n          <label for=\"inp-query\">\\n          </label>\\n          <div class=\"inp\"><input id=\"inp-query\" name=\"search_text\" size=\"22\" maxlength=\"60\" placeholder=\"搜索电影、电视剧、综艺、影人\" value=\"\"></div>\\n          <div class=\"inp-btn\"><input type=\"submit\" value=\"搜索\"></div>\\n          <input type=\"hidden\" name=\"cat\" value=\"1002\" />\\n        </fieldset>\\n      </form>\\n    </div>\\n  </div>\\n  </div>\\n  <div class=\"nav-secondary\">\\n    \\n\\n<div class=\"nav-items\">\\n  <ul>\\n    <li    ><a href=\"https://movie.douban.com/mine\"\\n     >我看</a>\\n    </li>\\n    <li    ><a href=\"https://movie.douban.com/cinema/nowplaying/\"\\n     >影讯&购票</a>\\n    </li>\\n    <li    ><a href=\"https://movie.douban.com/explore\"\\n     >选电影</a>\\n    </li>\\n    <li    ><a href=\"https://movie.douban.com/tv/\"\\n     >电视剧</a>\\n    </li>\\n    <li    ><a href=\"https://movie.douban.com/chart\"\\n     >排行榜</a>\\n    </li>\\n    <li    ><a href=\"https://movie.douban.com/review/best/\"\\n     >影评</a>\\n    </li>\\n    <li    ><a href=\"https://movie.douban.com/annual/2021?source=navigation\"\\n     >2021年度榜单</a>\\n    </li>\\n    <li    ><a href=\"https://www.douban.com/standbyme/2021?fullscreen=true&hidenav=true&autorotate=false&source=movie_navigation\"\\n            target=\"_blank\"\\n     >2021书影音报告</a>\\n    </li>\\n  </ul>\\n</div>\\n\\n    <a href=\"https://movie.douban.com/annual/2021?source=movie_navigation\" class=\"movieannual\"></a>\\n  </div>\\n</div>\\n\\n<script id=\"suggResult\" type=\"text/x-jquery-tmpl\">\\n  <li data-link=\"{{= url}}\">\\n            <a href=\"{{= url}}\" onclick=\"moreurl(this, {from:\\'movie_search_sugg\\', query:\\'{{= keyword }}\\', subject_id:\\'{{= id}}\\', i: \\'{{= index}}\\', type: \\'{{= type}}\\'})\">\\n            <img src=\"{{= img}}\" width=\"40\" />\\n            <p>\\n                <em>{{= title}}</em>\\n                {{if year}}\\n                    <span>{{= year}}</span>\\n                {{/if}}\\n                {{if sub_title}}\\n                    <br /><span>{{= sub_title}}</span>\\n                {{/if}}\\n                {{if address}}\\n                    <br /><span>{{= address}}</span>\\n                {{/if}}\\n                {{if episode}}\\n                    {{if episode==\"unknow\"}}\\n                        <br /><span>集数未知</span>\\n                    {{else}}\\n                        <br /><span>共{{= episode}}集</span>\\n                    {{/if}}\\n                {{/if}}\\n            </p>\\n        </a>\\n        </li>\\n  </script>\\n\\n\\n\\n\\n    <script src=\"//img3.doubanio.com/dae/accounts/resources/3e96b44/movie/bundle.js\" defer=\"defer\"></script>\\n\\n\\n\\n\\n\\n    \\n    <div id=\"wrapper\">\\n        \\n\\n        \\n    <div id=\"content\">\\n        \\n    <h1>豆瓣电影 Top 250</h1>\\n\\n        <div class=\"grid-16-8 clearfix\">\\n            \\n            \\n            <div class=\"article\">\\n                \\n\\n\\n\\n\\n\\n\\n\\n<div class=\"opt mod\">\\n    <div class=\"tabs\">\\n      \\n    \\n\\n    </div>\\n    <span id=\"mine-selector\">\\n      <input type=\"checkbox\"  value=\"unwatched\">我没看过的(250)\\n    </span>\\n</div>\\n\\n\\n\\n<ol class=\"grid_view\">\\n        <li>\\n            <div class=\"item\">\\n                <div class=\"pic\">\\n                    <em class=\"\">1</em>\\n                    <a href=\"https://movie.douban.com/subject/1292052/\">\\n                        <img width=\"100\" alt=\"肖申克的救赎\" src=\"https://img2.doubanio.com/view/photo/s_ratio_poster/public/p480747492.jpg\" class=\"\">\\n                    </a>\\n                </div>\\n                <div class=\"info\">\\n                    <div class=\"hd\">\\n                        <a href=\"https://movie.douban.com/subject/1292052/\" class=\"\">\\n                            <span class=\"title\">肖申克的救赎</span>\\n                                    <span class=\"title\">&nbsp;/&nbsp;The Shawshank Redemption</span>\\n                                <span class=\"other\">&nbsp;/&nbsp;月黑高飞(港)  /  刺激1995(台)</span>\\n                        </a>\\n\\n\\n                            <span class=\"playable\">[可播放]</span>\\n                    </div>\\n                    <div class=\"bd\">\\n                        <p class=\"\">\\n                            导演: 弗兰克·德拉邦特 Frank Darabont&nbsp;&nbsp;&nbsp;主演: 蒂姆·罗宾斯 Tim Robbins /...<br>\\n                            1994&nbsp;/&nbsp;美国&nbsp;/&nbsp;犯罪 剧情\\n                        </p>\\n\\n                        \\n                        <div class=\"star\">\\n                                <span class=\"rating5-t\"></span>\\n                                <span class=\"rating_num\" property=\"v:average\">9.7</span>\\n                                <span property=\"v:best\" content=\"10.0\"></span>\\n                                <span>2737492人评价</span>\\n                        </div>\\n\\n                            <p class=\"quote\">\\n                                <span class=\"inq\">希望让人自由。</span>\\n                            </p>\\n                            \\n\\n    <p>\\n        \\n        <span class=\"gact\">\\n            <a href=\"https://movie.douban.com/wish/242291396/update?add=1292052\" target=\"_blank\" class=\"j a_collect_btn\" name=\"sbtn-1292052-wish\" rel=\"nofollow\">想看</a>\\n        </span>&nbsp;&nbsp;\\n        \\n        <span class=\"gact\">\\n            <a href=\"https://movie.douban.com/collection/242291396/update?add=1292052\" target=\"_blank\" class=\"j a_collect_btn\" name=\"sbtn-1292052-collection\" rel=\"nofollow\">看过</a>\\n        </span>&nbsp;&nbsp;\\n    </p>\\n\\n                    </div>\\n                </div>\\n            </div>\\n        </li>\\n        <li>\\n            <div class=\"item\">\\n                <div class=\"pic\">\\n                    <em class=\"\">2</em>\\n                    <a href=\"https://movie.douban.com/subject/1291546/\">\\n                        <img width=\"100\" alt=\"霸王别姬\" src=\"https://img3.doubanio.com/view/photo/s_ratio_poster/public/p2561716440.jpg\" class=\"\">\\n                    </a>\\n                </div>\\n                <div class=\"info\">\\n                    <div class=\"hd\">\\n                        <a href=\"https://movie.douban.com/subject/1291546/\" class=\"\">\\n                            <span class=\"title\">霸王别姬</span>\\n                                <span class=\"other\">&nbsp;/&nbsp;再见，我的妾  /  Farewell My Concubine</span>\\n                        </a>\\n\\n\\n                            <span class=\"playable\">[可播放]</span>\\n                    </div>\\n                    <div class=\"bd\">\\n                        <p class=\"\">\\n                            导演: 陈凯歌 Kaige Chen&nbsp;&nbsp;&nbsp;主演: 张国荣 Leslie Cheung / 张丰毅 Fengyi Zha...<br>\\n                            1993&nbsp;/&nbsp;中国大陆 中国香港&nbsp;/&nbsp;剧情 爱情 同性\\n                        </p>\\n\\n                        \\n                        <div class=\"star\">\\n                                <span class=\"rating5-t\"></span>\\n                                <span class=\"rating_num\" property=\"v:average\">9.6</span>\\n                                <span property=\"v:best\" content=\"10.0\"></span>\\n                                <span>2028333人评价</span>\\n                        </div>\\n\\n                            <p class=\"quote\">\\n                                <span class=\"inq\">风华绝代。</span>\\n                            </p>\\n                            \\n\\n    <p>\\n        \\n        <span class=\"gact\">\\n            <a href=\"https://movie.douban.com/wish/242291396/update?add=1291546\" target=\"_blank\" class=\"j a_collect_btn\" name=\"sbtn-1291546-wish\" rel=\"nofollow\">想看</a>\\n        </span>&nbsp;&nbsp;\\n        \\n        <span class=\"gact\">\\n            <a href=\"https://movie.douban.com/collection/242291396/update?add=1291546\" target=\"_blank\" class=\"j a_collect_btn\" name=\"sbtn-1291546-collection\" rel=\"nofollow\">看过</a>\\n        </span>&nbsp;&nbsp;\\n    </p>\\n\\n                    </div>\\n                </div>\\n            </div>\\n        </li>\\n        <li>\\n            <div class=\"item\">\\n                <div class=\"pic\">\\n                    <em class=\"\">3</em>\\n                    <a href=\"https://movie.douban.com/subject/1292720/\">\\n                        <img width=\"100\" alt=\"阿甘正传\" src=\"https://img2.doubanio.com/view/photo/s_ratio_poster/public/p2372307693.jpg\" class=\"\">\\n                    </a>\\n                </div>\\n                <div class=\"info\">\\n                    <div class=\"hd\">\\n                        <a href=\"https://movie.douban.com/subject/1292720/\" class=\"\">\\n                            <span class=\"title\">阿甘正传</span>\\n                                    <span class=\"title\">&nbsp;/&nbsp;Forrest Gump</span>\\n                                <span class=\"other\">&nbsp;/&nbsp;福雷斯特·冈普</span>\\n                        </a>\\n\\n\\n                            <span class=\"playable\">[可播放]</span>\\n                    </div>\\n                    <div class=\"bd\">\\n                        <p class=\"\">\\n                            导演: 罗伯特·泽米吉斯 Robert Zemeckis&nbsp;&nbsp;&nbsp;主演: 汤姆·汉克斯 Tom Hanks / ...<br>\\n                            1994&nbsp;/&nbsp;美国&nbsp;/&nbsp;剧情 爱情\\n                        </p>\\n\\n                        \\n                        <div class=\"star\">\\n                                <span class=\"rating5-t\"></span>\\n                                <span class=\"rating_num\" property=\"v:average\">9.5</span>\\n                                <span property=\"v:best\" content=\"10.0\"></span>\\n                                <span>2053553人评价</span>\\n                        </div>\\n\\n                            <p class=\"quote\">\\n                                <span class=\"inq\">一部美国近现代史。</span>\\n                            </p>\\n                            \\n\\n    <p>\\n        \\n        <span class=\"gact\">\\n            <a href=\"https://movie.douban.com/wish/242291396/update?add=1292720\" target=\"_blank\" class=\"j a_collect_btn\" name=\"sbtn-1292720-wish\" rel=\"nofollow\">想看</a>\\n        </span>&nbsp;&nbsp;\\n        \\n        <span class=\"gact\">\\n            <a href=\"https://movie.douban.com/collection/242291396/update?add=1292720\" target=\"_blank\" class=\"j a_collect_btn\" name=\"sbtn-1292720-collection\" rel=\"nofollow\">看过</a>\\n        </span>&nbsp;&nbsp;\\n    </p>\\n\\n                    </div>\\n                </div>\\n            </div>\\n        </li>\\n        <li>\\n            <div class=\"item\">\\n                <div class=\"pic\">\\n                    <em class=\"\">4</em>\\n                    <a href=\"https://movie.douban.com/subject/1292722/\">\\n                        <img width=\"100\" alt=\"泰坦尼克号\" src=\"https://img9.doubanio.com/view/photo/s_ratio_poster/public/p457760035.jpg\" class=\"\">\\n                    </a>\\n                </div>\\n                <div class=\"info\">\\n                    <div class=\"hd\">\\n                        <a href=\"https://movie.douban.com/subject/1292722/\" class=\"\">\\n                            <span class=\"title\">泰坦尼克号</span>\\n                                    <span class=\"title\">&nbsp;/&nbsp;Titanic</span>\\n                                <span class=\"other\">&nbsp;/&nbsp;铁达尼号(港 / 台)</span>\\n                        </a>\\n\\n\\n                            <span class=\"playable\">[可播放]</span>\\n                    </div>\\n                    <div class=\"bd\">\\n                        <p class=\"\">\\n                            导演: 詹姆斯·卡梅隆 James Cameron&nbsp;&nbsp;&nbsp;主演: 莱昂纳多·迪卡普里奥 Leonardo...<br>\\n                            1997&nbsp;/&nbsp;美国 墨西哥 澳大利亚 加拿大&nbsp;/&nbsp;剧情 爱情 灾难\\n                        </p>\\n\\n                        \\n                        <div class=\"star\">\\n                                <span class=\"rating45-t\"></span>\\n                                <span class=\"rating_num\" property=\"v:average\">9.4</span>\\n                                <span property=\"v:best\" content=\"10.0\"></span>\\n                                <span>2012602人评价</span>\\n                        </div>\\n\\n                            <p class=\"quote\">\\n                                <span class=\"inq\">失去的才是永恒的。 </span>\\n                            </p>\\n                            \\n\\n    <p>\\n        \\n        <span class=\"gact\">\\n            <a href=\"https://movie.douban.com/wish/242291396/update?add=1292722\" target=\"_blank\" class=\"j a_collect_btn\" name=\"sbtn-1292722-wish\" rel=\"nofollow\">想看</a>\\n        </span>&nbsp;&nbsp;\\n        \\n        <span class=\"gact\">\\n            <a href=\"https://movie.douban.com/collection/242291396/update?add=1292722\" target=\"_blank\" class=\"j a_collect_btn\" name=\"sbtn-1292722-collection\" rel=\"nofollow\">看过</a>\\n        </span>&nbsp;&nbsp;\\n    </p>\\n\\n                    </div>\\n                </div>\\n            </div>\\n        </li>\\n        <li>\\n            <div class=\"item\">\\n                <div class=\"pic\">\\n                    <em class=\"\">5</em>\\n                    <a href=\"https://movie.douban.com/subject/1295644/\">\\n                        <img width=\"100\" alt=\"这个杀手不太冷\" src=\"https://img2.doubanio.com/view/photo/s_ratio_poster/public/p511118051.jpg\" class=\"\">\\n                    </a>\\n                </div>\\n                <div class=\"info\">\\n                    <div class=\"hd\">\\n                        <a href=\"https://movie.douban.com/subject/1295644/\" class=\"\">\\n                            <span class=\"title\">这个杀手不太冷</span>\\n                                    <span class=\"title\">&nbsp;/&nbsp;Léon</span>\\n                                <span class=\"other\">&nbsp;/&nbsp;终极追杀令(台)  /  杀手莱昂</span>\\n                        </a>\\n\\n\\n                    </div>\\n                    <div class=\"bd\">\\n                        <p class=\"\">\\n                            导演: 吕克·贝松 Luc Besson&nbsp;&nbsp;&nbsp;主演: 让·雷诺 Jean Reno / 娜塔莉·波特曼 ...<br>\\n                            1994&nbsp;/&nbsp;法国 美国&nbsp;/&nbsp;剧情 动作 犯罪\\n                        </p>\\n\\n                        \\n                        <div class=\"star\">\\n                                <span class=\"rating45-t\"></span>\\n                                <span class=\"rating_num\" property=\"v:average\">9.4</span>\\n                                <span property=\"v:best\" content=\"10.0\"></span>\\n                                <span>2194156人评价</span>\\n                        </div>\\n\\n                            <p class=\"quote\">\\n                                <span class=\"inq\">怪蜀黍和小萝莉不得不说的故事。</span>\\n                            </p>\\n                            \\n\\n    <p>\\n        \\n        <span class=\"gact\">\\n            <a href=\"https://movie.douban.com/wish/242291396/update?add=1295644\" target=\"_blank\" class=\"j a_collect_btn\" name=\"sbtn-1295644-wish\" rel=\"nofollow\">想看</a>\\n        </span>&nbsp;&nbsp;\\n        \\n        <span class=\"gact\">\\n            <a href=\"https://movie.douban.com/collection/242291396/update?add=1295644\" target=\"_blank\" class=\"j a_collect_btn\" name=\"sbtn-1295644-collection\" rel=\"nofollow\">看过</a>\\n        </span>&nbsp;&nbsp;\\n    </p>\\n\\n                    </div>\\n                </div>\\n            </div>\\n        </li>\\n        <li>\\n            <div class=\"item\">\\n                <div class=\"pic\">\\n                    <em class=\"\">6</em>\\n                    <a href=\"https://movie.douban.com/subject/1292063/\">\\n                        <img width=\"100\" alt=\"美丽人生\" src=\"https://img2.doubanio.com/view/photo/s_ratio_poster/public/p2578474613.jpg\" class=\"\">\\n                    </a>\\n                </div>\\n                <div class=\"info\">\\n                    <div class=\"hd\">\\n                        <a href=\"https://movie.douban.com/subject/1292063/\" class=\"\">\\n                            <span class=\"title\">美丽人生</span>\\n                                    <span class=\"title\">&nbsp;/&nbsp;La vita è bella</span>\\n                                <span class=\"other\">&nbsp;/&nbsp;一个快乐的传说(港)  /  Life Is Beautiful</span>\\n                        </a>\\n\\n\\n                            <span class=\"playable\">[可播放]</span>\\n                    </div>\\n                    <div class=\"bd\">\\n                        <p class=\"\">\\n                            导演: 罗伯托·贝尼尼 Roberto Benigni&nbsp;&nbsp;&nbsp;主演: 罗伯托·贝尼尼 Roberto Beni...<br>\\n                            1997&nbsp;/&nbsp;意大利&nbsp;/&nbsp;剧情 喜剧 爱情 战争\\n                        </p>\\n\\n                        \\n                        <div class=\"star\">\\n                                <span class=\"rating5-t\"></span>\\n                                <span class=\"rating_num\" property=\"v:average\">9.6</span>\\n                                <span property=\"v:best\" content=\"10.0\"></span>\\n                                <span>1260538人评价</span>\\n                        </div>\\n\\n                            <p class=\"quote\">\\n                                <span class=\"inq\">最美的谎言。</span>\\n                            </p>\\n                            \\n\\n    <p>\\n        \\n        <span class=\"gact\">\\n            <a href=\"https://movie.douban.com/wish/242291396/update?add=1292063\" target=\"_blank\" class=\"j a_collect_btn\" name=\"sbtn-1292063-wish\" rel=\"nofollow\">想看</a>\\n        </span>&nbsp;&nbsp;\\n        \\n        <span class=\"gact\">\\n            <a href=\"https://movie.douban.com/collection/242291396/update?add=1292063\" target=\"_blank\" class=\"j a_collect_btn\" name=\"sbtn-1292063-collection\" rel=\"nofollow\">看过</a>\\n        </span>&nbsp;&nbsp;\\n    </p>\\n\\n                    </div>\\n                </div>\\n            </div>\\n        </li>\\n        <li>\\n            <div class=\"item\">\\n                <div class=\"pic\">\\n                    <em class=\"\">7</em>\\n                    <a href=\"https://movie.douban.com/subject/1291561/\">\\n                        <img width=\"100\" alt=\"千与千寻\" src=\"https://img1.doubanio.com/view/photo/s_ratio_poster/public/p2557573348.jpg\" class=\"\">\\n                    </a>\\n                </div>\\n                <div class=\"info\">\\n                    <div class=\"hd\">\\n                        <a href=\"https://movie.douban.com/subject/1291561/\" class=\"\">\\n                            <span class=\"title\">千与千寻</span>\\n                                    <span class=\"title\">&nbsp;/&nbsp;千と千尋の神隠し</span>\\n                                <span class=\"other\">&nbsp;/&nbsp;神隐少女(台)  /  千与千寻的神隐</span>\\n                        </a>\\n\\n\\n                    </div>\\n                    <div class=\"bd\">\\n                        <p class=\"\">\\n                            导演: 宫崎骏 Hayao Miyazaki&nbsp;&nbsp;&nbsp;主演: 柊瑠美 Rumi Hîragi / 入野自由 Miy...<br>\\n                            2001&nbsp;/&nbsp;日本&nbsp;/&nbsp;剧情 动画 奇幻\\n                        </p>\\n\\n                        \\n                        <div class=\"star\">\\n                                <span class=\"rating45-t\"></span>\\n                                <span class=\"rating_num\" property=\"v:average\">9.4</span>\\n                                <span property=\"v:best\" content=\"10.0\"></span>\\n                                <span>2128642人评价</span>\\n                        </div>\\n\\n                            <p class=\"quote\">\\n                                <span class=\"inq\">最好的宫崎骏，最好的久石让。 </span>\\n                            </p>\\n                            \\n\\n    <p>\\n        \\n        <span class=\"gact\">\\n            <a href=\"https://movie.douban.com/wish/242291396/update?add=1291561\" target=\"_blank\" class=\"j a_collect_btn\" name=\"sbtn-1291561-wish\" rel=\"nofollow\">想看</a>\\n        </span>&nbsp;&nbsp;\\n        \\n        <span class=\"gact\">\\n            <a href=\"https://movie.douban.com/collection/242291396/update?add=1291561\" target=\"_blank\" class=\"j a_collect_btn\" name=\"sbtn-1291561-collection\" rel=\"nofollow\">看过</a>\\n        </span>&nbsp;&nbsp;\\n    </p>\\n\\n                    </div>\\n                </div>\\n            </div>\\n        </li>\\n        <li>\\n            <div class=\"item\">\\n                <div class=\"pic\">\\n                    <em class=\"\">8</em>\\n                    <a href=\"https://movie.douban.com/subject/1295124/\">\\n                        <img width=\"100\" alt=\"辛德勒的名单\" src=\"https://img2.doubanio.com/view/photo/s_ratio_poster/public/p492406163.jpg\" class=\"\">\\n                    </a>\\n                </div>\\n                <div class=\"info\">\\n                    <div class=\"hd\">\\n                        <a href=\"https://movie.douban.com/subject/1295124/\" class=\"\">\\n                            <span class=\"title\">辛德勒的名单</span>\\n                                    <span class=\"title\">&nbsp;/&nbsp;Schindler&#39;s List</span>\\n                                <span class=\"other\">&nbsp;/&nbsp;舒特拉的名单(港)  /  辛德勒名单</span>\\n                        </a>\\n\\n\\n                            <span class=\"playable\">[可播放]</span>\\n                    </div>\\n                    <div class=\"bd\">\\n                        <p class=\"\">\\n                            导演: 史蒂文·斯皮尔伯格 Steven Spielberg&nbsp;&nbsp;&nbsp;主演: 连姆·尼森 Liam Neeson...<br>\\n                            1993&nbsp;/&nbsp;美国&nbsp;/&nbsp;剧情 历史 战争\\n                        </p>\\n\\n                        \\n                        <div class=\"star\">\\n                                <span class=\"rating5-t\"></span>\\n                                <span class=\"rating_num\" property=\"v:average\">9.6</span>\\n                                <span property=\"v:best\" content=\"10.0\"></span>\\n                                <span>1052100人评价</span>\\n                        </div>\\n\\n                            <p class=\"quote\">\\n                                <span class=\"inq\">拯救一个人，就是拯救整个世界。</span>\\n                            </p>\\n                            \\n\\n    <p>\\n        \\n        <span class=\"gact\">\\n            <a href=\"https://movie.douban.com/wish/242291396/update?add=1295124\" target=\"_blank\" class=\"j a_collect_btn\" name=\"sbtn-1295124-wish\" rel=\"nofollow\">想看</a>\\n        </span>&nbsp;&nbsp;\\n        \\n        <span class=\"gact\">\\n            <a href=\"https://movie.douban.com/collection/242291396/update?add=1295124\" target=\"_blank\" class=\"j a_collect_btn\" name=\"sbtn-1295124-collection\" rel=\"nofollow\">看过</a>\\n        </span>&nbsp;&nbsp;\\n    </p>\\n\\n                    </div>\\n                </div>\\n            </div>\\n        </li>\\n        <li>\\n            <div class=\"item\">\\n                <div class=\"pic\">\\n                    <em class=\"\">9</em>\\n                    <a href=\"https://movie.douban.com/subject/3541415/\">\\n                        <img width=\"100\" alt=\"盗梦空间\" src=\"https://img9.doubanio.com/view/photo/s_ratio_poster/public/p513344864.jpg\" class=\"\">\\n                    </a>\\n                </div>\\n                <div class=\"info\">\\n                    <div class=\"hd\">\\n                        <a href=\"https://movie.douban.com/subject/3541415/\" class=\"\">\\n                            <span class=\"title\">盗梦空间</span>\\n                                    <span class=\"title\">&nbsp;/&nbsp;Inception</span>\\n                                <span class=\"other\">&nbsp;/&nbsp;潜行凶间(港)  /  全面启动(台)</span>\\n                        </a>\\n\\n\\n                            <span class=\"playable\">[可播放]</span>\\n                    </div>\\n                    <div class=\"bd\">\\n                        <p class=\"\">\\n                            导演: 克里斯托弗·诺兰 Christopher Nolan&nbsp;&nbsp;&nbsp;主演: 莱昂纳多·迪卡普里奥 Le...<br>\\n                            2010&nbsp;/&nbsp;美国 英国&nbsp;/&nbsp;剧情 科幻 悬疑 冒险\\n                        </p>\\n\\n                        \\n                        <div class=\"star\">\\n                                <span class=\"rating45-t\"></span>\\n                                <span class=\"rating_num\" property=\"v:average\">9.4</span>\\n                                <span property=\"v:best\" content=\"10.0\"></span>\\n                                <span>1963759人评价</span>\\n                        </div>\\n\\n                            <p class=\"quote\">\\n                                <span class=\"inq\">诺兰给了我们一场无法盗取的梦。</span>\\n                            </p>\\n                            \\n\\n    <p>\\n        \\n        <span class=\"gact\">\\n            <a href=\"https://movie.douban.com/wish/242291396/update?add=3541415\" target=\"_blank\" class=\"j a_collect_btn\" name=\"sbtn-3541415-wish\" rel=\"nofollow\">想看</a>\\n        </span>&nbsp;&nbsp;\\n        \\n        <span class=\"gact\">\\n            <a href=\"https://movie.douban.com/collection/242291396/update?add=3541415\" target=\"_blank\" class=\"j a_collect_btn\" name=\"sbtn-3541415-collection\" rel=\"nofollow\">看过</a>\\n        </span>&nbsp;&nbsp;\\n    </p>\\n\\n                    </div>\\n                </div>\\n            </div>\\n        </li>\\n        <li>\\n            <div class=\"item\">\\n                <div class=\"pic\">\\n                    <em class=\"\">10</em>\\n                    <a href=\"https://movie.douban.com/subject/1889243/\">\\n                        <img width=\"100\" alt=\"星际穿越\" src=\"https://img1.doubanio.com/view/photo/s_ratio_poster/public/p2614988097.jpg\" class=\"\">\\n                    </a>\\n                </div>\\n                <div class=\"info\">\\n                    <div class=\"hd\">\\n                        <a href=\"https://movie.douban.com/subject/1889243/\" class=\"\">\\n                            <span class=\"title\">星际穿越</span>\\n                                    <span class=\"title\">&nbsp;/&nbsp;Interstellar</span>\\n                                <span class=\"other\">&nbsp;/&nbsp;星际启示录(港)  /  星际效应(台)</span>\\n                        </a>\\n\\n\\n                            <span class=\"playable\">[可播放]</span>\\n                    </div>\\n                    <div class=\"bd\">\\n                        <p class=\"\">\\n                            导演: 克里斯托弗·诺兰 Christopher Nolan&nbsp;&nbsp;&nbsp;主演: 马修·麦康纳 Matthew Mc...<br>\\n                            2014&nbsp;/&nbsp;美国 英国 加拿大&nbsp;/&nbsp;剧情 科幻 冒险\\n                        </p>\\n\\n                        \\n                        <div class=\"star\">\\n                                <span class=\"rating45-t\"></span>\\n                                <span class=\"rating_num\" property=\"v:average\">9.4</span>\\n                                <span property=\"v:best\" content=\"10.0\"></span>\\n                                <span>1690982人评价</span>\\n                        </div>\\n\\n                            <p class=\"quote\">\\n                                <span class=\"inq\">爱是一种力量，让我们超越时空感知它的存在。</span>\\n                            </p>\\n                            \\n\\n    <p>\\n        \\n        <span class=\"gact\">\\n            <a href=\"https://movie.douban.com/wish/242291396/update?add=1889243\" target=\"_blank\" class=\"j a_collect_btn\" name=\"sbtn-1889243-wish\" rel=\"nofollow\">想看</a>\\n        </span>&nbsp;&nbsp;\\n        \\n        <span class=\"gact\">\\n            <a href=\"https://movie.douban.com/collection/242291396/update?add=1889243\" target=\"_blank\" class=\"j a_collect_btn\" name=\"sbtn-1889243-collection\" rel=\"nofollow\">看过</a>\\n        </span>&nbsp;&nbsp;\\n    </p>\\n\\n                    </div>\\n                </div>\\n            </div>\\n        </li>\\n        <li>\\n            <div class=\"item\">\\n                <div class=\"pic\">\\n                    <em class=\"\">11</em>\\n                    <a href=\"https://movie.douban.com/subject/3011091/\">\\n                        <img width=\"100\" alt=\"忠犬八公的故事\" src=\"https://img3.doubanio.com/view/photo/s_ratio_poster/public/p2587099240.jpg\" class=\"\">\\n                    </a>\\n                </div>\\n                <div class=\"info\">\\n                    <div class=\"hd\">\\n                        <a href=\"https://movie.douban.com/subject/3011091/\" class=\"\">\\n                            <span class=\"title\">忠犬八公的故事</span>\\n                                    <span class=\"title\">&nbsp;/&nbsp;Hachi: A Dog&#39;s Tale</span>\\n                                <span class=\"other\">&nbsp;/&nbsp;秋田犬八千(港)  /  忠犬小八(台)</span>\\n                        </a>\\n\\n\\n                    </div>\\n                    <div class=\"bd\">\\n                        <p class=\"\">\\n                            导演: 莱塞·霍尔斯道姆 Lasse Hallström&nbsp;&nbsp;&nbsp;主演: 理查·基尔 Richard Ger...<br>\\n                            2009&nbsp;/&nbsp;美国 英国&nbsp;/&nbsp;剧情\\n                        </p>\\n\\n                        \\n                        <div class=\"star\">\\n                                <span class=\"rating45-t\"></span>\\n                                <span class=\"rating_num\" property=\"v:average\">9.4</span>\\n                                <span property=\"v:best\" content=\"10.0\"></span>\\n                                <span>1337998人评价</span>\\n                        </div>\\n\\n                            <p class=\"quote\">\\n                                <span class=\"inq\">永远都不能忘记你所爱的人。</span>\\n                            </p>\\n                            \\n\\n    <p>\\n        \\n        <span class=\"gact\">\\n            <a href=\"https://movie.douban.com/wish/242291396/update?add=3011091\" target=\"_blank\" class=\"j a_collect_btn\" name=\"sbtn-3011091-wish\" rel=\"nofollow\">想看</a>\\n        </span>&nbsp;&nbsp;\\n        \\n        <span class=\"gact\">\\n            <a href=\"https://movie.douban.com/collection/242291396/update?add=3011091\" target=\"_blank\" class=\"j a_collect_btn\" name=\"sbtn-3011091-collection\" rel=\"nofollow\">看过</a>\\n        </span>&nbsp;&nbsp;\\n    </p>\\n\\n                    </div>\\n                </div>\\n            </div>\\n        </li>\\n        <li>\\n            <div class=\"item\">\\n                <div class=\"pic\">\\n                    <em class=\"\">12</em>\\n                    <a href=\"https://movie.douban.com/subject/1292064/\">\\n                        <img width=\"100\" alt=\"楚门的世界\" src=\"https://img2.doubanio.com/view/photo/s_ratio_poster/public/p479682972.jpg\" class=\"\">\\n                    </a>\\n                </div>\\n                <div class=\"info\">\\n                    <div class=\"hd\">\\n                        <a href=\"https://movie.douban.com/subject/1292064/\" class=\"\">\\n                            <span class=\"title\">楚门的世界</span>\\n                                    <span class=\"title\">&nbsp;/&nbsp;The Truman Show</span>\\n                                <span class=\"other\">&nbsp;/&nbsp;真人Show(港)  /  真人戏</span>\\n                        </a>\\n\\n\\n                            <span class=\"playable\">[可播放]</span>\\n                    </div>\\n                    <div class=\"bd\">\\n                        <p class=\"\">\\n                            导演: 彼得·威尔 Peter Weir&nbsp;&nbsp;&nbsp;主演: 金·凯瑞 Jim Carrey / 劳拉·琳妮 Lau...<br>\\n                            1998&nbsp;/&nbsp;美国&nbsp;/&nbsp;剧情 科幻\\n                        </p>\\n\\n                        \\n                        <div class=\"star\">\\n                                <span class=\"rating45-t\"></span>\\n                                <span class=\"rating_num\" property=\"v:average\">9.4</span>\\n                                <span property=\"v:best\" content=\"10.0\"></span>\\n                                <span>1591068人评价</span>\\n                        </div>\\n\\n                            <p class=\"quote\">\\n                                <span class=\"inq\">如果再也不能见到你，祝你早安，午安，晚安。</span>\\n                            </p>\\n                            \\n\\n    <p>\\n        \\n        <span class=\"gact\">\\n            <a href=\"https://movie.douban.com/wish/242291396/update?add=1292064\" target=\"_blank\" class=\"j a_collect_btn\" name=\"sbtn-1292064-wish\" rel=\"nofollow\">想看</a>\\n        </span>&nbsp;&nbsp;\\n        \\n        <span class=\"gact\">\\n            <a href=\"https://movie.douban.com/collection/242291396/update?add=1292064\" target=\"_blank\" class=\"j a_collect_btn\" name=\"sbtn-1292064-collection\" rel=\"nofollow\">看过</a>\\n        </span>&nbsp;&nbsp;\\n    </p>\\n\\n                    </div>\\n                </div>\\n            </div>\\n        </li>\\n        <li>\\n            <div class=\"item\">\\n                <div class=\"pic\">\\n                    <em class=\"\">13</em>\\n                    <a href=\"https://movie.douban.com/subject/1292001/\">\\n                        <img width=\"100\" alt=\"海上钢琴师\" src=\"https://img9.doubanio.com/view/photo/s_ratio_poster/public/p2574551676.jpg\" class=\"\">\\n                    </a>\\n                </div>\\n                <div class=\"info\">\\n                    <div class=\"hd\">\\n                        <a href=\"https://movie.douban.com/subject/1292001/\" class=\"\">\\n                            <span class=\"title\">海上钢琴师</span>\\n                                    <span class=\"title\">&nbsp;/&nbsp;La leggenda del pianista sull&#39;oceano</span>\\n                                <span class=\"other\">&nbsp;/&nbsp;声光伴我飞(港)  /  一九零零的传奇</span>\\n                        </a>\\n\\n\\n                            <span class=\"playable\">[可播放]</span>\\n                    </div>\\n                    <div class=\"bd\">\\n                        <p class=\"\">\\n                            导演: 朱塞佩·托纳多雷 Giuseppe Tornatore&nbsp;&nbsp;&nbsp;主演: 蒂姆·罗斯 Tim Roth / ...<br>\\n                            1998&nbsp;/&nbsp;意大利&nbsp;/&nbsp;剧情 音乐\\n                        </p>\\n\\n                        \\n                        <div class=\"star\">\\n                                <span class=\"rating45-t\"></span>\\n                                <span class=\"rating_num\" property=\"v:average\">9.3</span>\\n                                <span property=\"v:best\" content=\"10.0\"></span>\\n                                <span>1599933人评价</span>\\n                        </div>\\n\\n                            <p class=\"quote\">\\n                                <span class=\"inq\">每个人都要走一条自己坚定了的路，就算是粉身碎骨。 </span>\\n                            </p>\\n                            \\n\\n    <p>\\n        \\n        <span class=\"gact\">\\n            <a href=\"https://movie.douban.com/wish/242291396/update?add=1292001\" target=\"_blank\" class=\"j a_collect_btn\" name=\"sbtn-1292001-wish\" rel=\"nofollow\">想看</a>\\n        </span>&nbsp;&nbsp;\\n        \\n        <span class=\"gact\">\\n            <a href=\"https://movie.douban.com/collection/242291396/update?add=1292001\" target=\"_blank\" class=\"j a_collect_btn\" name=\"sbtn-1292001-collection\" rel=\"nofollow\">看过</a>\\n        </span>&nbsp;&nbsp;\\n    </p>\\n\\n                    </div>\\n                </div>\\n            </div>\\n        </li>\\n        <li>\\n            <div class=\"item\">\\n                <div class=\"pic\">\\n                    <em class=\"\">14</em>\\n                    <a href=\"https://movie.douban.com/subject/3793023/\">\\n                        <img width=\"100\" alt=\"三傻大闹宝莱坞\" src=\"https://img2.doubanio.com/view/photo/s_ratio_poster/public/p579729551.jpg\" class=\"\">\\n                    </a>\\n                </div>\\n                <div class=\"info\">\\n                    <div class=\"hd\">\\n                        <a href=\"https://movie.douban.com/subject/3793023/\" class=\"\">\\n                            <span class=\"title\">三傻大闹宝莱坞</span>\\n                                    <span class=\"title\">&nbsp;/&nbsp;3 Idiots</span>\\n                                <span class=\"other\">&nbsp;/&nbsp;三个傻瓜(台)  /  作死不离3兄弟(港)</span>\\n                        </a>\\n\\n\\n                            <span class=\"playable\">[可播放]</span>\\n                    </div>\\n                    <div class=\"bd\">\\n                        <p class=\"\">\\n                            导演: 拉库马·希拉尼 Rajkumar Hirani&nbsp;&nbsp;&nbsp;主演: 阿米尔·汗 Aamir Khan / 卡...<br>\\n                            2009&nbsp;/&nbsp;印度&nbsp;/&nbsp;剧情 喜剧 爱情 歌舞\\n                        </p>\\n\\n                        \\n                        <div class=\"star\">\\n                                <span class=\"rating45-t\"></span>\\n                                <span class=\"rating_num\" property=\"v:average\">9.2</span>\\n                                <span property=\"v:best\" content=\"10.0\"></span>\\n                                <span>1776571人评价</span>\\n                        </div>\\n\\n                            <p class=\"quote\">\\n                                <span class=\"inq\">英俊版憨豆，高情商版谢耳朵。</span>\\n                            </p>\\n                            \\n\\n    <p>\\n        \\n        <span class=\"gact\">\\n            <a href=\"https://movie.douban.com/wish/242291396/update?add=3793023\" target=\"_blank\" class=\"j a_collect_btn\" name=\"sbtn-3793023-wish\" rel=\"nofollow\">想看</a>\\n        </span>&nbsp;&nbsp;\\n        \\n        <span class=\"gact\">\\n            <a href=\"https://movie.douban.com/collection/242291396/update?add=3793023\" target=\"_blank\" class=\"j a_collect_btn\" name=\"sbtn-3793023-collection\" rel=\"nofollow\">看过</a>\\n        </span>&nbsp;&nbsp;\\n    </p>\\n\\n                    </div>\\n                </div>\\n            </div>\\n        </li>\\n        <li>\\n            <div class=\"item\">\\n                <div class=\"pic\">\\n                    <em class=\"\">15</em>\\n                    <a href=\"https://movie.douban.com/subject/2131459/\">\\n                        <img width=\"100\" alt=\"机器人总动员\" src=\"https://img2.doubanio.com/view/photo/s_ratio_poster/public/p1461851991.jpg\" class=\"\">\\n                    </a>\\n                </div>\\n                <div class=\"info\">\\n                    <div class=\"hd\">\\n                        <a href=\"https://movie.douban.com/subject/2131459/\" class=\"\">\\n                            <span class=\"title\">机器人总动员</span>\\n                                    <span class=\"title\">&nbsp;/&nbsp;WALL·E</span>\\n                                <span class=\"other\">&nbsp;/&nbsp;太空奇兵·威E(港)  /  瓦力(台)</span>\\n                        </a>\\n\\n\\n                            <span class=\"playable\">[可播放]</span>\\n                    </div>\\n                    <div class=\"bd\">\\n                        <p class=\"\">\\n                            导演: 安德鲁·斯坦顿 Andrew Stanton&nbsp;&nbsp;&nbsp;主演: 本·贝尔特 Ben Burtt / 艾丽...<br>\\n                            2008&nbsp;/&nbsp;美国&nbsp;/&nbsp;科幻 动画 冒险\\n                        </p>\\n\\n                        \\n                        <div class=\"star\">\\n                                <span class=\"rating45-t\"></span>\\n                                <span class=\"rating_num\" property=\"v:average\">9.3</span>\\n                                <span property=\"v:best\" content=\"10.0\"></span>\\n                                <span>1255797人评价</span>\\n                        </div>\\n\\n                            <p class=\"quote\">\\n                                <span class=\"inq\">小瓦力，大人生。</span>\\n                            </p>\\n                            \\n\\n    <p>\\n        \\n        <span class=\"gact\">\\n            <a href=\"https://movie.douban.com/wish/242291396/update?add=2131459\" target=\"_blank\" class=\"j a_collect_btn\" name=\"sbtn-2131459-wish\" rel=\"nofollow\">想看</a>\\n        </span>&nbsp;&nbsp;\\n        \\n        <span class=\"gact\">\\n            <a href=\"https://movie.douban.com/collection/242291396/update?add=2131459\" target=\"_blank\" class=\"j a_collect_btn\" name=\"sbtn-2131459-collection\" rel=\"nofollow\">看过</a>\\n        </span>&nbsp;&nbsp;\\n    </p>\\n\\n                    </div>\\n                </div>\\n            </div>\\n        </li>\\n        <li>\\n            <div class=\"item\">\\n                <div class=\"pic\">\\n                    <em class=\"\">16</em>\\n                    <a href=\"https://movie.douban.com/subject/1291549/\">\\n                        <img width=\"100\" alt=\"放牛班的春天\" src=\"https://img2.doubanio.com/view/photo/s_ratio_poster/public/p1910824951.jpg\" class=\"\">\\n                    </a>\\n                </div>\\n                <div class=\"info\">\\n                    <div class=\"hd\">\\n                        <a href=\"https://movie.douban.com/subject/1291549/\" class=\"\">\\n                            <span class=\"title\">放牛班的春天</span>\\n                                    <span class=\"title\">&nbsp;/&nbsp;Les choristes</span>\\n                                <span class=\"other\">&nbsp;/&nbsp;歌声伴我心(港)  /  唱诗班男孩</span>\\n                        </a>\\n\\n\\n                    </div>\\n                    <div class=\"bd\">\\n                        <p class=\"\">\\n                            导演: 克里斯托夫·巴拉蒂 Christophe Barratier&nbsp;&nbsp;&nbsp;主演: 让-巴蒂斯特·莫尼...<br>\\n                            2004&nbsp;/&nbsp;法国 瑞士 德国&nbsp;/&nbsp;剧情 喜剧 音乐\\n                        </p>\\n\\n                        \\n                        <div class=\"star\">\\n                                <span class=\"rating45-t\"></span>\\n                                <span class=\"rating_num\" property=\"v:average\">9.3</span>\\n                                <span property=\"v:best\" content=\"10.0\"></span>\\n                                <span>1238425人评价</span>\\n                        </div>\\n\\n                            <p class=\"quote\">\\n                                <span class=\"inq\">天籁一般的童声，是最接近上帝的存在。 </span>\\n                            </p>\\n                            \\n\\n    <p>\\n        \\n        <span class=\"gact\">\\n            <a href=\"https://movie.douban.com/wish/242291396/update?add=1291549\" target=\"_blank\" class=\"j a_collect_btn\" name=\"sbtn-1291549-wish\" rel=\"nofollow\">想看</a>\\n        </span>&nbsp;&nbsp;\\n        \\n        <span class=\"gact\">\\n            <a href=\"https://movie.douban.com/collection/242291396/update?add=1291549\" target=\"_blank\" class=\"j a_collect_btn\" name=\"sbtn-1291549-collection\" rel=\"nofollow\">看过</a>\\n        </span>&nbsp;&nbsp;\\n    </p>\\n\\n                    </div>\\n                </div>\\n            </div>\\n        </li>\\n        <li>\\n            <div class=\"item\">\\n                <div class=\"pic\">\\n                    <em class=\"\">17</em>\\n                    <a href=\"https://movie.douban.com/subject/1307914/\">\\n                        <img width=\"100\" alt=\"无间道\" src=\"https://img2.doubanio.com/view/photo/s_ratio_poster/public/p2564556863.jpg\" class=\"\">\\n                    </a>\\n                </div>\\n                <div class=\"info\">\\n                    <div class=\"hd\">\\n                        <a href=\"https://movie.douban.com/subject/1307914/\" class=\"\">\\n                            <span class=\"title\">无间道</span>\\n                                    <span class=\"title\">&nbsp;/&nbsp;無間道</span>\\n                                <span class=\"other\">&nbsp;/&nbsp;Infernal Affairs  /  Mou gaan dou</span>\\n                        </a>\\n\\n\\n                            <span class=\"playable\">[可播放]</span>\\n                    </div>\\n                    <div class=\"bd\">\\n                        <p class=\"\">\\n                            导演: 刘伟强 / 麦兆辉&nbsp;&nbsp;&nbsp;主演: 刘德华 / 梁朝伟 / 黄秋生<br>\\n                            2002&nbsp;/&nbsp;中国香港&nbsp;/&nbsp;剧情 犯罪 惊悚\\n                        </p>\\n\\n                        \\n                        <div class=\"star\">\\n                                <span class=\"rating45-t\"></span>\\n                                <span class=\"rating_num\" property=\"v:average\">9.3</span>\\n                                <span property=\"v:best\" content=\"10.0\"></span>\\n                                <span>1280316人评价</span>\\n                        </div>\\n\\n                            <p class=\"quote\">\\n                                <span class=\"inq\">香港电影史上永不过时的杰作。</span>\\n                            </p>\\n                            \\n\\n    <p>\\n        \\n        <span class=\"gact\">\\n            <a href=\"https://movie.douban.com/wish/242291396/update?add=1307914\" target=\"_blank\" class=\"j a_collect_btn\" name=\"sbtn-1307914-wish\" rel=\"nofollow\">想看</a>\\n        </span>&nbsp;&nbsp;\\n        \\n        <span class=\"gact\">\\n            <a href=\"https://movie.douban.com/collection/242291396/update?add=1307914\" target=\"_blank\" class=\"j a_collect_btn\" name=\"sbtn-1307914-collection\" rel=\"nofollow\">看过</a>\\n        </span>&nbsp;&nbsp;\\n    </p>\\n\\n                    </div>\\n                </div>\\n            </div>\\n        </li>\\n        <li>\\n            <div class=\"item\">\\n                <div class=\"pic\">\\n                    <em class=\"\">18</em>\\n                    <a href=\"https://movie.douban.com/subject/25662329/\">\\n                        <img width=\"100\" alt=\"疯狂动物城\" src=\"https://img1.doubanio.com/view/photo/s_ratio_poster/public/p2614500649.jpg\" class=\"\">\\n                    </a>\\n                </div>\\n                <div class=\"info\">\\n                    <div class=\"hd\">\\n                        <a href=\"https://movie.douban.com/subject/25662329/\" class=\"\">\\n                            <span class=\"title\">疯狂动物城</span>\\n                                    <span class=\"title\">&nbsp;/&nbsp;Zootopia</span>\\n                                <span class=\"other\">&nbsp;/&nbsp;优兽大都会(港)  /  动物方城市(台)</span>\\n                        </a>\\n\\n\\n                            <span class=\"playable\">[可播放]</span>\\n                    </div>\\n                    <div class=\"bd\">\\n                        <p class=\"\">\\n                            导演: 拜伦·霍华德 Byron Howard / 瑞奇·摩尔 Rich Moore&nbsp;&nbsp;&nbsp;主演: 金妮弗·...<br>\\n                            2016&nbsp;/&nbsp;美国&nbsp;/&nbsp;喜剧 动画 冒险\\n                        </p>\\n\\n                        \\n                        <div class=\"star\">\\n                                <span class=\"rating45-t\"></span>\\n                                <span class=\"rating_num\" property=\"v:average\">9.2</span>\\n                                <span property=\"v:best\" content=\"10.0\"></span>\\n                                <span>1814112人评价</span>\\n                        </div>\\n\\n                            <p class=\"quote\">\\n                                <span class=\"inq\">迪士尼给我们营造的乌托邦就是这样，永远善良勇敢，永远出乎意料。</span>\\n                            </p>\\n                            \\n\\n    <p>\\n        \\n        <span class=\"gact\">\\n            <a href=\"https://movie.douban.com/wish/242291396/update?add=25662329\" target=\"_blank\" class=\"j a_collect_btn\" name=\"sbtn-25662329-wish\" rel=\"nofollow\">想看</a>\\n        </span>&nbsp;&nbsp;\\n        \\n        <span class=\"gact\">\\n            <a href=\"https://movie.douban.com/collection/242291396/update?add=25662329\" target=\"_blank\" class=\"j a_collect_btn\" name=\"sbtn-25662329-collection\" rel=\"nofollow\">看过</a>\\n        </span>&nbsp;&nbsp;\\n    </p>\\n\\n                    </div>\\n                </div>\\n            </div>\\n        </li>\\n        <li>\\n            <div class=\"item\">\\n                <div class=\"pic\">\\n                    <em class=\"\">19</em>\\n                    <a href=\"https://movie.douban.com/subject/1292213/\">\\n                        <img width=\"100\" alt=\"大话西游之大圣娶亲\" src=\"https://img9.doubanio.com/view/photo/s_ratio_poster/public/p2455050536.jpg\" class=\"\">\\n                    </a>\\n                </div>\\n                <div class=\"info\">\\n                    <div class=\"hd\">\\n                        <a href=\"https://movie.douban.com/subject/1292213/\" class=\"\">\\n                            <span class=\"title\">大话西游之大圣娶亲</span>\\n                                    <span class=\"title\">&nbsp;/&nbsp;西遊記大結局之仙履奇緣</span>\\n                                <span class=\"other\">&nbsp;/&nbsp;西游记完结篇仙履奇缘  /  齐天大圣西游记</span>\\n                        </a>\\n\\n\\n                            <span class=\"playable\">[可播放]</span>\\n                    </div>\\n                    <div class=\"bd\">\\n                        <p class=\"\">\\n                            导演: 刘镇伟 Jeffrey Lau&nbsp;&nbsp;&nbsp;主演: 周星驰 Stephen Chow / 吴孟达 Man Tat Ng...<br>\\n                            1995&nbsp;/&nbsp;中国香港 中国大陆&nbsp;/&nbsp;喜剧 爱情 奇幻 古装\\n                        </p>\\n\\n                        \\n                        <div class=\"star\">\\n                                <span class=\"rating45-t\"></span>\\n                                <span class=\"rating_num\" property=\"v:average\">9.2</span>\\n                                <span property=\"v:best\" content=\"10.0\"></span>\\n                                <span>1459974人评价</span>\\n                        </div>\\n\\n                            <p class=\"quote\">\\n                                <span class=\"inq\">一生所爱。</span>\\n                            </p>\\n                            \\n\\n    <p>\\n        \\n        <span class=\"gact\">\\n            <a href=\"https://movie.douban.com/wish/242291396/update?add=1292213\" target=\"_blank\" class=\"j a_collect_btn\" name=\"sbtn-1292213-wish\" rel=\"nofollow\">想看</a>\\n        </span>&nbsp;&nbsp;\\n        \\n        <span class=\"gact\">\\n            <a href=\"https://movie.douban.com/collection/242291396/update?add=1292213\" target=\"_blank\" class=\"j a_collect_btn\" name=\"sbtn-1292213-collection\" rel=\"nofollow\">看过</a>\\n        </span>&nbsp;&nbsp;\\n    </p>\\n\\n                    </div>\\n                </div>\\n            </div>\\n        </li>\\n        <li>\\n            <div class=\"item\">\\n                <div class=\"pic\">\\n                    <em class=\"\">20</em>\\n                    <a href=\"https://movie.douban.com/subject/1296141/\">\\n                        <img width=\"100\" alt=\"控方证人\" src=\"https://img1.doubanio.com/view/photo/s_ratio_poster/public/p1505392928.jpg\" class=\"\">\\n                    </a>\\n                </div>\\n                <div class=\"info\">\\n                    <div class=\"hd\">\\n                        <a href=\"https://movie.douban.com/subject/1296141/\" class=\"\">\\n                            <span class=\"title\">控方证人</span>\\n                                    <span class=\"title\">&nbsp;/&nbsp;Witness for the Prosecution</span>\\n                                <span class=\"other\">&nbsp;/&nbsp;雄才伟略  /  情妇</span>\\n                        </a>\\n\\n\\n                            <span class=\"playable\">[可播放]</span>\\n                    </div>\\n                    <div class=\"bd\">\\n                        <p class=\"\">\\n                            导演: 比利·怀尔德 Billy Wilder&nbsp;&nbsp;&nbsp;主演: 泰隆·鲍华 Tyrone Power / 玛琳·...<br>\\n                            1957&nbsp;/&nbsp;美国&nbsp;/&nbsp;剧情 犯罪 悬疑\\n                        </p>\\n\\n                        \\n                        <div class=\"star\">\\n                                <span class=\"rating5-t\"></span>\\n                                <span class=\"rating_num\" property=\"v:average\">9.6</span>\\n                                <span property=\"v:best\" content=\"10.0\"></span>\\n                                <span>504678人评价</span>\\n                        </div>\\n\\n                            <p class=\"quote\">\\n                                <span class=\"inq\">比利·怀德满分作品。</span>\\n                            </p>\\n                            \\n\\n    <p>\\n        \\n        <span class=\"gact\">\\n            <a href=\"https://movie.douban.com/wish/242291396/update?add=1296141\" target=\"_blank\" class=\"j a_collect_btn\" name=\"sbtn-1296141-wish\" rel=\"nofollow\">想看</a>\\n        </span>&nbsp;&nbsp;\\n        \\n        <span class=\"gact\">\\n            <a href=\"https://movie.douban.com/collection/242291396/update?add=1296141\" target=\"_blank\" class=\"j a_collect_btn\" name=\"sbtn-1296141-collection\" rel=\"nofollow\">看过</a>\\n        </span>&nbsp;&nbsp;\\n    </p>\\n\\n                    </div>\\n                </div>\\n            </div>\\n        </li>\\n        <li>\\n            <div class=\"item\">\\n                <div class=\"pic\">\\n                    <em class=\"\">21</em>\\n                    <a href=\"https://movie.douban.com/subject/5912992/\">\\n                        <img width=\"100\" alt=\"熔炉\" src=\"https://img9.doubanio.com/view/photo/s_ratio_poster/public/p1363250216.jpg\" class=\"\">\\n                    </a>\\n                </div>\\n                <div class=\"info\">\\n                    <div class=\"hd\">\\n                        <a href=\"https://movie.douban.com/subject/5912992/\" class=\"\">\\n                            <span class=\"title\">熔炉</span>\\n                                    <span class=\"title\">&nbsp;/&nbsp;도가니</span>\\n                                <span class=\"other\">&nbsp;/&nbsp;无声呐喊(港)  /  漩涡</span>\\n                        </a>\\n\\n\\n                    </div>\\n                    <div class=\"bd\">\\n                        <p class=\"\">\\n                            导演: 黄东赫 Dong-hyuk Hwang&nbsp;&nbsp;&nbsp;主演: 孔侑 Yoo Gong / 郑有美 Yu-mi Jung /...<br>\\n                            2011&nbsp;/&nbsp;韩国&nbsp;/&nbsp;剧情\\n                        </p>\\n\\n                        \\n                        <div class=\"star\">\\n                                <span class=\"rating45-t\"></span>\\n                                <span class=\"rating_num\" property=\"v:average\">9.4</span>\\n                                <span property=\"v:best\" content=\"10.0\"></span>\\n                                <span>889231人评价</span>\\n                        </div>\\n\\n                            <p class=\"quote\">\\n                                <span class=\"inq\">我们一路奋战不是为了改变世界，而是为了不让世界改变我们。</span>\\n                            </p>\\n                            \\n\\n    <p>\\n        \\n        <span class=\"gact\">\\n            <a href=\"https://movie.douban.com/wish/242291396/update?add=5912992\" target=\"_blank\" class=\"j a_collect_btn\" name=\"sbtn-5912992-wish\" rel=\"nofollow\">想看</a>\\n        </span>&nbsp;&nbsp;\\n        \\n        <span class=\"gact\">\\n            <a href=\"https://movie.douban.com/collection/242291396/update?add=5912992\" target=\"_blank\" class=\"j a_collect_btn\" name=\"sbtn-5912992-collection\" rel=\"nofollow\">看过</a>\\n        </span>&nbsp;&nbsp;\\n    </p>\\n\\n                    </div>\\n                </div>\\n            </div>\\n        </li>\\n        <li>\\n            <div class=\"item\">\\n                <div class=\"pic\">\\n                    <em class=\"\">22</em>\\n                    <a href=\"https://movie.douban.com/subject/1291841/\">\\n                        <img width=\"100\" alt=\"教父\" src=\"https://img9.doubanio.com/view/photo/s_ratio_poster/public/p616779645.jpg\" class=\"\">\\n                    </a>\\n                </div>\\n                <div class=\"info\">\\n                    <div class=\"hd\">\\n                        <a href=\"https://movie.douban.com/subject/1291841/\" class=\"\">\\n                            <span class=\"title\">教父</span>\\n                                    <span class=\"title\">&nbsp;/&nbsp;The Godfather</span>\\n                                <span class=\"other\">&nbsp;/&nbsp;Mario Puzo&#39;s The Godfather</span>\\n                        </a>\\n\\n\\n                            <span class=\"playable\">[可播放]</span>\\n                    </div>\\n                    <div class=\"bd\">\\n                        <p class=\"\">\\n                            导演: 弗朗西斯·福特·科波拉 Francis Ford Coppola&nbsp;&nbsp;&nbsp;主演: 马龙·白兰度 M...<br>\\n                            1972&nbsp;/&nbsp;美国&nbsp;/&nbsp;剧情 犯罪\\n                        </p>\\n\\n                        \\n                        <div class=\"star\">\\n                                <span class=\"rating45-t\"></span>\\n                                <span class=\"rating_num\" property=\"v:average\">9.3</span>\\n                                <span property=\"v:best\" content=\"10.0\"></span>\\n                                <span>912405人评价</span>\\n                        </div>\\n\\n                            <p class=\"quote\">\\n                                <span class=\"inq\">千万不要记恨你的对手，这样会让你失去理智。</span>\\n                            </p>\\n                            \\n\\n    <p>\\n        \\n        <span class=\"gact\">\\n            <a href=\"https://movie.douban.com/wish/242291396/update?add=1291841\" target=\"_blank\" class=\"j a_collect_btn\" name=\"sbtn-1291841-wish\" rel=\"nofollow\">想看</a>\\n        </span>&nbsp;&nbsp;\\n        \\n        <span class=\"gact\">\\n            <a href=\"https://movie.douban.com/collection/242291396/update?add=1291841\" target=\"_blank\" class=\"j a_collect_btn\" name=\"sbtn-1291841-collection\" rel=\"nofollow\">看过</a>\\n        </span>&nbsp;&nbsp;\\n    </p>\\n\\n                    </div>\\n                </div>\\n            </div>\\n        </li>\\n        <li>\\n            <div class=\"item\">\\n                <div class=\"pic\">\\n                    <em class=\"\">23</em>\\n                    <a href=\"https://movie.douban.com/subject/1849031/\">\\n                        <img width=\"100\" alt=\"当幸福来敲门\" src=\"https://img9.doubanio.com/view/photo/s_ratio_poster/public/p2614359276.jpg\" class=\"\">\\n                    </a>\\n                </div>\\n                <div class=\"info\">\\n                    <div class=\"hd\">\\n                        <a href=\"https://movie.douban.com/subject/1849031/\" class=\"\">\\n                            <span class=\"title\">当幸福来敲门</span>\\n                                    <span class=\"title\">&nbsp;/&nbsp;The Pursuit of Happyness</span>\\n                                <span class=\"other\">&nbsp;/&nbsp;寻找快乐的故事(港)  /  追求快乐</span>\\n                        </a>\\n\\n\\n                            <span class=\"playable\">[可播放]</span>\\n                    </div>\\n                    <div class=\"bd\">\\n                        <p class=\"\">\\n                            导演: 加布里尔·穆奇诺 Gabriele Muccino&nbsp;&nbsp;&nbsp;主演: 威尔·史密斯 Will Smith ...<br>\\n                            2006&nbsp;/&nbsp;美国&nbsp;/&nbsp;剧情 传记 家庭\\n                        </p>\\n\\n                        \\n                        <div class=\"star\">\\n                                <span class=\"rating45-t\"></span>\\n                                <span class=\"rating_num\" property=\"v:average\">9.2</span>\\n                                <span property=\"v:best\" content=\"10.0\"></span>\\n                                <span>1448940人评价</span>\\n                        </div>\\n\\n                            <p class=\"quote\">\\n                                <span class=\"inq\">平民励志片。 </span>\\n                            </p>\\n                            \\n\\n    <p>\\n        \\n        <span class=\"gact\">\\n            <a href=\"https://movie.douban.com/wish/242291396/update?add=1849031\" target=\"_blank\" class=\"j a_collect_btn\" name=\"sbtn-1849031-wish\" rel=\"nofollow\">想看</a>\\n        </span>&nbsp;&nbsp;\\n        \\n        <span class=\"gact\">\\n            <a href=\"https://movie.douban.com/collection/242291396/update?add=1849031\" target=\"_blank\" class=\"j a_collect_btn\" name=\"sbtn-1849031-collection\" rel=\"nofollow\">看过</a>\\n        </span>&nbsp;&nbsp;\\n    </p>\\n\\n                    </div>\\n                </div>\\n            </div>\\n        </li>\\n        <li>\\n            <div class=\"item\">\\n                <div class=\"pic\">\\n                    <em class=\"\">24</em>\\n                    <a href=\"https://movie.douban.com/subject/6786002/\">\\n                        <img width=\"100\" alt=\"触不可及\" src=\"https://img9.doubanio.com/view/photo/s_ratio_poster/public/p1454261925.jpg\" class=\"\">\\n                    </a>\\n                </div>\\n                <div class=\"info\">\\n                    <div class=\"hd\">\\n                        <a href=\"https://movie.douban.com/subject/6786002/\" class=\"\">\\n                            <span class=\"title\">触不可及</span>\\n                                    <span class=\"title\">&nbsp;/&nbsp;Intouchables</span>\\n                                <span class=\"other\">&nbsp;/&nbsp;闪亮人生(港)  /  逆转人生(台)</span>\\n                        </a>\\n\\n\\n                            <span class=\"playable\">[可播放]</span>\\n                    </div>\\n                    <div class=\"bd\">\\n                        <p class=\"\">\\n                            导演: 奥利维·那卡什 Olivier Nakache / 艾力克·托兰达 Eric Toledano&nbsp;&nbsp;&nbsp;主...<br>\\n                            2011&nbsp;/&nbsp;法国&nbsp;/&nbsp;剧情 喜剧\\n                        </p>\\n\\n                        \\n                        <div class=\"star\">\\n                                <span class=\"rating45-t\"></span>\\n                                <span class=\"rating_num\" property=\"v:average\">9.3</span>\\n                                <span property=\"v:best\" content=\"10.0\"></span>\\n                                <span>1039257人评价</span>\\n                        </div>\\n\\n                            <p class=\"quote\">\\n                                <span class=\"inq\">满满温情的高雅喜剧。</span>\\n                            </p>\\n                            \\n\\n    <p>\\n        \\n        <span class=\"gact\">\\n            <a href=\"https://movie.douban.com/wish/242291396/update?add=6786002\" target=\"_blank\" class=\"j a_collect_btn\" name=\"sbtn-6786002-wish\" rel=\"nofollow\">想看</a>\\n        </span>&nbsp;&nbsp;\\n        \\n        <span class=\"gact\">\\n            <a href=\"https://movie.douban.com/collection/242291396/update?add=6786002\" target=\"_blank\" class=\"j a_collect_btn\" name=\"sbtn-6786002-collection\" rel=\"nofollow\">看过</a>\\n        </span>&nbsp;&nbsp;\\n    </p>\\n\\n                    </div>\\n                </div>\\n            </div>\\n        </li>\\n        <li>\\n            <div class=\"item\">\\n                <div class=\"pic\">\\n                    <em class=\"\">25</em>\\n                    <a href=\"https://movie.douban.com/subject/3319755/\">\\n                        <img width=\"100\" alt=\"怦然心动\" src=\"https://img1.doubanio.com/view/photo/s_ratio_poster/public/p501177648.jpg\" class=\"\">\\n                    </a>\\n                </div>\\n                <div class=\"info\">\\n                    <div class=\"hd\">\\n                        <a href=\"https://movie.douban.com/subject/3319755/\" class=\"\">\\n                            <span class=\"title\">怦然心动</span>\\n                                    <span class=\"title\">&nbsp;/&nbsp;Flipped</span>\\n                                <span class=\"other\">&nbsp;/&nbsp;萌动青春  /  青春萌动</span>\\n                        </a>\\n\\n\\n                            <span class=\"playable\">[可播放]</span>\\n                    </div>\\n                    <div class=\"bd\">\\n                        <p class=\"\">\\n                            导演: 罗伯·莱纳 Rob Reiner&nbsp;&nbsp;&nbsp;主演: 玛德琳·卡罗尔 Madeline Carroll / 卡...<br>\\n                            2010&nbsp;/&nbsp;美国&nbsp;/&nbsp;剧情 喜剧 爱情\\n                        </p>\\n\\n                        \\n                        <div class=\"star\">\\n                                <span class=\"rating45-t\"></span>\\n                                <span class=\"rating_num\" property=\"v:average\">9.1</span>\\n                                <span property=\"v:best\" content=\"10.0\"></span>\\n                                <span>1742697人评价</span>\\n                        </div>\\n\\n                            <p class=\"quote\">\\n                                <span class=\"inq\">真正的幸福是来自内心深处。</span>\\n                            </p>\\n                            \\n\\n    <p>\\n        \\n        <span class=\"gact\">\\n            <a href=\"https://movie.douban.com/wish/242291396/update?add=3319755\" target=\"_blank\" class=\"j a_collect_btn\" name=\"sbtn-3319755-wish\" rel=\"nofollow\">想看</a>\\n        </span>&nbsp;&nbsp;\\n        \\n        <span class=\"gact\">\\n            <a href=\"https://movie.douban.com/collection/242291396/update?add=3319755\" target=\"_blank\" class=\"j a_collect_btn\" name=\"sbtn-3319755-collection\" rel=\"nofollow\">看过</a>\\n        </span>&nbsp;&nbsp;\\n    </p>\\n\\n                    </div>\\n                </div>\\n            </div>\\n        </li>\\n</ol>\\n\\n\\n\\n    \\n    \\n    \\n\\n        <div class=\"paginator\">\\n        <span class=\"prev\">\\n            &lt;前页\\n        </span>\\n        \\n        \\n\\n                <span class=\"thispage\">1</span>\\n                \\n            <a href=\"?start=25&amp;filter=\" >2</a>\\n        \\n                \\n            <a href=\"?start=50&amp;filter=\" >3</a>\\n        \\n                \\n            <a href=\"?start=75&amp;filter=\" >4</a>\\n        \\n                \\n            <a href=\"?start=100&amp;filter=\" >5</a>\\n        \\n                \\n            <a href=\"?start=125&amp;filter=\" >6</a>\\n        \\n                \\n            <a href=\"?start=150&amp;filter=\" >7</a>\\n        \\n                \\n            <a href=\"?start=175&amp;filter=\" >8</a>\\n        \\n                \\n            <a href=\"?start=200&amp;filter=\" >9</a>\\n        \\n                \\n            <a href=\"?start=225&amp;filter=\" >10</a>\\n        \\n        <span class=\"next\">\\n            <link rel=\"next\" href=\"?start=25&amp;filter=\"/>\\n            <a href=\"?start=25&amp;filter=\" >后页&gt;</a>\\n        </span>\\n\\n            <span class=\"count\">(共250条)</span>\\n        </div>\\n\\n\\n\\n            </div>\\n            <div class=\"aside\">\\n                \\n<p class=\"pl\">\\n    豆瓣用户每天都在对“看过”的电影进行“很差”到“力荐”的评价，豆瓣根据每部影片看过的人数以及该影片所得的评价等综合数据，通过算法分析产生豆瓣电影 Top 250。\\n</p>\\n\\n<div id=\"dale_movie_top250_bottom_right\"></div>\\n\\n<!-- douban ad begin -->\\n\\n\\n\\n\\n\\n\\n<div class=\"mobile-app-entrance block5 app-movie\">\\n    <a class=\"entrance-link\" href=\"https://www.douban.com/doubanapp/frodo\">\\n        <div class=\"entrance-qrcode\">\\n            <img src=\"https://img3.doubanio.com/f/movie/a02f6ed325fc52e220f299d51e730c422e2bcd16/pics/movie/douban_app_ad/qrcode.png\" alt=\"扫码下载豆瓣 App\" width=\"80\" height=\"80\" />\\n        </div>\\n        <div class=\"entrance-info\">\\n            <span class=\"app-icon icon-movie\"></span>\\n            <span class=\"main-title\">豆瓣</span>\\n            <span class=\"sub-title\">让好电影来找你</span>\\n        </div>\\n    </a>\\n</div>\\n\\n<!-- douban ad end -->\\n\\n\\n            </div>\\n            <div class=\"extra\">\\n                \\n            </div>\\n        </div>\\n    </div>\\n\\n        \\n    <div id=\"footer\">\\n            <div class=\"footer-extra\"></div>\\n        \\n<span id=\"icp\" class=\"fleft gray-link\">\\n    &copy; 2005－2022 douban.com, all rights reserved 北京豆网科技有限公司\\n</span>\\n\\n<a href=\"https://www.douban.com/hnypt/variformcyst.py\" style=\"display: none;\"></a>\\n\\n<span class=\"fright\">\\n    <a href=\"https://www.douban.com/about\">关于豆瓣</a>\\n    · <a href=\"https://www.douban.com/jobs\">在豆瓣工作</a>\\n    · <a href=\"https://www.douban.com/about?topic=contactus\">联系我们</a>\\n    · <a href=\"https://www.douban.com/about/legal\">法律声明</a>\\n    \\n    · <a href=\"https://help.douban.com/?app=movie\" target=\"_blank\">帮助中心</a>\\n    · <a href=\"https://www.douban.com/doubanapp/\">移动应用</a>\\n    · <a href=\"https://www.douban.com/partner/\">豆瓣广告</a>\\n</span>\\n\\n    </div>\\n\\n    </div>\\n    <!-- COLLECTED JS -->\\n    \\n    \\n\\n\\n\\n\\n    \\n<script type=\"text/javascript\">\\n    (function (global) {\\n        var newNode = global.document.createElement(\\'script\\'),\\n            existingNode = global.document.getElementsByTagName(\\'script\\')[0],\\n            adSource = \\'//erebor.douban.com/\\',\\n            userId = \\'242291396\\',\\n            browserId = \\'BnEflZB6fNI\\',\\n            criteria = \\'3:/top250?start=0&amp;filter=\\',\\n            preview = \\'\\',\\n            debug = false,\\n            adSlots = [\\'dale_movie_top250_bottom_right\\'];\\n\\n        global.DoubanAdRequest = {src: adSource, uid: userId, bid: browserId, crtr: criteria, prv: preview, debug: debug};\\n        global.DoubanAdSlots = (global.DoubanAdSlots || []).concat(adSlots);\\n\\n        newNode.setAttribute(\\'type\\', \\'text/javascript\\');\\n        newNode.setAttribute(\\'src\\', \\'//img1.doubanio.com/MnJwNGlleS9mL2FkanMvY2M1OGQyNTQ2N2I2YmQzOTlmNTliMGJiMjI4MWRhZTlkNTNjYTFkZC9hZC5yZWxlYXNlLmpz\\');\\n        newNode.setAttribute(\\'async\\', true);\\n        existingNode.parentNode.insertBefore(newNode, existingNode);\\n    })(this);\\n</script>\\n\\n\\n\\n\\n\\n\\n\\n\\n\\n\\n\\n    \\n  \\n\\n\\n\\n\\n\\n\\n\\n\\n\\n<script type=\"text/javascript\">\\nvar _paq = _paq || [];\\n_paq.push([\\'trackPageView\\']);\\n_paq.push([\\'enableLinkTracking\\']);\\n(function() {\\n    var p=((\\'https:\\' == document.location.protocol) ? \\'https\\' : \\'http\\'), u=p+\\'://fundin.douban.com/\\';\\n    _paq.push([\\'setTrackerUrl\\', u+\\'piwik\\']);\\n    _paq.push([\\'setSiteId\\', \\'100001\\']);\\n    var d=document, g=d.createElement(\\'script\\'), s=d.getElementsByTagName(\\'script\\')[0];\\n    g.type=\\'text/javascript\\';\\n    g.defer=true;\\n    g.async=true;\\n    g.src=p+\\'://img3.doubanio.com/dae/fundin/piwik.js\\';\\n    s.parentNode.insertBefore(g,s);\\n})();\\n</script>\\n\\n<script type=\"text/javascript\">\\nvar setMethodWithNs = function(namespace) {\\n  var ns = namespace ? namespace + \\'.\\' : \\'\\'\\n    , fn = function(string) {\\n        if(!ns) {return string}\\n        return ns + string\\n      }\\n  return fn\\n}\\n\\nvar gaWithNamespace = function(fn, namespace) {\\n  var method = setMethodWithNs(namespace)\\n  fn.call(this, method)\\n}\\n\\nvar _gaq = _gaq || []\\n  , accounts = [\\n      { id: \\'UA-7019765-1\\', namespace: \\'douban\\' }\\n    , { id: \\'UA-7019765-19\\', namespace: \\'\\' }\\n    ]\\n  , gaInit = function(account) {\\n      gaWithNamespace(function(method) {\\n        gaInitFn.call(this, method, account)\\n      }, account.namespace)\\n    }\\n  , gaInitFn = function(method, account) {\\n      _gaq.push([method(\\'_setAccount\\'), account.id]);\\n      _gaq.push([method(\\'_setSampleRate\\'), \\'5\\']);\\n\\n      \\n  _gaq.push([method(\\'_addOrganic\\'), \\'google\\', \\'q\\'])\\n  _gaq.push([method(\\'_addOrganic\\'), \\'baidu\\', \\'wd\\'])\\n  _gaq.push([method(\\'_addOrganic\\'), \\'soso\\', \\'w\\'])\\n  _gaq.push([method(\\'_addOrganic\\'), \\'youdao\\', \\'q\\'])\\n  _gaq.push([method(\\'_addOrganic\\'), \\'so.360.cn\\', \\'q\\'])\\n  _gaq.push([method(\\'_addOrganic\\'), \\'sogou\\', \\'query\\'])\\n  if (account.namespace) {\\n    _gaq.push([method(\\'_addIgnoredOrganic\\'), \\'豆瓣\\'])\\n    _gaq.push([method(\\'_addIgnoredOrganic\\'), \\'douban\\'])\\n    _gaq.push([method(\\'_addIgnoredOrganic\\'), \\'豆瓣网\\'])\\n    _gaq.push([method(\\'_addIgnoredOrganic\\'), \\'www.douban.com\\'])\\n  }\\n\\n      if (account.namespace === \\'douban\\') {\\n        _gaq.push([method(\\'_setDomainName\\'), \\'.douban.com\\'])\\n      }\\n\\n        _gaq.push([method(\\'_setCustomVar\\'), 1, \\'responsive_view_mode\\', \\'desktop\\', 3])\\n\\n        _gaq.push([method(\\'_setCustomVar\\'), 2, \\'login_status\\', \\'1\\', 2]);\\n\\n      _gaq.push([method(\\'_trackPageview\\')])\\n    }\\n\\nfor(var i = 0, l = accounts.length; i < l; i++) {\\n  var account = accounts[i]\\n  gaInit(account)\\n}\\n\\n\\n;(function() {\\n    var ga = document.createElement(\\'script\\');\\n    ga.src = (\\'https:\\' == document.location.protocol ? \\'https://ssl\\' : \\'http://www\\') + \\'.google-analytics.com/ga.js\\';\\n    ga.setAttribute(\\'async\\', \\'true\\');\\n    document.documentElement.firstChild.appendChild(ga);\\n})()\\n</script>\\n\\n\\n\\n\\n\\n\\n\\n\\n      \\n\\n    <!-- dae-web-movie--default-6f6bf68485-t9hkd-->\\n\\n  <script>_SPLITTEST=\\'\\'</script>\\n</body>\\n\\n</html>\\n\\n\\n'"
      ]
     },
     "execution_count": 6,
     "metadata": {},
     "output_type": "execute_result"
    }
   ],
   "source": [
    "reponse.text"
   ]
  },
  {
   "cell_type": "markdown",
   "id": "8bb9cbd0",
   "metadata": {
    "ExecuteTime": {
     "end_time": "2022-11-13T11:58:56.557519Z",
     "start_time": "2022-11-13T11:58:56.542743Z"
    }
   },
   "source": [
    "# 解析源网页"
   ]
  },
  {
   "cell_type": "markdown",
   "id": "4dda8435",
   "metadata": {
    "ExecuteTime": {
     "end_time": "2022-11-13T12:06:39.368847Z",
     "start_time": "2022-11-13T12:06:39.351216Z"
    }
   },
   "source": [
    "## 电影名称"
   ]
  },
  {
   "cell_type": "code",
   "execution_count": 7,
   "id": "1a32e71f",
   "metadata": {
    "ExecuteTime": {
     "end_time": "2022-11-20T07:15:23.461581Z",
     "start_time": "2022-11-20T07:15:23.415829Z"
    }
   },
   "outputs": [
    {
     "data": {
      "text/plain": [
       "['肖申克的救赎',\n",
       " '霸王别姬',\n",
       " '阿甘正传',\n",
       " '泰坦尼克号',\n",
       " '这个杀手不太冷',\n",
       " '美丽人生',\n",
       " '千与千寻',\n",
       " '辛德勒的名单',\n",
       " '盗梦空间',\n",
       " '星际穿越',\n",
       " '忠犬八公的故事',\n",
       " '楚门的世界',\n",
       " '海上钢琴师',\n",
       " '三傻大闹宝莱坞',\n",
       " '机器人总动员',\n",
       " '放牛班的春天',\n",
       " '无间道',\n",
       " '疯狂动物城',\n",
       " '大话西游之大圣娶亲',\n",
       " '控方证人',\n",
       " '熔炉',\n",
       " '教父',\n",
       " '当幸福来敲门',\n",
       " '触不可及',\n",
       " '怦然心动']"
      ]
     },
     "execution_count": 7,
     "metadata": {},
     "output_type": "execute_result"
    }
   ],
   "source": [
    "from lxml import etree\n",
    "html=etree.HTML(reponse.text)\n",
    "movie_name1=html.xpath('//span[@class=\"title\"]/text()')\n",
    "movie_name=[]\n",
    "for  i in movie_name1:\n",
    "    if '\\xa0/' in i:\n",
    "        continue\n",
    "    else:\n",
    "        movie_name.append(i)\n",
    "movie_name"
   ]
  },
  {
   "cell_type": "markdown",
   "id": "2cce543a",
   "metadata": {
    "ExecuteTime": {
     "end_time": "2022-11-13T12:20:18.505081Z",
     "start_time": "2022-11-13T12:20:18.481053Z"
    }
   },
   "source": [
    "## 导演"
   ]
  },
  {
   "cell_type": "code",
   "execution_count": 8,
   "id": "4b6d41d7",
   "metadata": {
    "ExecuteTime": {
     "end_time": "2022-11-20T07:15:23.477047Z",
     "start_time": "2022-11-20T07:15:23.465049Z"
    }
   },
   "outputs": [
    {
     "data": {
      "text/plain": [
       "['\\n                            导演: 弗兰克·德拉邦特 Frank Darabont\\xa0\\xa0\\xa0主演: 蒂姆·罗宾斯 Tim Robbins /...',\n",
       " '\\n                            1994\\xa0/\\xa0美国\\xa0/\\xa0犯罪 剧情\\n                        ',\n",
       " '\\n                            导演: 陈凯歌 Kaige Chen\\xa0\\xa0\\xa0主演: 张国荣 Leslie Cheung / 张丰毅 Fengyi Zha...',\n",
       " '\\n                            1993\\xa0/\\xa0中国大陆 中国香港\\xa0/\\xa0剧情 爱情 同性\\n                        ',\n",
       " '\\n                            导演: 罗伯特·泽米吉斯 Robert Zemeckis\\xa0\\xa0\\xa0主演: 汤姆·汉克斯 Tom Hanks / ...',\n",
       " '\\n                            1994\\xa0/\\xa0美国\\xa0/\\xa0剧情 爱情\\n                        ',\n",
       " '\\n                            导演: 詹姆斯·卡梅隆 James Cameron\\xa0\\xa0\\xa0主演: 莱昂纳多·迪卡普里奥 Leonardo...',\n",
       " '\\n                            1997\\xa0/\\xa0美国 墨西哥 澳大利亚 加拿大\\xa0/\\xa0剧情 爱情 灾难\\n                        ',\n",
       " '\\n                            导演: 吕克·贝松 Luc Besson\\xa0\\xa0\\xa0主演: 让·雷诺 Jean Reno / 娜塔莉·波特曼 ...',\n",
       " '\\n                            1994\\xa0/\\xa0法国 美国\\xa0/\\xa0剧情 动作 犯罪\\n                        ',\n",
       " '\\n                            导演: 罗伯托·贝尼尼 Roberto Benigni\\xa0\\xa0\\xa0主演: 罗伯托·贝尼尼 Roberto Beni...',\n",
       " '\\n                            1997\\xa0/\\xa0意大利\\xa0/\\xa0剧情 喜剧 爱情 战争\\n                        ',\n",
       " '\\n                            导演: 宫崎骏 Hayao Miyazaki\\xa0\\xa0\\xa0主演: 柊瑠美 Rumi Hîragi / 入野自由 Miy...',\n",
       " '\\n                            2001\\xa0/\\xa0日本\\xa0/\\xa0剧情 动画 奇幻\\n                        ',\n",
       " '\\n                            导演: 史蒂文·斯皮尔伯格 Steven Spielberg\\xa0\\xa0\\xa0主演: 连姆·尼森 Liam Neeson...',\n",
       " '\\n                            1993\\xa0/\\xa0美国\\xa0/\\xa0剧情 历史 战争\\n                        ',\n",
       " '\\n                            导演: 克里斯托弗·诺兰 Christopher Nolan\\xa0\\xa0\\xa0主演: 莱昂纳多·迪卡普里奥 Le...',\n",
       " '\\n                            2010\\xa0/\\xa0美国 英国\\xa0/\\xa0剧情 科幻 悬疑 冒险\\n                        ',\n",
       " '\\n                            导演: 克里斯托弗·诺兰 Christopher Nolan\\xa0\\xa0\\xa0主演: 马修·麦康纳 Matthew Mc...',\n",
       " '\\n                            2014\\xa0/\\xa0美国 英国 加拿大\\xa0/\\xa0剧情 科幻 冒险\\n                        ',\n",
       " '\\n                            导演: 莱塞·霍尔斯道姆 Lasse Hallström\\xa0\\xa0\\xa0主演: 理查·基尔 Richard Ger...',\n",
       " '\\n                            2009\\xa0/\\xa0美国 英国\\xa0/\\xa0剧情\\n                        ',\n",
       " '\\n                            导演: 彼得·威尔 Peter Weir\\xa0\\xa0\\xa0主演: 金·凯瑞 Jim Carrey / 劳拉·琳妮 Lau...',\n",
       " '\\n                            1998\\xa0/\\xa0美国\\xa0/\\xa0剧情 科幻\\n                        ',\n",
       " '\\n                            导演: 朱塞佩·托纳多雷 Giuseppe Tornatore\\xa0\\xa0\\xa0主演: 蒂姆·罗斯 Tim Roth / ...',\n",
       " '\\n                            1998\\xa0/\\xa0意大利\\xa0/\\xa0剧情 音乐\\n                        ',\n",
       " '\\n                            导演: 拉库马·希拉尼 Rajkumar Hirani\\xa0\\xa0\\xa0主演: 阿米尔·汗 Aamir Khan / 卡...',\n",
       " '\\n                            2009\\xa0/\\xa0印度\\xa0/\\xa0剧情 喜剧 爱情 歌舞\\n                        ',\n",
       " '\\n                            导演: 安德鲁·斯坦顿 Andrew Stanton\\xa0\\xa0\\xa0主演: 本·贝尔特 Ben Burtt / 艾丽...',\n",
       " '\\n                            2008\\xa0/\\xa0美国\\xa0/\\xa0科幻 动画 冒险\\n                        ',\n",
       " '\\n                            导演: 克里斯托夫·巴拉蒂 Christophe Barratier\\xa0\\xa0\\xa0主演: 让-巴蒂斯特·莫尼...',\n",
       " '\\n                            2004\\xa0/\\xa0法国 瑞士 德国\\xa0/\\xa0剧情 喜剧 音乐\\n                        ',\n",
       " '\\n                            导演: 刘伟强 / 麦兆辉\\xa0\\xa0\\xa0主演: 刘德华 / 梁朝伟 / 黄秋生',\n",
       " '\\n                            2002\\xa0/\\xa0中国香港\\xa0/\\xa0剧情 犯罪 惊悚\\n                        ',\n",
       " '\\n                            导演: 拜伦·霍华德 Byron Howard / 瑞奇·摩尔 Rich Moore\\xa0\\xa0\\xa0主演: 金妮弗·...',\n",
       " '\\n                            2016\\xa0/\\xa0美国\\xa0/\\xa0喜剧 动画 冒险\\n                        ',\n",
       " '\\n                            导演: 刘镇伟 Jeffrey Lau\\xa0\\xa0\\xa0主演: 周星驰 Stephen Chow / 吴孟达 Man Tat Ng...',\n",
       " '\\n                            1995\\xa0/\\xa0中国香港 中国大陆\\xa0/\\xa0喜剧 爱情 奇幻 古装\\n                        ',\n",
       " '\\n                            导演: 比利·怀尔德 Billy Wilder\\xa0\\xa0\\xa0主演: 泰隆·鲍华 Tyrone Power / 玛琳·...',\n",
       " '\\n                            1957\\xa0/\\xa0美国\\xa0/\\xa0剧情 犯罪 悬疑\\n                        ',\n",
       " '\\n                            导演: 黄东赫 Dong-hyuk Hwang\\xa0\\xa0\\xa0主演: 孔侑 Yoo Gong / 郑有美 Yu-mi Jung /...',\n",
       " '\\n                            2011\\xa0/\\xa0韩国\\xa0/\\xa0剧情\\n                        ',\n",
       " '\\n                            导演: 弗朗西斯·福特·科波拉 Francis Ford Coppola\\xa0\\xa0\\xa0主演: 马龙·白兰度 M...',\n",
       " '\\n                            1972\\xa0/\\xa0美国\\xa0/\\xa0剧情 犯罪\\n                        ',\n",
       " '\\n                            导演: 加布里尔·穆奇诺 Gabriele Muccino\\xa0\\xa0\\xa0主演: 威尔·史密斯 Will Smith ...',\n",
       " '\\n                            2006\\xa0/\\xa0美国\\xa0/\\xa0剧情 传记 家庭\\n                        ',\n",
       " '\\n                            导演: 奥利维·那卡什 Olivier Nakache / 艾力克·托兰达 Eric Toledano\\xa0\\xa0\\xa0主...',\n",
       " '\\n                            2011\\xa0/\\xa0法国\\xa0/\\xa0剧情 喜剧\\n                        ',\n",
       " '\\n                            导演: 罗伯·莱纳 Rob Reiner\\xa0\\xa0\\xa0主演: 玛德琳·卡罗尔 Madeline Carroll / 卡...',\n",
       " '\\n                            2010\\xa0/\\xa0美国\\xa0/\\xa0剧情 喜剧 爱情\\n                        ']"
      ]
     },
     "execution_count": 8,
     "metadata": {},
     "output_type": "execute_result"
    }
   ],
   "source": [
    "temp=html.xpath('//p[@class=\"\"]/text()')\n",
    "temp"
   ]
  },
  {
   "cell_type": "code",
   "execution_count": 9,
   "id": "137e7bd2",
   "metadata": {
    "ExecuteTime": {
     "end_time": "2022-11-20T07:15:23.492884Z",
     "start_time": "2022-11-20T07:15:23.478243Z"
    }
   },
   "outputs": [
    {
     "data": {
      "text/plain": [
       "['\\n                            导演: 弗兰克·德拉邦特 Frank Darabont\\xa0\\xa0\\xa0主演: 蒂姆·罗宾斯 Tim Robbins /...',\n",
       " '\\n                            导演: 陈凯歌 Kaige Chen\\xa0\\xa0\\xa0主演: 张国荣 Leslie Cheung / 张丰毅 Fengyi Zha...',\n",
       " '\\n                            导演: 罗伯特·泽米吉斯 Robert Zemeckis\\xa0\\xa0\\xa0主演: 汤姆·汉克斯 Tom Hanks / ...',\n",
       " '\\n                            导演: 詹姆斯·卡梅隆 James Cameron\\xa0\\xa0\\xa0主演: 莱昂纳多·迪卡普里奥 Leonardo...',\n",
       " '\\n                            导演: 吕克·贝松 Luc Besson\\xa0\\xa0\\xa0主演: 让·雷诺 Jean Reno / 娜塔莉·波特曼 ...',\n",
       " '\\n                            导演: 罗伯托·贝尼尼 Roberto Benigni\\xa0\\xa0\\xa0主演: 罗伯托·贝尼尼 Roberto Beni...',\n",
       " '\\n                            导演: 宫崎骏 Hayao Miyazaki\\xa0\\xa0\\xa0主演: 柊瑠美 Rumi Hîragi / 入野自由 Miy...',\n",
       " '\\n                            导演: 史蒂文·斯皮尔伯格 Steven Spielberg\\xa0\\xa0\\xa0主演: 连姆·尼森 Liam Neeson...',\n",
       " '\\n                            导演: 克里斯托弗·诺兰 Christopher Nolan\\xa0\\xa0\\xa0主演: 莱昂纳多·迪卡普里奥 Le...',\n",
       " '\\n                            导演: 克里斯托弗·诺兰 Christopher Nolan\\xa0\\xa0\\xa0主演: 马修·麦康纳 Matthew Mc...',\n",
       " '\\n                            导演: 莱塞·霍尔斯道姆 Lasse Hallström\\xa0\\xa0\\xa0主演: 理查·基尔 Richard Ger...',\n",
       " '\\n                            导演: 彼得·威尔 Peter Weir\\xa0\\xa0\\xa0主演: 金·凯瑞 Jim Carrey / 劳拉·琳妮 Lau...',\n",
       " '\\n                            导演: 朱塞佩·托纳多雷 Giuseppe Tornatore\\xa0\\xa0\\xa0主演: 蒂姆·罗斯 Tim Roth / ...',\n",
       " '\\n                            导演: 拉库马·希拉尼 Rajkumar Hirani\\xa0\\xa0\\xa0主演: 阿米尔·汗 Aamir Khan / 卡...',\n",
       " '\\n                            导演: 安德鲁·斯坦顿 Andrew Stanton\\xa0\\xa0\\xa0主演: 本·贝尔特 Ben Burtt / 艾丽...',\n",
       " '\\n                            导演: 克里斯托夫·巴拉蒂 Christophe Barratier\\xa0\\xa0\\xa0主演: 让-巴蒂斯特·莫尼...',\n",
       " '\\n                            导演: 刘伟强 / 麦兆辉\\xa0\\xa0\\xa0主演: 刘德华 / 梁朝伟 / 黄秋生',\n",
       " '\\n                            导演: 拜伦·霍华德 Byron Howard / 瑞奇·摩尔 Rich Moore\\xa0\\xa0\\xa0主演: 金妮弗·...',\n",
       " '\\n                            导演: 刘镇伟 Jeffrey Lau\\xa0\\xa0\\xa0主演: 周星驰 Stephen Chow / 吴孟达 Man Tat Ng...',\n",
       " '\\n                            导演: 比利·怀尔德 Billy Wilder\\xa0\\xa0\\xa0主演: 泰隆·鲍华 Tyrone Power / 玛琳·...',\n",
       " '\\n                            导演: 黄东赫 Dong-hyuk Hwang\\xa0\\xa0\\xa0主演: 孔侑 Yoo Gong / 郑有美 Yu-mi Jung /...',\n",
       " '\\n                            导演: 弗朗西斯·福特·科波拉 Francis Ford Coppola\\xa0\\xa0\\xa0主演: 马龙·白兰度 M...',\n",
       " '\\n                            导演: 加布里尔·穆奇诺 Gabriele Muccino\\xa0\\xa0\\xa0主演: 威尔·史密斯 Will Smith ...',\n",
       " '\\n                            导演: 奥利维·那卡什 Olivier Nakache / 艾力克·托兰达 Eric Toledano\\xa0\\xa0\\xa0主...',\n",
       " '\\n                            导演: 罗伯·莱纳 Rob Reiner\\xa0\\xa0\\xa0主演: 玛德琳·卡罗尔 Madeline Carroll / 卡...']"
      ]
     },
     "execution_count": 9,
     "metadata": {},
     "output_type": "execute_result"
    }
   ],
   "source": [
    "temp_1=temp[::2]\n",
    "temp_1"
   ]
  },
  {
   "cell_type": "code",
   "execution_count": 10,
   "id": "0046ba32",
   "metadata": {
    "ExecuteTime": {
     "end_time": "2022-11-20T07:15:23.508676Z",
     "start_time": "2022-11-20T07:15:23.493986Z"
    }
   },
   "outputs": [
    {
     "data": {
      "text/plain": [
       "['导演: 弗兰克·德拉邦特 Frank Darabont',\n",
       " '导演: 陈凯歌 Kaige Chen',\n",
       " '导演: 罗伯特·泽米吉斯 Robert Zemeckis',\n",
       " '导演: 詹姆斯·卡梅隆 James Cameron',\n",
       " '导演: 吕克·贝松 Luc Besson',\n",
       " '导演: 罗伯托·贝尼尼 Roberto Benigni',\n",
       " '导演: 宫崎骏 Hayao Miyazaki',\n",
       " '导演: 史蒂文·斯皮尔伯格 Steven Spielberg',\n",
       " '导演: 克里斯托弗·诺兰 Christopher Nolan',\n",
       " '导演: 克里斯托弗·诺兰 Christopher Nolan',\n",
       " '导演: 莱塞·霍尔斯道姆 Lasse Hallström',\n",
       " '导演: 彼得·威尔 Peter Weir',\n",
       " '导演: 朱塞佩·托纳多雷 Giuseppe Tornatore',\n",
       " '导演: 拉库马·希拉尼 Rajkumar Hirani',\n",
       " '导演: 安德鲁·斯坦顿 Andrew Stanton',\n",
       " '导演: 克里斯托夫·巴拉蒂 Christophe Barratier',\n",
       " '导演: 刘伟强 / 麦兆辉',\n",
       " '导演: 拜伦·霍华德 Byron Howard / 瑞奇·摩尔 Rich Moore',\n",
       " '导演: 刘镇伟 Jeffrey Lau',\n",
       " '导演: 比利·怀尔德 Billy Wilder',\n",
       " '导演: 黄东赫 Dong-hyuk Hwang',\n",
       " '导演: 弗朗西斯·福特·科波拉 Francis Ford Coppola',\n",
       " '导演: 加布里尔·穆奇诺 Gabriele Muccino',\n",
       " '导演: 奥利维·那卡什 Olivier Nakache / 艾力克·托兰达 Eric Toledano',\n",
       " '导演: 罗伯·莱纳 Rob Reiner']"
      ]
     },
     "execution_count": 10,
     "metadata": {},
     "output_type": "execute_result"
    }
   ],
   "source": [
    "movie_doctor=[]\n",
    "for i in temp_1:\n",
    "    temp_2=''\n",
    "    temp_2+=i\n",
    "    i=i.strip()\n",
    "    class_1=i.split('\\xa0\\xa0\\xa0')\n",
    "    movie_doctor.append(class_1[0])\n",
    "movie_doctor"
   ]
  },
  {
   "cell_type": "markdown",
   "id": "c7dc8335",
   "metadata": {},
   "source": [
    "## 主演"
   ]
  },
  {
   "cell_type": "code",
   "execution_count": 11,
   "id": "15092801",
   "metadata": {
    "ExecuteTime": {
     "end_time": "2022-11-20T07:15:23.524796Z",
     "start_time": "2022-11-20T07:15:23.509762Z"
    }
   },
   "outputs": [
    {
     "data": {
      "text/plain": [
       "['主演: 蒂姆·罗宾斯 Tim Robbins /...',\n",
       " '主演: 张国荣 Leslie Cheung / 张丰毅 Fengyi Zha...',\n",
       " '主演: 汤姆·汉克斯 Tom Hanks / ...',\n",
       " '主演: 莱昂纳多·迪卡普里奥 Leonardo...',\n",
       " '主演: 让·雷诺 Jean Reno / 娜塔莉·波特曼 ...',\n",
       " '主演: 罗伯托·贝尼尼 Roberto Beni...',\n",
       " '主演: 柊瑠美 Rumi Hîragi / 入野自由 Miy...',\n",
       " '主演: 连姆·尼森 Liam Neeson...',\n",
       " '主演: 莱昂纳多·迪卡普里奥 Le...',\n",
       " '主演: 马修·麦康纳 Matthew Mc...',\n",
       " '主演: 理查·基尔 Richard Ger...',\n",
       " '主演: 金·凯瑞 Jim Carrey / 劳拉·琳妮 Lau...',\n",
       " '主演: 蒂姆·罗斯 Tim Roth / ...',\n",
       " '主演: 阿米尔·汗 Aamir Khan / 卡...',\n",
       " '主演: 本·贝尔特 Ben Burtt / 艾丽...',\n",
       " '主演: 让-巴蒂斯特·莫尼...',\n",
       " '主演: 刘德华 / 梁朝伟 / 黄秋生',\n",
       " '主演: 金妮弗·...',\n",
       " '主演: 周星驰 Stephen Chow / 吴孟达 Man Tat Ng...',\n",
       " '主演: 泰隆·鲍华 Tyrone Power / 玛琳·...',\n",
       " '主演: 孔侑 Yoo Gong / 郑有美 Yu-mi Jung /...',\n",
       " '主演: 马龙·白兰度 M...',\n",
       " '主演: 威尔·史密斯 Will Smith ...',\n",
       " '主...',\n",
       " '主演: 玛德琳·卡罗尔 Madeline Carroll / 卡...']"
      ]
     },
     "execution_count": 11,
     "metadata": {},
     "output_type": "execute_result"
    }
   ],
   "source": [
    "movie_actor=[]\n",
    "for i in temp_1:\n",
    "    temp_2=''\n",
    "    temp_2+=i\n",
    "    i=i.strip()\n",
    "    class_1=i.split('\\xa0\\xa0\\xa0')\n",
    "    movie_actor.append(class_1[1])\n",
    "movie_actor"
   ]
  },
  {
   "cell_type": "markdown",
   "id": "8a176b40",
   "metadata": {
    "ExecuteTime": {
     "end_time": "2022-11-13T12:20:09.398635Z",
     "start_time": "2022-11-13T12:20:09.375892Z"
    }
   },
   "source": [
    "## 电影放映年份"
   ]
  },
  {
   "cell_type": "code",
   "execution_count": 12,
   "id": "ce8a2f10",
   "metadata": {
    "ExecuteTime": {
     "end_time": "2022-11-20T07:15:23.540914Z",
     "start_time": "2022-11-20T07:15:23.525942Z"
    }
   },
   "outputs": [
    {
     "data": {
      "text/plain": [
       "['\\n                            1994\\xa0/\\xa0美国\\xa0/\\xa0犯罪 剧情\\n                        ',\n",
       " '\\n                            1993\\xa0/\\xa0中国大陆 中国香港\\xa0/\\xa0剧情 爱情 同性\\n                        ',\n",
       " '\\n                            1994\\xa0/\\xa0美国\\xa0/\\xa0剧情 爱情\\n                        ',\n",
       " '\\n                            1997\\xa0/\\xa0美国 墨西哥 澳大利亚 加拿大\\xa0/\\xa0剧情 爱情 灾难\\n                        ',\n",
       " '\\n                            1994\\xa0/\\xa0法国 美国\\xa0/\\xa0剧情 动作 犯罪\\n                        ',\n",
       " '\\n                            1997\\xa0/\\xa0意大利\\xa0/\\xa0剧情 喜剧 爱情 战争\\n                        ',\n",
       " '\\n                            2001\\xa0/\\xa0日本\\xa0/\\xa0剧情 动画 奇幻\\n                        ',\n",
       " '\\n                            1993\\xa0/\\xa0美国\\xa0/\\xa0剧情 历史 战争\\n                        ',\n",
       " '\\n                            2010\\xa0/\\xa0美国 英国\\xa0/\\xa0剧情 科幻 悬疑 冒险\\n                        ',\n",
       " '\\n                            2014\\xa0/\\xa0美国 英国 加拿大\\xa0/\\xa0剧情 科幻 冒险\\n                        ',\n",
       " '\\n                            2009\\xa0/\\xa0美国 英国\\xa0/\\xa0剧情\\n                        ',\n",
       " '\\n                            1998\\xa0/\\xa0美国\\xa0/\\xa0剧情 科幻\\n                        ',\n",
       " '\\n                            1998\\xa0/\\xa0意大利\\xa0/\\xa0剧情 音乐\\n                        ',\n",
       " '\\n                            2009\\xa0/\\xa0印度\\xa0/\\xa0剧情 喜剧 爱情 歌舞\\n                        ',\n",
       " '\\n                            2008\\xa0/\\xa0美国\\xa0/\\xa0科幻 动画 冒险\\n                        ',\n",
       " '\\n                            2004\\xa0/\\xa0法国 瑞士 德国\\xa0/\\xa0剧情 喜剧 音乐\\n                        ',\n",
       " '\\n                            2002\\xa0/\\xa0中国香港\\xa0/\\xa0剧情 犯罪 惊悚\\n                        ',\n",
       " '\\n                            2016\\xa0/\\xa0美国\\xa0/\\xa0喜剧 动画 冒险\\n                        ',\n",
       " '\\n                            1995\\xa0/\\xa0中国香港 中国大陆\\xa0/\\xa0喜剧 爱情 奇幻 古装\\n                        ',\n",
       " '\\n                            1957\\xa0/\\xa0美国\\xa0/\\xa0剧情 犯罪 悬疑\\n                        ',\n",
       " '\\n                            2011\\xa0/\\xa0韩国\\xa0/\\xa0剧情\\n                        ',\n",
       " '\\n                            1972\\xa0/\\xa0美国\\xa0/\\xa0剧情 犯罪\\n                        ',\n",
       " '\\n                            2006\\xa0/\\xa0美国\\xa0/\\xa0剧情 传记 家庭\\n                        ',\n",
       " '\\n                            2011\\xa0/\\xa0法国\\xa0/\\xa0剧情 喜剧\\n                        ',\n",
       " '\\n                            2010\\xa0/\\xa0美国\\xa0/\\xa0剧情 喜剧 爱情\\n                        ']"
      ]
     },
     "execution_count": 12,
     "metadata": {},
     "output_type": "execute_result"
    }
   ],
   "source": [
    "temp_3=temp[1::2]\n",
    "temp_3"
   ]
  },
  {
   "cell_type": "code",
   "execution_count": 13,
   "id": "810fe77f",
   "metadata": {
    "ExecuteTime": {
     "end_time": "2022-11-20T07:15:23.556780Z",
     "start_time": "2022-11-20T07:15:23.542086Z"
    }
   },
   "outputs": [
    {
     "data": {
      "text/plain": [
       "['1994',\n",
       " '1993',\n",
       " '1994',\n",
       " '1997',\n",
       " '1994',\n",
       " '1997',\n",
       " '2001',\n",
       " '1993',\n",
       " '2010',\n",
       " '2014',\n",
       " '2009',\n",
       " '1998',\n",
       " '1998',\n",
       " '2009',\n",
       " '2008',\n",
       " '2004',\n",
       " '2002',\n",
       " '2016',\n",
       " '1995',\n",
       " '1957',\n",
       " '2011',\n",
       " '1972',\n",
       " '2006',\n",
       " '2011',\n",
       " '2010']"
      ]
     },
     "execution_count": 13,
     "metadata": {},
     "output_type": "execute_result"
    }
   ],
   "source": [
    "year=[]\n",
    "for i in temp_3:\n",
    "    temp_4=''\n",
    "    temp_4+=i\n",
    "    i=i.strip()\n",
    "    class_2=i.split('\\xa0/\\xa0')\n",
    "    year.append(class_2[0])\n",
    "year"
   ]
  },
  {
   "cell_type": "markdown",
   "id": "701b4579",
   "metadata": {
    "ExecuteTime": {
     "end_time": "2022-11-13T12:20:42.347146Z",
     "start_time": "2022-11-13T12:20:42.321309Z"
    }
   },
   "source": [
    "## 电影拍摄国家"
   ]
  },
  {
   "cell_type": "code",
   "execution_count": 14,
   "id": "820c7e18",
   "metadata": {
    "ExecuteTime": {
     "end_time": "2022-11-20T07:15:23.572848Z",
     "start_time": "2022-11-20T07:15:23.558812Z"
    }
   },
   "outputs": [
    {
     "data": {
      "text/plain": [
       "['美国',\n",
       " '中国大陆 中国香港',\n",
       " '美国',\n",
       " '美国 墨西哥 澳大利亚 加拿大',\n",
       " '法国 美国',\n",
       " '意大利',\n",
       " '日本',\n",
       " '美国',\n",
       " '美国 英国',\n",
       " '美国 英国 加拿大',\n",
       " '美国 英国',\n",
       " '美国',\n",
       " '意大利',\n",
       " '印度',\n",
       " '美国',\n",
       " '法国 瑞士 德国',\n",
       " '中国香港',\n",
       " '美国',\n",
       " '中国香港 中国大陆',\n",
       " '美国',\n",
       " '韩国',\n",
       " '美国',\n",
       " '美国',\n",
       " '法国',\n",
       " '美国']"
      ]
     },
     "execution_count": 14,
     "metadata": {},
     "output_type": "execute_result"
    }
   ],
   "source": [
    "nation=[]\n",
    "for i in temp_3:\n",
    "    temp_4=''\n",
    "    temp_4+=i\n",
    "    i=i.strip()\n",
    "    class_2=i.split('\\xa0/\\xa0')\n",
    "    nation.append(class_2[1])\n",
    "nation"
   ]
  },
  {
   "cell_type": "markdown",
   "id": "25293431",
   "metadata": {
    "ExecuteTime": {
     "end_time": "2022-11-13T12:20:59.444256Z",
     "start_time": "2022-11-13T12:20:59.423939Z"
    }
   },
   "source": [
    "## 电影类型"
   ]
  },
  {
   "cell_type": "code",
   "execution_count": 15,
   "id": "d68c3e02",
   "metadata": {
    "ExecuteTime": {
     "end_time": "2022-11-20T07:15:23.588069Z",
     "start_time": "2022-11-20T07:15:23.573901Z"
    }
   },
   "outputs": [
    {
     "data": {
      "text/plain": [
       "['犯罪 剧情',\n",
       " '剧情 爱情 同性',\n",
       " '剧情 爱情',\n",
       " '剧情 爱情 灾难',\n",
       " '剧情 动作 犯罪',\n",
       " '剧情 喜剧 爱情 战争',\n",
       " '剧情 动画 奇幻',\n",
       " '剧情 历史 战争',\n",
       " '剧情 科幻 悬疑 冒险',\n",
       " '剧情 科幻 冒险',\n",
       " '剧情',\n",
       " '剧情 科幻',\n",
       " '剧情 音乐',\n",
       " '剧情 喜剧 爱情 歌舞',\n",
       " '科幻 动画 冒险',\n",
       " '剧情 喜剧 音乐',\n",
       " '剧情 犯罪 惊悚',\n",
       " '喜剧 动画 冒险',\n",
       " '喜剧 爱情 奇幻 古装',\n",
       " '剧情 犯罪 悬疑',\n",
       " '剧情',\n",
       " '剧情 犯罪',\n",
       " '剧情 传记 家庭',\n",
       " '剧情 喜剧',\n",
       " '剧情 喜剧 爱情']"
      ]
     },
     "execution_count": 15,
     "metadata": {},
     "output_type": "execute_result"
    }
   ],
   "source": [
    "mold=[]\n",
    "for i in temp_3:\n",
    "    temp_4=''\n",
    "    temp_4+=i\n",
    "    i=i.strip()\n",
    "    class_2=i.split('\\xa0/\\xa0')\n",
    "    mold.append(class_2[2])\n",
    "mold"
   ]
  },
  {
   "cell_type": "markdown",
   "id": "17dae5d0",
   "metadata": {
    "ExecuteTime": {
     "end_time": "2022-11-13T12:21:06.595069Z",
     "start_time": "2022-11-13T12:21:06.572751Z"
    }
   },
   "source": [
    "## 评分"
   ]
  },
  {
   "cell_type": "code",
   "execution_count": 16,
   "id": "4a0dcd67",
   "metadata": {
    "ExecuteTime": {
     "end_time": "2022-11-20T07:15:23.603925Z",
     "start_time": "2022-11-20T07:15:23.589196Z"
    }
   },
   "outputs": [
    {
     "data": {
      "text/plain": [
       "['9.7',\n",
       " '9.6',\n",
       " '9.5',\n",
       " '9.4',\n",
       " '9.4',\n",
       " '9.6',\n",
       " '9.4',\n",
       " '9.6',\n",
       " '9.4',\n",
       " '9.4',\n",
       " '9.4',\n",
       " '9.4',\n",
       " '9.3',\n",
       " '9.2',\n",
       " '9.3',\n",
       " '9.3',\n",
       " '9.3',\n",
       " '9.2',\n",
       " '9.2',\n",
       " '9.6',\n",
       " '9.4',\n",
       " '9.3',\n",
       " '9.2',\n",
       " '9.3',\n",
       " '9.1']"
      ]
     },
     "execution_count": 16,
     "metadata": {},
     "output_type": "execute_result"
    }
   ],
   "source": [
    "grade=html.xpath('//span[@class=\"rating_num\"]/text()')\n",
    "grade"
   ]
  },
  {
   "cell_type": "markdown",
   "id": "0e731d42",
   "metadata": {
    "ExecuteTime": {
     "end_time": "2022-11-13T12:21:14.813876Z",
     "start_time": "2022-11-13T12:21:14.793657Z"
    }
   },
   "source": [
    "## 评价数"
   ]
  },
  {
   "cell_type": "code",
   "execution_count": 17,
   "id": "7dab65ed",
   "metadata": {
    "ExecuteTime": {
     "end_time": "2022-11-20T07:15:23.619901Z",
     "start_time": "2022-11-20T07:15:23.606317Z"
    }
   },
   "outputs": [
    {
     "data": {
      "text/plain": [
       "['2737492',\n",
       " '2028333',\n",
       " '2053553',\n",
       " '2012602',\n",
       " '2194156',\n",
       " '1260538',\n",
       " '2128642',\n",
       " '1052100',\n",
       " '1963759',\n",
       " '1690982',\n",
       " '1337998',\n",
       " '1591068',\n",
       " '1599933',\n",
       " '1776571',\n",
       " '1255797',\n",
       " '1238425',\n",
       " '1280316',\n",
       " '1814112',\n",
       " '1459974',\n",
       " '504678',\n",
       " '889231',\n",
       " '912405',\n",
       " '1448940',\n",
       " '1039257',\n",
       " '1742697']"
      ]
     },
     "execution_count": 17,
     "metadata": {},
     "output_type": "execute_result"
    }
   ],
   "source": [
    "comment_num=html.xpath('//div[@class=\"star\"]/span[4]/text()')\n",
    "for i in range(len(comment_num)):\n",
    "    comment_num[i]=comment_num[i].strip('人评价')\n",
    "comment_num"
   ]
  },
  {
   "cell_type": "markdown",
   "id": "b59cb6ff",
   "metadata": {
    "ExecuteTime": {
     "end_time": "2022-11-13T12:21:24.970458Z",
     "start_time": "2022-11-13T12:21:24.945714Z"
    }
   },
   "source": [
    "## 电影名言"
   ]
  },
  {
   "cell_type": "code",
   "execution_count": 18,
   "id": "e2859531",
   "metadata": {
    "ExecuteTime": {
     "end_time": "2022-11-20T07:15:23.635964Z",
     "start_time": "2022-11-20T07:15:23.620981Z"
    }
   },
   "outputs": [
    {
     "data": {
      "text/plain": [
       "['希望让人自由。',\n",
       " '风华绝代。',\n",
       " '一部美国近现代史。',\n",
       " '失去的才是永恒的。 ',\n",
       " '怪蜀黍和小萝莉不得不说的故事。',\n",
       " '最美的谎言。',\n",
       " '最好的宫崎骏，最好的久石让。 ',\n",
       " '拯救一个人，就是拯救整个世界。',\n",
       " '诺兰给了我们一场无法盗取的梦。',\n",
       " '爱是一种力量，让我们超越时空感知它的存在。',\n",
       " '永远都不能忘记你所爱的人。',\n",
       " '如果再也不能见到你，祝你早安，午安，晚安。',\n",
       " '每个人都要走一条自己坚定了的路，就算是粉身碎骨。 ',\n",
       " '英俊版憨豆，高情商版谢耳朵。',\n",
       " '小瓦力，大人生。',\n",
       " '天籁一般的童声，是最接近上帝的存在。 ',\n",
       " '香港电影史上永不过时的杰作。',\n",
       " '迪士尼给我们营造的乌托邦就是这样，永远善良勇敢，永远出乎意料。',\n",
       " '一生所爱。',\n",
       " '比利·怀德满分作品。',\n",
       " '我们一路奋战不是为了改变世界，而是为了不让世界改变我们。',\n",
       " '千万不要记恨你的对手，这样会让你失去理智。',\n",
       " '平民励志片。 ',\n",
       " '满满温情的高雅喜剧。',\n",
       " '真正的幸福是来自内心深处。']"
      ]
     },
     "execution_count": 18,
     "metadata": {},
     "output_type": "execute_result"
    }
   ],
   "source": [
    "inq=html.xpath('//span[@class=\"inq\"]/text()')\n",
    "inq"
   ]
  },
  {
   "cell_type": "markdown",
   "id": "6c145b12",
   "metadata": {
    "ExecuteTime": {
     "end_time": "2022-11-13T12:21:40.355721Z",
     "start_time": "2022-11-13T12:21:40.329168Z"
    }
   },
   "source": [
    "## 电影封面地址"
   ]
  },
  {
   "cell_type": "code",
   "execution_count": 19,
   "id": "28251757",
   "metadata": {
    "ExecuteTime": {
     "end_time": "2022-11-20T07:15:23.651890Z",
     "start_time": "2022-11-20T07:15:23.637549Z"
    }
   },
   "outputs": [
    {
     "data": {
      "text/plain": [
       "['https://img2.doubanio.com/view/photo/s_ratio_poster/public/p480747492.jpg',\n",
       " 'https://img3.doubanio.com/view/photo/s_ratio_poster/public/p2561716440.jpg',\n",
       " 'https://img2.doubanio.com/view/photo/s_ratio_poster/public/p2372307693.jpg',\n",
       " 'https://img9.doubanio.com/view/photo/s_ratio_poster/public/p457760035.jpg',\n",
       " 'https://img2.doubanio.com/view/photo/s_ratio_poster/public/p511118051.jpg',\n",
       " 'https://img2.doubanio.com/view/photo/s_ratio_poster/public/p2578474613.jpg',\n",
       " 'https://img1.doubanio.com/view/photo/s_ratio_poster/public/p2557573348.jpg',\n",
       " 'https://img2.doubanio.com/view/photo/s_ratio_poster/public/p492406163.jpg',\n",
       " 'https://img9.doubanio.com/view/photo/s_ratio_poster/public/p513344864.jpg',\n",
       " 'https://img1.doubanio.com/view/photo/s_ratio_poster/public/p2614988097.jpg',\n",
       " 'https://img3.doubanio.com/view/photo/s_ratio_poster/public/p2587099240.jpg',\n",
       " 'https://img2.doubanio.com/view/photo/s_ratio_poster/public/p479682972.jpg',\n",
       " 'https://img9.doubanio.com/view/photo/s_ratio_poster/public/p2574551676.jpg',\n",
       " 'https://img2.doubanio.com/view/photo/s_ratio_poster/public/p579729551.jpg',\n",
       " 'https://img2.doubanio.com/view/photo/s_ratio_poster/public/p1461851991.jpg',\n",
       " 'https://img2.doubanio.com/view/photo/s_ratio_poster/public/p1910824951.jpg',\n",
       " 'https://img2.doubanio.com/view/photo/s_ratio_poster/public/p2564556863.jpg',\n",
       " 'https://img1.doubanio.com/view/photo/s_ratio_poster/public/p2614500649.jpg',\n",
       " 'https://img9.doubanio.com/view/photo/s_ratio_poster/public/p2455050536.jpg',\n",
       " 'https://img1.doubanio.com/view/photo/s_ratio_poster/public/p1505392928.jpg',\n",
       " 'https://img9.doubanio.com/view/photo/s_ratio_poster/public/p1363250216.jpg',\n",
       " 'https://img9.doubanio.com/view/photo/s_ratio_poster/public/p616779645.jpg',\n",
       " 'https://img9.doubanio.com/view/photo/s_ratio_poster/public/p2614359276.jpg',\n",
       " 'https://img9.doubanio.com/view/photo/s_ratio_poster/public/p1454261925.jpg',\n",
       " 'https://img1.doubanio.com/view/photo/s_ratio_poster/public/p501177648.jpg']"
      ]
     },
     "execution_count": 19,
     "metadata": {},
     "output_type": "execute_result"
    }
   ],
   "source": [
    "img=html.xpath('//div[@class=\"pic\"]/a/img/@src')\n",
    "img"
   ]
  },
  {
   "cell_type": "markdown",
   "id": "3965f289",
   "metadata": {},
   "source": [
    "# 数据的储存"
   ]
  },
  {
   "cell_type": "code",
   "execution_count": 20,
   "id": "1be8568f",
   "metadata": {
    "ExecuteTime": {
     "end_time": "2022-11-20T07:15:23.667666Z",
     "start_time": "2022-11-20T07:15:23.654010Z"
    }
   },
   "outputs": [
    {
     "data": {
      "text/plain": [
       "(25, 25, 25, 25, 25, 25, 25, 25, 25, 25)"
      ]
     },
     "execution_count": 20,
     "metadata": {},
     "output_type": "execute_result"
    }
   ],
   "source": [
    "len(movie_name),len(movie_doctor),len(movie_actor),len(year),len(nation),len(mold),len(grade),len(comment_num),len(inq),len(img)"
   ]
  },
  {
   "cell_type": "code",
   "execution_count": 21,
   "id": "d8b09914",
   "metadata": {
    "ExecuteTime": {
     "end_time": "2022-11-20T07:15:24.158526Z",
     "start_time": "2022-11-20T07:15:23.668756Z"
    }
   },
   "outputs": [],
   "source": [
    "import pandas as pd"
   ]
  },
  {
   "cell_type": "code",
   "execution_count": 22,
   "id": "042a209f",
   "metadata": {
    "ExecuteTime": {
     "end_time": "2022-11-20T07:15:24.206067Z",
     "start_time": "2022-11-20T07:15:24.159666Z"
    },
    "scrolled": true
   },
   "outputs": [
    {
     "data": {
      "text/html": [
       "<div>\n",
       "<style scoped>\n",
       "    .dataframe tbody tr th:only-of-type {\n",
       "        vertical-align: middle;\n",
       "    }\n",
       "\n",
       "    .dataframe tbody tr th {\n",
       "        vertical-align: top;\n",
       "    }\n",
       "\n",
       "    .dataframe thead th {\n",
       "        text-align: right;\n",
       "    }\n",
       "</style>\n",
       "<table border=\"1\" class=\"dataframe\">\n",
       "  <thead>\n",
       "    <tr style=\"text-align: right;\">\n",
       "      <th></th>\n",
       "      <th>电影名称</th>\n",
       "      <th>导演</th>\n",
       "      <th>主演</th>\n",
       "      <th>电影放映年份</th>\n",
       "      <th>电影拍摄国家</th>\n",
       "      <th>电影类型</th>\n",
       "      <th>评分</th>\n",
       "      <th>评价数</th>\n",
       "      <th>电影名言</th>\n",
       "      <th>电影封面地址</th>\n",
       "    </tr>\n",
       "  </thead>\n",
       "  <tbody>\n",
       "    <tr>\n",
       "      <th>0</th>\n",
       "      <td>肖申克的救赎</td>\n",
       "      <td>导演: 弗兰克·德拉邦特 Frank Darabont</td>\n",
       "      <td>主演: 蒂姆·罗宾斯 Tim Robbins /...</td>\n",
       "      <td>1994</td>\n",
       "      <td>美国</td>\n",
       "      <td>犯罪 剧情</td>\n",
       "      <td>9.7</td>\n",
       "      <td>2737492</td>\n",
       "      <td>希望让人自由。</td>\n",
       "      <td>https://img2.doubanio.com/view/photo/s_ratio_p...</td>\n",
       "    </tr>\n",
       "    <tr>\n",
       "      <th>1</th>\n",
       "      <td>霸王别姬</td>\n",
       "      <td>导演: 陈凯歌 Kaige Chen</td>\n",
       "      <td>主演: 张国荣 Leslie Cheung / 张丰毅 Fengyi Zha...</td>\n",
       "      <td>1993</td>\n",
       "      <td>中国大陆 中国香港</td>\n",
       "      <td>剧情 爱情 同性</td>\n",
       "      <td>9.6</td>\n",
       "      <td>2028333</td>\n",
       "      <td>风华绝代。</td>\n",
       "      <td>https://img3.doubanio.com/view/photo/s_ratio_p...</td>\n",
       "    </tr>\n",
       "    <tr>\n",
       "      <th>2</th>\n",
       "      <td>阿甘正传</td>\n",
       "      <td>导演: 罗伯特·泽米吉斯 Robert Zemeckis</td>\n",
       "      <td>主演: 汤姆·汉克斯 Tom Hanks / ...</td>\n",
       "      <td>1994</td>\n",
       "      <td>美国</td>\n",
       "      <td>剧情 爱情</td>\n",
       "      <td>9.5</td>\n",
       "      <td>2053553</td>\n",
       "      <td>一部美国近现代史。</td>\n",
       "      <td>https://img2.doubanio.com/view/photo/s_ratio_p...</td>\n",
       "    </tr>\n",
       "    <tr>\n",
       "      <th>3</th>\n",
       "      <td>泰坦尼克号</td>\n",
       "      <td>导演: 詹姆斯·卡梅隆 James Cameron</td>\n",
       "      <td>主演: 莱昂纳多·迪卡普里奥 Leonardo...</td>\n",
       "      <td>1997</td>\n",
       "      <td>美国 墨西哥 澳大利亚 加拿大</td>\n",
       "      <td>剧情 爱情 灾难</td>\n",
       "      <td>9.4</td>\n",
       "      <td>2012602</td>\n",
       "      <td>失去的才是永恒的。</td>\n",
       "      <td>https://img9.doubanio.com/view/photo/s_ratio_p...</td>\n",
       "    </tr>\n",
       "    <tr>\n",
       "      <th>4</th>\n",
       "      <td>这个杀手不太冷</td>\n",
       "      <td>导演: 吕克·贝松 Luc Besson</td>\n",
       "      <td>主演: 让·雷诺 Jean Reno / 娜塔莉·波特曼 ...</td>\n",
       "      <td>1994</td>\n",
       "      <td>法国 美国</td>\n",
       "      <td>剧情 动作 犯罪</td>\n",
       "      <td>9.4</td>\n",
       "      <td>2194156</td>\n",
       "      <td>怪蜀黍和小萝莉不得不说的故事。</td>\n",
       "      <td>https://img2.doubanio.com/view/photo/s_ratio_p...</td>\n",
       "    </tr>\n",
       "    <tr>\n",
       "      <th>5</th>\n",
       "      <td>美丽人生</td>\n",
       "      <td>导演: 罗伯托·贝尼尼 Roberto Benigni</td>\n",
       "      <td>主演: 罗伯托·贝尼尼 Roberto Beni...</td>\n",
       "      <td>1997</td>\n",
       "      <td>意大利</td>\n",
       "      <td>剧情 喜剧 爱情 战争</td>\n",
       "      <td>9.6</td>\n",
       "      <td>1260538</td>\n",
       "      <td>最美的谎言。</td>\n",
       "      <td>https://img2.doubanio.com/view/photo/s_ratio_p...</td>\n",
       "    </tr>\n",
       "    <tr>\n",
       "      <th>6</th>\n",
       "      <td>千与千寻</td>\n",
       "      <td>导演: 宫崎骏 Hayao Miyazaki</td>\n",
       "      <td>主演: 柊瑠美 Rumi Hîragi / 入野自由 Miy...</td>\n",
       "      <td>2001</td>\n",
       "      <td>日本</td>\n",
       "      <td>剧情 动画 奇幻</td>\n",
       "      <td>9.4</td>\n",
       "      <td>2128642</td>\n",
       "      <td>最好的宫崎骏，最好的久石让。</td>\n",
       "      <td>https://img1.doubanio.com/view/photo/s_ratio_p...</td>\n",
       "    </tr>\n",
       "    <tr>\n",
       "      <th>7</th>\n",
       "      <td>辛德勒的名单</td>\n",
       "      <td>导演: 史蒂文·斯皮尔伯格 Steven Spielberg</td>\n",
       "      <td>主演: 连姆·尼森 Liam Neeson...</td>\n",
       "      <td>1993</td>\n",
       "      <td>美国</td>\n",
       "      <td>剧情 历史 战争</td>\n",
       "      <td>9.6</td>\n",
       "      <td>1052100</td>\n",
       "      <td>拯救一个人，就是拯救整个世界。</td>\n",
       "      <td>https://img2.doubanio.com/view/photo/s_ratio_p...</td>\n",
       "    </tr>\n",
       "    <tr>\n",
       "      <th>8</th>\n",
       "      <td>盗梦空间</td>\n",
       "      <td>导演: 克里斯托弗·诺兰 Christopher Nolan</td>\n",
       "      <td>主演: 莱昂纳多·迪卡普里奥 Le...</td>\n",
       "      <td>2010</td>\n",
       "      <td>美国 英国</td>\n",
       "      <td>剧情 科幻 悬疑 冒险</td>\n",
       "      <td>9.4</td>\n",
       "      <td>1963759</td>\n",
       "      <td>诺兰给了我们一场无法盗取的梦。</td>\n",
       "      <td>https://img9.doubanio.com/view/photo/s_ratio_p...</td>\n",
       "    </tr>\n",
       "    <tr>\n",
       "      <th>9</th>\n",
       "      <td>星际穿越</td>\n",
       "      <td>导演: 克里斯托弗·诺兰 Christopher Nolan</td>\n",
       "      <td>主演: 马修·麦康纳 Matthew Mc...</td>\n",
       "      <td>2014</td>\n",
       "      <td>美国 英国 加拿大</td>\n",
       "      <td>剧情 科幻 冒险</td>\n",
       "      <td>9.4</td>\n",
       "      <td>1690982</td>\n",
       "      <td>爱是一种力量，让我们超越时空感知它的存在。</td>\n",
       "      <td>https://img1.doubanio.com/view/photo/s_ratio_p...</td>\n",
       "    </tr>\n",
       "    <tr>\n",
       "      <th>10</th>\n",
       "      <td>忠犬八公的故事</td>\n",
       "      <td>导演: 莱塞·霍尔斯道姆 Lasse Hallström</td>\n",
       "      <td>主演: 理查·基尔 Richard Ger...</td>\n",
       "      <td>2009</td>\n",
       "      <td>美国 英国</td>\n",
       "      <td>剧情</td>\n",
       "      <td>9.4</td>\n",
       "      <td>1337998</td>\n",
       "      <td>永远都不能忘记你所爱的人。</td>\n",
       "      <td>https://img3.doubanio.com/view/photo/s_ratio_p...</td>\n",
       "    </tr>\n",
       "    <tr>\n",
       "      <th>11</th>\n",
       "      <td>楚门的世界</td>\n",
       "      <td>导演: 彼得·威尔 Peter Weir</td>\n",
       "      <td>主演: 金·凯瑞 Jim Carrey / 劳拉·琳妮 Lau...</td>\n",
       "      <td>1998</td>\n",
       "      <td>美国</td>\n",
       "      <td>剧情 科幻</td>\n",
       "      <td>9.4</td>\n",
       "      <td>1591068</td>\n",
       "      <td>如果再也不能见到你，祝你早安，午安，晚安。</td>\n",
       "      <td>https://img2.doubanio.com/view/photo/s_ratio_p...</td>\n",
       "    </tr>\n",
       "    <tr>\n",
       "      <th>12</th>\n",
       "      <td>海上钢琴师</td>\n",
       "      <td>导演: 朱塞佩·托纳多雷 Giuseppe Tornatore</td>\n",
       "      <td>主演: 蒂姆·罗斯 Tim Roth / ...</td>\n",
       "      <td>1998</td>\n",
       "      <td>意大利</td>\n",
       "      <td>剧情 音乐</td>\n",
       "      <td>9.3</td>\n",
       "      <td>1599933</td>\n",
       "      <td>每个人都要走一条自己坚定了的路，就算是粉身碎骨。</td>\n",
       "      <td>https://img9.doubanio.com/view/photo/s_ratio_p...</td>\n",
       "    </tr>\n",
       "    <tr>\n",
       "      <th>13</th>\n",
       "      <td>三傻大闹宝莱坞</td>\n",
       "      <td>导演: 拉库马·希拉尼 Rajkumar Hirani</td>\n",
       "      <td>主演: 阿米尔·汗 Aamir Khan / 卡...</td>\n",
       "      <td>2009</td>\n",
       "      <td>印度</td>\n",
       "      <td>剧情 喜剧 爱情 歌舞</td>\n",
       "      <td>9.2</td>\n",
       "      <td>1776571</td>\n",
       "      <td>英俊版憨豆，高情商版谢耳朵。</td>\n",
       "      <td>https://img2.doubanio.com/view/photo/s_ratio_p...</td>\n",
       "    </tr>\n",
       "    <tr>\n",
       "      <th>14</th>\n",
       "      <td>机器人总动员</td>\n",
       "      <td>导演: 安德鲁·斯坦顿 Andrew Stanton</td>\n",
       "      <td>主演: 本·贝尔特 Ben Burtt / 艾丽...</td>\n",
       "      <td>2008</td>\n",
       "      <td>美国</td>\n",
       "      <td>科幻 动画 冒险</td>\n",
       "      <td>9.3</td>\n",
       "      <td>1255797</td>\n",
       "      <td>小瓦力，大人生。</td>\n",
       "      <td>https://img2.doubanio.com/view/photo/s_ratio_p...</td>\n",
       "    </tr>\n",
       "    <tr>\n",
       "      <th>15</th>\n",
       "      <td>放牛班的春天</td>\n",
       "      <td>导演: 克里斯托夫·巴拉蒂 Christophe Barratier</td>\n",
       "      <td>主演: 让-巴蒂斯特·莫尼...</td>\n",
       "      <td>2004</td>\n",
       "      <td>法国 瑞士 德国</td>\n",
       "      <td>剧情 喜剧 音乐</td>\n",
       "      <td>9.3</td>\n",
       "      <td>1238425</td>\n",
       "      <td>天籁一般的童声，是最接近上帝的存在。</td>\n",
       "      <td>https://img2.doubanio.com/view/photo/s_ratio_p...</td>\n",
       "    </tr>\n",
       "    <tr>\n",
       "      <th>16</th>\n",
       "      <td>无间道</td>\n",
       "      <td>导演: 刘伟强 / 麦兆辉</td>\n",
       "      <td>主演: 刘德华 / 梁朝伟 / 黄秋生</td>\n",
       "      <td>2002</td>\n",
       "      <td>中国香港</td>\n",
       "      <td>剧情 犯罪 惊悚</td>\n",
       "      <td>9.3</td>\n",
       "      <td>1280316</td>\n",
       "      <td>香港电影史上永不过时的杰作。</td>\n",
       "      <td>https://img2.doubanio.com/view/photo/s_ratio_p...</td>\n",
       "    </tr>\n",
       "    <tr>\n",
       "      <th>17</th>\n",
       "      <td>疯狂动物城</td>\n",
       "      <td>导演: 拜伦·霍华德 Byron Howard / 瑞奇·摩尔 Rich Moore</td>\n",
       "      <td>主演: 金妮弗·...</td>\n",
       "      <td>2016</td>\n",
       "      <td>美国</td>\n",
       "      <td>喜剧 动画 冒险</td>\n",
       "      <td>9.2</td>\n",
       "      <td>1814112</td>\n",
       "      <td>迪士尼给我们营造的乌托邦就是这样，永远善良勇敢，永远出乎意料。</td>\n",
       "      <td>https://img1.doubanio.com/view/photo/s_ratio_p...</td>\n",
       "    </tr>\n",
       "    <tr>\n",
       "      <th>18</th>\n",
       "      <td>大话西游之大圣娶亲</td>\n",
       "      <td>导演: 刘镇伟 Jeffrey Lau</td>\n",
       "      <td>主演: 周星驰 Stephen Chow / 吴孟达 Man Tat Ng...</td>\n",
       "      <td>1995</td>\n",
       "      <td>中国香港 中国大陆</td>\n",
       "      <td>喜剧 爱情 奇幻 古装</td>\n",
       "      <td>9.2</td>\n",
       "      <td>1459974</td>\n",
       "      <td>一生所爱。</td>\n",
       "      <td>https://img9.doubanio.com/view/photo/s_ratio_p...</td>\n",
       "    </tr>\n",
       "    <tr>\n",
       "      <th>19</th>\n",
       "      <td>控方证人</td>\n",
       "      <td>导演: 比利·怀尔德 Billy Wilder</td>\n",
       "      <td>主演: 泰隆·鲍华 Tyrone Power / 玛琳·...</td>\n",
       "      <td>1957</td>\n",
       "      <td>美国</td>\n",
       "      <td>剧情 犯罪 悬疑</td>\n",
       "      <td>9.6</td>\n",
       "      <td>504678</td>\n",
       "      <td>比利·怀德满分作品。</td>\n",
       "      <td>https://img1.doubanio.com/view/photo/s_ratio_p...</td>\n",
       "    </tr>\n",
       "    <tr>\n",
       "      <th>20</th>\n",
       "      <td>熔炉</td>\n",
       "      <td>导演: 黄东赫 Dong-hyuk Hwang</td>\n",
       "      <td>主演: 孔侑 Yoo Gong / 郑有美 Yu-mi Jung /...</td>\n",
       "      <td>2011</td>\n",
       "      <td>韩国</td>\n",
       "      <td>剧情</td>\n",
       "      <td>9.4</td>\n",
       "      <td>889231</td>\n",
       "      <td>我们一路奋战不是为了改变世界，而是为了不让世界改变我们。</td>\n",
       "      <td>https://img9.doubanio.com/view/photo/s_ratio_p...</td>\n",
       "    </tr>\n",
       "    <tr>\n",
       "      <th>21</th>\n",
       "      <td>教父</td>\n",
       "      <td>导演: 弗朗西斯·福特·科波拉 Francis Ford Coppola</td>\n",
       "      <td>主演: 马龙·白兰度 M...</td>\n",
       "      <td>1972</td>\n",
       "      <td>美国</td>\n",
       "      <td>剧情 犯罪</td>\n",
       "      <td>9.3</td>\n",
       "      <td>912405</td>\n",
       "      <td>千万不要记恨你的对手，这样会让你失去理智。</td>\n",
       "      <td>https://img9.doubanio.com/view/photo/s_ratio_p...</td>\n",
       "    </tr>\n",
       "    <tr>\n",
       "      <th>22</th>\n",
       "      <td>当幸福来敲门</td>\n",
       "      <td>导演: 加布里尔·穆奇诺 Gabriele Muccino</td>\n",
       "      <td>主演: 威尔·史密斯 Will Smith ...</td>\n",
       "      <td>2006</td>\n",
       "      <td>美国</td>\n",
       "      <td>剧情 传记 家庭</td>\n",
       "      <td>9.2</td>\n",
       "      <td>1448940</td>\n",
       "      <td>平民励志片。</td>\n",
       "      <td>https://img9.doubanio.com/view/photo/s_ratio_p...</td>\n",
       "    </tr>\n",
       "    <tr>\n",
       "      <th>23</th>\n",
       "      <td>触不可及</td>\n",
       "      <td>导演: 奥利维·那卡什 Olivier Nakache / 艾力克·托兰达 Eric Tol...</td>\n",
       "      <td>主...</td>\n",
       "      <td>2011</td>\n",
       "      <td>法国</td>\n",
       "      <td>剧情 喜剧</td>\n",
       "      <td>9.3</td>\n",
       "      <td>1039257</td>\n",
       "      <td>满满温情的高雅喜剧。</td>\n",
       "      <td>https://img9.doubanio.com/view/photo/s_ratio_p...</td>\n",
       "    </tr>\n",
       "    <tr>\n",
       "      <th>24</th>\n",
       "      <td>怦然心动</td>\n",
       "      <td>导演: 罗伯·莱纳 Rob Reiner</td>\n",
       "      <td>主演: 玛德琳·卡罗尔 Madeline Carroll / 卡...</td>\n",
       "      <td>2010</td>\n",
       "      <td>美国</td>\n",
       "      <td>剧情 喜剧 爱情</td>\n",
       "      <td>9.1</td>\n",
       "      <td>1742697</td>\n",
       "      <td>真正的幸福是来自内心深处。</td>\n",
       "      <td>https://img1.doubanio.com/view/photo/s_ratio_p...</td>\n",
       "    </tr>\n",
       "  </tbody>\n",
       "</table>\n",
       "</div>"
      ],
      "text/plain": [
       "         电影名称                                                 导演  \\\n",
       "0      肖申克的救赎                        导演: 弗兰克·德拉邦特 Frank Darabont   \n",
       "1        霸王别姬                                 导演: 陈凯歌 Kaige Chen   \n",
       "2        阿甘正传                       导演: 罗伯特·泽米吉斯 Robert Zemeckis   \n",
       "3       泰坦尼克号                          导演: 詹姆斯·卡梅隆 James Cameron   \n",
       "4     这个杀手不太冷                               导演: 吕克·贝松 Luc Besson   \n",
       "5        美丽人生                        导演: 罗伯托·贝尼尼 Roberto Benigni   \n",
       "6        千与千寻                             导演: 宫崎骏 Hayao Miyazaki   \n",
       "7      辛德勒的名单                     导演: 史蒂文·斯皮尔伯格 Steven Spielberg   \n",
       "8        盗梦空间                     导演: 克里斯托弗·诺兰 Christopher Nolan   \n",
       "9        星际穿越                     导演: 克里斯托弗·诺兰 Christopher Nolan   \n",
       "10    忠犬八公的故事                       导演: 莱塞·霍尔斯道姆 Lasse Hallström   \n",
       "11      楚门的世界                               导演: 彼得·威尔 Peter Weir   \n",
       "12      海上钢琴师                    导演: 朱塞佩·托纳多雷 Giuseppe Tornatore   \n",
       "13    三傻大闹宝莱坞                        导演: 拉库马·希拉尼 Rajkumar Hirani   \n",
       "14     机器人总动员                         导演: 安德鲁·斯坦顿 Andrew Stanton   \n",
       "15     放牛班的春天                 导演: 克里斯托夫·巴拉蒂 Christophe Barratier   \n",
       "16        无间道                                      导演: 刘伟强 / 麦兆辉   \n",
       "17      疯狂动物城         导演: 拜伦·霍华德 Byron Howard / 瑞奇·摩尔 Rich Moore   \n",
       "18  大话西游之大圣娶亲                                导演: 刘镇伟 Jeffrey Lau   \n",
       "19       控方证人                            导演: 比利·怀尔德 Billy Wilder   \n",
       "20         熔炉                            导演: 黄东赫 Dong-hyuk Hwang   \n",
       "21         教父               导演: 弗朗西斯·福特·科波拉 Francis Ford Coppola   \n",
       "22     当幸福来敲门                      导演: 加布里尔·穆奇诺 Gabriele Muccino   \n",
       "23       触不可及  导演: 奥利维·那卡什 Olivier Nakache / 艾力克·托兰达 Eric Tol...   \n",
       "24       怦然心动                               导演: 罗伯·莱纳 Rob Reiner   \n",
       "\n",
       "                                           主演 电影放映年份           电影拍摄国家  \\\n",
       "0                 主演: 蒂姆·罗宾斯 Tim Robbins /...   1994               美国   \n",
       "1   主演: 张国荣 Leslie Cheung / 张丰毅 Fengyi Zha...   1993        中国大陆 中国香港   \n",
       "2                  主演: 汤姆·汉克斯 Tom Hanks / ...   1994               美国   \n",
       "3                  主演: 莱昂纳多·迪卡普里奥 Leonardo...   1997  美国 墨西哥 澳大利亚 加拿大   \n",
       "4            主演: 让·雷诺 Jean Reno / 娜塔莉·波特曼 ...   1994            法国 美国   \n",
       "5                 主演: 罗伯托·贝尼尼 Roberto Beni...   1997              意大利   \n",
       "6           主演: 柊瑠美 Rumi Hîragi / 入野自由 Miy...   2001               日本   \n",
       "7                    主演: 连姆·尼森 Liam Neeson...   1993               美国   \n",
       "8                        主演: 莱昂纳多·迪卡普里奥 Le...   2010            美国 英国   \n",
       "9                    主演: 马修·麦康纳 Matthew Mc...   2014        美国 英国 加拿大   \n",
       "10                   主演: 理查·基尔 Richard Ger...   2009            美国 英国   \n",
       "11         主演: 金·凯瑞 Jim Carrey / 劳拉·琳妮 Lau...   1998               美国   \n",
       "12                   主演: 蒂姆·罗斯 Tim Roth / ...   1998              意大利   \n",
       "13                主演: 阿米尔·汗 Aamir Khan / 卡...   2009               印度   \n",
       "14                主演: 本·贝尔特 Ben Burtt / 艾丽...   2008               美国   \n",
       "15                           主演: 让-巴蒂斯特·莫尼...   2004         法国 瑞士 德国   \n",
       "16                        主演: 刘德华 / 梁朝伟 / 黄秋生   2002             中国香港   \n",
       "17                                主演: 金妮弗·...   2016               美国   \n",
       "18   主演: 周星驰 Stephen Chow / 吴孟达 Man Tat Ng...   1995        中国香港 中国大陆   \n",
       "19            主演: 泰隆·鲍华 Tyrone Power / 玛琳·...   1957               美国   \n",
       "20      主演: 孔侑 Yoo Gong / 郑有美 Yu-mi Jung /...   2011               韩国   \n",
       "21                            主演: 马龙·白兰度 M...   1972               美国   \n",
       "22                  主演: 威尔·史密斯 Will Smith ...   2006               美国   \n",
       "23                                       主...   2011               法国   \n",
       "24        主演: 玛德琳·卡罗尔 Madeline Carroll / 卡...   2010               美国   \n",
       "\n",
       "           电影类型   评分      评价数                             电影名言  \\\n",
       "0         犯罪 剧情  9.7  2737492                          希望让人自由。   \n",
       "1      剧情 爱情 同性  9.6  2028333                            风华绝代。   \n",
       "2         剧情 爱情  9.5  2053553                        一部美国近现代史。   \n",
       "3      剧情 爱情 灾难  9.4  2012602                       失去的才是永恒的。    \n",
       "4      剧情 动作 犯罪  9.4  2194156                  怪蜀黍和小萝莉不得不说的故事。   \n",
       "5   剧情 喜剧 爱情 战争  9.6  1260538                           最美的谎言。   \n",
       "6      剧情 动画 奇幻  9.4  2128642                  最好的宫崎骏，最好的久石让。    \n",
       "7      剧情 历史 战争  9.6  1052100                  拯救一个人，就是拯救整个世界。   \n",
       "8   剧情 科幻 悬疑 冒险  9.4  1963759                  诺兰给了我们一场无法盗取的梦。   \n",
       "9      剧情 科幻 冒险  9.4  1690982            爱是一种力量，让我们超越时空感知它的存在。   \n",
       "10           剧情  9.4  1337998                    永远都不能忘记你所爱的人。   \n",
       "11        剧情 科幻  9.4  1591068            如果再也不能见到你，祝你早安，午安，晚安。   \n",
       "12        剧情 音乐  9.3  1599933        每个人都要走一条自己坚定了的路，就算是粉身碎骨。    \n",
       "13  剧情 喜剧 爱情 歌舞  9.2  1776571                   英俊版憨豆，高情商版谢耳朵。   \n",
       "14     科幻 动画 冒险  9.3  1255797                         小瓦力，大人生。   \n",
       "15     剧情 喜剧 音乐  9.3  1238425              天籁一般的童声，是最接近上帝的存在。    \n",
       "16     剧情 犯罪 惊悚  9.3  1280316                   香港电影史上永不过时的杰作。   \n",
       "17     喜剧 动画 冒险  9.2  1814112  迪士尼给我们营造的乌托邦就是这样，永远善良勇敢，永远出乎意料。   \n",
       "18  喜剧 爱情 奇幻 古装  9.2  1459974                            一生所爱。   \n",
       "19     剧情 犯罪 悬疑  9.6   504678                       比利·怀德满分作品。   \n",
       "20           剧情  9.4   889231     我们一路奋战不是为了改变世界，而是为了不让世界改变我们。   \n",
       "21        剧情 犯罪  9.3   912405            千万不要记恨你的对手，这样会让你失去理智。   \n",
       "22     剧情 传记 家庭  9.2  1448940                          平民励志片。    \n",
       "23        剧情 喜剧  9.3  1039257                       满满温情的高雅喜剧。   \n",
       "24     剧情 喜剧 爱情  9.1  1742697                    真正的幸福是来自内心深处。   \n",
       "\n",
       "                                               电影封面地址  \n",
       "0   https://img2.doubanio.com/view/photo/s_ratio_p...  \n",
       "1   https://img3.doubanio.com/view/photo/s_ratio_p...  \n",
       "2   https://img2.doubanio.com/view/photo/s_ratio_p...  \n",
       "3   https://img9.doubanio.com/view/photo/s_ratio_p...  \n",
       "4   https://img2.doubanio.com/view/photo/s_ratio_p...  \n",
       "5   https://img2.doubanio.com/view/photo/s_ratio_p...  \n",
       "6   https://img1.doubanio.com/view/photo/s_ratio_p...  \n",
       "7   https://img2.doubanio.com/view/photo/s_ratio_p...  \n",
       "8   https://img9.doubanio.com/view/photo/s_ratio_p...  \n",
       "9   https://img1.doubanio.com/view/photo/s_ratio_p...  \n",
       "10  https://img3.doubanio.com/view/photo/s_ratio_p...  \n",
       "11  https://img2.doubanio.com/view/photo/s_ratio_p...  \n",
       "12  https://img9.doubanio.com/view/photo/s_ratio_p...  \n",
       "13  https://img2.doubanio.com/view/photo/s_ratio_p...  \n",
       "14  https://img2.doubanio.com/view/photo/s_ratio_p...  \n",
       "15  https://img2.doubanio.com/view/photo/s_ratio_p...  \n",
       "16  https://img2.doubanio.com/view/photo/s_ratio_p...  \n",
       "17  https://img1.doubanio.com/view/photo/s_ratio_p...  \n",
       "18  https://img9.doubanio.com/view/photo/s_ratio_p...  \n",
       "19  https://img1.doubanio.com/view/photo/s_ratio_p...  \n",
       "20  https://img9.doubanio.com/view/photo/s_ratio_p...  \n",
       "21  https://img9.doubanio.com/view/photo/s_ratio_p...  \n",
       "22  https://img9.doubanio.com/view/photo/s_ratio_p...  \n",
       "23  https://img9.doubanio.com/view/photo/s_ratio_p...  \n",
       "24  https://img1.doubanio.com/view/photo/s_ratio_p...  "
      ]
     },
     "execution_count": 22,
     "metadata": {},
     "output_type": "execute_result"
    }
   ],
   "source": [
    "dataframe=pd.DataFrame([movie_name,movie_doctor,movie_actor,year,nation,mold,grade,comment_num,inq,img],index=[ '电影名称','导演','主演','电影放映年份','电影拍摄国家','电影类型','评分','评价数','电影名言','电影封面地址']).T\n",
    "dataframe"
   ]
  },
  {
   "cell_type": "code",
   "execution_count": 23,
   "id": "abee2428",
   "metadata": {
    "ExecuteTime": {
     "end_time": "2022-11-20T07:15:24.316742Z",
     "start_time": "2022-11-20T07:15:24.211339Z"
    }
   },
   "outputs": [],
   "source": [
    "dataframe.to_excel('豆瓣_top250.xlsx')"
   ]
  },
  {
   "cell_type": "markdown",
   "id": "5a62f535",
   "metadata": {
    "ExecuteTime": {
     "end_time": "2022-11-20T02:03:45.833790Z",
     "start_time": "2022-11-20T02:03:45.821321Z"
    }
   },
   "source": [
    "# 翻页抓取"
   ]
  },
  {
   "cell_type": "code",
   "execution_count": 24,
   "id": "749b6955",
   "metadata": {
    "ExecuteTime": {
     "end_time": "2022-11-20T07:15:28.475500Z",
     "start_time": "2022-11-20T07:15:24.334130Z"
    }
   },
   "outputs": [
    {
     "name": "stdout",
     "output_type": "stream",
     "text": [
      "https://movie.douban.com/top250?start=0&filter=\n",
      "1/10~~~(25, 25, 25, 25, 25, 25, 25, 25, 25, 25)\n",
      "https://movie.douban.com/top250?start=25&filter=\n",
      "2/10~~~(50, 50, 50, 50, 50, 50, 50, 50, 50, 50)\n",
      "https://movie.douban.com/top250?start=50&filter=\n",
      "3/10~~~(75, 75, 75, 75, 75, 75, 75, 75, 75, 75)\n",
      "https://movie.douban.com/top250?start=75&filter=\n",
      "4/10~~~(100, 100, 100, 100, 100, 100, 100, 100, 100, 100)\n",
      "https://movie.douban.com/top250?start=100&filter=\n",
      "5/10~~~(125, 125, 125, 125, 125, 125, 125, 125, 125, 125)\n",
      "https://movie.douban.com/top250?start=125&filter=\n",
      "6/10~~~(150, 150, 150, 150, 150, 150, 150, 150, 150, 150)\n",
      "https://movie.douban.com/top250?start=150&filter=\n",
      "7/10~~~(175, 175, 175, 175, 175, 175, 175, 175, 175, 175)\n",
      "https://movie.douban.com/top250?start=175&filter=\n",
      "8/10~~~(200, 200, 200, 200, 200, 200, 200, 200, 200, 200)\n",
      "https://movie.douban.com/top250?start=200&filter=\n",
      "9/10~~~(225, 225, 225, 225, 225, 225, 225, 225, 225, 225)\n",
      "https://movie.douban.com/top250?start=225&filter=\n",
      "10/10~~~(250, 250, 250, 250, 250, 250, 250, 250, 250, 250)\n"
     ]
    }
   ],
   "source": [
    "movies_name=[]\n",
    "movies_doctor=[]\n",
    "movies_actor=[]\n",
    "years=[]\n",
    "molds=[]\n",
    "nations=[]\n",
    "grades=[]\n",
    "comments_num=[]\n",
    "inqs=[]\n",
    "imgs=[]\n",
    "none=['主演']\n",
    "\n",
    "for page in range(1,11):\n",
    "    url=f'https://movie.douban.com/top250?start={25*(page-1)}&filter='\n",
    "    print(url)\n",
    "    reponse=requests.get(url,headers=headers)\n",
    "    html=etree.HTML(reponse.text)\n",
    "    movie_name1=html.xpath('//span[@class=\"title\"]/text()')\n",
    "    movie_name=[]\n",
    "    for  i in movie_name1:\n",
    "        if '\\xa0/' in i:\n",
    "            continue\n",
    "        else:\n",
    "            movie_name.append(i)\n",
    "    temp=html.xpath('//p[@class=\"\"]/text()')\n",
    "    temp_1=temp[::2]\n",
    "    movie_doctor=[]\n",
    "    for i in temp_1:\n",
    "        temp_2=''\n",
    "        temp_2+=i\n",
    "        i=i.strip()\n",
    "        class_1=i.split('\\xa0\\xa0\\xa0')\n",
    "        movie_doctor.append(class_1[0])\n",
    "        temp_3=temp[1::2]\n",
    "    movie_actor=[]\n",
    "    for i in temp_1:\n",
    "        temp_2=''\n",
    "        temp_2+=i\n",
    "        i=i.strip()\n",
    "        class_1=i.split('\\xa0\\xa0\\xa0')\n",
    "        if none not in class_1:\n",
    "            class_1.extend(none)\n",
    "        movie_actor.append(class_1[1])\n",
    "    year=[]\n",
    "    for i in temp_3:\n",
    "        temp_4=''\n",
    "        temp_4+=i\n",
    "        i=i.strip()\n",
    "        class_2=i.split('\\xa0/\\xa0')\n",
    "        year.append(class_2[0])\n",
    "    nation=[]\n",
    "    for i in temp_3:\n",
    "        temp_4=''\n",
    "        temp_4+=i\n",
    "        i=i.strip()\n",
    "        class_2=i.split('\\xa0/\\xa0')\n",
    "        nation.append(class_2[1])\n",
    "    mold=[]\n",
    "    for i in temp_3:\n",
    "        temp_4=''\n",
    "        temp_4+=i\n",
    "        i=i.strip()\n",
    "        class_2=i.split('\\xa0/\\xa0')\n",
    "        mold.append(class_2[2])\n",
    "    grade=html.xpath('//span[@class=\"rating_num\"]/text()')\n",
    "    comment_num=html.xpath('//div[@class=\"star\"]/span[4]/text()')\n",
    "    for i in range(len(comment_num)):\n",
    "        comment_num[i]=comment_num[i].strip('人评价')\n",
    "    inq=[i.xpath('.//span[@class=\"inq\"]/text()' )[0] if  i.xpath('.//span[@class=\"inq\"]/text()') else ''  for i in html.xpath('//div[@class=\"info\"]')]\n",
    "    img=html.xpath('//div[@class=\"pic\"]/a/img/@src')\n",
    "    \n",
    "    movies_name.extend(movie_name)\n",
    "    movies_doctor.extend(movie_doctor)\n",
    "    movies_actor.extend(movie_actor)\n",
    "    years.extend(year)\n",
    "    molds.extend(mold)\n",
    "    nations.extend(nation)\n",
    "    grades.extend(grade)\n",
    "    comments_num.extend(comment_num)\n",
    "    inqs.extend(inq)\n",
    "    imgs.extend(img)\n",
    "    \n",
    "    print(f'{page}/10~~~{len(movies_name),len(movies_doctor),len(movies_actor),len(years),len(nations),len(molds),len(grades),len(comments_num),len(inqs),len(imgs)}',)"
   ]
  },
  {
   "cell_type": "code",
   "execution_count": 25,
   "id": "626c7039",
   "metadata": {
    "ExecuteTime": {
     "end_time": "2022-11-20T07:15:28.554373Z",
     "start_time": "2022-11-20T07:15:28.479667Z"
    }
   },
   "outputs": [
    {
     "data": {
      "text/html": [
       "<div>\n",
       "<style scoped>\n",
       "    .dataframe tbody tr th:only-of-type {\n",
       "        vertical-align: middle;\n",
       "    }\n",
       "\n",
       "    .dataframe tbody tr th {\n",
       "        vertical-align: top;\n",
       "    }\n",
       "\n",
       "    .dataframe thead th {\n",
       "        text-align: right;\n",
       "    }\n",
       "</style>\n",
       "<table border=\"1\" class=\"dataframe\">\n",
       "  <thead>\n",
       "    <tr style=\"text-align: right;\">\n",
       "      <th></th>\n",
       "      <th>电影名称</th>\n",
       "      <th>导演</th>\n",
       "      <th>主演</th>\n",
       "      <th>电影放映年份</th>\n",
       "      <th>电影拍摄国家</th>\n",
       "      <th>电影类型</th>\n",
       "      <th>评分</th>\n",
       "      <th>评价数</th>\n",
       "      <th>经典台词</th>\n",
       "      <th>电影封面地址</th>\n",
       "    </tr>\n",
       "  </thead>\n",
       "  <tbody>\n",
       "    <tr>\n",
       "      <th>0</th>\n",
       "      <td>肖申克的救赎</td>\n",
       "      <td>导演: 弗兰克·德拉邦特 Frank Darabont</td>\n",
       "      <td>主演: 蒂姆·罗宾斯 Tim Robbins /...</td>\n",
       "      <td>1994</td>\n",
       "      <td>美国</td>\n",
       "      <td>犯罪 剧情</td>\n",
       "      <td>9.7</td>\n",
       "      <td>2737492</td>\n",
       "      <td>希望让人自由。</td>\n",
       "      <td>https://img2.doubanio.com/view/photo/s_ratio_p...</td>\n",
       "    </tr>\n",
       "    <tr>\n",
       "      <th>1</th>\n",
       "      <td>霸王别姬</td>\n",
       "      <td>导演: 陈凯歌 Kaige Chen</td>\n",
       "      <td>主演: 张国荣 Leslie Cheung / 张丰毅 Fengyi Zha...</td>\n",
       "      <td>1993</td>\n",
       "      <td>中国大陆 中国香港</td>\n",
       "      <td>剧情 爱情 同性</td>\n",
       "      <td>9.6</td>\n",
       "      <td>2028333</td>\n",
       "      <td>风华绝代。</td>\n",
       "      <td>https://img3.doubanio.com/view/photo/s_ratio_p...</td>\n",
       "    </tr>\n",
       "    <tr>\n",
       "      <th>2</th>\n",
       "      <td>阿甘正传</td>\n",
       "      <td>导演: 罗伯特·泽米吉斯 Robert Zemeckis</td>\n",
       "      <td>主演: 汤姆·汉克斯 Tom Hanks / ...</td>\n",
       "      <td>1994</td>\n",
       "      <td>美国</td>\n",
       "      <td>剧情 爱情</td>\n",
       "      <td>9.5</td>\n",
       "      <td>2053553</td>\n",
       "      <td>一部美国近现代史。</td>\n",
       "      <td>https://img2.doubanio.com/view/photo/s_ratio_p...</td>\n",
       "    </tr>\n",
       "    <tr>\n",
       "      <th>3</th>\n",
       "      <td>泰坦尼克号</td>\n",
       "      <td>导演: 詹姆斯·卡梅隆 James Cameron</td>\n",
       "      <td>主演: 莱昂纳多·迪卡普里奥 Leonardo...</td>\n",
       "      <td>1997</td>\n",
       "      <td>美国 墨西哥 澳大利亚 加拿大</td>\n",
       "      <td>剧情 爱情 灾难</td>\n",
       "      <td>9.4</td>\n",
       "      <td>2012602</td>\n",
       "      <td>失去的才是永恒的。</td>\n",
       "      <td>https://img9.doubanio.com/view/photo/s_ratio_p...</td>\n",
       "    </tr>\n",
       "    <tr>\n",
       "      <th>4</th>\n",
       "      <td>这个杀手不太冷</td>\n",
       "      <td>导演: 吕克·贝松 Luc Besson</td>\n",
       "      <td>主演: 让·雷诺 Jean Reno / 娜塔莉·波特曼 ...</td>\n",
       "      <td>1994</td>\n",
       "      <td>法国 美国</td>\n",
       "      <td>剧情 动作 犯罪</td>\n",
       "      <td>9.4</td>\n",
       "      <td>2194156</td>\n",
       "      <td>怪蜀黍和小萝莉不得不说的故事。</td>\n",
       "      <td>https://img2.doubanio.com/view/photo/s_ratio_p...</td>\n",
       "    </tr>\n",
       "    <tr>\n",
       "      <th>...</th>\n",
       "      <td>...</td>\n",
       "      <td>...</td>\n",
       "      <td>...</td>\n",
       "      <td>...</td>\n",
       "      <td>...</td>\n",
       "      <td>...</td>\n",
       "      <td>...</td>\n",
       "      <td>...</td>\n",
       "      <td>...</td>\n",
       "      <td>...</td>\n",
       "    </tr>\n",
       "    <tr>\n",
       "      <th>245</th>\n",
       "      <td>穿越时空的少女</td>\n",
       "      <td>导演: 细田守 Mamoru Hosoda</td>\n",
       "      <td>主演: 仲里依纱 Riisa Naka / 石田卓也 Takuya...</td>\n",
       "      <td>2006</td>\n",
       "      <td>日本</td>\n",
       "      <td>剧情 爱情 科幻 动画</td>\n",
       "      <td>8.6</td>\n",
       "      <td>365272</td>\n",
       "      <td>爱上未来的你。</td>\n",
       "      <td>https://img9.doubanio.com/view/photo/s_ratio_p...</td>\n",
       "    </tr>\n",
       "    <tr>\n",
       "      <th>246</th>\n",
       "      <td>弱点</td>\n",
       "      <td>导演: 约翰·李·汉考克 John Lee Hancock</td>\n",
       "      <td>主演: 桑德拉·布洛克 Sandra Bu...</td>\n",
       "      <td>2009</td>\n",
       "      <td>美国</td>\n",
       "      <td>剧情 家庭 传记 运动</td>\n",
       "      <td>8.7</td>\n",
       "      <td>282297</td>\n",
       "      <td>拍掉身上的悲伤，从今天开始重新踏上追梦之旅。</td>\n",
       "      <td>https://img2.doubanio.com/view/photo/s_ratio_p...</td>\n",
       "    </tr>\n",
       "    <tr>\n",
       "      <th>247</th>\n",
       "      <td>我爱你</td>\n",
       "      <td>导演: 秋昌民 Chang-min Choo</td>\n",
       "      <td>主演: 宋在河 Jae-ho Song / 李顺载 Soon-jae...</td>\n",
       "      <td>2011</td>\n",
       "      <td>韩国</td>\n",
       "      <td>剧情 爱情</td>\n",
       "      <td>9.0</td>\n",
       "      <td>157974</td>\n",
       "      <td>你要相信，这世上真的有爱存在，不管在什么年纪</td>\n",
       "      <td>https://img2.doubanio.com/view/photo/s_ratio_p...</td>\n",
       "    </tr>\n",
       "    <tr>\n",
       "      <th>248</th>\n",
       "      <td>地球上的星星</td>\n",
       "      <td>导演: 阿米尔·汗 Aamir Khan</td>\n",
       "      <td>主演: 达席尔·萨法瑞 Darsheel Safary / 阿...</td>\n",
       "      <td>2007</td>\n",
       "      <td>印度</td>\n",
       "      <td>剧情 儿童 家庭</td>\n",
       "      <td>8.9</td>\n",
       "      <td>195334</td>\n",
       "      <td>天使保护事件始末。</td>\n",
       "      <td>https://img1.doubanio.com/view/photo/s_ratio_p...</td>\n",
       "    </tr>\n",
       "    <tr>\n",
       "      <th>249</th>\n",
       "      <td>完美陌生人</td>\n",
       "      <td>导演: 保罗·格诺维瑟 Paolo Genovese</td>\n",
       "      <td>主演: 马可·贾利尼 Marco Giallini ...</td>\n",
       "      <td>2016</td>\n",
       "      <td>意大利</td>\n",
       "      <td>剧情 喜剧</td>\n",
       "      <td>8.5</td>\n",
       "      <td>503118</td>\n",
       "      <td>来啊，互相伤害啊！</td>\n",
       "      <td>https://img9.doubanio.com/view/photo/s_ratio_p...</td>\n",
       "    </tr>\n",
       "  </tbody>\n",
       "</table>\n",
       "<p>250 rows × 10 columns</p>\n",
       "</div>"
      ],
      "text/plain": [
       "        电影名称                             导演  \\\n",
       "0     肖申克的救赎    导演: 弗兰克·德拉邦特 Frank Darabont   \n",
       "1       霸王别姬             导演: 陈凯歌 Kaige Chen   \n",
       "2       阿甘正传   导演: 罗伯特·泽米吉斯 Robert Zemeckis   \n",
       "3      泰坦尼克号      导演: 詹姆斯·卡梅隆 James Cameron   \n",
       "4    这个杀手不太冷           导演: 吕克·贝松 Luc Besson   \n",
       "..       ...                            ...   \n",
       "245  穿越时空的少女          导演: 细田守 Mamoru Hosoda   \n",
       "246       弱点  导演: 约翰·李·汉考克 John Lee Hancock   \n",
       "247      我爱你         导演: 秋昌民 Chang-min Choo   \n",
       "248   地球上的星星           导演: 阿米尔·汗 Aamir Khan   \n",
       "249    完美陌生人     导演: 保罗·格诺维瑟 Paolo Genovese   \n",
       "\n",
       "                                            主演 电影放映年份           电影拍摄国家  \\\n",
       "0                  主演: 蒂姆·罗宾斯 Tim Robbins /...   1994               美国   \n",
       "1    主演: 张国荣 Leslie Cheung / 张丰毅 Fengyi Zha...   1993        中国大陆 中国香港   \n",
       "2                   主演: 汤姆·汉克斯 Tom Hanks / ...   1994               美国   \n",
       "3                   主演: 莱昂纳多·迪卡普里奥 Leonardo...   1997  美国 墨西哥 澳大利亚 加拿大   \n",
       "4             主演: 让·雷诺 Jean Reno / 娜塔莉·波特曼 ...   1994            法国 美国   \n",
       "..                                         ...    ...              ...   \n",
       "245       主演: 仲里依纱 Riisa Naka / 石田卓也 Takuya...   2006               日本   \n",
       "246                   主演: 桑德拉·布洛克 Sandra Bu...   2009               美国   \n",
       "247      主演: 宋在河 Jae-ho Song / 李顺载 Soon-jae...   2011               韩国   \n",
       "248         主演: 达席尔·萨法瑞 Darsheel Safary / 阿...   2007               印度   \n",
       "249              主演: 马可·贾利尼 Marco Giallini ...   2016              意大利   \n",
       "\n",
       "            电影类型   评分      评价数                     经典台词  \\\n",
       "0          犯罪 剧情  9.7  2737492                  希望让人自由。   \n",
       "1       剧情 爱情 同性  9.6  2028333                    风华绝代。   \n",
       "2          剧情 爱情  9.5  2053553                一部美国近现代史。   \n",
       "3       剧情 爱情 灾难  9.4  2012602               失去的才是永恒的。    \n",
       "4       剧情 动作 犯罪  9.4  2194156          怪蜀黍和小萝莉不得不说的故事。   \n",
       "..           ...  ...      ...                      ...   \n",
       "245  剧情 爱情 科幻 动画  8.6   365272                 爱上未来的你。    \n",
       "246  剧情 家庭 传记 运动  8.7   282297   拍掉身上的悲伤，从今天开始重新踏上追梦之旅。   \n",
       "247        剧情 爱情  9.0   157974  你要相信，这世上真的有爱存在，不管在什么年纪    \n",
       "248     剧情 儿童 家庭  8.9   195334                天使保护事件始末。   \n",
       "249        剧情 喜剧  8.5   503118                来啊，互相伤害啊！   \n",
       "\n",
       "                                                电影封面地址  \n",
       "0    https://img2.doubanio.com/view/photo/s_ratio_p...  \n",
       "1    https://img3.doubanio.com/view/photo/s_ratio_p...  \n",
       "2    https://img2.doubanio.com/view/photo/s_ratio_p...  \n",
       "3    https://img9.doubanio.com/view/photo/s_ratio_p...  \n",
       "4    https://img2.doubanio.com/view/photo/s_ratio_p...  \n",
       "..                                                 ...  \n",
       "245  https://img9.doubanio.com/view/photo/s_ratio_p...  \n",
       "246  https://img2.doubanio.com/view/photo/s_ratio_p...  \n",
       "247  https://img2.doubanio.com/view/photo/s_ratio_p...  \n",
       "248  https://img1.doubanio.com/view/photo/s_ratio_p...  \n",
       "249  https://img9.doubanio.com/view/photo/s_ratio_p...  \n",
       "\n",
       "[250 rows x 10 columns]"
      ]
     },
     "execution_count": 25,
     "metadata": {},
     "output_type": "execute_result"
    }
   ],
   "source": [
    "dataframe=pd.DataFrame([movies_name,movies_doctor,movies_actor,years,nations,molds,grades,comments_num,inqs,imgs],index=[ '电影名称','导演','主演','电影放映年份','电影拍摄国家','电影类型','评分','评价数','经典台词','电影封面地址']).T\n",
    "dataframe"
   ]
  },
  {
   "cell_type": "code",
   "execution_count": 26,
   "id": "9259295d",
   "metadata": {
    "ExecuteTime": {
     "end_time": "2022-11-20T07:15:28.807832Z",
     "start_time": "2022-11-20T07:15:28.555993Z"
    }
   },
   "outputs": [],
   "source": [
    "dataframe.to_excel('豆瓣_top250.xlsx')"
   ]
  },
  {
   "cell_type": "markdown",
   "id": "1de2c10f",
   "metadata": {
    "ExecuteTime": {
     "end_time": "2022-11-20T01:59:20.012907Z",
     "start_time": "2022-11-20T01:59:19.990796Z"
    }
   },
   "source": [
    "# 详细版"
   ]
  },
  {
   "cell_type": "markdown",
   "id": "d33bc4f1",
   "metadata": {
    "ExecuteTime": {
     "end_time": "2022-11-20T06:52:04.098752Z",
     "start_time": "2022-11-20T06:52:04.073720Z"
    }
   },
   "source": [
    "## 抓取链接"
   ]
  },
  {
   "cell_type": "code",
   "execution_count": 27,
   "id": "98894b80",
   "metadata": {
    "ExecuteTime": {
     "end_time": "2022-11-20T07:15:32.975049Z",
     "start_time": "2022-11-20T07:15:28.808887Z"
    },
    "scrolled": false
   },
   "outputs": [
    {
     "name": "stdout",
     "output_type": "stream",
     "text": [
      "https://movie.douban.com/top250?start=0&filter=\n",
      "https://movie.douban.com/top250?start=25&filter=\n",
      "https://movie.douban.com/top250?start=50&filter=\n",
      "https://movie.douban.com/top250?start=75&filter=\n",
      "https://movie.douban.com/top250?start=100&filter=\n",
      "https://movie.douban.com/top250?start=125&filter=\n",
      "https://movie.douban.com/top250?start=150&filter=\n",
      "https://movie.douban.com/top250?start=175&filter=\n",
      "https://movie.douban.com/top250?start=200&filter=\n",
      "https://movie.douban.com/top250?start=225&filter=\n"
     ]
    },
    {
     "data": {
      "text/plain": [
       "['https://movie.douban.com/subject/1292052/',\n",
       " 'https://movie.douban.com/subject/1291546/',\n",
       " 'https://movie.douban.com/subject/1292720/',\n",
       " 'https://movie.douban.com/subject/1292722/',\n",
       " 'https://movie.douban.com/subject/1295644/',\n",
       " 'https://movie.douban.com/subject/1292063/',\n",
       " 'https://movie.douban.com/subject/1291561/',\n",
       " 'https://movie.douban.com/subject/1295124/',\n",
       " 'https://movie.douban.com/subject/3541415/',\n",
       " 'https://movie.douban.com/subject/1889243/',\n",
       " 'https://movie.douban.com/subject/3011091/',\n",
       " 'https://movie.douban.com/subject/1292064/',\n",
       " 'https://movie.douban.com/subject/1292001/',\n",
       " 'https://movie.douban.com/subject/3793023/',\n",
       " 'https://movie.douban.com/subject/2131459/',\n",
       " 'https://movie.douban.com/subject/1291549/',\n",
       " 'https://movie.douban.com/subject/1307914/',\n",
       " 'https://movie.douban.com/subject/25662329/',\n",
       " 'https://movie.douban.com/subject/1292213/',\n",
       " 'https://movie.douban.com/subject/1296141/',\n",
       " 'https://movie.douban.com/subject/5912992/',\n",
       " 'https://movie.douban.com/subject/1291841/',\n",
       " 'https://movie.douban.com/subject/1849031/',\n",
       " 'https://movie.douban.com/subject/6786002/',\n",
       " 'https://movie.douban.com/subject/3319755/',\n",
       " 'https://movie.douban.com/subject/1291560/',\n",
       " 'https://movie.douban.com/subject/1293172/',\n",
       " 'https://movie.douban.com/subject/20495023/',\n",
       " 'https://movie.douban.com/subject/1851857/',\n",
       " 'https://movie.douban.com/subject/1292365/',\n",
       " 'https://movie.douban.com/subject/1295038/',\n",
       " 'https://movie.douban.com/subject/1291552/',\n",
       " 'https://movie.douban.com/subject/1300267/',\n",
       " 'https://movie.douban.com/subject/21937452/',\n",
       " 'https://movie.douban.com/subject/2129039/',\n",
       " 'https://movie.douban.com/subject/26752088/',\n",
       " 'https://movie.douban.com/subject/26387939/',\n",
       " 'https://movie.douban.com/subject/30170448/',\n",
       " 'https://movie.douban.com/subject/1293182/',\n",
       " 'https://movie.douban.com/subject/1308807/',\n",
       " 'https://movie.douban.com/subject/1291858/',\n",
       " 'https://movie.douban.com/subject/1929463/',\n",
       " 'https://movie.douban.com/subject/1305487/',\n",
       " 'https://movie.douban.com/subject/3742360/',\n",
       " 'https://movie.douban.com/subject/1299398/',\n",
       " 'https://movie.douban.com/subject/1296736/',\n",
       " 'https://movie.douban.com/subject/1291583/',\n",
       " 'https://movie.douban.com/subject/25958717/',\n",
       " 'https://movie.douban.com/subject/1291572/',\n",
       " 'https://movie.douban.com/subject/1298624/',\n",
       " 'https://movie.douban.com/subject/1291828/',\n",
       " 'https://movie.douban.com/subject/1293839/',\n",
       " 'https://movie.douban.com/subject/1418019/',\n",
       " 'https://movie.douban.com/subject/1291571/',\n",
       " 'https://movie.douban.com/subject/1291843/',\n",
       " 'https://movie.douban.com/subject/1291548/',\n",
       " 'https://movie.douban.com/subject/27060077/',\n",
       " 'https://movie.douban.com/subject/1299131/',\n",
       " 'https://movie.douban.com/subject/1301753/',\n",
       " 'https://movie.douban.com/subject/21937445/',\n",
       " 'https://movie.douban.com/subject/1292000/',\n",
       " 'https://movie.douban.com/subject/1291818/',\n",
       " 'https://movie.douban.com/subject/1306029/',\n",
       " 'https://movie.douban.com/subject/1485260/',\n",
       " 'https://movie.douban.com/subject/3008247/',\n",
       " 'https://movie.douban.com/subject/1900841/',\n",
       " 'https://movie.douban.com/subject/1292220/',\n",
       " 'https://movie.douban.com/subject/1293350/',\n",
       " 'https://movie.douban.com/subject/1292402/',\n",
       " 'https://movie.douban.com/subject/1294408/',\n",
       " 'https://movie.douban.com/subject/26580232/',\n",
       " 'https://movie.douban.com/subject/1292849/',\n",
       " 'https://movie.douban.com/subject/1292224/',\n",
       " 'https://movie.douban.com/subject/1303021/',\n",
       " 'https://movie.douban.com/subject/1652587/',\n",
       " 'https://movie.douban.com/subject/3011235/',\n",
       " 'https://movie.douban.com/subject/1293544/',\n",
       " 'https://movie.douban.com/subject/2334904/',\n",
       " 'https://movie.douban.com/subject/1780330/',\n",
       " 'https://movie.douban.com/subject/11525673/',\n",
       " 'https://movie.douban.com/subject/1292343/',\n",
       " 'https://movie.douban.com/subject/3442220/',\n",
       " 'https://movie.douban.com/subject/1292262/',\n",
       " 'https://movie.douban.com/subject/1292656/',\n",
       " 'https://movie.douban.com/subject/1291832/',\n",
       " 'https://movie.douban.com/subject/1292679/',\n",
       " 'https://movie.douban.com/subject/1294371/',\n",
       " 'https://movie.douban.com/subject/1291543/',\n",
       " 'https://movie.douban.com/subject/1302425/',\n",
       " 'https://movie.douban.com/subject/1291544/',\n",
       " 'https://movie.douban.com/subject/5322596/',\n",
       " 'https://movie.douban.com/subject/1292223/',\n",
       " 'https://movie.douban.com/subject/1297192/',\n",
       " 'https://movie.douban.com/subject/1300299/',\n",
       " 'https://movie.douban.com/subject/1865703/',\n",
       " 'https://movie.douban.com/subject/1298070/',\n",
       " 'https://movie.douban.com/subject/6985810/',\n",
       " 'https://movie.douban.com/subject/1787291/',\n",
       " 'https://movie.douban.com/subject/10777687/',\n",
       " 'https://movie.douban.com/subject/26799731/',\n",
       " 'https://movie.douban.com/subject/1296996/',\n",
       " 'https://movie.douban.com/subject/1292434/',\n",
       " 'https://movie.douban.com/subject/1306249/',\n",
       " 'https://movie.douban.com/subject/1292370/',\n",
       " 'https://movie.douban.com/subject/1418834/',\n",
       " 'https://movie.douban.com/subject/1294639/',\n",
       " 'https://movie.douban.com/subject/2149806/',\n",
       " 'https://movie.douban.com/subject/1297630/',\n",
       " 'https://movie.douban.com/subject/1296339/',\n",
       " 'https://movie.douban.com/subject/1291999/',\n",
       " 'https://movie.douban.com/subject/3395373/',\n",
       " 'https://movie.douban.com/subject/1297359/',\n",
       " 'https://movie.douban.com/subject/1292215/',\n",
       " 'https://movie.douban.com/subject/1293359/',\n",
       " 'https://movie.douban.com/subject/11026735/',\n",
       " 'https://movie.douban.com/subject/25814705/',\n",
       " 'https://movie.douban.com/subject/1291875/',\n",
       " 'https://movie.douban.com/subject/1291990/',\n",
       " 'https://movie.douban.com/subject/1300992/',\n",
       " 'https://movie.douban.com/subject/1292337/',\n",
       " 'https://movie.douban.com/subject/21318488/',\n",
       " 'https://movie.douban.com/subject/1305164/',\n",
       " 'https://movie.douban.com/subject/4202302/',\n",
       " 'https://movie.douban.com/subject/1297447/',\n",
       " 'https://movie.douban.com/subject/25814707/',\n",
       " 'https://movie.douban.com/subject/1297052/',\n",
       " 'https://movie.douban.com/subject/10577869/',\n",
       " 'https://movie.douban.com/subject/1292274/',\n",
       " 'https://movie.douban.com/subject/2353023/',\n",
       " 'https://movie.douban.com/subject/5989818/',\n",
       " 'https://movie.douban.com/subject/27010768/',\n",
       " 'https://movie.douban.com/subject/1294240/',\n",
       " 'https://movie.douban.com/subject/1291579/',\n",
       " 'https://movie.douban.com/subject/26628357/',\n",
       " 'https://movie.douban.com/subject/1395091/',\n",
       " 'https://movie.douban.com/subject/3072124/',\n",
       " 'https://movie.douban.com/subject/1858711/',\n",
       " 'https://movie.douban.com/subject/1418200/',\n",
       " 'https://movie.douban.com/subject/3287562/',\n",
       " 'https://movie.douban.com/subject/25986180/',\n",
       " 'https://movie.douban.com/subject/4268598/',\n",
       " 'https://movie.douban.com/subject/1291545/',\n",
       " 'https://movie.douban.com/subject/1309055/',\n",
       " 'https://movie.douban.com/subject/6307447/',\n",
       " 'https://movie.douban.com/subject/10437779/',\n",
       " 'https://movie.douban.com/subject/1316510/',\n",
       " 'https://movie.douban.com/subject/4917726/',\n",
       " 'https://movie.douban.com/subject/1307315/',\n",
       " 'https://movie.douban.com/subject/1306861/',\n",
       " 'https://movie.douban.com/subject/21360417/',\n",
       " 'https://movie.douban.com/subject/4920389/',\n",
       " 'https://movie.douban.com/subject/10463953/',\n",
       " 'https://movie.douban.com/subject/26325320/',\n",
       " 'https://movie.douban.com/subject/1303037/',\n",
       " 'https://movie.douban.com/subject/1295399/',\n",
       " 'https://movie.douban.com/subject/1291557/',\n",
       " 'https://movie.douban.com/subject/10533913/',\n",
       " 'https://movie.douban.com/subject/1297518/',\n",
       " 'https://movie.douban.com/subject/1302467/',\n",
       " 'https://movie.douban.com/subject/1417598/',\n",
       " 'https://movie.douban.com/subject/1293181/',\n",
       " 'https://movie.douban.com/subject/26611804/',\n",
       " 'https://movie.douban.com/subject/26683290/',\n",
       " 'https://movie.douban.com/subject/1793929/',\n",
       " 'https://movie.douban.com/subject/1291822/',\n",
       " 'https://movie.douban.com/subject/1907966/',\n",
       " 'https://movie.douban.com/subject/1292208/',\n",
       " 'https://movie.douban.com/subject/25917973/',\n",
       " 'https://movie.douban.com/subject/1578507/',\n",
       " 'https://movie.douban.com/subject/1828115/',\n",
       " 'https://movie.douban.com/subject/1297574/',\n",
       " 'https://movie.douban.com/subject/1291585/',\n",
       " 'https://movie.douban.com/subject/1461403/',\n",
       " 'https://movie.douban.com/subject/1295409/',\n",
       " 'https://movie.douban.com/subject/25895901/',\n",
       " 'https://movie.douban.com/subject/1304447/',\n",
       " 'https://movie.douban.com/subject/1300374/',\n",
       " 'https://movie.douban.com/subject/10808442/',\n",
       " 'https://movie.douban.com/subject/3792799/',\n",
       " 'https://movie.douban.com/subject/1959195/',\n",
       " 'https://movie.douban.com/subject/24750126/',\n",
       " 'https://movie.douban.com/subject/25773932/',\n",
       " 'https://movie.douban.com/subject/27622447/',\n",
       " 'https://movie.douban.com/subject/1862151/',\n",
       " 'https://movie.douban.com/subject/6534248/',\n",
       " 'https://movie.douban.com/subject/2209573/',\n",
       " 'https://movie.douban.com/subject/1293460/',\n",
       " 'https://movie.douban.com/subject/1292328/',\n",
       " 'https://movie.douban.com/subject/1291578/',\n",
       " 'https://movie.douban.com/subject/1292401/',\n",
       " 'https://movie.douban.com/subject/3011051/',\n",
       " 'https://movie.douban.com/subject/1292226/',\n",
       " 'https://movie.douban.com/subject/4848115/',\n",
       " 'https://movie.douban.com/subject/1307106/',\n",
       " 'https://movie.douban.com/subject/1978709/',\n",
       " 'https://movie.douban.com/subject/1307856/',\n",
       " 'https://movie.douban.com/subject/27119724/',\n",
       " 'https://movie.douban.com/subject/1307811/',\n",
       " 'https://movie.douban.com/subject/1292329/',\n",
       " 'https://movie.douban.com/subject/1867345/',\n",
       " 'https://movie.douban.com/subject/27059130/',\n",
       " 'https://movie.douban.com/subject/1291870/',\n",
       " 'https://movie.douban.com/subject/1308857/',\n",
       " 'https://movie.douban.com/subject/1293908/',\n",
       " 'https://movie.douban.com/subject/1309163/',\n",
       " 'https://movie.douban.com/subject/1310177/',\n",
       " 'https://movie.douban.com/subject/3075287/',\n",
       " 'https://movie.douban.com/subject/4739952/',\n",
       " 'https://movie.douban.com/subject/1296909/',\n",
       " 'https://movie.douban.com/subject/1302827/',\n",
       " 'https://movie.douban.com/subject/24733428/',\n",
       " 'https://movie.douban.com/subject/1293318/',\n",
       " 'https://movie.douban.com/subject/25980443/',\n",
       " 'https://movie.douban.com/subject/1291879/',\n",
       " 'https://movie.douban.com/subject/1303394/',\n",
       " 'https://movie.douban.com/subject/5300054/',\n",
       " 'https://movie.douban.com/subject/1291844/',\n",
       " 'https://movie.douban.com/subject/3592854/',\n",
       " 'https://movie.douban.com/subject/1292287/',\n",
       " 'https://movie.douban.com/subject/26787574/',\n",
       " 'https://movie.douban.com/subject/26430107/',\n",
       " 'https://movie.douban.com/subject/1438652/',\n",
       " 'https://movie.douban.com/subject/1300117/',\n",
       " 'https://movie.douban.com/subject/25724855/',\n",
       " 'https://movie.douban.com/subject/1428175/',\n",
       " 'https://movie.douban.com/subject/1959877/',\n",
       " 'https://movie.douban.com/subject/25807345/',\n",
       " 'https://movie.douban.com/subject/1304141/',\n",
       " 'https://movie.douban.com/subject/2222996/',\n",
       " 'https://movie.douban.com/subject/1293964/',\n",
       " 'https://movie.douban.com/subject/1419936/',\n",
       " 'https://movie.douban.com/subject/25934014/',\n",
       " 'https://movie.douban.com/subject/1291992/',\n",
       " 'https://movie.douban.com/subject/1308767/',\n",
       " 'https://movie.douban.com/subject/25864085/',\n",
       " 'https://movie.douban.com/subject/1295865/',\n",
       " 'https://movie.douban.com/subject/34874432/',\n",
       " 'https://movie.douban.com/subject/1307394/',\n",
       " 'https://movie.douban.com/subject/1305690/',\n",
       " 'https://movie.douban.com/subject/6874403/',\n",
       " 'https://movie.douban.com/subject/1304102/',\n",
       " 'https://movie.douban.com/subject/2213597/',\n",
       " 'https://movie.douban.com/subject/3443389/',\n",
       " 'https://movie.douban.com/subject/2051007/',\n",
       " 'https://movie.douban.com/subject/1760622/',\n",
       " 'https://movie.douban.com/subject/1937946/',\n",
       " 'https://movie.douban.com/subject/3552028/',\n",
       " 'https://movie.douban.com/subject/5908478/',\n",
       " 'https://movie.douban.com/subject/2363506/',\n",
       " 'https://movie.douban.com/subject/26614893/']"
      ]
     },
     "execution_count": 27,
     "metadata": {},
     "output_type": "execute_result"
    }
   ],
   "source": [
    "links=[]\n",
    "for page in range(1,11):\n",
    "    url=f'https://movie.douban.com/top250?start={25*(page-1)}&filter='\n",
    "    print(url)\n",
    "    reponse=requests.get(url,headers=headers)\n",
    "    html=etree.HTML(reponse.text)\n",
    "    link=html.xpath('//div[@class=\"pic\"]/a/@href')\n",
    "    links+=link\n",
    "len(links)\n",
    "links"
   ]
  },
  {
   "cell_type": "markdown",
   "id": "26adc179",
   "metadata": {
    "ExecuteTime": {
     "end_time": "2022-11-20T06:52:32.095882Z",
     "start_time": "2022-11-20T06:52:32.070903Z"
    }
   },
   "source": [
    "## 获取电影名称"
   ]
  },
  {
   "cell_type": "code",
   "execution_count": 28,
   "id": "ffb6b0ab",
   "metadata": {
    "ExecuteTime": {
     "end_time": "2022-11-20T07:15:32.990820Z",
     "start_time": "2022-11-20T07:15:32.976380Z"
    }
   },
   "outputs": [
    {
     "ename": "SyntaxError",
     "evalue": "unexpected EOF while parsing (<ipython-input-28-0abb2679923a>, line 2)",
     "output_type": "error",
     "traceback": [
      "\u001b[1;36m  File \u001b[1;32m\"<ipython-input-28-0abb2679923a>\"\u001b[1;36m, line \u001b[1;32m2\u001b[0m\n\u001b[1;33m    \u001b[0m\n\u001b[1;37m    ^\u001b[0m\n\u001b[1;31mSyntaxError\u001b[0m\u001b[1;31m:\u001b[0m unexpected EOF while parsing\n"
     ]
    }
   ],
   "source": [
    "for i in links:\n",
    "    "
   ]
  },
  {
   "cell_type": "code",
   "execution_count": null,
   "id": "1a59041d",
   "metadata": {},
   "outputs": [],
   "source": []
  },
  {
   "cell_type": "code",
   "execution_count": null,
   "id": "96bf482a",
   "metadata": {},
   "outputs": [],
   "source": []
  },
  {
   "cell_type": "code",
   "execution_count": null,
   "id": "7be7e112",
   "metadata": {},
   "outputs": [],
   "source": []
  }
 ],
 "metadata": {
  "kernelspec": {
   "display_name": "Python 3",
   "language": "python",
   "name": "python3"
  },
  "language_info": {
   "codemirror_mode": {
    "name": "ipython",
    "version": 3
   },
   "file_extension": ".py",
   "mimetype": "text/x-python",
   "name": "python",
   "nbconvert_exporter": "python",
   "pygments_lexer": "ipython3",
   "version": "3.8.8"
  },
  "toc": {
   "base_numbering": 1,
   "nav_menu": {},
   "number_sections": true,
   "sideBar": true,
   "skip_h1_title": false,
   "title_cell": "Table of Contents",
   "title_sidebar": "Contents",
   "toc_cell": false,
   "toc_position": {
    "height": "523.2px",
    "left": "1243px",
    "top": "110.533px",
    "width": "165px"
   },
   "toc_section_display": true,
   "toc_window_display": true
  },
  "varInspector": {
   "cols": {
    "lenName": 16,
    "lenType": 16,
    "lenVar": 40
   },
   "kernels_config": {
    "python": {
     "delete_cmd_postfix": "",
     "delete_cmd_prefix": "del ",
     "library": "var_list.py",
     "varRefreshCmd": "print(var_dic_list())"
    },
    "r": {
     "delete_cmd_postfix": ") ",
     "delete_cmd_prefix": "rm(",
     "library": "var_list.r",
     "varRefreshCmd": "cat(var_dic_list()) "
    }
   },
   "oldHeight": 122.85,
   "position": {
    "height": "40px",
    "left": "690px",
    "right": "20px",
    "top": "120px",
    "width": "250px"
   },
   "types_to_exclude": [
    "module",
    "function",
    "builtin_function_or_method",
    "instance",
    "_Feature"
   ],
   "varInspector_section_display": "none",
   "window_display": false
  }
 },
 "nbformat": 4,
 "nbformat_minor": 5
}
