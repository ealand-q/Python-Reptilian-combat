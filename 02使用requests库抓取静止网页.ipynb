{
 "cells": [
  {
   "cell_type": "markdown",
   "id": "740379bb",
   "metadata": {},
   "source": [
    "# 第一个网络爬虫程序"
   ]
  },
  {
   "cell_type": "markdown",
   "id": "2de0e3f4",
   "metadata": {},
   "source": [
    "需求：抓取华中杯官网 http://hzbmmc.com/index.html 大赛简介内容\n",
    "* 分析过程\n",
    "* 分析大赛简介内容在网页源代码中是否出现"
   ]
  },
  {
   "cell_type": "code",
   "execution_count": 4,
   "id": "11aae79e",
   "metadata": {
    "ExecuteTime": {
     "end_time": "2022-11-24T11:15:59.530471Z",
     "start_time": "2022-11-24T11:15:59.525484Z"
    }
   },
   "outputs": [],
   "source": [
    "import requests as req"
   ]
  },
  {
   "cell_type": "markdown",
   "id": "8722601f",
   "metadata": {},
   "source": [
    "## 定义抓取网页地址"
   ]
  },
  {
   "cell_type": "code",
   "execution_count": 5,
   "id": "28dcbeba",
   "metadata": {
    "ExecuteTime": {
     "end_time": "2022-11-24T11:16:00.504081Z",
     "start_time": "2022-11-24T11:16:00.486587Z"
    }
   },
   "outputs": [],
   "source": [
    "url = 'http://hzbmmc.com/index.html'"
   ]
  },
  {
   "cell_type": "markdown",
   "id": "569485dc",
   "metadata": {},
   "source": [
    "## 发送请求"
   ]
  },
  {
   "cell_type": "code",
   "execution_count": 6,
   "id": "ffd16fe2",
   "metadata": {
    "ExecuteTime": {
     "end_time": "2022-11-24T11:16:04.044864Z",
     "start_time": "2022-11-24T11:16:03.454614Z"
    }
   },
   "outputs": [],
   "source": [
    "response = req.get(url)"
   ]
  },
  {
   "cell_type": "markdown",
   "id": "a0aeea6c",
   "metadata": {},
   "source": [
    "## 查看响应属性"
   ]
  },
  {
   "cell_type": "code",
   "execution_count": 7,
   "id": "b3fd48ee",
   "metadata": {
    "ExecuteTime": {
     "end_time": "2022-11-24T11:16:05.997616Z",
     "start_time": "2022-11-24T11:16:05.968694Z"
    }
   },
   "outputs": [
    {
     "data": {
      "text/plain": [
       "'ISO-8859-1'"
      ]
     },
     "execution_count": 7,
     "metadata": {},
     "output_type": "execute_result"
    }
   ],
   "source": [
    "#查看响应编码\n",
    "response.encoding"
   ]
  },
  {
   "cell_type": "code",
   "execution_count": 8,
   "id": "233ea12d",
   "metadata": {
    "ExecuteTime": {
     "end_time": "2022-11-24T11:16:06.758170Z",
     "start_time": "2022-11-24T11:16:06.740347Z"
    }
   },
   "outputs": [
    {
     "data": {
      "text/plain": [
       "'<!DOCTYPE html>\\r\\n<html lang=\"en\">\\r\\n\\r\\n<head>\\r\\n    <meta charset=\"UTF-8\" />\\r\\n    <meta name=\"viewport\" content=\"width=device-width, initial-scale=1.0\" />\\r\\n    <meta name=\"referrer\" content=\"no-referrer\" />\\r\\n    <link rel=\"icon\" href=\"./images/v2_qmyicon.jpg\" />\\r\\n    <title>â\\x80\\x9cå\\x8d\\x8eä¸\\xadæ\\x9d¯â\\x80\\x9då¤§å\\xad¦ç\\x94\\x9fæ\\x95°å\\xad¦å»ºæ¨¡æ\\x8c\\x91æ\\x88\\x98èµ\\x9b</title>\\r\\n    <meta name=\"description\" content=\"ä¸ºäº\\x86æ¿\\x80å\\x8a±å\\xad¦ç\\x94\\x9få\\xad¦ä¹\\xa0æ\\x95°å\\xad¦ç\\x9a\\x84ç§¯æ\\x9e\\x81æ\\x80§ï¼\\x8cæ\\x8b\\x93å±\\x95æ\\x95°å\\xad¦å\\x8f\\x8aç\\x9b¸å\\x85³å\\xad¦ç§\\x91ç\\x9f¥è¯\\x86é\\x9d¢ï¼\\x8cæ\\x8f\\x90é«\\x98å\\xad¦ç\\x94\\x9fç\\x8b¬ç«\\x8bå\\x88\\x86æ\\x9e\\x90ã\\x80\\x81å»ºæ¨¡ã\\x80\\x81æ±\\x82è§£ã\\x80\\x81åº\\x94ç\\x94¨ã\\x80\\x81å\\x86\\x99ä½\\x9cç\\xad\\x89ç»¼å\\x90\\x88è\\x83½å\\x8a\\x9bï¼\\x8cæ¹\\x96å\\x8c\\x97ç\\x9c\\x81å·¥ä¸\\x9aä¸\\x8eåº\\x94ç\\x94¨æ\\x95°å\\xad¦å\\xad¦ä¼\\x9aä½\\x9cä¸ºä¸»å\\x8a\\x9eï¼\\x8cä¸¾å\\x8a\\x9eâ\\x80\\x9cå\\x8d\\x8eä¸\\xadæ\\x9d¯â\\x80\\x9då¤§å\\xad¦ç\\x94\\x9fæ\\x95°å\\xad¦å»ºæ¨¡æ\\x8c\\x91æ\\x88\\x98èµ\\x9bã\\x80\\x82â\\x80\\x9cå\\x8d\\x8eä¸\\xadæ\\x9d¯â\\x80\\x9då¤§å\\xad¦ç\\x94\\x9fæ\\x95°å\\xad¦å»ºæ¨¡æ\\x8c\\x91æ\\x88\\x98èµ\\x9bç³»å\\x8e\\x9få\\x8d\\x8eä¸\\xadå\\x9c°å\\x8cºå¤§å\\xad¦ç\\x94\\x9fæ\\x95°å\\xad¦å»ºæ¨¡é\\x82\\x80è¯·èµ\\x9bï¼\\x8cå·²è¿\\x9eç»\\xadä¸¾å\\x8a\\x9eå\\x8d\\x81äº\\x8cå±\\x8aï¼\\x8c2020å¹´ç\\x94±äº\\x8eç\\x96«æ\\x83\\x85å\\x8e\\x9få\\x9b\\xa0ï¼\\x8cæ\\x9a\\x82å\\x81\\x9cä¸\\x80å¹´ã\\x80\\x822021å¹´æ\\x9b´å\\x90\\x8dä¸ºâ\\x80\\x9cå\\x8d\\x8eä¸\\xadæ\\x9d¯â\\x80\\x9då¤§å\\xad¦ç\\x94\\x9fæ\\x95°å\\xad¦å»ºæ¨¡æ\\x8c\\x91æ\\x88\\x98èµ\\x9bã\\x80\\x82\">\\r\\n    <meta name=\"Keywords\" content=\"å\\x8d\\x8eä¸\\xadæ\\x9d¯ï¼\\x8cå\\x8d\\x8eä¸\\xadæ\\x9d¯å¤§å\\xad¦ç\\x94\\x9fæ\\x95°å\\xad¦å»ºæ¨¡æ\\x8c\\x91æ\\x88\\x98èµ\\x9bï¼\\x8cæ\\x95°å\\xad¦å»ºæ¨¡ï¼\\x8cæ\\x95°å\\xad¦å»ºæ¨¡æ\\x8c\\x91æ\\x88\\x98èµ\\x9bï¼\\x8cæ³°è¿ªæ\\x99ºè\\x83½ç§\\x91æ\\x8a\\x80ï¼\\x88æ\\xad¦æ±\\x89ï¼\\x89æ\\x9c\\x89é\\x99\\x90å\\x85¬å\\x8f¸ï¼\\x8cæ³°è¿ªæ\\x99ºè\\x83½ç§\\x91æ\\x8a\\x80\">\\r\\n    <meta name=\"viewport\" content=\"width=device-width, initial-scale=1.0\">\\r\\n    <link rel=\"stylesheet\" type=\"text/css\" href=\"./lib/bootstrap-3.3.7-dist/css/bootstrap.min.css\" />\\r\\n    <link rel=\"stylesheet\" href=\"./lib/swiper/css/swiper-bundle.min.css\">\\r\\n    <link rel=\"stylesheet\" type=\"text/css\" href=\"./style/index/index.css\" />\\r\\n    <link rel=\"stylesheet\" type=\"text/css\" href=\"./style/public/header/nav.css\" />\\r\\n    <script src=\"./lib/less/less.min.js\"></script>\\r\\n</head>\\r\\n\\r\\n<body>\\r\\n\\r\\n    <!-- å¤´é\\x83¨å\\x8cºå\\x9f\\x9f -->\\r\\n    <header>\\r\\n        <div class=\"hzb-header w\">\\r\\n            <div class=\"hzb-header-logo\">\\r\\n                <img src=\"./images/v2_qmyf0e.png\" class=\"logo-img\" />\\r\\n            </div>\\r\\n            <div id=\"hzb-header-nav\" class=\"hzb-header-text\">\\r\\n                \\r\\n            </div>\\r\\n            <div class=\"hzb-header-login\"></div>\\r\\n        </div>\\r\\n    </header>\\r\\n\\r\\n    <!-- è½®æ\\x92\\xadå\\x9b¾ -->\\r\\n    <div class=\"hzb-swiper\">\\r\\n        <div class=\"hzb-swiper-item w\">\\r\\n            <div class=\"swiper-container\" id=\"top-banner\">\\r\\n                <div class=\"swiper-wrapper\" id=\"swiper-box\">\\r\\n                </div>\\r\\n                <!-- Add Pagination -->\\r\\n                <div class=\"swiper-pagination\" id=\"swiper-pagination\"></div>\\r\\n            </div>\\r\\n        </div>\\r\\n    </div>\\r\\n\\r\\n    <!-- å\\x8d\\x8eä¸\\xadæ\\x9d¯å\\x8f\\x82èµ\\x9bé\\x98\\x9fä¼\\x8d -->\\r\\n    <div class=\"hzb-troops w\"></div>\\r\\n\\r\\n    <!-- å\\x86\\x85å®¹é\\x83¨å\\x88\\x86 -->\\r\\n    <div class=\"content\">\\r\\n        <div class=\"w\" style=\"display: flex;\">\\r\\n            <div class=\"item fl\" id=\"click\">\\r\\n                <div class=\"item_title\">\\r\\n                    <h3>å¤§èµ\\x9bç®\\x80ä»\\x8b</h3>\\r\\n                </div>\\r\\n                <div class=\"item_n\">\\r\\n                    <div class=\"item_p\">\\r\\n                        <p></p>\\r\\n                    </div>\\r\\n                </div>\\r\\n            </div>\\r\\n            <div class=\"item fr\">\\r\\n                <div class=\"item_title\">\\r\\n                    <h3>æ\\x9c\\x80æ\\x96°é\\x80\\x9aç\\x9f¥</h3>\\r\\n                    <a href=\"./views/inform/inform.html?navigate=inform\">æ\\x9b´å¤\\x9a &gt;</a>\\r\\n                </div>\\r\\n                <div class=\"item_n\">\\r\\n                    <ul id=\"inform\">\\r\\n                        \\r\\n                    </ul>     \\r\\n                </div>\\r\\n            </div>\\r\\n        </div>\\r\\n    </div>\\r\\n    <!-- <div class=\"hzb-item w\">\\r\\n        <div class=\"hzb-left-item-newsflash\">\\r\\n            <div class=\"hzb-left-newsflash-news\">\\r\\n                <div class=\"hzb-left-newsflash-news-hd\">\\r\\n                    <h5 class=\"hzb-left-newsflash-news-hd-text\">å¤§èµ\\x9bç®\\x80ä»\\x8b</h5>\\r\\n                    <a href=\"./views/organization/brief.html\" class=\"hzb-left-newsflash-news-hd-mode\">æ\\x9b´å¤\\x9a<span\\r\\n                            class=\"glyphicon glyphicon-menu-right\"></span></a>\\r\\n                </div>\\r\\n                <div class=\"hzb-left-newsflash-news-bd\">\\r\\n                    <ul class=\"hzb-left-newsflash-news-bd-list\">\\r\\n                        <li class=\"hzb-left-newsflash-news-bd-list-item\">\\r\\n                            <span class=\"hzb-left-newsflash-news-bd-list-item-text\">\\r\\n                            </span>\\r\\n                        </li>\\r\\n                    </ul>\\r\\n                </div>\\r\\n            </div>\\r\\n        </div>\\r\\n        <div class=\"hzb-right-item-newsflash\">\\r\\n            <div class=\"hzh-right-newsflash-news\">\\r\\n                <div class=\"hzh-right-newsflash-news-hd\">\\r\\n                    <h5 class=\"hzh-right-newsflash-news-hd-text\">æ\\x9c\\x80æ\\x96°é\\x80\\x9aç\\x9f¥</h5>\\r\\n                    <a href=\"./views/inform/inform.html\" class=\"hzh-right-newsflash-news-hd-mode\">æ\\x9b´å¤\\x9a<span\\r\\n                            class=\"glyphicon glyphicon-menu-right\"></span></a>\\r\\n                </div>\\r\\n                <div class=\"hzh-right-newsflash-news-bd\">\\r\\n                    \\r\\n                </div>\\r\\n            </div>\\r\\n        </div>\\r\\n    </div> -->\\r\\n\\r\\n    <!-- å\\x90\\x88ä½\\x9cå\\x8d\\x95ä½\\x8d -->\\r\\n    <div class=\"hzb-cooperator w\">\\r\\n        <div class=\"hzb-cooperator-text\">å\\x90\\x88ä½\\x9cå\\x8d\\x95ä½\\x8d</div>\\r\\n        <div class=\"hzb-cooperator-images\">\\r\\n            <div class=\"hzb-cooperator-images-item\">\\r\\n                <div class=\"swiper-container\" id=\"swiper-footer\">\\r\\n                    <div class=\"swiper-wrapper\" id=\"swiper-wrapper-footer\">\\r\\n                      <div class=\"swiper-slide cooperator-images-footer\">slider1</div>\\r\\n                      <div class=\"swiper-slide cooperator-images-footer\">slider2</div>\\r\\n                      <div class=\"swiper-slide cooperator-images-footer\">slider3</div>\\r\\n                    </div>\\r\\n                    <div class=\"swiper-button-prev\"></div>\\r\\n                    <div class=\"swiper-button-next\"></div>  \\r\\n                </div>\\r\\n            </div>\\r\\n        </div>\\r\\n    </div>\\r\\n\\r\\n    <!-- åº\\x95é\\x83¨ -->\\r\\n    <div class=\"hzb-bottom\">\\r\\n\\r\\n    </div>\\r\\n    <!-- åº\\x95é\\x83¨å¤\\x87æ¡\\x88 -->\\r\\n    <div class=\"hzb-bottom-records\">\\r\\n        <p class=\"hzb-bottom-records-text w\">\\r\\n            Â©2021 å\\x8d\\x8eä¸\\xadæ\\x9d¯ å¤\\x87æ¡\\x88å\\x8f·ï¼\\x9a\\r\\n            <span class=\"hzb-bottom-records-text-item\">\\r\\n                <a style=\"text-decoration: none; \" href=\"http://beian.miit.gov.cn/\">é\\x84\\x82ICPå¤\\x872021001283 </a>\\r\\n            </span> | é\\x84\\x82å\\x85¬ç½\\x91å®\\x89å¤\\x87 13011403590714å\\x8f·\\r\\n        </p>\\r\\n    </div>\\r\\n\\r\\n    <!-- è½®æ\\x92\\xadå\\x9b¾ -->\\r\\n    <script type=\"text/template\" id=\"BannerList\">\\r\\n        {{ each list }}\\r\\n        <div class=\"swiper-slide\">\\r\\n            <img src=\"{{$value.cover}}\" alt=\"\">\\r\\n        </div>\\r\\n        {{ /each }}\\r\\n    </script>\\r\\n\\r\\n\\r\\n\\r\\n    <script src=\"./lib/jquery/jquery.min.js\"></script>\\r\\n    <script src=\"./js/public/nav.js\"></script>\\r\\n    <script src=\"./js/common/utils.js\"></script>\\r\\n    <script src=\"./lib/bootstrap-3.3.7-dist/js/bootstrap.min.js\"></script>\\r\\n    <script src=\"./lib/template-web/template-web.js\"></script>\\r\\n    <script src=\"./lib/swiper/js/swiper-bundle.min.js\"></script>\\r\\n    <script src=\"./js/index/request.js\"></script>\\r\\n    <script src=\"./js/index/index.js\"></script>\\r\\n    \\r\\n</body>\\r\\n\\r\\n</html>'"
      ]
     },
     "execution_count": 8,
     "metadata": {},
     "output_type": "execute_result"
    }
   ],
   "source": [
    "#查看网页字符串源代码\n",
    "response.text"
   ]
  },
  {
   "cell_type": "code",
   "execution_count": 9,
   "id": "9ea30549",
   "metadata": {
    "ExecuteTime": {
     "end_time": "2022-11-24T11:16:07.693398Z",
     "start_time": "2022-11-24T11:16:07.681484Z"
    }
   },
   "outputs": [
    {
     "data": {
      "text/plain": [
       "b'<!DOCTYPE html>\\r\\n<html lang=\"en\">\\r\\n\\r\\n<head>\\r\\n    <meta charset=\"UTF-8\" />\\r\\n    <meta name=\"viewport\" content=\"width=device-width, initial-scale=1.0\" />\\r\\n    <meta name=\"referrer\" content=\"no-referrer\" />\\r\\n    <link rel=\"icon\" href=\"./images/v2_qmyicon.jpg\" />\\r\\n    <title>\\xe2\\x80\\x9c\\xe5\\x8d\\x8e\\xe4\\xb8\\xad\\xe6\\x9d\\xaf\\xe2\\x80\\x9d\\xe5\\xa4\\xa7\\xe5\\xad\\xa6\\xe7\\x94\\x9f\\xe6\\x95\\xb0\\xe5\\xad\\xa6\\xe5\\xbb\\xba\\xe6\\xa8\\xa1\\xe6\\x8c\\x91\\xe6\\x88\\x98\\xe8\\xb5\\x9b</title>\\r\\n    <meta name=\"description\" content=\"\\xe4\\xb8\\xba\\xe4\\xba\\x86\\xe6\\xbf\\x80\\xe5\\x8a\\xb1\\xe5\\xad\\xa6\\xe7\\x94\\x9f\\xe5\\xad\\xa6\\xe4\\xb9\\xa0\\xe6\\x95\\xb0\\xe5\\xad\\xa6\\xe7\\x9a\\x84\\xe7\\xa7\\xaf\\xe6\\x9e\\x81\\xe6\\x80\\xa7\\xef\\xbc\\x8c\\xe6\\x8b\\x93\\xe5\\xb1\\x95\\xe6\\x95\\xb0\\xe5\\xad\\xa6\\xe5\\x8f\\x8a\\xe7\\x9b\\xb8\\xe5\\x85\\xb3\\xe5\\xad\\xa6\\xe7\\xa7\\x91\\xe7\\x9f\\xa5\\xe8\\xaf\\x86\\xe9\\x9d\\xa2\\xef\\xbc\\x8c\\xe6\\x8f\\x90\\xe9\\xab\\x98\\xe5\\xad\\xa6\\xe7\\x94\\x9f\\xe7\\x8b\\xac\\xe7\\xab\\x8b\\xe5\\x88\\x86\\xe6\\x9e\\x90\\xe3\\x80\\x81\\xe5\\xbb\\xba\\xe6\\xa8\\xa1\\xe3\\x80\\x81\\xe6\\xb1\\x82\\xe8\\xa7\\xa3\\xe3\\x80\\x81\\xe5\\xba\\x94\\xe7\\x94\\xa8\\xe3\\x80\\x81\\xe5\\x86\\x99\\xe4\\xbd\\x9c\\xe7\\xad\\x89\\xe7\\xbb\\xbc\\xe5\\x90\\x88\\xe8\\x83\\xbd\\xe5\\x8a\\x9b\\xef\\xbc\\x8c\\xe6\\xb9\\x96\\xe5\\x8c\\x97\\xe7\\x9c\\x81\\xe5\\xb7\\xa5\\xe4\\xb8\\x9a\\xe4\\xb8\\x8e\\xe5\\xba\\x94\\xe7\\x94\\xa8\\xe6\\x95\\xb0\\xe5\\xad\\xa6\\xe5\\xad\\xa6\\xe4\\xbc\\x9a\\xe4\\xbd\\x9c\\xe4\\xb8\\xba\\xe4\\xb8\\xbb\\xe5\\x8a\\x9e\\xef\\xbc\\x8c\\xe4\\xb8\\xbe\\xe5\\x8a\\x9e\\xe2\\x80\\x9c\\xe5\\x8d\\x8e\\xe4\\xb8\\xad\\xe6\\x9d\\xaf\\xe2\\x80\\x9d\\xe5\\xa4\\xa7\\xe5\\xad\\xa6\\xe7\\x94\\x9f\\xe6\\x95\\xb0\\xe5\\xad\\xa6\\xe5\\xbb\\xba\\xe6\\xa8\\xa1\\xe6\\x8c\\x91\\xe6\\x88\\x98\\xe8\\xb5\\x9b\\xe3\\x80\\x82\\xe2\\x80\\x9c\\xe5\\x8d\\x8e\\xe4\\xb8\\xad\\xe6\\x9d\\xaf\\xe2\\x80\\x9d\\xe5\\xa4\\xa7\\xe5\\xad\\xa6\\xe7\\x94\\x9f\\xe6\\x95\\xb0\\xe5\\xad\\xa6\\xe5\\xbb\\xba\\xe6\\xa8\\xa1\\xe6\\x8c\\x91\\xe6\\x88\\x98\\xe8\\xb5\\x9b\\xe7\\xb3\\xbb\\xe5\\x8e\\x9f\\xe5\\x8d\\x8e\\xe4\\xb8\\xad\\xe5\\x9c\\xb0\\xe5\\x8c\\xba\\xe5\\xa4\\xa7\\xe5\\xad\\xa6\\xe7\\x94\\x9f\\xe6\\x95\\xb0\\xe5\\xad\\xa6\\xe5\\xbb\\xba\\xe6\\xa8\\xa1\\xe9\\x82\\x80\\xe8\\xaf\\xb7\\xe8\\xb5\\x9b\\xef\\xbc\\x8c\\xe5\\xb7\\xb2\\xe8\\xbf\\x9e\\xe7\\xbb\\xad\\xe4\\xb8\\xbe\\xe5\\x8a\\x9e\\xe5\\x8d\\x81\\xe4\\xba\\x8c\\xe5\\xb1\\x8a\\xef\\xbc\\x8c2020\\xe5\\xb9\\xb4\\xe7\\x94\\xb1\\xe4\\xba\\x8e\\xe7\\x96\\xab\\xe6\\x83\\x85\\xe5\\x8e\\x9f\\xe5\\x9b\\xa0\\xef\\xbc\\x8c\\xe6\\x9a\\x82\\xe5\\x81\\x9c\\xe4\\xb8\\x80\\xe5\\xb9\\xb4\\xe3\\x80\\x822021\\xe5\\xb9\\xb4\\xe6\\x9b\\xb4\\xe5\\x90\\x8d\\xe4\\xb8\\xba\\xe2\\x80\\x9c\\xe5\\x8d\\x8e\\xe4\\xb8\\xad\\xe6\\x9d\\xaf\\xe2\\x80\\x9d\\xe5\\xa4\\xa7\\xe5\\xad\\xa6\\xe7\\x94\\x9f\\xe6\\x95\\xb0\\xe5\\xad\\xa6\\xe5\\xbb\\xba\\xe6\\xa8\\xa1\\xe6\\x8c\\x91\\xe6\\x88\\x98\\xe8\\xb5\\x9b\\xe3\\x80\\x82\">\\r\\n    <meta name=\"Keywords\" content=\"\\xe5\\x8d\\x8e\\xe4\\xb8\\xad\\xe6\\x9d\\xaf\\xef\\xbc\\x8c\\xe5\\x8d\\x8e\\xe4\\xb8\\xad\\xe6\\x9d\\xaf\\xe5\\xa4\\xa7\\xe5\\xad\\xa6\\xe7\\x94\\x9f\\xe6\\x95\\xb0\\xe5\\xad\\xa6\\xe5\\xbb\\xba\\xe6\\xa8\\xa1\\xe6\\x8c\\x91\\xe6\\x88\\x98\\xe8\\xb5\\x9b\\xef\\xbc\\x8c\\xe6\\x95\\xb0\\xe5\\xad\\xa6\\xe5\\xbb\\xba\\xe6\\xa8\\xa1\\xef\\xbc\\x8c\\xe6\\x95\\xb0\\xe5\\xad\\xa6\\xe5\\xbb\\xba\\xe6\\xa8\\xa1\\xe6\\x8c\\x91\\xe6\\x88\\x98\\xe8\\xb5\\x9b\\xef\\xbc\\x8c\\xe6\\xb3\\xb0\\xe8\\xbf\\xaa\\xe6\\x99\\xba\\xe8\\x83\\xbd\\xe7\\xa7\\x91\\xe6\\x8a\\x80\\xef\\xbc\\x88\\xe6\\xad\\xa6\\xe6\\xb1\\x89\\xef\\xbc\\x89\\xe6\\x9c\\x89\\xe9\\x99\\x90\\xe5\\x85\\xac\\xe5\\x8f\\xb8\\xef\\xbc\\x8c\\xe6\\xb3\\xb0\\xe8\\xbf\\xaa\\xe6\\x99\\xba\\xe8\\x83\\xbd\\xe7\\xa7\\x91\\xe6\\x8a\\x80\">\\r\\n    <meta name=\"viewport\" content=\"width=device-width, initial-scale=1.0\">\\r\\n    <link rel=\"stylesheet\" type=\"text/css\" href=\"./lib/bootstrap-3.3.7-dist/css/bootstrap.min.css\" />\\r\\n    <link rel=\"stylesheet\" href=\"./lib/swiper/css/swiper-bundle.min.css\">\\r\\n    <link rel=\"stylesheet\" type=\"text/css\" href=\"./style/index/index.css\" />\\r\\n    <link rel=\"stylesheet\" type=\"text/css\" href=\"./style/public/header/nav.css\" />\\r\\n    <script src=\"./lib/less/less.min.js\"></script>\\r\\n</head>\\r\\n\\r\\n<body>\\r\\n\\r\\n    <!-- \\xe5\\xa4\\xb4\\xe9\\x83\\xa8\\xe5\\x8c\\xba\\xe5\\x9f\\x9f -->\\r\\n    <header>\\r\\n        <div class=\"hzb-header w\">\\r\\n            <div class=\"hzb-header-logo\">\\r\\n                <img src=\"./images/v2_qmyf0e.png\" class=\"logo-img\" />\\r\\n            </div>\\r\\n            <div id=\"hzb-header-nav\" class=\"hzb-header-text\">\\r\\n                \\r\\n            </div>\\r\\n            <div class=\"hzb-header-login\"></div>\\r\\n        </div>\\r\\n    </header>\\r\\n\\r\\n    <!-- \\xe8\\xbd\\xae\\xe6\\x92\\xad\\xe5\\x9b\\xbe -->\\r\\n    <div class=\"hzb-swiper\">\\r\\n        <div class=\"hzb-swiper-item w\">\\r\\n            <div class=\"swiper-container\" id=\"top-banner\">\\r\\n                <div class=\"swiper-wrapper\" id=\"swiper-box\">\\r\\n                </div>\\r\\n                <!-- Add Pagination -->\\r\\n                <div class=\"swiper-pagination\" id=\"swiper-pagination\"></div>\\r\\n            </div>\\r\\n        </div>\\r\\n    </div>\\r\\n\\r\\n    <!-- \\xe5\\x8d\\x8e\\xe4\\xb8\\xad\\xe6\\x9d\\xaf\\xe5\\x8f\\x82\\xe8\\xb5\\x9b\\xe9\\x98\\x9f\\xe4\\xbc\\x8d -->\\r\\n    <div class=\"hzb-troops w\"></div>\\r\\n\\r\\n    <!-- \\xe5\\x86\\x85\\xe5\\xae\\xb9\\xe9\\x83\\xa8\\xe5\\x88\\x86 -->\\r\\n    <div class=\"content\">\\r\\n        <div class=\"w\" style=\"display: flex;\">\\r\\n            <div class=\"item fl\" id=\"click\">\\r\\n                <div class=\"item_title\">\\r\\n                    <h3>\\xe5\\xa4\\xa7\\xe8\\xb5\\x9b\\xe7\\xae\\x80\\xe4\\xbb\\x8b</h3>\\r\\n                </div>\\r\\n                <div class=\"item_n\">\\r\\n                    <div class=\"item_p\">\\r\\n                        <p></p>\\r\\n                    </div>\\r\\n                </div>\\r\\n            </div>\\r\\n            <div class=\"item fr\">\\r\\n                <div class=\"item_title\">\\r\\n                    <h3>\\xe6\\x9c\\x80\\xe6\\x96\\xb0\\xe9\\x80\\x9a\\xe7\\x9f\\xa5</h3>\\r\\n                    <a href=\"./views/inform/inform.html?navigate=inform\">\\xe6\\x9b\\xb4\\xe5\\xa4\\x9a &gt;</a>\\r\\n                </div>\\r\\n                <div class=\"item_n\">\\r\\n                    <ul id=\"inform\">\\r\\n                        \\r\\n                    </ul>     \\r\\n                </div>\\r\\n            </div>\\r\\n        </div>\\r\\n    </div>\\r\\n    <!-- <div class=\"hzb-item w\">\\r\\n        <div class=\"hzb-left-item-newsflash\">\\r\\n            <div class=\"hzb-left-newsflash-news\">\\r\\n                <div class=\"hzb-left-newsflash-news-hd\">\\r\\n                    <h5 class=\"hzb-left-newsflash-news-hd-text\">\\xe5\\xa4\\xa7\\xe8\\xb5\\x9b\\xe7\\xae\\x80\\xe4\\xbb\\x8b</h5>\\r\\n                    <a href=\"./views/organization/brief.html\" class=\"hzb-left-newsflash-news-hd-mode\">\\xe6\\x9b\\xb4\\xe5\\xa4\\x9a<span\\r\\n                            class=\"glyphicon glyphicon-menu-right\"></span></a>\\r\\n                </div>\\r\\n                <div class=\"hzb-left-newsflash-news-bd\">\\r\\n                    <ul class=\"hzb-left-newsflash-news-bd-list\">\\r\\n                        <li class=\"hzb-left-newsflash-news-bd-list-item\">\\r\\n                            <span class=\"hzb-left-newsflash-news-bd-list-item-text\">\\r\\n                            </span>\\r\\n                        </li>\\r\\n                    </ul>\\r\\n                </div>\\r\\n            </div>\\r\\n        </div>\\r\\n        <div class=\"hzb-right-item-newsflash\">\\r\\n            <div class=\"hzh-right-newsflash-news\">\\r\\n                <div class=\"hzh-right-newsflash-news-hd\">\\r\\n                    <h5 class=\"hzh-right-newsflash-news-hd-text\">\\xe6\\x9c\\x80\\xe6\\x96\\xb0\\xe9\\x80\\x9a\\xe7\\x9f\\xa5</h5>\\r\\n                    <a href=\"./views/inform/inform.html\" class=\"hzh-right-newsflash-news-hd-mode\">\\xe6\\x9b\\xb4\\xe5\\xa4\\x9a<span\\r\\n                            class=\"glyphicon glyphicon-menu-right\"></span></a>\\r\\n                </div>\\r\\n                <div class=\"hzh-right-newsflash-news-bd\">\\r\\n                    \\r\\n                </div>\\r\\n            </div>\\r\\n        </div>\\r\\n    </div> -->\\r\\n\\r\\n    <!-- \\xe5\\x90\\x88\\xe4\\xbd\\x9c\\xe5\\x8d\\x95\\xe4\\xbd\\x8d -->\\r\\n    <div class=\"hzb-cooperator w\">\\r\\n        <div class=\"hzb-cooperator-text\">\\xe5\\x90\\x88\\xe4\\xbd\\x9c\\xe5\\x8d\\x95\\xe4\\xbd\\x8d</div>\\r\\n        <div class=\"hzb-cooperator-images\">\\r\\n            <div class=\"hzb-cooperator-images-item\">\\r\\n                <div class=\"swiper-container\" id=\"swiper-footer\">\\r\\n                    <div class=\"swiper-wrapper\" id=\"swiper-wrapper-footer\">\\r\\n                      <div class=\"swiper-slide cooperator-images-footer\">slider1</div>\\r\\n                      <div class=\"swiper-slide cooperator-images-footer\">slider2</div>\\r\\n                      <div class=\"swiper-slide cooperator-images-footer\">slider3</div>\\r\\n                    </div>\\r\\n                    <div class=\"swiper-button-prev\"></div>\\r\\n                    <div class=\"swiper-button-next\"></div>  \\r\\n                </div>\\r\\n            </div>\\r\\n        </div>\\r\\n    </div>\\r\\n\\r\\n    <!-- \\xe5\\xba\\x95\\xe9\\x83\\xa8 -->\\r\\n    <div class=\"hzb-bottom\">\\r\\n\\r\\n    </div>\\r\\n    <!-- \\xe5\\xba\\x95\\xe9\\x83\\xa8\\xe5\\xa4\\x87\\xe6\\xa1\\x88 -->\\r\\n    <div class=\"hzb-bottom-records\">\\r\\n        <p class=\"hzb-bottom-records-text w\">\\r\\n            \\xc2\\xa92021 \\xe5\\x8d\\x8e\\xe4\\xb8\\xad\\xe6\\x9d\\xaf \\xe5\\xa4\\x87\\xe6\\xa1\\x88\\xe5\\x8f\\xb7\\xef\\xbc\\x9a\\r\\n            <span class=\"hzb-bottom-records-text-item\">\\r\\n                <a style=\"text-decoration: none; \" href=\"http://beian.miit.gov.cn/\">\\xe9\\x84\\x82ICP\\xe5\\xa4\\x872021001283 </a>\\r\\n            </span> | \\xe9\\x84\\x82\\xe5\\x85\\xac\\xe7\\xbd\\x91\\xe5\\xae\\x89\\xe5\\xa4\\x87 13011403590714\\xe5\\x8f\\xb7\\r\\n        </p>\\r\\n    </div>\\r\\n\\r\\n    <!-- \\xe8\\xbd\\xae\\xe6\\x92\\xad\\xe5\\x9b\\xbe -->\\r\\n    <script type=\"text/template\" id=\"BannerList\">\\r\\n        {{ each list }}\\r\\n        <div class=\"swiper-slide\">\\r\\n            <img src=\"{{$value.cover}}\" alt=\"\">\\r\\n        </div>\\r\\n        {{ /each }}\\r\\n    </script>\\r\\n\\r\\n\\r\\n\\r\\n    <script src=\"./lib/jquery/jquery.min.js\"></script>\\r\\n    <script src=\"./js/public/nav.js\"></script>\\r\\n    <script src=\"./js/common/utils.js\"></script>\\r\\n    <script src=\"./lib/bootstrap-3.3.7-dist/js/bootstrap.min.js\"></script>\\r\\n    <script src=\"./lib/template-web/template-web.js\"></script>\\r\\n    <script src=\"./lib/swiper/js/swiper-bundle.min.js\"></script>\\r\\n    <script src=\"./js/index/request.js\"></script>\\r\\n    <script src=\"./js/index/index.js\"></script>\\r\\n    \\r\\n</body>\\r\\n\\r\\n</html>'"
      ]
     },
     "execution_count": 9,
     "metadata": {},
     "output_type": "execute_result"
    }
   ],
   "source": [
    "#查看网页字节流编码\n",
    "response.content"
   ]
  },
  {
   "cell_type": "code",
   "execution_count": 10,
   "id": "1c7fd7ab",
   "metadata": {
    "ExecuteTime": {
     "end_time": "2022-11-24T11:16:07.966318Z",
     "start_time": "2022-11-24T11:16:07.953353Z"
    }
   },
   "outputs": [
    {
     "data": {
      "text/plain": [
       "200"
      ]
     },
     "execution_count": 10,
     "metadata": {},
     "output_type": "execute_result"
    }
   ],
   "source": [
    "#查看状态响应码 只有状态码是200时才是正常访问\n",
    "response.status_code"
   ]
  },
  {
   "cell_type": "markdown",
   "id": "00c5f7c6",
   "metadata": {},
   "source": [
    "## 修改网页编码"
   ]
  },
  {
   "cell_type": "code",
   "execution_count": 11,
   "id": "073e96d4",
   "metadata": {
    "ExecuteTime": {
     "end_time": "2022-11-24T11:16:08.581931Z",
     "start_time": "2022-11-24T11:16:08.569911Z"
    }
   },
   "outputs": [],
   "source": [
    "#将网页编码方式修改为UTF-8\n",
    "response.encoding='UTF-8'"
   ]
  },
  {
   "cell_type": "code",
   "execution_count": 12,
   "id": "8a1b8f6b",
   "metadata": {
    "ExecuteTime": {
     "end_time": "2022-11-24T11:16:08.795929Z",
     "start_time": "2022-11-24T11:16:08.776944Z"
    }
   },
   "outputs": [
    {
     "data": {
      "text/plain": [
       "'<!DOCTYPE html>\\r\\n<html lang=\"en\">\\r\\n\\r\\n<head>\\r\\n    <meta charset=\"UTF-8\" />\\r\\n    <meta name=\"viewport\" content=\"width=device-width, initial-scale=1.0\" />\\r\\n    <meta name=\"referrer\" content=\"no-referrer\" />\\r\\n    <link rel=\"icon\" href=\"./images/v2_qmyicon.jpg\" />\\r\\n    <title>“华中杯”大学生数学建模挑战赛</title>\\r\\n    <meta name=\"description\" content=\"为了激励学生学习数学的积极性，拓展数学及相关学科知识面，提高学生独立分析、建模、求解、应用、写作等综合能力，湖北省工业与应用数学学会作为主办，举办“华中杯”大学生数学建模挑战赛。“华中杯”大学生数学建模挑战赛系原华中地区大学生数学建模邀请赛，已连续举办十二届，2020年由于疫情原因，暂停一年。2021年更名为“华中杯”大学生数学建模挑战赛。\">\\r\\n    <meta name=\"Keywords\" content=\"华中杯，华中杯大学生数学建模挑战赛，数学建模，数学建模挑战赛，泰迪智能科技（武汉）有限公司，泰迪智能科技\">\\r\\n    <meta name=\"viewport\" content=\"width=device-width, initial-scale=1.0\">\\r\\n    <link rel=\"stylesheet\" type=\"text/css\" href=\"./lib/bootstrap-3.3.7-dist/css/bootstrap.min.css\" />\\r\\n    <link rel=\"stylesheet\" href=\"./lib/swiper/css/swiper-bundle.min.css\">\\r\\n    <link rel=\"stylesheet\" type=\"text/css\" href=\"./style/index/index.css\" />\\r\\n    <link rel=\"stylesheet\" type=\"text/css\" href=\"./style/public/header/nav.css\" />\\r\\n    <script src=\"./lib/less/less.min.js\"></script>\\r\\n</head>\\r\\n\\r\\n<body>\\r\\n\\r\\n    <!-- 头部区域 -->\\r\\n    <header>\\r\\n        <div class=\"hzb-header w\">\\r\\n            <div class=\"hzb-header-logo\">\\r\\n                <img src=\"./images/v2_qmyf0e.png\" class=\"logo-img\" />\\r\\n            </div>\\r\\n            <div id=\"hzb-header-nav\" class=\"hzb-header-text\">\\r\\n                \\r\\n            </div>\\r\\n            <div class=\"hzb-header-login\"></div>\\r\\n        </div>\\r\\n    </header>\\r\\n\\r\\n    <!-- 轮播图 -->\\r\\n    <div class=\"hzb-swiper\">\\r\\n        <div class=\"hzb-swiper-item w\">\\r\\n            <div class=\"swiper-container\" id=\"top-banner\">\\r\\n                <div class=\"swiper-wrapper\" id=\"swiper-box\">\\r\\n                </div>\\r\\n                <!-- Add Pagination -->\\r\\n                <div class=\"swiper-pagination\" id=\"swiper-pagination\"></div>\\r\\n            </div>\\r\\n        </div>\\r\\n    </div>\\r\\n\\r\\n    <!-- 华中杯参赛队伍 -->\\r\\n    <div class=\"hzb-troops w\"></div>\\r\\n\\r\\n    <!-- 内容部分 -->\\r\\n    <div class=\"content\">\\r\\n        <div class=\"w\" style=\"display: flex;\">\\r\\n            <div class=\"item fl\" id=\"click\">\\r\\n                <div class=\"item_title\">\\r\\n                    <h3>大赛简介</h3>\\r\\n                </div>\\r\\n                <div class=\"item_n\">\\r\\n                    <div class=\"item_p\">\\r\\n                        <p></p>\\r\\n                    </div>\\r\\n                </div>\\r\\n            </div>\\r\\n            <div class=\"item fr\">\\r\\n                <div class=\"item_title\">\\r\\n                    <h3>最新通知</h3>\\r\\n                    <a href=\"./views/inform/inform.html?navigate=inform\">更多 &gt;</a>\\r\\n                </div>\\r\\n                <div class=\"item_n\">\\r\\n                    <ul id=\"inform\">\\r\\n                        \\r\\n                    </ul>     \\r\\n                </div>\\r\\n            </div>\\r\\n        </div>\\r\\n    </div>\\r\\n    <!-- <div class=\"hzb-item w\">\\r\\n        <div class=\"hzb-left-item-newsflash\">\\r\\n            <div class=\"hzb-left-newsflash-news\">\\r\\n                <div class=\"hzb-left-newsflash-news-hd\">\\r\\n                    <h5 class=\"hzb-left-newsflash-news-hd-text\">大赛简介</h5>\\r\\n                    <a href=\"./views/organization/brief.html\" class=\"hzb-left-newsflash-news-hd-mode\">更多<span\\r\\n                            class=\"glyphicon glyphicon-menu-right\"></span></a>\\r\\n                </div>\\r\\n                <div class=\"hzb-left-newsflash-news-bd\">\\r\\n                    <ul class=\"hzb-left-newsflash-news-bd-list\">\\r\\n                        <li class=\"hzb-left-newsflash-news-bd-list-item\">\\r\\n                            <span class=\"hzb-left-newsflash-news-bd-list-item-text\">\\r\\n                            </span>\\r\\n                        </li>\\r\\n                    </ul>\\r\\n                </div>\\r\\n            </div>\\r\\n        </div>\\r\\n        <div class=\"hzb-right-item-newsflash\">\\r\\n            <div class=\"hzh-right-newsflash-news\">\\r\\n                <div class=\"hzh-right-newsflash-news-hd\">\\r\\n                    <h5 class=\"hzh-right-newsflash-news-hd-text\">最新通知</h5>\\r\\n                    <a href=\"./views/inform/inform.html\" class=\"hzh-right-newsflash-news-hd-mode\">更多<span\\r\\n                            class=\"glyphicon glyphicon-menu-right\"></span></a>\\r\\n                </div>\\r\\n                <div class=\"hzh-right-newsflash-news-bd\">\\r\\n                    \\r\\n                </div>\\r\\n            </div>\\r\\n        </div>\\r\\n    </div> -->\\r\\n\\r\\n    <!-- 合作单位 -->\\r\\n    <div class=\"hzb-cooperator w\">\\r\\n        <div class=\"hzb-cooperator-text\">合作单位</div>\\r\\n        <div class=\"hzb-cooperator-images\">\\r\\n            <div class=\"hzb-cooperator-images-item\">\\r\\n                <div class=\"swiper-container\" id=\"swiper-footer\">\\r\\n                    <div class=\"swiper-wrapper\" id=\"swiper-wrapper-footer\">\\r\\n                      <div class=\"swiper-slide cooperator-images-footer\">slider1</div>\\r\\n                      <div class=\"swiper-slide cooperator-images-footer\">slider2</div>\\r\\n                      <div class=\"swiper-slide cooperator-images-footer\">slider3</div>\\r\\n                    </div>\\r\\n                    <div class=\"swiper-button-prev\"></div>\\r\\n                    <div class=\"swiper-button-next\"></div>  \\r\\n                </div>\\r\\n            </div>\\r\\n        </div>\\r\\n    </div>\\r\\n\\r\\n    <!-- 底部 -->\\r\\n    <div class=\"hzb-bottom\">\\r\\n\\r\\n    </div>\\r\\n    <!-- 底部备案 -->\\r\\n    <div class=\"hzb-bottom-records\">\\r\\n        <p class=\"hzb-bottom-records-text w\">\\r\\n            ©2021 华中杯 备案号：\\r\\n            <span class=\"hzb-bottom-records-text-item\">\\r\\n                <a style=\"text-decoration: none; \" href=\"http://beian.miit.gov.cn/\">鄂ICP备2021001283 </a>\\r\\n            </span> | 鄂公网安备 13011403590714号\\r\\n        </p>\\r\\n    </div>\\r\\n\\r\\n    <!-- 轮播图 -->\\r\\n    <script type=\"text/template\" id=\"BannerList\">\\r\\n        {{ each list }}\\r\\n        <div class=\"swiper-slide\">\\r\\n            <img src=\"{{$value.cover}}\" alt=\"\">\\r\\n        </div>\\r\\n        {{ /each }}\\r\\n    </script>\\r\\n\\r\\n\\r\\n\\r\\n    <script src=\"./lib/jquery/jquery.min.js\"></script>\\r\\n    <script src=\"./js/public/nav.js\"></script>\\r\\n    <script src=\"./js/common/utils.js\"></script>\\r\\n    <script src=\"./lib/bootstrap-3.3.7-dist/js/bootstrap.min.js\"></script>\\r\\n    <script src=\"./lib/template-web/template-web.js\"></script>\\r\\n    <script src=\"./lib/swiper/js/swiper-bundle.min.js\"></script>\\r\\n    <script src=\"./js/index/request.js\"></script>\\r\\n    <script src=\"./js/index/index.js\"></script>\\r\\n    \\r\\n</body>\\r\\n\\r\\n</html>'"
      ]
     },
     "execution_count": 12,
     "metadata": {},
     "output_type": "execute_result"
    }
   ],
   "source": [
    "#再次查看网页源码，发现中文正常显示了\n",
    "response.text"
   ]
  },
  {
   "cell_type": "markdown",
   "id": "1ac18df3",
   "metadata": {
    "ExecuteTime": {
     "end_time": "2022-11-06T03:09:50.667068Z",
     "start_time": "2022-11-06T03:09:50.219165Z"
    }
   },
   "source": [
    "## 保存网页源码到本地"
   ]
  },
  {
   "cell_type": "code",
   "execution_count": 13,
   "id": "32b875a6",
   "metadata": {
    "ExecuteTime": {
     "end_time": "2022-11-24T11:16:09.223202Z",
     "start_time": "2022-11-24T11:16:09.214276Z"
    }
   },
   "outputs": [],
   "source": [
    "with open('hzb.text','w',encoding='utf-8')as f:\n",
    "    f.write(response.text)"
   ]
  },
  {
   "cell_type": "markdown",
   "id": "81ed5b78",
   "metadata": {
    "ExecuteTime": {
     "end_time": "2022-11-06T03:20:18.623016Z",
     "start_time": "2022-11-06T03:20:18.601429Z"
    }
   },
   "source": [
    "## 保存图片到本地"
   ]
  },
  {
   "cell_type": "code",
   "execution_count": 14,
   "id": "721e4492",
   "metadata": {
    "ExecuteTime": {
     "end_time": "2022-11-24T11:16:09.652966Z",
     "start_time": "2022-11-24T11:16:09.638521Z"
    }
   },
   "outputs": [],
   "source": [
    "img_url='http://hzbmmc.com/images/v2_qmyf0e.png'"
   ]
  },
  {
   "cell_type": "code",
   "execution_count": 15,
   "id": "c02e7e28",
   "metadata": {
    "ExecuteTime": {
     "end_time": "2022-11-24T11:16:11.886743Z",
     "start_time": "2022-11-24T11:16:09.828045Z"
    }
   },
   "outputs": [],
   "source": [
    "img_response=req.get(img_url)"
   ]
  },
  {
   "cell_type": "code",
   "execution_count": 16,
   "id": "bdfb631c",
   "metadata": {
    "ExecuteTime": {
     "end_time": "2022-11-24T11:16:11.901903Z",
     "start_time": "2022-11-24T11:16:11.888937Z"
    }
   },
   "outputs": [],
   "source": [
    "with open('hzb.png','wb') as f:\n",
    "    f.write(img_response.content)"
   ]
  },
  {
   "cell_type": "code",
   "execution_count": 17,
   "id": "6f1adc50",
   "metadata": {
    "ExecuteTime": {
     "end_time": "2022-11-24T11:16:11.916897Z",
     "start_time": "2022-11-24T11:16:11.904896Z"
    }
   },
   "outputs": [],
   "source": [
    "#保存海报图片到本地\n",
    "poster_url='http://hzbmmc.com:9000/hzb/temp/%E9%A6%96%E5%9B%BE_1644910802548.jpg'"
   ]
  },
  {
   "cell_type": "code",
   "execution_count": 18,
   "id": "fd0ca0f9",
   "metadata": {
    "ExecuteTime": {
     "end_time": "2022-11-24T11:16:24.209432Z",
     "start_time": "2022-11-24T11:16:11.919716Z"
    }
   },
   "outputs": [],
   "source": [
    "poster_response=req.get(poster_url)"
   ]
  },
  {
   "cell_type": "code",
   "execution_count": 19,
   "id": "d73ddb56",
   "metadata": {
    "ExecuteTime": {
     "end_time": "2022-11-24T11:16:24.225033Z",
     "start_time": "2022-11-24T11:16:24.211325Z"
    }
   },
   "outputs": [],
   "source": [
    "with open('hzb s poster.jpg','wb') as f:\n",
    "    f.write(poster_response.content)"
   ]
  },
  {
   "cell_type": "markdown",
   "id": "e53ead68",
   "metadata": {
    "ExecuteTime": {
     "end_time": "2022-11-06T06:38:48.318494Z",
     "start_time": "2022-11-06T06:38:48.197839Z"
    }
   },
   "source": [
    "## 数据解析"
   ]
  },
  {
   "cell_type": "markdown",
   "id": "49346e7d",
   "metadata": {
    "ExecuteTime": {
     "end_time": "2022-11-06T06:39:39.028983Z",
     "start_time": "2022-11-06T06:39:39.000211Z"
    }
   },
   "source": [
    "### 使用正则表达式解析"
   ]
  },
  {
   "cell_type": "code",
   "execution_count": 20,
   "id": "e7384901",
   "metadata": {
    "ExecuteTime": {
     "end_time": "2022-11-24T11:16:24.241022Z",
     "start_time": "2022-11-24T11:16:24.227026Z"
    }
   },
   "outputs": [],
   "source": [
    "import re"
   ]
  },
  {
   "cell_type": "code",
   "execution_count": 21,
   "id": "ac00d9f3",
   "metadata": {
    "ExecuteTime": {
     "end_time": "2022-11-24T11:16:24.256947Z",
     "start_time": "2022-11-24T11:16:24.243981Z"
    }
   },
   "outputs": [],
   "source": [
    "pattern=' <meta name=\"description\" content=\"(.*?)\">'"
   ]
  },
  {
   "cell_type": "code",
   "execution_count": 22,
   "id": "7343b0da",
   "metadata": {
    "ExecuteTime": {
     "end_time": "2022-11-24T11:16:24.271938Z",
     "start_time": "2022-11-24T11:16:24.259939Z"
    }
   },
   "outputs": [
    {
     "data": {
      "text/plain": [
       "['为了激励学生学习数学的积极性，拓展数学及相关学科知识面，提高学生独立分析、建模、求解、应用、写作等综合能力，湖北省工业与应用数学学会作为主办，举办“华中杯”大学生数学建模挑战赛。“华中杯”大学生数学建模挑战赛系原华中地区大学生数学建模邀请赛，已连续举办十二届，2020年由于疫情原因，暂停一年。2021年更名为“华中杯”大学生数学建模挑战赛。']"
      ]
     },
     "execution_count": 22,
     "metadata": {},
     "output_type": "execute_result"
    }
   ],
   "source": [
    "re.findall(pattern,response.text)"
   ]
  },
  {
   "cell_type": "code",
   "execution_count": 23,
   "id": "ed1a0291",
   "metadata": {
    "ExecuteTime": {
     "end_time": "2022-11-24T11:16:24.287406Z",
     "start_time": "2022-11-24T11:16:24.275486Z"
    }
   },
   "outputs": [],
   "source": [
    "#匹配图片地址\n",
    "pattern1= '<img src=\"(.*?)\" class=\"logo-img\" />'"
   ]
  },
  {
   "cell_type": "code",
   "execution_count": 24,
   "id": "11b2440b",
   "metadata": {
    "ExecuteTime": {
     "end_time": "2022-11-24T11:16:24.302563Z",
     "start_time": "2022-11-24T11:16:24.289401Z"
    },
    "scrolled": true
   },
   "outputs": [
    {
     "data": {
      "text/plain": [
       "['./images/v2_qmyf0e.png']"
      ]
     },
     "execution_count": 24,
     "metadata": {},
     "output_type": "execute_result"
    }
   ],
   "source": [
    "re.findall(pattern1,response.text)"
   ]
  },
  {
   "cell_type": "code",
   "execution_count": 25,
   "id": "a801f130",
   "metadata": {
    "ExecuteTime": {
     "end_time": "2022-11-24T11:16:24.317364Z",
     "start_time": "2022-11-24T11:16:24.304360Z"
    }
   },
   "outputs": [
    {
     "data": {
      "text/plain": [
       "'hzbmmc.com/images/v2_qmyf0e.png'"
      ]
     },
     "execution_count": 25,
     "metadata": {},
     "output_type": "execute_result"
    }
   ],
   "source": [
    "#在路径前面加上域名拼接成完整路径\n",
    "'hzbmmc.com'+re.findall(pattern1,response.text)[0][1:]"
   ]
  },
  {
   "cell_type": "markdown",
   "id": "cbed3b7e",
   "metadata": {
    "ExecuteTime": {
     "end_time": "2022-11-06T07:45:56.591009Z",
     "start_time": "2022-11-06T07:45:56.567301Z"
    }
   },
   "source": [
    "### 使用Xpath语法进行解析"
   ]
  },
  {
   "cell_type": "markdown",
   "id": "a8f199c4",
   "metadata": {
    "ExecuteTime": {
     "end_time": "2022-11-06T07:54:16.725097Z",
     "start_time": "2022-11-06T07:54:16.695968Z"
    }
   },
   "source": [
    "#### 将HTML字符串转化为XML格式数据"
   ]
  },
  {
   "cell_type": "code",
   "execution_count": 26,
   "id": "ccba1514",
   "metadata": {
    "ExecuteTime": {
     "end_time": "2022-11-24T11:16:27.572886Z",
     "start_time": "2022-11-24T11:16:24.319321Z"
    }
   },
   "outputs": [],
   "source": [
    "from lxml import etree "
   ]
  },
  {
   "cell_type": "code",
   "execution_count": 27,
   "id": "de6174f3",
   "metadata": {
    "ExecuteTime": {
     "end_time": "2022-11-24T11:16:27.587846Z",
     "start_time": "2022-11-24T11:16:27.574881Z"
    }
   },
   "outputs": [],
   "source": [
    "html = etree.HTML(response.text)"
   ]
  },
  {
   "cell_type": "code",
   "execution_count": 28,
   "id": "37e328e0",
   "metadata": {
    "ExecuteTime": {
     "end_time": "2022-11-24T11:16:27.602964Z",
     "start_time": "2022-11-24T11:16:27.592833Z"
    }
   },
   "outputs": [
    {
     "data": {
      "text/plain": [
       "['为了激励学生学习数学的积极性，拓展数学及相关学科知识面，提高学生独立分析、建模、求解、应用、写作等综合能力，湖北省工业与应用数学学会作为主办，举办“华中杯”大学生数学建模挑战赛。“华中杯”大学生数学建模挑战赛系原华中地区大学生数学建模邀请赛，已连续举办十二届，2020年由于疫情原因，暂停一年。2021年更名为“华中杯”大学生数学建模挑战赛。']"
      ]
     },
     "execution_count": 28,
     "metadata": {},
     "output_type": "execute_result"
    }
   ],
   "source": [
    "#取出大赛简介内容\n",
    "html.xpath('//meta[@name=\"description\"]/@content')"
   ]
  },
  {
   "cell_type": "code",
   "execution_count": 29,
   "id": "154d26c3",
   "metadata": {
    "ExecuteTime": {
     "end_time": "2022-11-24T11:16:27.617766Z",
     "start_time": "2022-11-24T11:16:27.608790Z"
    }
   },
   "outputs": [
    {
     "data": {
      "text/plain": [
       "['./images/v2_qmyf0e.png']"
      ]
     },
     "execution_count": 29,
     "metadata": {},
     "output_type": "execute_result"
    }
   ],
   "source": [
    "#取出图片地址\n",
    "html.xpath('//img[@class=\"logo-img\"]/@src')"
   ]
  },
  {
   "cell_type": "markdown",
   "id": "d6e63d94",
   "metadata": {
    "ExecuteTime": {
     "end_time": "2022-11-06T08:18:58.631518Z",
     "start_time": "2022-11-06T08:18:58.617114Z"
    }
   },
   "source": [
    "# 抓取豆瓣短评\n",
    "- https://movie.douban.com/subject/26654184/comments?status=P"
   ]
  },
  {
   "cell_type": "markdown",
   "id": "f2afdeeb",
   "metadata": {
    "ExecuteTime": {
     "end_time": "2022-11-06T08:22:03.122681Z",
     "start_time": "2022-11-06T08:22:03.102796Z"
    }
   },
   "source": [
    "## 定义url地址"
   ]
  },
  {
   "cell_type": "code",
   "execution_count": 30,
   "id": "e8d7bdc3",
   "metadata": {
    "ExecuteTime": {
     "end_time": "2022-11-24T11:16:27.648352Z",
     "start_time": "2022-11-24T11:16:27.622753Z"
    }
   },
   "outputs": [],
   "source": [
    "url=\"https://movie.douban.com/subject/26654184/comments?status=P\""
   ]
  },
  {
   "cell_type": "markdown",
   "id": "97f2dd65",
   "metadata": {
    "ExecuteTime": {
     "end_time": "2022-11-06T08:22:36.230869Z",
     "start_time": "2022-11-06T08:22:36.198684Z"
    }
   },
   "source": [
    "## 发送请求"
   ]
  },
  {
   "cell_type": "code",
   "execution_count": 31,
   "id": "cc3fa563",
   "metadata": {
    "ExecuteTime": {
     "end_time": "2022-11-24T11:16:38.843851Z",
     "start_time": "2022-11-24T11:16:27.650697Z"
    }
   },
   "outputs": [
    {
     "ename": "ConnectionError",
     "evalue": "HTTPSConnectionPool(host='movie.douban.com', port=443): Max retries exceeded with url: /subject/26654184/comments?status=P (Caused by NewConnectionError('<urllib3.connection.HTTPSConnection object at 0x00000243435B6FD0>: Failed to establish a new connection: [Errno 11001] getaddrinfo failed'))",
     "output_type": "error",
     "traceback": [
      "\u001b[1;31m---------------------------------------------------------------------------\u001b[0m",
      "\u001b[1;31mgaierror\u001b[0m                                  Traceback (most recent call last)",
      "\u001b[1;32mL:\\anaconda\\lib\\site-packages\\urllib3\\connection.py\u001b[0m in \u001b[0;36m_new_conn\u001b[1;34m(self)\u001b[0m\n\u001b[0;32m    168\u001b[0m         \u001b[1;32mtry\u001b[0m\u001b[1;33m:\u001b[0m\u001b[1;33m\u001b[0m\u001b[1;33m\u001b[0m\u001b[0m\n\u001b[1;32m--> 169\u001b[1;33m             conn = connection.create_connection(\n\u001b[0m\u001b[0;32m    170\u001b[0m                 \u001b[1;33m(\u001b[0m\u001b[0mself\u001b[0m\u001b[1;33m.\u001b[0m\u001b[0m_dns_host\u001b[0m\u001b[1;33m,\u001b[0m \u001b[0mself\u001b[0m\u001b[1;33m.\u001b[0m\u001b[0mport\u001b[0m\u001b[1;33m)\u001b[0m\u001b[1;33m,\u001b[0m \u001b[0mself\u001b[0m\u001b[1;33m.\u001b[0m\u001b[0mtimeout\u001b[0m\u001b[1;33m,\u001b[0m \u001b[1;33m**\u001b[0m\u001b[0mextra_kw\u001b[0m\u001b[1;33m\u001b[0m\u001b[1;33m\u001b[0m\u001b[0m\n",
      "\u001b[1;32mL:\\anaconda\\lib\\site-packages\\urllib3\\util\\connection.py\u001b[0m in \u001b[0;36mcreate_connection\u001b[1;34m(address, timeout, source_address, socket_options)\u001b[0m\n\u001b[0;32m     72\u001b[0m \u001b[1;33m\u001b[0m\u001b[0m\n\u001b[1;32m---> 73\u001b[1;33m     \u001b[1;32mfor\u001b[0m \u001b[0mres\u001b[0m \u001b[1;32min\u001b[0m \u001b[0msocket\u001b[0m\u001b[1;33m.\u001b[0m\u001b[0mgetaddrinfo\u001b[0m\u001b[1;33m(\u001b[0m\u001b[0mhost\u001b[0m\u001b[1;33m,\u001b[0m \u001b[0mport\u001b[0m\u001b[1;33m,\u001b[0m \u001b[0mfamily\u001b[0m\u001b[1;33m,\u001b[0m \u001b[0msocket\u001b[0m\u001b[1;33m.\u001b[0m\u001b[0mSOCK_STREAM\u001b[0m\u001b[1;33m)\u001b[0m\u001b[1;33m:\u001b[0m\u001b[1;33m\u001b[0m\u001b[1;33m\u001b[0m\u001b[0m\n\u001b[0m\u001b[0;32m     74\u001b[0m         \u001b[0maf\u001b[0m\u001b[1;33m,\u001b[0m \u001b[0msocktype\u001b[0m\u001b[1;33m,\u001b[0m \u001b[0mproto\u001b[0m\u001b[1;33m,\u001b[0m \u001b[0mcanonname\u001b[0m\u001b[1;33m,\u001b[0m \u001b[0msa\u001b[0m \u001b[1;33m=\u001b[0m \u001b[0mres\u001b[0m\u001b[1;33m\u001b[0m\u001b[1;33m\u001b[0m\u001b[0m\n",
      "\u001b[1;32mL:\\anaconda\\lib\\socket.py\u001b[0m in \u001b[0;36mgetaddrinfo\u001b[1;34m(host, port, family, type, proto, flags)\u001b[0m\n\u001b[0;32m    917\u001b[0m     \u001b[0maddrlist\u001b[0m \u001b[1;33m=\u001b[0m \u001b[1;33m[\u001b[0m\u001b[1;33m]\u001b[0m\u001b[1;33m\u001b[0m\u001b[1;33m\u001b[0m\u001b[0m\n\u001b[1;32m--> 918\u001b[1;33m     \u001b[1;32mfor\u001b[0m \u001b[0mres\u001b[0m \u001b[1;32min\u001b[0m \u001b[0m_socket\u001b[0m\u001b[1;33m.\u001b[0m\u001b[0mgetaddrinfo\u001b[0m\u001b[1;33m(\u001b[0m\u001b[0mhost\u001b[0m\u001b[1;33m,\u001b[0m \u001b[0mport\u001b[0m\u001b[1;33m,\u001b[0m \u001b[0mfamily\u001b[0m\u001b[1;33m,\u001b[0m \u001b[0mtype\u001b[0m\u001b[1;33m,\u001b[0m \u001b[0mproto\u001b[0m\u001b[1;33m,\u001b[0m \u001b[0mflags\u001b[0m\u001b[1;33m)\u001b[0m\u001b[1;33m:\u001b[0m\u001b[1;33m\u001b[0m\u001b[1;33m\u001b[0m\u001b[0m\n\u001b[0m\u001b[0;32m    919\u001b[0m         \u001b[0maf\u001b[0m\u001b[1;33m,\u001b[0m \u001b[0msocktype\u001b[0m\u001b[1;33m,\u001b[0m \u001b[0mproto\u001b[0m\u001b[1;33m,\u001b[0m \u001b[0mcanonname\u001b[0m\u001b[1;33m,\u001b[0m \u001b[0msa\u001b[0m \u001b[1;33m=\u001b[0m \u001b[0mres\u001b[0m\u001b[1;33m\u001b[0m\u001b[1;33m\u001b[0m\u001b[0m\n",
      "\u001b[1;31mgaierror\u001b[0m: [Errno 11001] getaddrinfo failed",
      "\nDuring handling of the above exception, another exception occurred:\n",
      "\u001b[1;31mNewConnectionError\u001b[0m                        Traceback (most recent call last)",
      "\u001b[1;32mL:\\anaconda\\lib\\site-packages\\urllib3\\connectionpool.py\u001b[0m in \u001b[0;36murlopen\u001b[1;34m(self, method, url, body, headers, retries, redirect, assert_same_host, timeout, pool_timeout, release_conn, chunked, body_pos, **response_kw)\u001b[0m\n\u001b[0;32m    698\u001b[0m             \u001b[1;31m# Make the request on the httplib connection object.\u001b[0m\u001b[1;33m\u001b[0m\u001b[1;33m\u001b[0m\u001b[1;33m\u001b[0m\u001b[0m\n\u001b[1;32m--> 699\u001b[1;33m             httplib_response = self._make_request(\n\u001b[0m\u001b[0;32m    700\u001b[0m                 \u001b[0mconn\u001b[0m\u001b[1;33m,\u001b[0m\u001b[1;33m\u001b[0m\u001b[1;33m\u001b[0m\u001b[0m\n",
      "\u001b[1;32mL:\\anaconda\\lib\\site-packages\\urllib3\\connectionpool.py\u001b[0m in \u001b[0;36m_make_request\u001b[1;34m(self, conn, method, url, timeout, chunked, **httplib_request_kw)\u001b[0m\n\u001b[0;32m    381\u001b[0m         \u001b[1;32mtry\u001b[0m\u001b[1;33m:\u001b[0m\u001b[1;33m\u001b[0m\u001b[1;33m\u001b[0m\u001b[0m\n\u001b[1;32m--> 382\u001b[1;33m             \u001b[0mself\u001b[0m\u001b[1;33m.\u001b[0m\u001b[0m_validate_conn\u001b[0m\u001b[1;33m(\u001b[0m\u001b[0mconn\u001b[0m\u001b[1;33m)\u001b[0m\u001b[1;33m\u001b[0m\u001b[1;33m\u001b[0m\u001b[0m\n\u001b[0m\u001b[0;32m    383\u001b[0m         \u001b[1;32mexcept\u001b[0m \u001b[1;33m(\u001b[0m\u001b[0mSocketTimeout\u001b[0m\u001b[1;33m,\u001b[0m \u001b[0mBaseSSLError\u001b[0m\u001b[1;33m)\u001b[0m \u001b[1;32mas\u001b[0m \u001b[0me\u001b[0m\u001b[1;33m:\u001b[0m\u001b[1;33m\u001b[0m\u001b[1;33m\u001b[0m\u001b[0m\n",
      "\u001b[1;32mL:\\anaconda\\lib\\site-packages\\urllib3\\connectionpool.py\u001b[0m in \u001b[0;36m_validate_conn\u001b[1;34m(self, conn)\u001b[0m\n\u001b[0;32m   1009\u001b[0m         \u001b[1;32mif\u001b[0m \u001b[1;32mnot\u001b[0m \u001b[0mgetattr\u001b[0m\u001b[1;33m(\u001b[0m\u001b[0mconn\u001b[0m\u001b[1;33m,\u001b[0m \u001b[1;34m\"sock\"\u001b[0m\u001b[1;33m,\u001b[0m \u001b[1;32mNone\u001b[0m\u001b[1;33m)\u001b[0m\u001b[1;33m:\u001b[0m  \u001b[1;31m# AppEngine might not have  `.sock`\u001b[0m\u001b[1;33m\u001b[0m\u001b[1;33m\u001b[0m\u001b[0m\n\u001b[1;32m-> 1010\u001b[1;33m             \u001b[0mconn\u001b[0m\u001b[1;33m.\u001b[0m\u001b[0mconnect\u001b[0m\u001b[1;33m(\u001b[0m\u001b[1;33m)\u001b[0m\u001b[1;33m\u001b[0m\u001b[1;33m\u001b[0m\u001b[0m\n\u001b[0m\u001b[0;32m   1011\u001b[0m \u001b[1;33m\u001b[0m\u001b[0m\n",
      "\u001b[1;32mL:\\anaconda\\lib\\site-packages\\urllib3\\connection.py\u001b[0m in \u001b[0;36mconnect\u001b[1;34m(self)\u001b[0m\n\u001b[0;32m    352\u001b[0m         \u001b[1;31m# Add certificate verification\u001b[0m\u001b[1;33m\u001b[0m\u001b[1;33m\u001b[0m\u001b[1;33m\u001b[0m\u001b[0m\n\u001b[1;32m--> 353\u001b[1;33m         \u001b[0mconn\u001b[0m \u001b[1;33m=\u001b[0m \u001b[0mself\u001b[0m\u001b[1;33m.\u001b[0m\u001b[0m_new_conn\u001b[0m\u001b[1;33m(\u001b[0m\u001b[1;33m)\u001b[0m\u001b[1;33m\u001b[0m\u001b[1;33m\u001b[0m\u001b[0m\n\u001b[0m\u001b[0;32m    354\u001b[0m         \u001b[0mhostname\u001b[0m \u001b[1;33m=\u001b[0m \u001b[0mself\u001b[0m\u001b[1;33m.\u001b[0m\u001b[0mhost\u001b[0m\u001b[1;33m\u001b[0m\u001b[1;33m\u001b[0m\u001b[0m\n",
      "\u001b[1;32mL:\\anaconda\\lib\\site-packages\\urllib3\\connection.py\u001b[0m in \u001b[0;36m_new_conn\u001b[1;34m(self)\u001b[0m\n\u001b[0;32m    180\u001b[0m         \u001b[1;32mexcept\u001b[0m \u001b[0mSocketError\u001b[0m \u001b[1;32mas\u001b[0m \u001b[0me\u001b[0m\u001b[1;33m:\u001b[0m\u001b[1;33m\u001b[0m\u001b[1;33m\u001b[0m\u001b[0m\n\u001b[1;32m--> 181\u001b[1;33m             raise NewConnectionError(\n\u001b[0m\u001b[0;32m    182\u001b[0m                 \u001b[0mself\u001b[0m\u001b[1;33m,\u001b[0m \u001b[1;34m\"Failed to establish a new connection: %s\"\u001b[0m \u001b[1;33m%\u001b[0m \u001b[0me\u001b[0m\u001b[1;33m\u001b[0m\u001b[1;33m\u001b[0m\u001b[0m\n",
      "\u001b[1;31mNewConnectionError\u001b[0m: <urllib3.connection.HTTPSConnection object at 0x00000243435B6FD0>: Failed to establish a new connection: [Errno 11001] getaddrinfo failed",
      "\nDuring handling of the above exception, another exception occurred:\n",
      "\u001b[1;31mMaxRetryError\u001b[0m                             Traceback (most recent call last)",
      "\u001b[1;32mL:\\anaconda\\lib\\site-packages\\requests\\adapters.py\u001b[0m in \u001b[0;36msend\u001b[1;34m(self, request, stream, timeout, verify, cert, proxies)\u001b[0m\n\u001b[0;32m    438\u001b[0m             \u001b[1;32mif\u001b[0m \u001b[1;32mnot\u001b[0m \u001b[0mchunked\u001b[0m\u001b[1;33m:\u001b[0m\u001b[1;33m\u001b[0m\u001b[1;33m\u001b[0m\u001b[0m\n\u001b[1;32m--> 439\u001b[1;33m                 resp = conn.urlopen(\n\u001b[0m\u001b[0;32m    440\u001b[0m                     \u001b[0mmethod\u001b[0m\u001b[1;33m=\u001b[0m\u001b[0mrequest\u001b[0m\u001b[1;33m.\u001b[0m\u001b[0mmethod\u001b[0m\u001b[1;33m,\u001b[0m\u001b[1;33m\u001b[0m\u001b[1;33m\u001b[0m\u001b[0m\n",
      "\u001b[1;32mL:\\anaconda\\lib\\site-packages\\urllib3\\connectionpool.py\u001b[0m in \u001b[0;36murlopen\u001b[1;34m(self, method, url, body, headers, retries, redirect, assert_same_host, timeout, pool_timeout, release_conn, chunked, body_pos, **response_kw)\u001b[0m\n\u001b[0;32m    754\u001b[0m \u001b[1;33m\u001b[0m\u001b[0m\n\u001b[1;32m--> 755\u001b[1;33m             retries = retries.increment(\n\u001b[0m\u001b[0;32m    756\u001b[0m                 \u001b[0mmethod\u001b[0m\u001b[1;33m,\u001b[0m \u001b[0murl\u001b[0m\u001b[1;33m,\u001b[0m \u001b[0merror\u001b[0m\u001b[1;33m=\u001b[0m\u001b[0me\u001b[0m\u001b[1;33m,\u001b[0m \u001b[0m_pool\u001b[0m\u001b[1;33m=\u001b[0m\u001b[0mself\u001b[0m\u001b[1;33m,\u001b[0m \u001b[0m_stacktrace\u001b[0m\u001b[1;33m=\u001b[0m\u001b[0msys\u001b[0m\u001b[1;33m.\u001b[0m\u001b[0mexc_info\u001b[0m\u001b[1;33m(\u001b[0m\u001b[1;33m)\u001b[0m\u001b[1;33m[\u001b[0m\u001b[1;36m2\u001b[0m\u001b[1;33m]\u001b[0m\u001b[1;33m\u001b[0m\u001b[1;33m\u001b[0m\u001b[0m\n",
      "\u001b[1;32mL:\\anaconda\\lib\\site-packages\\urllib3\\util\\retry.py\u001b[0m in \u001b[0;36mincrement\u001b[1;34m(self, method, url, response, error, _pool, _stacktrace)\u001b[0m\n\u001b[0;32m    573\u001b[0m         \u001b[1;32mif\u001b[0m \u001b[0mnew_retry\u001b[0m\u001b[1;33m.\u001b[0m\u001b[0mis_exhausted\u001b[0m\u001b[1;33m(\u001b[0m\u001b[1;33m)\u001b[0m\u001b[1;33m:\u001b[0m\u001b[1;33m\u001b[0m\u001b[1;33m\u001b[0m\u001b[0m\n\u001b[1;32m--> 574\u001b[1;33m             \u001b[1;32mraise\u001b[0m \u001b[0mMaxRetryError\u001b[0m\u001b[1;33m(\u001b[0m\u001b[0m_pool\u001b[0m\u001b[1;33m,\u001b[0m \u001b[0murl\u001b[0m\u001b[1;33m,\u001b[0m \u001b[0merror\u001b[0m \u001b[1;32mor\u001b[0m \u001b[0mResponseError\u001b[0m\u001b[1;33m(\u001b[0m\u001b[0mcause\u001b[0m\u001b[1;33m)\u001b[0m\u001b[1;33m)\u001b[0m\u001b[1;33m\u001b[0m\u001b[1;33m\u001b[0m\u001b[0m\n\u001b[0m\u001b[0;32m    575\u001b[0m \u001b[1;33m\u001b[0m\u001b[0m\n",
      "\u001b[1;31mMaxRetryError\u001b[0m: HTTPSConnectionPool(host='movie.douban.com', port=443): Max retries exceeded with url: /subject/26654184/comments?status=P (Caused by NewConnectionError('<urllib3.connection.HTTPSConnection object at 0x00000243435B6FD0>: Failed to establish a new connection: [Errno 11001] getaddrinfo failed'))",
      "\nDuring handling of the above exception, another exception occurred:\n",
      "\u001b[1;31mConnectionError\u001b[0m                           Traceback (most recent call last)",
      "\u001b[1;32m<ipython-input-31-514d062499ba>\u001b[0m in \u001b[0;36m<module>\u001b[1;34m\u001b[0m\n\u001b[1;32m----> 1\u001b[1;33m \u001b[0mres\u001b[0m\u001b[1;33m=\u001b[0m\u001b[0mreq\u001b[0m\u001b[1;33m.\u001b[0m\u001b[0mget\u001b[0m\u001b[1;33m(\u001b[0m\u001b[0murl\u001b[0m\u001b[1;33m)\u001b[0m\u001b[1;33m\u001b[0m\u001b[1;33m\u001b[0m\u001b[0m\n\u001b[0m",
      "\u001b[1;32mL:\\anaconda\\lib\\site-packages\\requests\\api.py\u001b[0m in \u001b[0;36mget\u001b[1;34m(url, params, **kwargs)\u001b[0m\n\u001b[0;32m     74\u001b[0m \u001b[1;33m\u001b[0m\u001b[0m\n\u001b[0;32m     75\u001b[0m     \u001b[0mkwargs\u001b[0m\u001b[1;33m.\u001b[0m\u001b[0msetdefault\u001b[0m\u001b[1;33m(\u001b[0m\u001b[1;34m'allow_redirects'\u001b[0m\u001b[1;33m,\u001b[0m \u001b[1;32mTrue\u001b[0m\u001b[1;33m)\u001b[0m\u001b[1;33m\u001b[0m\u001b[1;33m\u001b[0m\u001b[0m\n\u001b[1;32m---> 76\u001b[1;33m     \u001b[1;32mreturn\u001b[0m \u001b[0mrequest\u001b[0m\u001b[1;33m(\u001b[0m\u001b[1;34m'get'\u001b[0m\u001b[1;33m,\u001b[0m \u001b[0murl\u001b[0m\u001b[1;33m,\u001b[0m \u001b[0mparams\u001b[0m\u001b[1;33m=\u001b[0m\u001b[0mparams\u001b[0m\u001b[1;33m,\u001b[0m \u001b[1;33m**\u001b[0m\u001b[0mkwargs\u001b[0m\u001b[1;33m)\u001b[0m\u001b[1;33m\u001b[0m\u001b[1;33m\u001b[0m\u001b[0m\n\u001b[0m\u001b[0;32m     77\u001b[0m \u001b[1;33m\u001b[0m\u001b[0m\n\u001b[0;32m     78\u001b[0m \u001b[1;33m\u001b[0m\u001b[0m\n",
      "\u001b[1;32mL:\\anaconda\\lib\\site-packages\\requests\\api.py\u001b[0m in \u001b[0;36mrequest\u001b[1;34m(method, url, **kwargs)\u001b[0m\n\u001b[0;32m     59\u001b[0m     \u001b[1;31m# cases, and look like a memory leak in others.\u001b[0m\u001b[1;33m\u001b[0m\u001b[1;33m\u001b[0m\u001b[1;33m\u001b[0m\u001b[0m\n\u001b[0;32m     60\u001b[0m     \u001b[1;32mwith\u001b[0m \u001b[0msessions\u001b[0m\u001b[1;33m.\u001b[0m\u001b[0mSession\u001b[0m\u001b[1;33m(\u001b[0m\u001b[1;33m)\u001b[0m \u001b[1;32mas\u001b[0m \u001b[0msession\u001b[0m\u001b[1;33m:\u001b[0m\u001b[1;33m\u001b[0m\u001b[1;33m\u001b[0m\u001b[0m\n\u001b[1;32m---> 61\u001b[1;33m         \u001b[1;32mreturn\u001b[0m \u001b[0msession\u001b[0m\u001b[1;33m.\u001b[0m\u001b[0mrequest\u001b[0m\u001b[1;33m(\u001b[0m\u001b[0mmethod\u001b[0m\u001b[1;33m=\u001b[0m\u001b[0mmethod\u001b[0m\u001b[1;33m,\u001b[0m \u001b[0murl\u001b[0m\u001b[1;33m=\u001b[0m\u001b[0murl\u001b[0m\u001b[1;33m,\u001b[0m \u001b[1;33m**\u001b[0m\u001b[0mkwargs\u001b[0m\u001b[1;33m)\u001b[0m\u001b[1;33m\u001b[0m\u001b[1;33m\u001b[0m\u001b[0m\n\u001b[0m\u001b[0;32m     62\u001b[0m \u001b[1;33m\u001b[0m\u001b[0m\n\u001b[0;32m     63\u001b[0m \u001b[1;33m\u001b[0m\u001b[0m\n",
      "\u001b[1;32mL:\\anaconda\\lib\\site-packages\\requests\\sessions.py\u001b[0m in \u001b[0;36mrequest\u001b[1;34m(self, method, url, params, data, headers, cookies, files, auth, timeout, allow_redirects, proxies, hooks, stream, verify, cert, json)\u001b[0m\n\u001b[0;32m    540\u001b[0m         }\n\u001b[0;32m    541\u001b[0m         \u001b[0msend_kwargs\u001b[0m\u001b[1;33m.\u001b[0m\u001b[0mupdate\u001b[0m\u001b[1;33m(\u001b[0m\u001b[0msettings\u001b[0m\u001b[1;33m)\u001b[0m\u001b[1;33m\u001b[0m\u001b[1;33m\u001b[0m\u001b[0m\n\u001b[1;32m--> 542\u001b[1;33m         \u001b[0mresp\u001b[0m \u001b[1;33m=\u001b[0m \u001b[0mself\u001b[0m\u001b[1;33m.\u001b[0m\u001b[0msend\u001b[0m\u001b[1;33m(\u001b[0m\u001b[0mprep\u001b[0m\u001b[1;33m,\u001b[0m \u001b[1;33m**\u001b[0m\u001b[0msend_kwargs\u001b[0m\u001b[1;33m)\u001b[0m\u001b[1;33m\u001b[0m\u001b[1;33m\u001b[0m\u001b[0m\n\u001b[0m\u001b[0;32m    543\u001b[0m \u001b[1;33m\u001b[0m\u001b[0m\n\u001b[0;32m    544\u001b[0m         \u001b[1;32mreturn\u001b[0m \u001b[0mresp\u001b[0m\u001b[1;33m\u001b[0m\u001b[1;33m\u001b[0m\u001b[0m\n",
      "\u001b[1;32mL:\\anaconda\\lib\\site-packages\\requests\\sessions.py\u001b[0m in \u001b[0;36msend\u001b[1;34m(self, request, **kwargs)\u001b[0m\n\u001b[0;32m    653\u001b[0m \u001b[1;33m\u001b[0m\u001b[0m\n\u001b[0;32m    654\u001b[0m         \u001b[1;31m# Send the request\u001b[0m\u001b[1;33m\u001b[0m\u001b[1;33m\u001b[0m\u001b[1;33m\u001b[0m\u001b[0m\n\u001b[1;32m--> 655\u001b[1;33m         \u001b[0mr\u001b[0m \u001b[1;33m=\u001b[0m \u001b[0madapter\u001b[0m\u001b[1;33m.\u001b[0m\u001b[0msend\u001b[0m\u001b[1;33m(\u001b[0m\u001b[0mrequest\u001b[0m\u001b[1;33m,\u001b[0m \u001b[1;33m**\u001b[0m\u001b[0mkwargs\u001b[0m\u001b[1;33m)\u001b[0m\u001b[1;33m\u001b[0m\u001b[1;33m\u001b[0m\u001b[0m\n\u001b[0m\u001b[0;32m    656\u001b[0m \u001b[1;33m\u001b[0m\u001b[0m\n\u001b[0;32m    657\u001b[0m         \u001b[1;31m# Total elapsed time of the request (approximately)\u001b[0m\u001b[1;33m\u001b[0m\u001b[1;33m\u001b[0m\u001b[1;33m\u001b[0m\u001b[0m\n",
      "\u001b[1;32mL:\\anaconda\\lib\\site-packages\\requests\\adapters.py\u001b[0m in \u001b[0;36msend\u001b[1;34m(self, request, stream, timeout, verify, cert, proxies)\u001b[0m\n\u001b[0;32m    514\u001b[0m                 \u001b[1;32mraise\u001b[0m \u001b[0mSSLError\u001b[0m\u001b[1;33m(\u001b[0m\u001b[0me\u001b[0m\u001b[1;33m,\u001b[0m \u001b[0mrequest\u001b[0m\u001b[1;33m=\u001b[0m\u001b[0mrequest\u001b[0m\u001b[1;33m)\u001b[0m\u001b[1;33m\u001b[0m\u001b[1;33m\u001b[0m\u001b[0m\n\u001b[0;32m    515\u001b[0m \u001b[1;33m\u001b[0m\u001b[0m\n\u001b[1;32m--> 516\u001b[1;33m             \u001b[1;32mraise\u001b[0m \u001b[0mConnectionError\u001b[0m\u001b[1;33m(\u001b[0m\u001b[0me\u001b[0m\u001b[1;33m,\u001b[0m \u001b[0mrequest\u001b[0m\u001b[1;33m=\u001b[0m\u001b[0mrequest\u001b[0m\u001b[1;33m)\u001b[0m\u001b[1;33m\u001b[0m\u001b[1;33m\u001b[0m\u001b[0m\n\u001b[0m\u001b[0;32m    517\u001b[0m \u001b[1;33m\u001b[0m\u001b[0m\n\u001b[0;32m    518\u001b[0m         \u001b[1;32mexcept\u001b[0m \u001b[0mClosedPoolError\u001b[0m \u001b[1;32mas\u001b[0m \u001b[0me\u001b[0m\u001b[1;33m:\u001b[0m\u001b[1;33m\u001b[0m\u001b[1;33m\u001b[0m\u001b[0m\n",
      "\u001b[1;31mConnectionError\u001b[0m: HTTPSConnectionPool(host='movie.douban.com', port=443): Max retries exceeded with url: /subject/26654184/comments?status=P (Caused by NewConnectionError('<urllib3.connection.HTTPSConnection object at 0x00000243435B6FD0>: Failed to establish a new connection: [Errno 11001] getaddrinfo failed'))"
     ]
    }
   ],
   "source": [
    "res=req.get(url)"
   ]
  },
  {
   "cell_type": "code",
   "execution_count": null,
   "id": "52c20285",
   "metadata": {
    "ExecuteTime": {
     "end_time": "2022-11-24T11:16:38.846781Z",
     "start_time": "2022-11-24T11:16:19.408Z"
    }
   },
   "outputs": [],
   "source": [
    "res.status_code"
   ]
  },
  {
   "cell_type": "markdown",
   "id": "89b16b10",
   "metadata": {
    "ExecuteTime": {
     "end_time": "2022-11-06T08:40:29.485872Z",
     "start_time": "2022-11-06T08:40:29.459660Z"
    }
   },
   "source": [
    "这里状态码出现了异常，说明使用requests发送的请求被识别成了爬虫"
   ]
  },
  {
   "cell_type": "markdown",
   "id": "e908439d",
   "metadata": {
    "ExecuteTime": {
     "end_time": "2022-11-06T08:40:54.289974Z",
     "start_time": "2022-11-06T08:40:54.269505Z"
    }
   },
   "source": [
    "\n",
    "## 为get请求添加请求头"
   ]
  },
  {
   "cell_type": "code",
   "execution_count": null,
   "id": "8a19ffef",
   "metadata": {
    "ExecuteTime": {
     "end_time": "2022-11-24T11:12:07.256862Z",
     "start_time": "2022-11-24T11:11:55.384Z"
    }
   },
   "outputs": [],
   "source": [
    "headers={\n",
    "    'User-Agent':'Mozilla/5.0 (Windows NT 10.0; Win64; x64; rv:106.0) Gecko/20100101 Firefox/106.0'\n",
    "}"
   ]
  },
  {
   "cell_type": "code",
   "execution_count": null,
   "id": "cf6955a8",
   "metadata": {
    "ExecuteTime": {
     "end_time": "2022-11-24T11:12:07.258856Z",
     "start_time": "2022-11-24T11:11:55.388Z"
    }
   },
   "outputs": [],
   "source": [
    "res=req.get(url,headers=headers)"
   ]
  },
  {
   "cell_type": "code",
   "execution_count": null,
   "id": "8cf2b227",
   "metadata": {
    "ExecuteTime": {
     "end_time": "2022-11-24T11:12:07.260657Z",
     "start_time": "2022-11-24T11:11:55.390Z"
    }
   },
   "outputs": [],
   "source": [
    "res.status_code"
   ]
  },
  {
   "cell_type": "code",
   "execution_count": null,
   "id": "7c522283",
   "metadata": {
    "ExecuteTime": {
     "end_time": "2022-11-24T11:12:07.261848Z",
     "start_time": "2022-11-24T11:11:55.395Z"
    }
   },
   "outputs": [],
   "source": [
    "res.text"
   ]
  },
  {
   "cell_type": "markdown",
   "id": "3683549c",
   "metadata": {
    "ExecuteTime": {
     "end_time": "2022-11-06T08:51:23.962757Z",
     "start_time": "2022-11-06T08:51:23.936089Z"
    }
   },
   "source": [
    "## 将短评解析出来"
   ]
  },
  {
   "cell_type": "code",
   "execution_count": null,
   "id": "5d000504",
   "metadata": {
    "ExecuteTime": {
     "end_time": "2022-11-24T11:12:07.262845Z",
     "start_time": "2022-11-24T11:11:55.399Z"
    }
   },
   "outputs": [],
   "source": [
    "import re"
   ]
  },
  {
   "cell_type": "code",
   "execution_count": null,
   "id": "ef91408e",
   "metadata": {
    "ExecuteTime": {
     "end_time": "2022-11-24T11:12:07.265035Z",
     "start_time": "2022-11-24T11:11:55.402Z"
    }
   },
   "outputs": [],
   "source": [
    "pattern='<span class=\"short\">(.*?)</span>'"
   ]
  },
  {
   "cell_type": "code",
   "execution_count": null,
   "id": "aef288b4",
   "metadata": {
    "ExecuteTime": {
     "end_time": "2022-11-24T11:12:07.265839Z",
     "start_time": "2022-11-24T11:11:55.405Z"
    }
   },
   "outputs": [],
   "source": [
    "#flags：一般这个字段的值是不需要修改的，当我们匹配的字符串中包含换行符号时才需要对其内容进行修改为re.S\n",
    "re.findall(pattern,res.text,flags=re.S)"
   ]
  },
  {
   "cell_type": "code",
   "execution_count": null,
   "id": "0ed0f4f5",
   "metadata": {
    "ExecuteTime": {
     "end_time": "2022-11-24T11:12:07.268830Z",
     "start_time": "2022-11-24T11:11:55.410Z"
    }
   },
   "outputs": [],
   "source": [
    "from lxml import etree"
   ]
  },
  {
   "cell_type": "code",
   "execution_count": null,
   "id": "19bbeff5",
   "metadata": {
    "ExecuteTime": {
     "end_time": "2022-11-24T11:12:07.270165Z",
     "start_time": "2022-11-24T11:11:55.412Z"
    }
   },
   "outputs": [],
   "source": [
    "html=etree.HTML(res.text)"
   ]
  },
  {
   "cell_type": "code",
   "execution_count": null,
   "id": "c0671c96",
   "metadata": {
    "ExecuteTime": {
     "end_time": "2022-11-24T11:12:07.270825Z",
     "start_time": "2022-11-24T11:11:55.415Z"
    }
   },
   "outputs": [],
   "source": [
    "html.xpath('//span[@class=\"short\"]/text()')"
   ]
  },
  {
   "cell_type": "markdown",
   "id": "156054d3",
   "metadata": {
    "ExecuteTime": {
     "end_time": "2022-11-06T09:16:25.270423Z",
     "start_time": "2022-11-06T09:16:25.240050Z"
    }
   },
   "source": [
    "## 短评内容的分页抓取"
   ]
  },
  {
   "cell_type": "markdown",
   "id": "17568980",
   "metadata": {
    "ExecuteTime": {
     "end_time": "2022-11-06T09:23:04.175741Z",
     "start_time": "2022-11-06T09:23:04.152742Z"
    }
   },
   "source": [
    "抓取前十页的短评内容"
   ]
  },
  {
   "cell_type": "code",
   "execution_count": null,
   "id": "274235c1",
   "metadata": {
    "ExecuteTime": {
     "end_time": "2022-11-24T11:12:07.272822Z",
     "start_time": "2022-11-24T11:11:55.423Z"
    }
   },
   "outputs": [],
   "source": [
    "max_page = 10"
   ]
  },
  {
   "cell_type": "code",
   "execution_count": null,
   "id": "a3a094c0",
   "metadata": {
    "ExecuteTime": {
     "end_time": "2022-11-24T11:12:07.274815Z",
     "start_time": "2022-11-24T11:11:55.427Z"
    }
   },
   "outputs": [],
   "source": [
    "contents=[]\n",
    "for page in range(1,max_page+1):\n",
    "    url = f'https://movie.douban.com/subject/26654184/comments?start={(page-1)*20}&limit=20&status=P&sort=new_score'\n",
    "    res=req.get(url,headers=headers)\n",
    "    html=etree.HTML(res.text)\n",
    "    content=html.xpath('//span[@class=\"short\"]/text()')\n",
    "    print(f'{page}/{max_page}-------{len(content)}')\n",
    "    contents.extend(content)"
   ]
  },
  {
   "cell_type": "code",
   "execution_count": null,
   "id": "4ce046ac",
   "metadata": {
    "ExecuteTime": {
     "end_time": "2022-11-24T11:12:07.277807Z",
     "start_time": "2022-11-24T11:11:55.429Z"
    }
   },
   "outputs": [],
   "source": [
    "for i in contents:\n",
    "    print(i+'\\n')"
   ]
  },
  {
   "cell_type": "markdown",
   "id": "ab72bb98",
   "metadata": {
    "ExecuteTime": {
     "end_time": "2022-11-13T00:49:25.263292Z",
     "start_time": "2022-11-13T00:49:25.131788Z"
    }
   },
   "source": [
    "## 抓取豆瓣影评页面中的其他内容"
   ]
  },
  {
   "cell_type": "markdown",
   "id": "f42649cb",
   "metadata": {
    "ExecuteTime": {
     "end_time": "2022-11-13T00:50:20.203739Z",
     "start_time": "2022-11-13T00:50:20.180251Z"
    }
   },
   "source": [
    "- 用户昵称\n",
    "- 用户头像原始图片\n",
    "- 用户评分登记\n",
    "- 用户评论时间"
   ]
  },
  {
   "cell_type": "markdown",
   "id": "26c97d27",
   "metadata": {
    "ExecuteTime": {
     "end_time": "2022-11-13T00:54:19.750207Z",
     "start_time": "2022-11-13T00:54:19.728273Z"
    }
   },
   "source": [
    "### 用户昵称"
   ]
  },
  {
   "cell_type": "code",
   "execution_count": null,
   "id": "073f2c7b",
   "metadata": {
    "ExecuteTime": {
     "end_time": "2022-11-24T11:12:07.278803Z",
     "start_time": "2022-11-24T11:11:55.434Z"
    }
   },
   "outputs": [],
   "source": [
    "name=html.xpath('//span[@class=\"comment-info\"]/a/text()')\n",
    "name"
   ]
  },
  {
   "cell_type": "markdown",
   "id": "4c53d67d",
   "metadata": {
    "ExecuteTime": {
     "end_time": "2022-11-13T01:02:03.403077Z",
     "start_time": "2022-11-13T01:02:03.383002Z"
    }
   },
   "source": [
    "### 用户头像原始图片"
   ]
  },
  {
   "cell_type": "code",
   "execution_count": null,
   "id": "c1600723",
   "metadata": {
    "ExecuteTime": {
     "end_time": "2022-11-24T11:12:07.280798Z",
     "start_time": "2022-11-24T11:11:55.439Z"
    }
   },
   "outputs": [],
   "source": [
    "img_url = html.xpath('//div[@class=\"avatar\"]/a/img/@src')\n",
    "img_url"
   ]
  },
  {
   "cell_type": "markdown",
   "id": "3c20f91c",
   "metadata": {
    "ExecuteTime": {
     "end_time": "2022-11-13T01:04:13.860322Z",
     "start_time": "2022-11-13T01:04:13.835361Z"
    }
   },
   "source": [
    "### 用户评分登记"
   ]
  },
  {
   "cell_type": "markdown",
   "id": "a9747581",
   "metadata": {
    "ExecuteTime": {
     "end_time": "2022-11-13T02:04:12.351209Z",
     "start_time": "2022-11-13T02:04:12.319919Z"
    }
   },
   "source": [
    "#### 按照元素出现的顺序筛选"
   ]
  },
  {
   "cell_type": "code",
   "execution_count": null,
   "id": "8750a245",
   "metadata": {
    "ExecuteTime": {
     "end_time": "2022-11-24T11:12:07.281796Z",
     "start_time": "2022-11-24T11:11:55.446Z"
    }
   },
   "outputs": [],
   "source": [
    "grade=html.xpath('//span[@class=\"comment-info\"]/span[2]/@class')\n",
    "grade"
   ]
  },
  {
   "cell_type": "markdown",
   "id": "3edcefd4",
   "metadata": {
    "ExecuteTime": {
     "end_time": "2022-11-13T01:55:10.113138Z",
     "start_time": "2022-11-13T01:55:10.094477Z"
    }
   },
   "source": [
    "#### 使用正则表达式筛选"
   ]
  },
  {
   "cell_type": "code",
   "execution_count": null,
   "id": "91ba981b",
   "metadata": {
    "ExecuteTime": {
     "end_time": "2022-11-24T11:12:07.282792Z",
     "start_time": "2022-11-24T11:11:55.449Z"
    }
   },
   "outputs": [],
   "source": [
    "pattern='<span class=\"(allstar\\d0.*? rating)\" title='\n",
    "re.findall(pattern,res.text)"
   ]
  },
  {
   "cell_type": "markdown",
   "id": "6990cc43",
   "metadata": {
    "ExecuteTime": {
     "end_time": "2022-11-13T02:21:40.409382Z",
     "start_time": "2022-11-13T02:21:40.386246Z"
    }
   },
   "source": [
    "#### 使用Xpath表达式进行筛选"
   ]
  },
  {
   "cell_type": "code",
   "execution_count": null,
   "id": "22a839aa",
   "metadata": {
    "ExecuteTime": {
     "end_time": "2022-11-24T11:12:07.284810Z",
     "start_time": "2022-11-24T11:11:55.453Z"
    }
   },
   "outputs": [],
   "source": [
    "#contains：对某个标签的属性值进行筛选，筛选出包含某个字符串的标签\n",
    "grade=html.xpath('//span[contains(@class,\"allstar\")]/@class')\n",
    "grade"
   ]
  },
  {
   "cell_type": "markdown",
   "id": "f0fc5f4d",
   "metadata": {
    "ExecuteTime": {
     "end_time": "2022-11-13T01:28:13.089403Z",
     "start_time": "2022-11-13T01:28:13.066270Z"
    }
   },
   "source": [
    "### 用户评论时间"
   ]
  },
  {
   "cell_type": "code",
   "execution_count": null,
   "id": "1b43e52a",
   "metadata": {
    "ExecuteTime": {
     "end_time": "2022-11-24T11:12:07.286106Z",
     "start_time": "2022-11-24T11:11:55.456Z"
    }
   },
   "outputs": [],
   "source": [
    "time=html.xpath('//span[@class=\"comment-time \"]/@title')\n",
    "time"
   ]
  },
  {
   "cell_type": "markdown",
   "id": "b4202831",
   "metadata": {
    "ExecuteTime": {
     "end_time": "2022-11-13T02:33:16.931147Z",
     "start_time": "2022-11-13T02:33:16.915510Z"
    }
   },
   "source": [
    "## 数据的存储"
   ]
  },
  {
   "cell_type": "code",
   "execution_count": null,
   "id": "f6890935",
   "metadata": {
    "ExecuteTime": {
     "end_time": "2022-11-24T11:12:07.286782Z",
     "start_time": "2022-11-24T11:11:55.459Z"
    }
   },
   "outputs": [],
   "source": [
    "len(content),len(name),len(img_url),len(grade),len(time)"
   ]
  },
  {
   "cell_type": "code",
   "execution_count": null,
   "id": "c9a713e6",
   "metadata": {
    "ExecuteTime": {
     "end_time": "2022-11-24T11:12:07.288777Z",
     "start_time": "2022-11-24T11:11:55.462Z"
    }
   },
   "outputs": [],
   "source": [
    "import pandas as pd"
   ]
  },
  {
   "cell_type": "code",
   "execution_count": null,
   "id": "b14c2e2c",
   "metadata": {
    "ExecuteTime": {
     "end_time": "2022-11-24T11:12:07.289774Z",
     "start_time": "2022-11-24T11:11:55.466Z"
    },
    "scrolled": true
   },
   "outputs": [],
   "source": [
    "#定义数据框\n",
    "dataframe=pd.DataFrame([name,time,grade,content,img_url],\n",
    "                       index=['用户昵称','评论时间','评论星级','评论内容','用户头像地址']).T\n",
    "dataframe"
   ]
  },
  {
   "cell_type": "code",
   "execution_count": null,
   "id": "12fcccba",
   "metadata": {
    "ExecuteTime": {
     "end_time": "2022-11-24T11:12:07.290770Z",
     "start_time": "2022-11-24T11:11:55.469Z"
    },
    "scrolled": true
   },
   "outputs": [],
   "source": [
    "#存储为Excel文件\n",
    "dataframe.to_excel('douban.xlsx')"
   ]
  },
  {
   "cell_type": "markdown",
   "id": "3d84ec68",
   "metadata": {
    "ExecuteTime": {
     "end_time": "2022-11-13T03:08:44.781907Z",
     "start_time": "2022-11-13T03:08:44.759399Z"
    }
   },
   "source": [
    "## 修改分页抓取，获取所有字段并保存"
   ]
  },
  {
   "cell_type": "code",
   "execution_count": null,
   "id": "bcdc3580",
   "metadata": {
    "ExecuteTime": {
     "end_time": "2022-11-24T11:12:07.291768Z",
     "start_time": "2022-11-24T11:11:55.472Z"
    }
   },
   "outputs": [],
   "source": [
    "max_page=10\n",
    "contents=[]\n",
    "names=[]\n",
    "imgs_url=[]\n",
    "grades=[]\n",
    "times=[]\n",
    "for page in range(1,max_page+1):\n",
    "    url = f'https://movie.douban.com/subject/26654184/comments?start={(page-1)*20}&limit=20&status=P&sort=new_score'\n",
    "    res=req.get(url,headers=headers)\n",
    "    html=etree.HTML(res.text)\n",
    "    \n",
    "    \n",
    "    \n",
    "    content=html.xpath('//span[@class=\"short\"]/text()')\n",
    "    name=html.xpath('//span[@class=\"comment-info\"]/a/text()')\n",
    "    img_url = html.xpath('//div[@class=\"avatar\"]/a/img/@src')\n",
    "    grade=html.xpath('//span[@class=\"comment-info\"]/span[2]/@class')\n",
    "    time=html.xpath('//span[@class=\"comment-info\"]/span[3]/@title')\n",
    "    contents.extend(content)\n",
    "    names.extend(name)\n",
    "    imgs_url.extend(img_url)\n",
    "    grades.extend(grade)\n",
    "    times.extend(time)\n",
    "\n",
    "    \n",
    "    print(f'{page}/{max_page}-------{len(content),len(name),len(img_url),len(grade),len(time)}')\n"
   ]
  },
  {
   "cell_type": "code",
   "execution_count": null,
   "id": "17908f22",
   "metadata": {
    "ExecuteTime": {
     "end_time": "2022-11-24T11:12:07.293565Z",
     "start_time": "2022-11-24T11:11:55.475Z"
    },
    "scrolled": true
   },
   "outputs": [],
   "source": [
    "dataframe=pd.DataFrame([names,times,grades,contents,imgs_url],\n",
    "                       index=['用户昵称','评论时间','评论星级','评论内容','用户头像地址']).T\n",
    "dataframe"
   ]
  },
  {
   "cell_type": "code",
   "execution_count": null,
   "id": "40632beb",
   "metadata": {
    "ExecuteTime": {
     "end_time": "2022-11-24T11:12:07.295564Z",
     "start_time": "2022-11-24T11:11:55.477Z"
    }
   },
   "outputs": [],
   "source": [
    "dataframe.to_excel('douban.xlsx')"
   ]
  },
  {
   "cell_type": "markdown",
   "id": "228eb590",
   "metadata": {
    "ExecuteTime": {
     "end_time": "2022-11-13T03:25:49.247727Z",
     "start_time": "2022-11-13T03:25:49.224493Z"
    }
   },
   "source": [
    "## 模拟登陆状态"
   ]
  },
  {
   "cell_type": "code",
   "execution_count": null,
   "id": "db89e028",
   "metadata": {
    "ExecuteTime": {
     "end_time": "2022-11-24T11:12:07.297559Z",
     "start_time": "2022-11-24T11:11:55.481Z"
    }
   },
   "outputs": [],
   "source": [
    "max_page=20\n",
    "contents=[]\n",
    "names=[]\n",
    "imgs_url=[]\n",
    "grades=[]\n",
    "times=[]\n",
    "for page in range(1,max_page+1):\n",
    "    url = f'https://movie.douban.com/subject/26654184/comments?start={(page-1)*20}&limit=20&status=P&sort=new_score'\n",
    "    res=req.get(url,headers=headers)\n",
    "    html=etree.HTML(res.text)\n",
    "    \n",
    "    \n",
    "    \n",
    "    content=html.xpath('//span[@class=\"short\"]/text()')\n",
    "    name=html.xpath('//span[@class=\"comment-info\"]/a/text()')\n",
    "    img_url = html.xpath('//div[@class=\"avatar\"]/a/img/@src')\n",
    "    grade=html.xpath('//span[@class=\"comment-info\"]/span[2]/@class')\n",
    "    time=html.xpath('//span[@class=\"comment-info\"]/span[3]/@title')\n",
    "    contents.extend(content)\n",
    "    names.extend(name)\n",
    "    imgs_url.extend(img_url)\n",
    "    grades.extend(grade)\n",
    "    times.extend(time)\n",
    "\n",
    "    \n",
    "    print(f'{page}/{max_page}-------{len(content),len(name),len(img_url),len(grade),len(time)}')\n"
   ]
  },
  {
   "cell_type": "markdown",
   "id": "6331ffdd",
   "metadata": {
    "ExecuteTime": {
     "end_time": "2022-11-13T03:28:53.063997Z",
     "start_time": "2022-11-13T03:28:53.042843Z"
    }
   },
   "source": [
    "发现在前11页访问时没有问题，但是12页开始已经是访问不到数据，打开第12页的网页地址发现，需要登陆才能查看"
   ]
  },
  {
   "cell_type": "code",
   "execution_count": null,
   "id": "7dc6d8bf",
   "metadata": {
    "ExecuteTime": {
     "end_time": "2022-11-24T11:12:07.298556Z",
     "start_time": "2022-11-24T11:11:55.484Z"
    }
   },
   "outputs": [],
   "source": [
    "headers = {\n",
    "    'User-Agent':'Mozilla/5.0 (Windows NT 10.0; Win64; x64; rv:106.0) Gecko/20100101 Firefox/106.0',\n",
    "    'Cookie':'bid=BnEflZB6fNI; douban-fav-remind=1; ll=\"118254\"; ct=y; push_noty_num=0; push_doumail_num=0; dbcl2=\"242291396:p/7AbnTukt8\"; ck=FmxX; ap_v=0,6.0'\n",
    "    }"
   ]
  },
  {
   "cell_type": "code",
   "execution_count": null,
   "id": "48943b21",
   "metadata": {
    "ExecuteTime": {
     "end_time": "2022-11-24T11:12:07.300027Z",
     "start_time": "2022-11-24T11:11:55.486Z"
    }
   },
   "outputs": [],
   "source": [
    "res=req.get(url,headers=headers)"
   ]
  },
  {
   "cell_type": "code",
   "execution_count": null,
   "id": "ada1e294",
   "metadata": {
    "ExecuteTime": {
     "end_time": "2022-11-24T11:12:07.300551Z",
     "start_time": "2022-11-24T11:11:55.489Z"
    }
   },
   "outputs": [],
   "source": [
    "res.status_code"
   ]
  },
  {
   "cell_type": "code",
   "execution_count": null,
   "id": "c1017796",
   "metadata": {
    "ExecuteTime": {
     "end_time": "2022-11-24T11:12:07.302567Z",
     "start_time": "2022-11-24T11:11:55.492Z"
    }
   },
   "outputs": [],
   "source": [
    "max_page=20\n",
    "contents=[]\n",
    "names=[]\n",
    "imgs_url=[]\n",
    "grades=[]\n",
    "times=[]\n",
    "for page in range(1,max_page+1):\n",
    "    url = f'https://movie.douban.com/subject/26654184/comments?start={(page-1)*20}&limit=20&status=P&sort=new_score'\n",
    "    res=req.get(url,headers=headers)\n",
    "    html=etree.HTML(res.text)\n",
    "    \n",
    "    \n",
    "    \n",
    "    content=html.xpath('//span[@class=\"short\"]/text()')\n",
    "    name=html.xpath('//span[@class=\"comment-info\"]/a/text()')\n",
    "    img_url = html.xpath('//div[@class=\"avatar\"]/a/img/@src')\n",
    "    grade=html.xpath('//span[@class=\"comment-info\"]/span[2]/@class')\n",
    "    time=html.xpath('//span[@class=\"comment-time \"]/@title')\n",
    "    contents.extend(content)\n",
    "    names.extend(name)\n",
    "    imgs_url.extend(img_url)\n",
    "    grades.extend(grade)\n",
    "    times.extend(time)\n",
    "\n",
    "    \n",
    "    print(f'{page}/{max_page}-------{len(content),len(name),len(img_url),len(grade),len(time)}')\n"
   ]
  },
  {
   "cell_type": "code",
   "execution_count": null,
   "id": "b2d2b1bf",
   "metadata": {
    "ExecuteTime": {
     "end_time": "2022-11-24T11:12:07.303543Z",
     "start_time": "2022-11-24T11:11:55.495Z"
    }
   },
   "outputs": [],
   "source": [
    "dataframe=pd.DataFrame([names,times,grades,contents,imgs_url],\n",
    "                       index=['用户昵称','评论时间','评论星级','评论内容','用户头像地址']).T\n",
    "dataframe"
   ]
  },
  {
   "cell_type": "code",
   "execution_count": null,
   "id": "07bd61a1",
   "metadata": {
    "ExecuteTime": {
     "end_time": "2022-11-24T11:12:07.304540Z",
     "start_time": "2022-11-24T11:11:55.497Z"
    }
   },
   "outputs": [],
   "source": [
    "dataframe.to_excel('douban.xlsx')"
   ]
  }
 ],
 "metadata": {
  "kernelspec": {
   "display_name": "Python 3",
   "language": "python",
   "name": "python3"
  },
  "language_info": {
   "codemirror_mode": {
    "name": "ipython",
    "version": 3
   },
   "file_extension": ".py",
   "mimetype": "text/x-python",
   "name": "python",
   "nbconvert_exporter": "python",
   "pygments_lexer": "ipython3",
   "version": "3.8.8"
  },
  "notify_time": "0",
  "toc": {
   "base_numbering": 1,
   "nav_menu": {
    "height": "11.3333px",
    "width": "252.467px"
   },
   "number_sections": true,
   "sideBar": true,
   "skip_h1_title": false,
   "title_cell": "Table of Contents",
   "title_sidebar": "Contents",
   "toc_cell": false,
   "toc_position": {
    "height": "calc(100% - 180px)",
    "left": "10px",
    "top": "150px",
    "width": "262px"
   },
   "toc_section_display": true,
   "toc_window_display": true
  },
  "varInspector": {
   "cols": {
    "lenName": 16,
    "lenType": 16,
    "lenVar": 40
   },
   "kernels_config": {
    "python": {
     "delete_cmd_postfix": "",
     "delete_cmd_prefix": "del ",
     "library": "var_list.py",
     "varRefreshCmd": "print(var_dic_list())"
    },
    "r": {
     "delete_cmd_postfix": ") ",
     "delete_cmd_prefix": "rm(",
     "library": "var_list.r",
     "varRefreshCmd": "cat(var_dic_list()) "
    }
   },
   "types_to_exclude": [
    "module",
    "function",
    "builtin_function_or_method",
    "instance",
    "_Feature"
   ],
   "window_display": false
  }
 },
 "nbformat": 4,
 "nbformat_minor": 5
}
