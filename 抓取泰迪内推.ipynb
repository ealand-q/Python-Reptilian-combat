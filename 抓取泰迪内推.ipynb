{
 "cells": [
  {
   "cell_type": "markdown",
   "id": "d1bb00ac",
   "metadata": {
    "ExecuteTime": {
     "end_time": "2023-01-02T02:47:33.303796Z",
     "start_time": "2023-01-02T02:47:33.299491Z"
    }
   },
   "source": [
    "抓取目标：泰迪内推平台【https://www.5iai.com/#/jobList 】 公司信息。\n",
    "抓取的数据字段：\n",
    "- 岗位名称\n",
    "- 薪资待遇\n",
    "- 公司名称\n",
    "- 学历要求 \n",
    "- 招聘人数\n",
    "- 公司人数\n",
    "- 所属行业\n",
    "- 发布时间\n",
    "- 职位描述【在二级页面】"
   ]
  },
  {
   "cell_type": "code",
   "execution_count": 2,
   "id": "3ec5162d",
   "metadata": {
    "ExecuteTime": {
     "end_time": "2023-01-02T02:49:19.098037Z",
     "start_time": "2023-01-02T02:49:18.994209Z"
    }
   },
   "outputs": [],
   "source": [
    "import requests"
   ]
  },
  {
   "cell_type": "markdown",
   "id": "cd736af5",
   "metadata": {
    "ExecuteTime": {
     "end_time": "2023-01-02T02:49:35.257928Z",
     "start_time": "2023-01-02T02:49:34.998407Z"
    }
   },
   "source": [
    "# 获取学历对应规则"
   ]
  },
  {
   "cell_type": "markdown",
   "id": "41e86c3f",
   "metadata": {
    "ExecuteTime": {
     "end_time": "2023-01-02T02:49:52.299680Z",
     "start_time": "2023-01-02T02:49:52.289432Z"
    }
   },
   "source": [
    "## 定义数据包地址"
   ]
  },
  {
   "cell_type": "code",
   "execution_count": 5,
   "id": "60c44b90",
   "metadata": {
    "ExecuteTime": {
     "end_time": "2023-01-02T03:10:10.771314Z",
     "start_time": "2023-01-02T03:10:10.758283Z"
    }
   },
   "outputs": [],
   "source": [
    "edu_url='https://www.5iai.com/api/dict/data/public/list/tree?dictType=education_requirement'"
   ]
  },
  {
   "cell_type": "markdown",
   "id": "de8f2f36",
   "metadata": {
    "ExecuteTime": {
     "end_time": "2023-01-02T03:11:40.361256Z",
     "start_time": "2023-01-02T03:11:40.350748Z"
    }
   },
   "source": [
    "## 发送请求"
   ]
  },
  {
   "cell_type": "code",
   "execution_count": 10,
   "id": "0f7182d0",
   "metadata": {
    "ExecuteTime": {
     "end_time": "2023-01-02T03:11:32.420566Z",
     "start_time": "2023-01-02T03:11:32.180447Z"
    }
   },
   "outputs": [],
   "source": [
    "edu_res=requests.get(edu_url)"
   ]
  },
  {
   "cell_type": "markdown",
   "id": "bc5dfc9d",
   "metadata": {
    "ExecuteTime": {
     "end_time": "2023-01-02T03:12:31.510662Z",
     "start_time": "2023-01-02T03:12:31.500602Z"
    }
   },
   "source": [
    "## 解析"
   ]
  },
  {
   "cell_type": "code",
   "execution_count": 14,
   "id": "c5f393fc",
   "metadata": {
    "ExecuteTime": {
     "end_time": "2023-01-02T03:14:36.927875Z",
     "start_time": "2023-01-02T03:14:36.914682Z"
    }
   },
   "outputs": [
    {
     "data": {
      "text/plain": [
       "{0: '不限', 1: '技工', 2: '大专', 3: '本科', 4: '硕士', 5: '博士'}"
      ]
     },
     "execution_count": 14,
     "metadata": {},
     "output_type": "execute_result"
    }
   ],
   "source": [
    "edu_dict={int(i[\"value\"]):i[\"label\"]for i in edu_res.json()['data']}\n",
    "edu_dict"
   ]
  },
  {
   "cell_type": "markdown",
   "id": "6398e133",
   "metadata": {
    "ExecuteTime": {
     "end_time": "2023-01-02T03:15:25.367603Z",
     "start_time": "2023-01-02T03:15:25.351176Z"
    }
   },
   "source": [
    "# 获取一级页面内容"
   ]
  },
  {
   "cell_type": "markdown",
   "id": "514116d4",
   "metadata": {
    "ExecuteTime": {
     "end_time": "2023-01-02T03:17:38.075834Z",
     "start_time": "2023-01-02T03:17:38.065832Z"
    }
   },
   "source": [
    "## 定义网址"
   ]
  },
  {
   "cell_type": "code",
   "execution_count": 35,
   "id": "780966b6",
   "metadata": {
    "ExecuteTime": {
     "end_time": "2023-01-02T03:23:15.316999Z",
     "start_time": "2023-01-02T03:23:15.302830Z"
    }
   },
   "outputs": [],
   "source": [
    "url='https://www.5iai.com/api/enterprise/job/public/es?pageSize=10&pageNumber=1&willNature=&function=&wageList=%5B%5D&workplace=&keyword='"
   ]
  },
  {
   "cell_type": "markdown",
   "id": "54b6cd96",
   "metadata": {
    "ExecuteTime": {
     "end_time": "2023-01-02T03:19:55.196917Z",
     "start_time": "2023-01-02T03:19:55.189322Z"
    }
   },
   "source": [
    "## 发送请求"
   ]
  },
  {
   "cell_type": "code",
   "execution_count": 36,
   "id": "012432ed",
   "metadata": {
    "ExecuteTime": {
     "end_time": "2023-01-02T03:23:16.096337Z",
     "start_time": "2023-01-02T03:23:15.822444Z"
    }
   },
   "outputs": [],
   "source": [
    "res=requests.get(url)"
   ]
  },
  {
   "cell_type": "markdown",
   "id": "29fb0155",
   "metadata": {
    "ExecuteTime": {
     "end_time": "2023-01-02T03:20:08.616487Z",
     "start_time": "2023-01-02T03:20:08.606954Z"
    }
   },
   "source": [
    "## 解析"
   ]
  },
  {
   "cell_type": "code",
   "execution_count": 37,
   "id": "ab1c7164",
   "metadata": {
    "ExecuteTime": {
     "end_time": "2023-01-02T03:23:16.392036Z",
     "start_time": "2023-01-02T03:23:16.382790Z"
    }
   },
   "outputs": [],
   "source": [
    "res_json=res.json()"
   ]
  },
  {
   "cell_type": "code",
   "execution_count": 38,
   "id": "28fcd759",
   "metadata": {
    "ExecuteTime": {
     "end_time": "2023-01-02T03:23:25.676858Z",
     "start_time": "2023-01-02T03:23:25.664269Z"
    }
   },
   "outputs": [
    {
     "data": {
      "text/plain": [
       "{'status': 200,\n",
       " 'message': '操作成功',\n",
       " 'data': {'content': [{'id': '1605028222989369345',\n",
       "    'publishTime': None,\n",
       "    'updateTime': '2022-12-20 10:32',\n",
       "    'willNature': 2,\n",
       "    'positionName': '解决方案',\n",
       "    'minimumWage': 30000,\n",
       "    'maximumWage': 40000,\n",
       "    'payMethod': 1,\n",
       "    'exp': '不限',\n",
       "    'educationalRequirements': 3,\n",
       "    'count': 1,\n",
       "    'enterpriseAddress': {'id': '1605028173416890368',\n",
       "     'enterpriseId': '1605028173412696064',\n",
       "     'provinceCode': '420000',\n",
       "     'cityCode': '420100',\n",
       "     'regionCode': '420111',\n",
       "     'detailedAddress': '湖北省武汉市洪山区文化路53号',\n",
       "     'remarks': None},\n",
       "    'keywordList': [{'id': '1605028222989369348',\n",
       "      'createTime': '2022-12-20 10:32:02',\n",
       "      'creatorId': None,\n",
       "      'creatorName': None,\n",
       "      'updateTime': '2022-12-20 10:32:02',\n",
       "      'jobPositionId': '1605028222989369345',\n",
       "      'labelId': '1519614182750814208',\n",
       "      'labelName': '互联网',\n",
       "      'labelTypeId': '3',\n",
       "      'labelTypeName': None},\n",
       "     {'id': '1605028222989369349',\n",
       "      'createTime': '2022-12-20 10:32:02',\n",
       "      'creatorId': None,\n",
       "      'creatorName': None,\n",
       "      'updateTime': '2022-12-20 10:32:02',\n",
       "      'jobPositionId': '1605028222989369345',\n",
       "      'labelId': '1519614182830505984',\n",
       "      'labelName': '软件',\n",
       "      'labelTypeId': '3',\n",
       "      'labelTypeName': None}],\n",
       "    'enterpriseExtInfo': {'id': '1605028174972977152',\n",
       "     'logo': '/co91420100081953646Y/1671503951722/1671503951722.png',\n",
       "     'shortName': '软帝联合',\n",
       "     'industry': '[\"互联网\",\"软件\"]',\n",
       "     'econKind': '上市公司',\n",
       "     'personScope': '500-1000人'}},\n",
       "   {'id': '1605028222989369344',\n",
       "    'publishTime': None,\n",
       "    'updateTime': '2022-12-20 10:32',\n",
       "    'willNature': 2,\n",
       "    'positionName': '产品总监',\n",
       "    'minimumWage': 20000,\n",
       "    'maximumWage': 35000,\n",
       "    'payMethod': 1,\n",
       "    'exp': '不限',\n",
       "    'educationalRequirements': 3,\n",
       "    'count': 1,\n",
       "    'enterpriseAddress': {'id': '1605028173416890368',\n",
       "     'enterpriseId': '1605028173412696064',\n",
       "     'provinceCode': '420000',\n",
       "     'cityCode': '420100',\n",
       "     'regionCode': '420111',\n",
       "     'detailedAddress': '湖北省武汉市洪山区文化路53号',\n",
       "     'remarks': None},\n",
       "    'keywordList': [{'id': '1605028222989369346',\n",
       "      'createTime': '2022-12-20 10:32:02',\n",
       "      'creatorId': None,\n",
       "      'creatorName': None,\n",
       "      'updateTime': '2022-12-20 10:32:02',\n",
       "      'jobPositionId': '1605028222989369344',\n",
       "      'labelId': '1519614182750814208',\n",
       "      'labelName': '互联网',\n",
       "      'labelTypeId': '3',\n",
       "      'labelTypeName': None},\n",
       "     {'id': '1605028222989369347',\n",
       "      'createTime': '2022-12-20 10:32:02',\n",
       "      'creatorId': None,\n",
       "      'creatorName': None,\n",
       "      'updateTime': '2022-12-20 10:32:02',\n",
       "      'jobPositionId': '1605028222989369344',\n",
       "      'labelId': '1519614182830505984',\n",
       "      'labelName': '软件',\n",
       "      'labelTypeId': '3',\n",
       "      'labelTypeName': None}],\n",
       "    'enterpriseExtInfo': {'id': '1605028174972977152',\n",
       "     'logo': '/co91420100081953646Y/1671503951722/1671503951722.png',\n",
       "     'shortName': '软帝联合',\n",
       "     'industry': '[\"互联网\",\"软件\"]',\n",
       "     'econKind': '上市公司',\n",
       "     'personScope': '500-1000人'}},\n",
       "   {'id': '1605028222985175041',\n",
       "    'publishTime': None,\n",
       "    'updateTime': '2022-12-20 10:32',\n",
       "    'willNature': 2,\n",
       "    'positionName': '大数据架构师',\n",
       "    'minimumWage': 25000,\n",
       "    'maximumWage': 50000,\n",
       "    'payMethod': 1,\n",
       "    'exp': '不限',\n",
       "    'educationalRequirements': 3,\n",
       "    'count': 1,\n",
       "    'enterpriseAddress': {'id': '1605028173416890368',\n",
       "     'enterpriseId': '1605028173412696064',\n",
       "     'provinceCode': '420000',\n",
       "     'cityCode': '420100',\n",
       "     'regionCode': '420111',\n",
       "     'detailedAddress': '湖北省武汉市洪山区文化路53号',\n",
       "     'remarks': None},\n",
       "    'keywordList': [{'id': '1605028222989369344',\n",
       "      'createTime': '2022-12-20 10:32:02',\n",
       "      'creatorId': None,\n",
       "      'creatorName': None,\n",
       "      'updateTime': '2022-12-20 10:32:02',\n",
       "      'jobPositionId': '1605028222985175041',\n",
       "      'labelId': '1519614182750814208',\n",
       "      'labelName': '互联网',\n",
       "      'labelTypeId': '3',\n",
       "      'labelTypeName': None},\n",
       "     {'id': '1605028222989369345',\n",
       "      'createTime': '2022-12-20 10:32:02',\n",
       "      'creatorId': None,\n",
       "      'creatorName': None,\n",
       "      'updateTime': '2022-12-20 10:32:02',\n",
       "      'jobPositionId': '1605028222985175041',\n",
       "      'labelId': '1519614182830505984',\n",
       "      'labelName': '软件',\n",
       "      'labelTypeId': '3',\n",
       "      'labelTypeName': None}],\n",
       "    'enterpriseExtInfo': {'id': '1605028174972977152',\n",
       "     'logo': '/co91420100081953646Y/1671503951722/1671503951722.png',\n",
       "     'shortName': '软帝联合',\n",
       "     'industry': '[\"互联网\",\"软件\"]',\n",
       "     'econKind': '上市公司',\n",
       "     'personScope': '500-1000人'}},\n",
       "   {'id': '1605028222985175040',\n",
       "    'publishTime': None,\n",
       "    'updateTime': '2022-12-20 10:32',\n",
       "    'willNature': 2,\n",
       "    'positionName': '大数据系统分析师',\n",
       "    'minimumWage': 25000,\n",
       "    'maximumWage': 40000,\n",
       "    'payMethod': 1,\n",
       "    'exp': '5-10年',\n",
       "    'educationalRequirements': 3,\n",
       "    'count': 2,\n",
       "    'enterpriseAddress': {'id': '1605028173416890368',\n",
       "     'enterpriseId': '1605028173412696064',\n",
       "     'provinceCode': '420000',\n",
       "     'cityCode': '420100',\n",
       "     'regionCode': '420111',\n",
       "     'detailedAddress': '湖北省武汉市洪山区文化路53号',\n",
       "     'remarks': None},\n",
       "    'keywordList': [{'id': '1605028222985175040',\n",
       "      'createTime': '2022-12-20 10:32:02',\n",
       "      'creatorId': None,\n",
       "      'creatorName': None,\n",
       "      'updateTime': '2022-12-20 10:32:02',\n",
       "      'jobPositionId': '1605028222985175040',\n",
       "      'labelId': '1519614182750814208',\n",
       "      'labelName': '互联网',\n",
       "      'labelTypeId': '3',\n",
       "      'labelTypeName': None},\n",
       "     {'id': '1605028222985175041',\n",
       "      'createTime': '2022-12-20 10:32:02',\n",
       "      'creatorId': None,\n",
       "      'creatorName': None,\n",
       "      'updateTime': '2022-12-20 10:32:02',\n",
       "      'jobPositionId': '1605028222985175040',\n",
       "      'labelId': '1519614182830505984',\n",
       "      'labelName': '软件',\n",
       "      'labelTypeId': '3',\n",
       "      'labelTypeName': None}],\n",
       "    'enterpriseExtInfo': {'id': '1605028174972977152',\n",
       "     'logo': '/co91420100081953646Y/1671503951722/1671503951722.png',\n",
       "     'shortName': '软帝联合',\n",
       "     'industry': '[\"互联网\",\"软件\"]',\n",
       "     'econKind': '上市公司',\n",
       "     'personScope': '500-1000人'}},\n",
       "   {'id': '1604731457065058306',\n",
       "    'publishTime': None,\n",
       "    'updateTime': '2022-12-19 14:52',\n",
       "    'willNature': 2,\n",
       "    'positionName': 'AI类数据标注',\n",
       "    'minimumWage': 3500,\n",
       "    'maximumWage': 8000,\n",
       "    'payMethod': 1,\n",
       "    'exp': '不限',\n",
       "    'educationalRequirements': 2,\n",
       "    'count': 30,\n",
       "    'enterpriseAddress': {'id': '1604731456431718400',\n",
       "     'enterpriseId': '1604719759373500416',\n",
       "     'provinceCode': '510000',\n",
       "     'cityCode': '511500',\n",
       "     'regionCode': '511502',\n",
       "     'detailedAddress': '四川省宜宾市临港经开区白沙湾街道国兴大道沙坪路段9号数据中心801-32号',\n",
       "     'remarks': None},\n",
       "    'keywordList': [{'id': '1604731457065058309',\n",
       "      'createTime': '2022-12-19 14:52:48',\n",
       "      'creatorId': None,\n",
       "      'creatorName': None,\n",
       "      'updateTime': '2022-12-19 14:52:48',\n",
       "      'jobPositionId': None,\n",
       "      'labelId': '1604731456255557632',\n",
       "      'labelName': '互联网',\n",
       "      'labelTypeId': '3',\n",
       "      'labelTypeName': None},\n",
       "     {'id': '1604731457065058310',\n",
       "      'createTime': '2022-12-19 14:52:48',\n",
       "      'creatorId': None,\n",
       "      'creatorName': None,\n",
       "      'updateTime': '2022-12-19 14:52:48',\n",
       "      'jobPositionId': None,\n",
       "      'labelId': '1604731456385581056',\n",
       "      'labelName': '软件',\n",
       "      'labelTypeId': '3',\n",
       "      'labelTypeName': None}],\n",
       "    'enterpriseExtInfo': {'id': '1604719761445486592',\n",
       "     'logo': '/co91511500MABYFR1W1J/1671432723968/1671432723968.jpg',\n",
       "     'shortName': '四川中软国际',\n",
       "     'industry': '[\"互联网\",\"软件\"]',\n",
       "     'econKind': '上市公司',\n",
       "     'personScope': '500-1000人'}},\n",
       "   {'id': '1604731457065058305',\n",
       "    'publishTime': None,\n",
       "    'updateTime': '2022-12-19 14:52',\n",
       "    'willNature': 2,\n",
       "    'positionName': '大数据开发工程师',\n",
       "    'minimumWage': 3500,\n",
       "    'maximumWage': 8000,\n",
       "    'payMethod': 1,\n",
       "    'exp': '不限',\n",
       "    'educationalRequirements': 3,\n",
       "    'count': 20,\n",
       "    'enterpriseAddress': {'id': '1604731456431718400',\n",
       "     'enterpriseId': '1604719759373500416',\n",
       "     'provinceCode': '510000',\n",
       "     'cityCode': '511500',\n",
       "     'regionCode': '511502',\n",
       "     'detailedAddress': '四川省宜宾市临港经开区白沙湾街道国兴大道沙坪路段9号数据中心801-32号',\n",
       "     'remarks': None},\n",
       "    'keywordList': [{'id': '1604731457065058307',\n",
       "      'createTime': '2022-12-19 14:52:48',\n",
       "      'creatorId': None,\n",
       "      'creatorName': None,\n",
       "      'updateTime': '2022-12-19 14:52:48',\n",
       "      'jobPositionId': None,\n",
       "      'labelId': '1604731456255557632',\n",
       "      'labelName': '互联网',\n",
       "      'labelTypeId': '3',\n",
       "      'labelTypeName': None},\n",
       "     {'id': '1604731457065058308',\n",
       "      'createTime': '2022-12-19 14:52:48',\n",
       "      'creatorId': None,\n",
       "      'creatorName': None,\n",
       "      'updateTime': '2022-12-19 14:52:48',\n",
       "      'jobPositionId': None,\n",
       "      'labelId': '1604731456385581056',\n",
       "      'labelName': '软件',\n",
       "      'labelTypeId': '3',\n",
       "      'labelTypeName': None}],\n",
       "    'enterpriseExtInfo': {'id': '1604719761445486592',\n",
       "     'logo': '/co91511500MABYFR1W1J/1671432723968/1671432723968.jpg',\n",
       "     'shortName': '四川中软国际',\n",
       "     'industry': '[\"互联网\",\"软件\"]',\n",
       "     'econKind': '上市公司',\n",
       "     'personScope': '500-1000人'}},\n",
       "   {'id': '1604731457065058304',\n",
       "    'publishTime': None,\n",
       "    'updateTime': '2022-12-19 14:52',\n",
       "    'willNature': 2,\n",
       "    'positionName': '数据产品经理',\n",
       "    'minimumWage': 3500,\n",
       "    'maximumWage': 8000,\n",
       "    'payMethod': 1,\n",
       "    'exp': '不限',\n",
       "    'educationalRequirements': 3,\n",
       "    'count': 10,\n",
       "    'enterpriseAddress': {'id': '1604731456431718400',\n",
       "     'enterpriseId': '1604719759373500416',\n",
       "     'provinceCode': '510000',\n",
       "     'cityCode': '511500',\n",
       "     'regionCode': '511502',\n",
       "     'detailedAddress': '四川省宜宾市临港经开区白沙湾街道国兴大道沙坪路段9号数据中心801-32号',\n",
       "     'remarks': None},\n",
       "    'keywordList': [{'id': '1604731457065058305',\n",
       "      'createTime': '2022-12-19 14:52:48',\n",
       "      'creatorId': None,\n",
       "      'creatorName': None,\n",
       "      'updateTime': '2022-12-19 14:52:48',\n",
       "      'jobPositionId': None,\n",
       "      'labelId': '1604731456255557632',\n",
       "      'labelName': '互联网',\n",
       "      'labelTypeId': '3',\n",
       "      'labelTypeName': None},\n",
       "     {'id': '1604731457065058306',\n",
       "      'createTime': '2022-12-19 14:52:48',\n",
       "      'creatorId': None,\n",
       "      'creatorName': None,\n",
       "      'updateTime': '2022-12-19 14:52:48',\n",
       "      'jobPositionId': None,\n",
       "      'labelId': '1604731456385581056',\n",
       "      'labelName': '软件',\n",
       "      'labelTypeId': '3',\n",
       "      'labelTypeName': None}],\n",
       "    'enterpriseExtInfo': {'id': '1604719761445486592',\n",
       "     'logo': '/co91511500MABYFR1W1J/1671432723968/1671432723968.jpg',\n",
       "     'shortName': '四川中软国际',\n",
       "     'industry': '[\"互联网\",\"软件\"]',\n",
       "     'econKind': '上市公司',\n",
       "     'personScope': '500-1000人'}},\n",
       "   {'id': '1604731457060864000',\n",
       "    'publishTime': None,\n",
       "    'updateTime': '2022-12-19 14:52',\n",
       "    'willNature': 2,\n",
       "    'positionName': '数据工程师',\n",
       "    'minimumWage': 3500,\n",
       "    'maximumWage': 8000,\n",
       "    'payMethod': 1,\n",
       "    'exp': '不限',\n",
       "    'educationalRequirements': 3,\n",
       "    'count': 30,\n",
       "    'enterpriseAddress': {'id': '1604731456431718400',\n",
       "     'enterpriseId': '1604719759373500416',\n",
       "     'provinceCode': '510000',\n",
       "     'cityCode': '511500',\n",
       "     'regionCode': '511502',\n",
       "     'detailedAddress': '四川省宜宾市临港经开区白沙湾街道国兴大道沙坪路段9号数据中心801-32号',\n",
       "     'remarks': None},\n",
       "    'keywordList': [{'id': '1604731457060864000',\n",
       "      'createTime': '2022-12-19 14:52:48',\n",
       "      'creatorId': None,\n",
       "      'creatorName': None,\n",
       "      'updateTime': '2022-12-19 14:52:48',\n",
       "      'jobPositionId': None,\n",
       "      'labelId': '1604731456255557632',\n",
       "      'labelName': '互联网',\n",
       "      'labelTypeId': '3',\n",
       "      'labelTypeName': None},\n",
       "     {'id': '1604731457065058304',\n",
       "      'createTime': '2022-12-19 14:52:48',\n",
       "      'creatorId': None,\n",
       "      'creatorName': None,\n",
       "      'updateTime': '2022-12-19 14:52:48',\n",
       "      'jobPositionId': None,\n",
       "      'labelId': '1604731456385581056',\n",
       "      'labelName': '软件',\n",
       "      'labelTypeId': '3',\n",
       "      'labelTypeName': None}],\n",
       "    'enterpriseExtInfo': {'id': '1604719761445486592',\n",
       "     'logo': '/co91511500MABYFR1W1J/1671432723968/1671432723968.jpg',\n",
       "     'shortName': '四川中软国际',\n",
       "     'industry': '[\"互联网\",\"软件\"]',\n",
       "     'econKind': '上市公司',\n",
       "     'personScope': '500-1000人'}},\n",
       "   {'id': '1603244028852305920',\n",
       "    'publishTime': None,\n",
       "    'updateTime': '2022-12-15 12:22',\n",
       "    'willNature': 2,\n",
       "    'positionName': '高级大数据开发工程师 Hadoop Hive',\n",
       "    'minimumWage': 20000,\n",
       "    'maximumWage': 35000,\n",
       "    'payMethod': 1,\n",
       "    'exp': '不限',\n",
       "    'educationalRequirements': 3,\n",
       "    'count': 3,\n",
       "    'enterpriseAddress': {'id': '1603243973072257024',\n",
       "     'enterpriseId': '1603243973072257024',\n",
       "     'provinceCode': '110000',\n",
       "     'cityCode': '110000',\n",
       "     'regionCode': '110105',\n",
       "     'detailedAddress': '北京市朝阳区光华东里8号院3号楼11层1101内05、06、08、09、10、11、12、15、16单元',\n",
       "     'remarks': None},\n",
       "    'keywordList': [{'id': '1603244028852305920',\n",
       "      'createTime': '2022-12-15 12:22:17',\n",
       "      'creatorId': None,\n",
       "      'creatorName': None,\n",
       "      'updateTime': '2022-12-15 12:22:17',\n",
       "      'jobPositionId': '1603244028852305920',\n",
       "      'labelId': '1519614182750814208',\n",
       "      'labelName': '互联网',\n",
       "      'labelTypeId': '3',\n",
       "      'labelTypeName': None},\n",
       "     {'id': '1603244028852305921',\n",
       "      'createTime': '2022-12-15 12:22:17',\n",
       "      'creatorId': None,\n",
       "      'creatorName': None,\n",
       "      'updateTime': '2022-12-15 12:22:17',\n",
       "      'jobPositionId': '1603244028852305920',\n",
       "      'labelId': '1603244028781002752',\n",
       "      'labelName': '广告',\n",
       "      'labelTypeId': '3',\n",
       "      'labelTypeName': None}],\n",
       "    'enterpriseExtInfo': {'id': '1603243974791921664',\n",
       "     'logo': '/co91110105674298552K/1671433239977/1671433239977.png',\n",
       "     'shortName': '悠易互通',\n",
       "     'industry': '[\"互联网\",\"广告\"]',\n",
       "     'econKind': '民营公司',\n",
       "     'personScope': '10000人以上'}},\n",
       "   {'id': '1602499965781934080',\n",
       "    'publishTime': None,\n",
       "    'updateTime': '2022-12-13 11:05',\n",
       "    'willNature': 2,\n",
       "    'positionName': '数据标注工程师',\n",
       "    'minimumWage': 6000,\n",
       "    'maximumWage': 8000,\n",
       "    'payMethod': 1,\n",
       "    'exp': '不限',\n",
       "    'educationalRequirements': 3,\n",
       "    'count': 30,\n",
       "    'enterpriseAddress': {'id': '1602499923599818752',\n",
       "     'enterpriseId': '1602499923595624448',\n",
       "     'provinceCode': '350000',\n",
       "     'cityCode': '350100',\n",
       "     'regionCode': '350102',\n",
       "     'detailedAddress': '福州市鼓楼区软件大道509号',\n",
       "     'remarks': None},\n",
       "    'keywordList': [{'id': '1602499965781934080',\n",
       "      'createTime': '2022-12-13 11:05:39',\n",
       "      'creatorId': None,\n",
       "      'creatorName': None,\n",
       "      'updateTime': '2022-12-13 11:05:39',\n",
       "      'jobPositionId': '1602499965781934080',\n",
       "      'labelId': '1519614182750814208',\n",
       "      'labelName': '互联网',\n",
       "      'labelTypeId': '3',\n",
       "      'labelTypeName': None},\n",
       "     {'id': '1602499965786128384',\n",
       "      'createTime': '2022-12-13 11:05:39',\n",
       "      'creatorId': None,\n",
       "      'creatorName': None,\n",
       "      'updateTime': '2022-12-13 11:05:39',\n",
       "      'jobPositionId': '1602499965781934080',\n",
       "      'labelId': '1531164623615688704',\n",
       "      'labelName': '大数据',\n",
       "      'labelTypeId': '3',\n",
       "      'labelTypeName': None}],\n",
       "    'enterpriseExtInfo': {'id': '1602499924572897280',\n",
       "     'logo': '/co913501006113010212/1670900910550/1670900910550.png',\n",
       "     'shortName': '中电福富',\n",
       "     'industry': '[\"互联网\",\"大数据\"]',\n",
       "     'econKind': '民营公司',\n",
       "     'personScope': '10000人以上'}}],\n",
       "  'pageable': {'sort': {'sorted': True, 'unsorted': False, 'empty': False},\n",
       "   'offset': '0',\n",
       "   'pageSize': 10,\n",
       "   'pageNumber': 0,\n",
       "   'unpaged': False,\n",
       "   'paged': True},\n",
       "  'totalElements': '1565',\n",
       "  'totalPages': 157,\n",
       "  'last': False,\n",
       "  'first': True,\n",
       "  'sort': {'sorted': True, 'unsorted': False, 'empty': False},\n",
       "  'size': 10,\n",
       "  'number': 0,\n",
       "  'numberOfElements': 10,\n",
       "  'empty': False}}"
      ]
     },
     "execution_count": 38,
     "metadata": {},
     "output_type": "execute_result"
    }
   ],
   "source": [
    "res_json"
   ]
  },
  {
   "cell_type": "markdown",
   "id": "d20de8b5",
   "metadata": {
    "ExecuteTime": {
     "end_time": "2023-01-02T03:23:47.828384Z",
     "start_time": "2023-01-02T03:23:47.821881Z"
    }
   },
   "source": [
    "### 岗位名称"
   ]
  },
  {
   "cell_type": "code",
   "execution_count": 40,
   "id": "08a8e268",
   "metadata": {
    "ExecuteTime": {
     "end_time": "2023-01-02T07:27:59.583493Z",
     "start_time": "2023-01-02T07:27:59.569242Z"
    }
   },
   "outputs": [
    {
     "data": {
      "text/plain": [
       "['解决方案',\n",
       " '产品总监',\n",
       " '大数据架构师',\n",
       " '大数据系统分析师',\n",
       " 'AI类数据标注',\n",
       " '大数据开发工程师',\n",
       " '数据产品经理',\n",
       " '数据工程师',\n",
       " '高级大数据开发工程师 Hadoop Hive',\n",
       " '数据标注工程师']"
      ]
     },
     "execution_count": 40,
     "metadata": {},
     "output_type": "execute_result"
    }
   ],
   "source": [
    "positionName=[i['positionName'] for i in res_json['data']['content']]\n",
    "positionName"
   ]
  },
  {
   "cell_type": "markdown",
   "id": "19b939f7",
   "metadata": {
    "ExecuteTime": {
     "end_time": "2023-01-02T07:29:20.154019Z",
     "start_time": "2023-01-02T07:29:20.126782Z"
    }
   },
   "source": [
    "### 薪资待遇"
   ]
  },
  {
   "cell_type": "markdown",
   "id": "b1318e84",
   "metadata": {
    "ExecuteTime": {
     "end_time": "2023-01-02T07:29:37.216896Z",
     "start_time": "2023-01-02T07:29:37.207825Z"
    }
   },
   "source": [
    "#### 最高薪资"
   ]
  },
  {
   "cell_type": "code",
   "execution_count": 43,
   "id": "f2a98872",
   "metadata": {
    "ExecuteTime": {
     "end_time": "2023-01-02T07:30:08.861894Z",
     "start_time": "2023-01-02T07:30:08.847010Z"
    }
   },
   "outputs": [
    {
     "data": {
      "text/plain": [
       "[40000, 35000, 50000, 40000, 8000, 8000, 8000, 8000, 35000, 8000]"
      ]
     },
     "execution_count": 43,
     "metadata": {},
     "output_type": "execute_result"
    }
   ],
   "source": [
    "maximumWage=[i['maximumWage'] for i in res_json['data']['content']]\n",
    "maximumWage"
   ]
  },
  {
   "cell_type": "markdown",
   "id": "576f1a26",
   "metadata": {
    "ExecuteTime": {
     "end_time": "2023-01-02T07:30:14.022863Z",
     "start_time": "2023-01-02T07:30:14.006580Z"
    }
   },
   "source": [
    "#### 最低薪资"
   ]
  },
  {
   "cell_type": "code",
   "execution_count": 46,
   "id": "09346ecd",
   "metadata": {
    "ExecuteTime": {
     "end_time": "2023-01-02T07:30:52.248136Z",
     "start_time": "2023-01-02T07:30:52.228674Z"
    }
   },
   "outputs": [
    {
     "data": {
      "text/plain": [
       "[30000, 20000, 25000, 25000, 3500, 3500, 3500, 3500, 20000, 6000]"
      ]
     },
     "execution_count": 46,
     "metadata": {},
     "output_type": "execute_result"
    }
   ],
   "source": [
    "minimumWage=[i['minimumWage'] for i in res_json['data']['content']]\n",
    "minimumWage"
   ]
  },
  {
   "cell_type": "markdown",
   "id": "41de84fe",
   "metadata": {
    "ExecuteTime": {
     "end_time": "2023-01-02T07:31:30.719938Z",
     "start_time": "2023-01-02T07:31:30.703750Z"
    }
   },
   "source": [
    "### 公司名称"
   ]
  },
  {
   "cell_type": "code",
   "execution_count": 50,
   "id": "737dd5a7",
   "metadata": {
    "ExecuteTime": {
     "end_time": "2023-01-02T07:34:44.987622Z",
     "start_time": "2023-01-02T07:34:44.978938Z"
    }
   },
   "outputs": [
    {
     "data": {
      "text/plain": [
       "['软帝联合',\n",
       " '软帝联合',\n",
       " '软帝联合',\n",
       " '软帝联合',\n",
       " '四川中软国际',\n",
       " '四川中软国际',\n",
       " '四川中软国际',\n",
       " '四川中软国际',\n",
       " '悠易互通',\n",
       " '中电福富']"
      ]
     },
     "execution_count": 50,
     "metadata": {},
     "output_type": "execute_result"
    }
   ],
   "source": [
    "shortName=[i['enterpriseExtInfo']['shortName']  for i in res_json['data']['content']]\n",
    "shortName "
   ]
  },
  {
   "cell_type": "code",
   "execution_count": null,
   "id": "4558bc32",
   "metadata": {},
   "outputs": [],
   "source": []
  }
 ],
 "metadata": {
  "kernelspec": {
   "display_name": "Python 3",
   "language": "python",
   "name": "python3"
  },
  "language_info": {
   "codemirror_mode": {
    "name": "ipython",
    "version": 3
   },
   "file_extension": ".py",
   "mimetype": "text/x-python",
   "name": "python",
   "nbconvert_exporter": "python",
   "pygments_lexer": "ipython3",
   "version": "3.8.8"
  },
  "toc": {
   "base_numbering": 1,
   "nav_menu": {},
   "number_sections": true,
   "sideBar": true,
   "skip_h1_title": false,
   "title_cell": "Table of Contents",
   "title_sidebar": "Contents",
   "toc_cell": false,
   "toc_position": {},
   "toc_section_display": true,
   "toc_window_display": true
  }
 },
 "nbformat": 4,
 "nbformat_minor": 5
}
