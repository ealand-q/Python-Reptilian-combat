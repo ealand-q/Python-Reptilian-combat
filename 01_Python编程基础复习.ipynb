{
 "cells": [
  {
   "cell_type": "markdown",
   "id": "600bd3e7",
   "metadata": {},
   "source": [
    "Jupyter命令模式快捷键：\n",
    "- dd：删除选中的单元格\n",
    "- a：在选中的单元格上方加入一个空白单元格\n",
    "- b：在选中的单元格下方加入一个空白单元格\n",
    "- m：将选中的单元格转化为Markdown格式\n",
    "- y：将选中的单元格转化为代码格式"
   ]
  },
  {
   "cell_type": "markdown",
   "id": "8ebcc2bc",
   "metadata": {
    "ExecuteTime": {
     "end_time": "2022-10-30T02:18:22.086582Z",
     "start_time": "2022-10-30T02:18:22.068625Z"
    }
   },
   "source": [
    "# Python输出"
   ]
  },
  {
   "cell_type": "markdown",
   "id": "4c69a760",
   "metadata": {},
   "source": [
    "## Python普通输出"
   ]
  },
  {
   "cell_type": "code",
   "execution_count": 4,
   "id": "85e645b7",
   "metadata": {
    "ExecuteTime": {
     "end_time": "2022-10-30T02:28:15.116762Z",
     "start_time": "2022-10-30T02:28:15.108784Z"
    }
   },
   "outputs": [
    {
     "name": "stdout",
     "output_type": "stream",
     "text": [
      "hello world!\n"
     ]
    }
   ],
   "source": [
    "print('hello world!')"
   ]
  },
  {
   "cell_type": "markdown",
   "id": "6d5afa6e",
   "metadata": {},
   "source": [
    "## Python格式化输出"
   ]
  },
  {
   "cell_type": "code",
   "execution_count": 5,
   "id": "7268a7ee",
   "metadata": {
    "ExecuteTime": {
     "end_time": "2022-10-30T02:29:54.283951Z",
     "start_time": "2022-10-30T02:29:54.274019Z"
    }
   },
   "outputs": [],
   "source": [
    "a = 2\n",
    "b = 3"
   ]
  },
  {
   "cell_type": "markdown",
   "id": "de5d6735",
   "metadata": {},
   "source": [
    "### 使用%进行格式化输出"
   ]
  },
  {
   "cell_type": "markdown",
   "id": "312896b0",
   "metadata": {},
   "source": [
    "- 整数：%d\n",
    "- 浮点数：%f\n",
    "- 字符串：%s"
   ]
  },
  {
   "cell_type": "code",
   "execution_count": 8,
   "id": "16b36dae",
   "metadata": {
    "ExecuteTime": {
     "end_time": "2022-10-30T02:33:52.126038Z",
     "start_time": "2022-10-30T02:33:52.122049Z"
    }
   },
   "outputs": [
    {
     "name": "stdout",
     "output_type": "stream",
     "text": [
      "2+3=5\n"
     ]
    }
   ],
   "source": [
    "# 输出a+b的和是？？\n",
    "print('%d+%d=%d' % (a, b, a+b))"
   ]
  },
  {
   "cell_type": "markdown",
   "id": "1f956b68",
   "metadata": {},
   "source": [
    "### 使用format方法进行格式化输出"
   ]
  },
  {
   "cell_type": "code",
   "execution_count": 9,
   "id": "9a441251",
   "metadata": {
    "ExecuteTime": {
     "end_time": "2022-10-30T02:38:37.570511Z",
     "start_time": "2022-10-30T02:38:37.560514Z"
    }
   },
   "outputs": [
    {
     "name": "stdout",
     "output_type": "stream",
     "text": [
      "2+3=5\n"
     ]
    }
   ],
   "source": [
    "print('{}+{}={}'.format(a, b, a+b))"
   ]
  },
  {
   "cell_type": "markdown",
   "id": "7ae6ea91",
   "metadata": {},
   "source": [
    "### 使用f''进行格式化输出"
   ]
  },
  {
   "cell_type": "code",
   "execution_count": 11,
   "id": "b8fdec31",
   "metadata": {
    "ExecuteTime": {
     "end_time": "2022-10-30T02:44:09.630893Z",
     "start_time": "2022-10-30T02:44:09.612940Z"
    }
   },
   "outputs": [
    {
     "name": "stdout",
     "output_type": "stream",
     "text": [
      "2+3=5\n"
     ]
    }
   ],
   "source": [
    "print(f'{a}+{b}={a+b}')"
   ]
  },
  {
   "cell_type": "markdown",
   "id": "e640a05f",
   "metadata": {},
   "source": [
    "# 常用的字符串操作"
   ]
  },
  {
   "cell_type": "markdown",
   "id": "858356c5",
   "metadata": {},
   "source": [
    "## 定义字符串"
   ]
  },
  {
   "cell_type": "code",
   "execution_count": 18,
   "id": "0ada39be",
   "metadata": {
    "ExecuteTime": {
     "end_time": "2022-10-30T02:58:20.954471Z",
     "start_time": "2022-10-30T02:58:20.936457Z"
    }
   },
   "outputs": [],
   "source": [
    "# 使用单双引号进行定义\n",
    "a = 'hello world!'\n",
    "b = \"hello world!\"\n",
    "c = \"\"\"hello world!\"\"\""
   ]
  },
  {
   "cell_type": "code",
   "execution_count": 19,
   "id": "25b5cef8",
   "metadata": {
    "ExecuteTime": {
     "end_time": "2022-10-30T02:58:22.272595Z",
     "start_time": "2022-10-30T02:58:22.260627Z"
    }
   },
   "outputs": [
    {
     "name": "stdout",
     "output_type": "stream",
     "text": [
      "True\n",
      "True\n"
     ]
    }
   ],
   "source": [
    "print(a == b)  \n",
    "print(a == c)  # 说明在Python中用单引号、双引号和单行的三引号定义的字符串没有任何区别"
   ]
  },
  {
   "cell_type": "code",
   "execution_count": 22,
   "id": "6ec8c4fd",
   "metadata": {
    "ExecuteTime": {
     "end_time": "2022-10-30T02:59:59.636631Z",
     "start_time": "2022-10-30T02:59:59.629650Z"
    }
   },
   "outputs": [],
   "source": [
    "# 使用三引号定义具有换行符的字符串\n",
    "d = \"\"\"hello \n",
    "world!\"\"\""
   ]
  },
  {
   "cell_type": "code",
   "execution_count": 23,
   "id": "2c21eaaf",
   "metadata": {
    "ExecuteTime": {
     "end_time": "2022-10-30T03:00:00.928087Z",
     "start_time": "2022-10-30T03:00:00.910168Z"
    }
   },
   "outputs": [
    {
     "name": "stdout",
     "output_type": "stream",
     "text": [
      "hello \n",
      "world!\n"
     ]
    }
   ],
   "source": [
    "print(d)"
   ]
  },
  {
   "cell_type": "code",
   "execution_count": 24,
   "id": "33ecf481",
   "metadata": {
    "ExecuteTime": {
     "end_time": "2022-10-30T03:00:11.504562Z",
     "start_time": "2022-10-30T03:00:11.496583Z"
    }
   },
   "outputs": [
    {
     "name": "stdout",
     "output_type": "stream",
     "text": [
      "False\n"
     ]
    }
   ],
   "source": [
    "print(a == d)  # 具有换行符的字符串和原始的字符串就不相等了"
   ]
  },
  {
   "cell_type": "markdown",
   "id": "fbbf07ed",
   "metadata": {},
   "source": [
    "## 字符串的索引和切片"
   ]
  },
  {
   "cell_type": "code",
   "execution_count": 30,
   "id": "8011b0ce",
   "metadata": {
    "ExecuteTime": {
     "end_time": "2022-10-30T03:08:16.820065Z",
     "start_time": "2022-10-30T03:08:16.805023Z"
    }
   },
   "outputs": [
    {
     "name": "stdout",
     "output_type": "stream",
     "text": [
      "Hi, world!\n"
     ]
    }
   ],
   "source": [
    "str1 = 'Hi, world!'\n",
    "print(str1)"
   ]
  },
  {
   "cell_type": "markdown",
   "id": "6eddde6e",
   "metadata": {},
   "source": [
    "### 索引（取出指定的字符）"
   ]
  },
  {
   "cell_type": "code",
   "execution_count": 27,
   "id": "c4fba8b3",
   "metadata": {
    "ExecuteTime": {
     "end_time": "2022-10-30T03:04:11.751123Z",
     "start_time": "2022-10-30T03:04:11.745173Z"
    }
   },
   "outputs": [
    {
     "name": "stdout",
     "output_type": "stream",
     "text": [
      ",\n",
      ",\n"
     ]
    }
   ],
   "source": [
    "# 取出，\n",
    "print(str1[2])  # 正向索引\n",
    "print(str1[-8])"
   ]
  },
  {
   "cell_type": "markdown",
   "id": "91b98493",
   "metadata": {},
   "source": [
    "### 切片（取出指定的一块字符）"
   ]
  },
  {
   "cell_type": "code",
   "execution_count": 29,
   "id": "608f3531",
   "metadata": {
    "ExecuteTime": {
     "end_time": "2022-10-30T03:07:07.693683Z",
     "start_time": "2022-10-30T03:07:07.688695Z"
    }
   },
   "outputs": [
    {
     "name": "stdout",
     "output_type": "stream",
     "text": [
      "world\n",
      "world\n"
     ]
    }
   ],
   "source": [
    "# 取出world\n",
    "print(str1[4:9])\n",
    "print(str1[4:-1])  # 正向索引和反向索引可以混合使用"
   ]
  },
  {
   "cell_type": "code",
   "execution_count": 32,
   "id": "3cfb55ca",
   "metadata": {
    "ExecuteTime": {
     "end_time": "2022-10-30T03:09:03.376460Z",
     "start_time": "2022-10-30T03:09:03.360467Z"
    }
   },
   "outputs": [
    {
     "name": "stdout",
     "output_type": "stream",
     "text": [
      "Hi\n",
      "Hi\n"
     ]
    }
   ],
   "source": [
    "# 取出hi\n",
    "print(str1[0:2])\n",
    "print(str1[:2])  # 当切片时，是从第一个元素开始取值的时候，初始下标可以省略"
   ]
  },
  {
   "cell_type": "code",
   "execution_count": 34,
   "id": "e28cc9e3",
   "metadata": {
    "ExecuteTime": {
     "end_time": "2022-10-30T03:10:58.519915Z",
     "start_time": "2022-10-30T03:10:58.513933Z"
    }
   },
   "outputs": [
    {
     "name": "stdout",
     "output_type": "stream",
     "text": [
      "world!\n",
      "world!\n"
     ]
    }
   ],
   "source": [
    "# 取出world!\n",
    "print(str1[4:10])\n",
    "print(str1[4:])  # 当切片时，如果一直需要取到最后一个元素时，结束下标可以省略"
   ]
  },
  {
   "cell_type": "code",
   "execution_count": 36,
   "id": "d8eb75a1",
   "metadata": {
    "ExecuteTime": {
     "end_time": "2022-10-30T03:12:22.216018Z",
     "start_time": "2022-10-30T03:12:22.210067Z"
    }
   },
   "outputs": [
    {
     "name": "stdout",
     "output_type": "stream",
     "text": [
      "Hi, world!\n",
      "Hi, world!\n"
     ]
    }
   ],
   "source": [
    "# 取出整个字符串\n",
    "print(str1)\n",
    "print(str1[:])  # 省略开始和结束下标"
   ]
  },
  {
   "cell_type": "code",
   "execution_count": 37,
   "id": "aebf4d5c",
   "metadata": {
    "ExecuteTime": {
     "end_time": "2022-10-30T03:14:17.256684Z",
     "start_time": "2022-10-30T03:14:17.241726Z"
    }
   },
   "outputs": [
    {
     "name": "stdout",
     "output_type": "stream",
     "text": [
      "H,wrd\n"
     ]
    }
   ],
   "source": [
    "# 取出奇数项字符\n",
    "print(str1[::2])"
   ]
  },
  {
   "cell_type": "code",
   "execution_count": 38,
   "id": "01830919",
   "metadata": {
    "ExecuteTime": {
     "end_time": "2022-10-30T03:14:54.489336Z",
     "start_time": "2022-10-30T03:14:54.475346Z"
    }
   },
   "outputs": [
    {
     "name": "stdout",
     "output_type": "stream",
     "text": [
      "i ol!\n"
     ]
    }
   ],
   "source": [
    "# 取出偶数项字符\n",
    "print(str1[1::2])"
   ]
  },
  {
   "cell_type": "markdown",
   "id": "b9e4b0c0",
   "metadata": {},
   "source": [
    "## 字符串的特殊函数"
   ]
  },
  {
   "cell_type": "markdown",
   "id": "e94b7611",
   "metadata": {},
   "source": [
    "### 字符串的拼接"
   ]
  },
  {
   "cell_type": "code",
   "execution_count": 41,
   "id": "154004eb",
   "metadata": {
    "ExecuteTime": {
     "end_time": "2022-10-30T03:16:20.924322Z",
     "start_time": "2022-10-30T03:16:20.919340Z"
    }
   },
   "outputs": [
    {
     "data": {
      "text/plain": [
       "'hello world!Hi, world!'"
      ]
     },
     "execution_count": 41,
     "metadata": {},
     "output_type": "execute_result"
    }
   ],
   "source": [
    "# 将两个字符串进行合并\n",
    "a + str1"
   ]
  },
  {
   "cell_type": "code",
   "execution_count": 43,
   "id": "5823a726",
   "metadata": {
    "ExecuteTime": {
     "end_time": "2022-10-30T03:16:45.876165Z",
     "start_time": "2022-10-30T03:16:45.865190Z"
    }
   },
   "outputs": [
    {
     "data": {
      "text/plain": [
       "'Hi, world!Hi, world!Hi, world!'"
      ]
     },
     "execution_count": 43,
     "metadata": {},
     "output_type": "execute_result"
    }
   ],
   "source": [
    "# 将某个字符串重复n次\n",
    "str1 * 3"
   ]
  },
  {
   "cell_type": "markdown",
   "id": "4d669a84",
   "metadata": {},
   "source": [
    "### 字符串的替换"
   ]
  },
  {
   "cell_type": "code",
   "execution_count": 46,
   "id": "3da1ecbc",
   "metadata": {
    "ExecuteTime": {
     "end_time": "2022-10-30T03:17:58.804479Z",
     "start_time": "2022-10-30T03:17:58.789518Z"
    }
   },
   "outputs": [
    {
     "name": "stdout",
     "output_type": "stream",
     "text": [
      "hello, world!\n"
     ]
    }
   ],
   "source": [
    "# 将str1中的Hi换乘hello\n",
    "str1 = str1.replace('Hi', 'hello')\n",
    "print(str1)"
   ]
  },
  {
   "cell_type": "markdown",
   "id": "839c96b6",
   "metadata": {},
   "source": [
    "### 字符串的切分"
   ]
  },
  {
   "cell_type": "code",
   "execution_count": 47,
   "id": "d95dc5a2",
   "metadata": {
    "ExecuteTime": {
     "end_time": "2022-10-30T03:19:17.074390Z",
     "start_time": "2022-10-30T03:19:17.067409Z"
    }
   },
   "outputs": [
    {
     "data": {
      "text/plain": [
       "['hello', ' world!']"
      ]
     },
     "execution_count": 47,
     "metadata": {},
     "output_type": "execute_result"
    }
   ],
   "source": [
    "# 按照，切分字符串\n",
    "str1.split(',')"
   ]
  },
  {
   "cell_type": "markdown",
   "id": "4154bce1",
   "metadata": {},
   "source": [
    "### 删除字符串前后的指定字符"
   ]
  },
  {
   "cell_type": "code",
   "execution_count": 48,
   "id": "16c18dff",
   "metadata": {
    "ExecuteTime": {
     "end_time": "2022-10-30T03:20:03.844380Z",
     "start_time": "2022-10-30T03:20:03.836401Z"
    }
   },
   "outputs": [],
   "source": [
    "str2 = '!!你好，!!世界!!!'"
   ]
  },
  {
   "cell_type": "code",
   "execution_count": 49,
   "id": "be785441",
   "metadata": {
    "ExecuteTime": {
     "end_time": "2022-10-30T03:20:27.776247Z",
     "start_time": "2022-10-30T03:20:27.766282Z"
    }
   },
   "outputs": [
    {
     "data": {
      "text/plain": [
       "'你好，!!世界'"
      ]
     },
     "execution_count": 49,
     "metadata": {},
     "output_type": "execute_result"
    }
   ],
   "source": [
    "str2.strip('!')"
   ]
  },
  {
   "cell_type": "markdown",
   "id": "27995d97",
   "metadata": {},
   "source": [
    "### 删除字符串中所有的某个字符"
   ]
  },
  {
   "cell_type": "code",
   "execution_count": 50,
   "id": "9d789f87",
   "metadata": {
    "ExecuteTime": {
     "end_time": "2022-10-30T03:21:48.845735Z",
     "start_time": "2022-10-30T03:21:48.831780Z"
    }
   },
   "outputs": [
    {
     "data": {
      "text/plain": [
       "'你好，世界'"
      ]
     },
     "execution_count": 50,
     "metadata": {},
     "output_type": "execute_result"
    }
   ],
   "source": [
    "str2.replace('!', '')"
   ]
  },
  {
   "cell_type": "markdown",
   "id": "b6d1e2f7",
   "metadata": {},
   "source": [
    "# 常用的列表操作"
   ]
  },
  {
   "cell_type": "markdown",
   "id": "ead317b1",
   "metadata": {},
   "source": [
    "## 定义一个列表"
   ]
  },
  {
   "cell_type": "code",
   "execution_count": 3,
   "id": "9422db73",
   "metadata": {
    "ExecuteTime": {
     "end_time": "2022-10-30T06:47:28.988932Z",
     "start_time": "2022-10-30T06:47:28.977960Z"
    }
   },
   "outputs": [
    {
     "name": "stdout",
     "output_type": "stream",
     "text": [
      "[1, 2, 3, 4, True, 'ABC']\n"
     ]
    }
   ],
   "source": [
    "list1 = [1, 2, 3, 4, True, 'ABC']\n",
    "print(list1)"
   ]
  },
  {
   "cell_type": "markdown",
   "id": "69f7aecc",
   "metadata": {},
   "source": [
    "## 列表的索引和切片"
   ]
  },
  {
   "cell_type": "code",
   "execution_count": 4,
   "id": "0ac196ae",
   "metadata": {
    "ExecuteTime": {
     "end_time": "2022-10-30T06:48:39.890227Z",
     "start_time": "2022-10-30T06:48:39.879257Z"
    }
   },
   "outputs": [
    {
     "data": {
      "text/plain": [
       "True"
      ]
     },
     "execution_count": 4,
     "metadata": {},
     "output_type": "execute_result"
    }
   ],
   "source": [
    "# 取出True\n",
    "list1[-2]"
   ]
  },
  {
   "cell_type": "code",
   "execution_count": 5,
   "id": "e8de4766",
   "metadata": {
    "ExecuteTime": {
     "end_time": "2022-10-30T06:49:53.223430Z",
     "start_time": "2022-10-30T06:49:53.205478Z"
    }
   },
   "outputs": [
    {
     "data": {
      "text/plain": [
       "[2, 3, 4, True]"
      ]
     },
     "execution_count": 5,
     "metadata": {},
     "output_type": "execute_result"
    }
   ],
   "source": [
    "# 取出2,3,4,True\n",
    "list1[1:-1]"
   ]
  },
  {
   "cell_type": "code",
   "execution_count": 6,
   "id": "76d2960e",
   "metadata": {
    "ExecuteTime": {
     "end_time": "2022-10-30T06:50:29.665797Z",
     "start_time": "2022-10-30T06:50:29.655824Z"
    }
   },
   "outputs": [
    {
     "data": {
      "text/plain": [
       "[1, 3, True]"
      ]
     },
     "execution_count": 6,
     "metadata": {},
     "output_type": "execute_result"
    }
   ],
   "source": [
    "# 取出列表的奇数项\n",
    "list1[::2]"
   ]
  },
  {
   "cell_type": "markdown",
   "id": "e47e3524",
   "metadata": {},
   "source": [
    "## 列表中常用的函数和操作"
   ]
  },
  {
   "cell_type": "markdown",
   "id": "aba07394",
   "metadata": {},
   "source": [
    "### 列表的增删改查"
   ]
  },
  {
   "cell_type": "markdown",
   "id": "dffa5568",
   "metadata": {},
   "source": [
    "#### 增"
   ]
  },
  {
   "cell_type": "code",
   "execution_count": 7,
   "id": "75d568c7",
   "metadata": {
    "ExecuteTime": {
     "end_time": "2022-10-30T06:54:06.137660Z",
     "start_time": "2022-10-30T06:54:06.132673Z"
    }
   },
   "outputs": [],
   "source": [
    "# 在列表的指定位置增加某一个元素值\n",
    "# 在2和3之间增加一个'insert'字符串\n",
    "list1.insert(2, 'insert')"
   ]
  },
  {
   "cell_type": "code",
   "execution_count": 8,
   "id": "889d77d0",
   "metadata": {
    "ExecuteTime": {
     "end_time": "2022-10-30T06:54:10.432091Z",
     "start_time": "2022-10-30T06:54:10.425141Z"
    }
   },
   "outputs": [
    {
     "data": {
      "text/plain": [
       "[1, 2, 'insert', 3, 4, True, 'ABC']"
      ]
     },
     "execution_count": 8,
     "metadata": {},
     "output_type": "execute_result"
    }
   ],
   "source": [
    "list1"
   ]
  },
  {
   "cell_type": "code",
   "execution_count": 9,
   "id": "7d14aa13",
   "metadata": {
    "ExecuteTime": {
     "end_time": "2022-10-30T06:55:39.662562Z",
     "start_time": "2022-10-30T06:55:39.645638Z"
    }
   },
   "outputs": [
    {
     "data": {
      "text/plain": [
       "[1, 2, 'insert', 3, 4, True, 'ABC', 'end']"
      ]
     },
     "execution_count": 9,
     "metadata": {},
     "output_type": "execute_result"
    }
   ],
   "source": [
    "# 在列表末尾追加单个元素\n",
    "# 在列表末尾加上一个'end'\n",
    "list1.append('end')\n",
    "list1"
   ]
  },
  {
   "cell_type": "code",
   "execution_count": 10,
   "id": "5823cfd8",
   "metadata": {
    "ExecuteTime": {
     "end_time": "2022-10-30T06:57:08.501454Z",
     "start_time": "2022-10-30T06:57:08.493433Z"
    }
   },
   "outputs": [
    {
     "data": {
      "text/plain": [
       "[1, 2, 'insert', 3, 4, True, 'ABC', 'end', 201, 202, 203]"
      ]
     },
     "execution_count": 10,
     "metadata": {},
     "output_type": "execute_result"
    }
   ],
   "source": [
    "# 在列表末尾追加多个元素\n",
    "# 在列表末尾追加 201, 202, 203\n",
    "list1.extend([201, 202, 203])\n",
    "list1"
   ]
  },
  {
   "cell_type": "markdown",
   "id": "73bcfb2b",
   "metadata": {},
   "source": [
    "#### 删"
   ]
  },
  {
   "cell_type": "code",
   "execution_count": 11,
   "id": "b7a2577d",
   "metadata": {
    "ExecuteTime": {
     "end_time": "2022-10-30T07:12:24.625023Z",
     "start_time": "2022-10-30T07:12:24.616046Z"
    }
   },
   "outputs": [
    {
     "data": {
      "text/plain": [
       "[1, 2, 'insert', 3, 4, True, 'end', 201, 202, 203]"
      ]
     },
     "execution_count": 11,
     "metadata": {},
     "output_type": "execute_result"
    }
   ],
   "source": [
    "# 按照值进行删除\n",
    "# 删除'ABC'\n",
    "list1.remove('ABC')\n",
    "list1"
   ]
  },
  {
   "cell_type": "code",
   "execution_count": 12,
   "id": "e69f42ce",
   "metadata": {
    "ExecuteTime": {
     "end_time": "2022-10-30T07:14:11.924178Z",
     "start_time": "2022-10-30T07:14:11.915203Z"
    }
   },
   "outputs": [
    {
     "data": {
      "text/plain": [
       "[1, 2, 3, 4, True, 'end', 201, 202, 203]"
      ]
     },
     "execution_count": 12,
     "metadata": {},
     "output_type": "execute_result"
    }
   ],
   "source": [
    "# 按照下标位置进行删除\n",
    "# 删除下标为2所在的元素\n",
    "list1.pop(2)\n",
    "list1"
   ]
  },
  {
   "cell_type": "markdown",
   "id": "39ca29b3",
   "metadata": {},
   "source": [
    "#### 改"
   ]
  },
  {
   "cell_type": "code",
   "execution_count": 14,
   "id": "eb6b44e2",
   "metadata": {
    "ExecuteTime": {
     "end_time": "2022-10-30T07:15:33.851710Z",
     "start_time": "2022-10-30T07:15:33.840740Z"
    }
   },
   "outputs": [],
   "source": [
    "# 把True修改为False\n",
    "list1[4] = False"
   ]
  },
  {
   "cell_type": "code",
   "execution_count": 15,
   "id": "ecd14178",
   "metadata": {
    "ExecuteTime": {
     "end_time": "2022-10-30T07:15:37.369716Z",
     "start_time": "2022-10-30T07:15:37.362736Z"
    }
   },
   "outputs": [
    {
     "data": {
      "text/plain": [
       "[1, 2, 3, 4, False, 'end', 201, 202, 203]"
      ]
     },
     "execution_count": 15,
     "metadata": {},
     "output_type": "execute_result"
    }
   ],
   "source": [
    "list1"
   ]
  },
  {
   "cell_type": "markdown",
   "id": "11451652",
   "metadata": {},
   "source": [
    "# 常用的字典操作"
   ]
  },
  {
   "cell_type": "markdown",
   "id": "30323205",
   "metadata": {},
   "source": [
    "## 定义一个字典"
   ]
  },
  {
   "cell_type": "code",
   "execution_count": 16,
   "id": "34e0e2d6",
   "metadata": {
    "ExecuteTime": {
     "end_time": "2022-10-30T07:22:41.767023Z",
     "start_time": "2022-10-30T07:22:41.749071Z"
    }
   },
   "outputs": [],
   "source": [
    "dict1 = {'name': 'Tony', 'job': 'Students'}"
   ]
  },
  {
   "cell_type": "markdown",
   "id": "798fd120",
   "metadata": {},
   "source": [
    "## 利用字典进行取值"
   ]
  },
  {
   "cell_type": "code",
   "execution_count": 17,
   "id": "b6f31e61",
   "metadata": {
    "ExecuteTime": {
     "end_time": "2022-10-30T07:23:30.298683Z",
     "start_time": "2022-10-30T07:23:30.292674Z"
    }
   },
   "outputs": [
    {
     "data": {
      "text/plain": [
       "'Tony'"
      ]
     },
     "execution_count": 17,
     "metadata": {},
     "output_type": "execute_result"
    }
   ],
   "source": [
    "dict1['name']"
   ]
  },
  {
   "cell_type": "markdown",
   "id": "acccd34b",
   "metadata": {},
   "source": [
    "## 字典的增删改查"
   ]
  },
  {
   "cell_type": "markdown",
   "id": "cd1a6813",
   "metadata": {},
   "source": [
    "### 增"
   ]
  },
  {
   "cell_type": "code",
   "execution_count": 18,
   "id": "fd1fe883",
   "metadata": {
    "ExecuteTime": {
     "end_time": "2022-10-30T07:24:38.153706Z",
     "start_time": "2022-10-30T07:24:38.143731Z"
    }
   },
   "outputs": [],
   "source": [
    "dict1['sex'] = '男'"
   ]
  },
  {
   "cell_type": "code",
   "execution_count": 19,
   "id": "230cdbe4",
   "metadata": {
    "ExecuteTime": {
     "end_time": "2022-10-30T07:24:42.584351Z",
     "start_time": "2022-10-30T07:24:42.578334Z"
    }
   },
   "outputs": [
    {
     "data": {
      "text/plain": [
       "{'name': 'Tony', 'job': 'Students', 'sex': '男'}"
      ]
     },
     "execution_count": 19,
     "metadata": {},
     "output_type": "execute_result"
    }
   ],
   "source": [
    "dict1"
   ]
  },
  {
   "cell_type": "markdown",
   "id": "1ed4f717",
   "metadata": {},
   "source": [
    "### 删"
   ]
  },
  {
   "cell_type": "code",
   "execution_count": 20,
   "id": "fa8c818e",
   "metadata": {
    "ExecuteTime": {
     "end_time": "2022-10-30T07:26:26.557636Z",
     "start_time": "2022-10-30T07:26:26.539688Z"
    }
   },
   "outputs": [
    {
     "data": {
      "text/plain": [
       "'男'"
      ]
     },
     "execution_count": 20,
     "metadata": {},
     "output_type": "execute_result"
    }
   ],
   "source": [
    "dict1.pop('sex')"
   ]
  },
  {
   "cell_type": "code",
   "execution_count": 21,
   "id": "1f3c5aaa",
   "metadata": {
    "ExecuteTime": {
     "end_time": "2022-10-30T07:26:28.785376Z",
     "start_time": "2022-10-30T07:26:28.767423Z"
    }
   },
   "outputs": [
    {
     "data": {
      "text/plain": [
       "{'name': 'Tony', 'job': 'Students'}"
      ]
     },
     "execution_count": 21,
     "metadata": {},
     "output_type": "execute_result"
    }
   ],
   "source": [
    "dict1"
   ]
  },
  {
   "cell_type": "markdown",
   "id": "bc103194",
   "metadata": {},
   "source": [
    "### 改"
   ]
  },
  {
   "cell_type": "code",
   "execution_count": 22,
   "id": "bc65b92d",
   "metadata": {
    "ExecuteTime": {
     "end_time": "2022-10-30T07:27:13.091803Z",
     "start_time": "2022-10-30T07:27:13.082826Z"
    }
   },
   "outputs": [],
   "source": [
    "dict1['job'] = 'Teachers'"
   ]
  },
  {
   "cell_type": "code",
   "execution_count": 23,
   "id": "322dd84a",
   "metadata": {
    "ExecuteTime": {
     "end_time": "2022-10-30T07:27:16.760163Z",
     "start_time": "2022-10-30T07:27:16.748185Z"
    }
   },
   "outputs": [
    {
     "data": {
      "text/plain": [
       "{'name': 'Tony', 'job': 'Teachers'}"
      ]
     },
     "execution_count": 23,
     "metadata": {},
     "output_type": "execute_result"
    }
   ],
   "source": [
    "dict1"
   ]
  },
  {
   "cell_type": "markdown",
   "id": "20cf10c5",
   "metadata": {},
   "source": [
    "## 其他函数"
   ]
  },
  {
   "cell_type": "markdown",
   "id": "cc362270",
   "metadata": {},
   "source": [
    "### 查看所有的键名称"
   ]
  },
  {
   "cell_type": "code",
   "execution_count": 24,
   "id": "fba0b211",
   "metadata": {
    "ExecuteTime": {
     "end_time": "2022-10-30T07:29:08.790199Z",
     "start_time": "2022-10-30T07:29:08.779258Z"
    }
   },
   "outputs": [
    {
     "data": {
      "text/plain": [
       "dict_keys(['name', 'job'])"
      ]
     },
     "execution_count": 24,
     "metadata": {},
     "output_type": "execute_result"
    }
   ],
   "source": [
    "dict1.keys()"
   ]
  },
  {
   "cell_type": "markdown",
   "id": "f4a53ef3",
   "metadata": {},
   "source": [
    "### 查看所有的值"
   ]
  },
  {
   "cell_type": "code",
   "execution_count": 25,
   "id": "a7ee1499",
   "metadata": {
    "ExecuteTime": {
     "end_time": "2022-10-30T07:29:33.031447Z",
     "start_time": "2022-10-30T07:29:33.013495Z"
    }
   },
   "outputs": [
    {
     "data": {
      "text/plain": [
       "dict_values(['Tony', 'Teachers'])"
      ]
     },
     "execution_count": 25,
     "metadata": {},
     "output_type": "execute_result"
    }
   ],
   "source": [
    "dict1.values()"
   ]
  },
  {
   "cell_type": "markdown",
   "id": "52d38aca",
   "metadata": {},
   "source": [
    "### 查看所有的键值对"
   ]
  },
  {
   "cell_type": "code",
   "execution_count": 26,
   "id": "0449a71c",
   "metadata": {
    "ExecuteTime": {
     "end_time": "2022-10-30T07:29:52.423558Z",
     "start_time": "2022-10-30T07:29:52.413589Z"
    }
   },
   "outputs": [
    {
     "data": {
      "text/plain": [
       "dict_items([('name', 'Tony'), ('job', 'Teachers')])"
      ]
     },
     "execution_count": 26,
     "metadata": {},
     "output_type": "execute_result"
    }
   ],
   "source": [
    "dict1.items()"
   ]
  },
  {
   "cell_type": "markdown",
   "id": "6bcde99e",
   "metadata": {},
   "source": [
    "# Python中的循环"
   ]
  },
  {
   "cell_type": "markdown",
   "id": "f1eeaacd",
   "metadata": {},
   "source": [
    "## for循环"
   ]
  },
  {
   "cell_type": "code",
   "execution_count": 29,
   "id": "396b0acf",
   "metadata": {
    "ExecuteTime": {
     "end_time": "2022-10-30T07:51:09.661298Z",
     "start_time": "2022-10-30T07:51:09.648333Z"
    },
    "collapsed": true
   },
   "outputs": [
    {
     "name": "stdout",
     "output_type": "stream",
     "text": [
      "1\n",
      "--------------------------------------------------\n",
      "4\n",
      "--------------------------------------------------\n",
      "9\n",
      "--------------------------------------------------\n",
      "16\n",
      "--------------------------------------------------\n",
      "25\n",
      "--------------------------------------------------\n",
      "36\n",
      "--------------------------------------------------\n",
      "49\n",
      "--------------------------------------------------\n",
      "64\n",
      "--------------------------------------------------\n",
      "81\n",
      "--------------------------------------------------\n",
      "100\n",
      "--------------------------------------------------\n"
     ]
    }
   ],
   "source": [
    "# 输出1-10这10个数的平方\n",
    "for i in range(1,11):\n",
    "    print(i ** 2)\n",
    "    print('-'*50)"
   ]
  },
  {
   "cell_type": "code",
   "execution_count": 30,
   "id": "44aa3029",
   "metadata": {
    "ExecuteTime": {
     "end_time": "2022-10-30T07:52:18.861993Z",
     "start_time": "2022-10-30T07:52:18.844041Z"
    },
    "collapsed": true
   },
   "outputs": [
    {
     "name": "stdout",
     "output_type": "stream",
     "text": [
      "1\n",
      "2\n",
      "3\n",
      "4\n",
      "False\n",
      "end\n",
      "201\n",
      "202\n",
      "203\n"
     ]
    }
   ],
   "source": [
    "for i in list1:\n",
    "    print(i)"
   ]
  },
  {
   "cell_type": "markdown",
   "id": "9d648d50",
   "metadata": {},
   "source": [
    "## while循环"
   ]
  },
  {
   "cell_type": "code",
   "execution_count": 31,
   "id": "aaa7458a",
   "metadata": {
    "ExecuteTime": {
     "end_time": "2022-10-30T07:56:31.180567Z",
     "start_time": "2022-10-30T07:56:31.166636Z"
    },
    "collapsed": true
   },
   "outputs": [
    {
     "name": "stdout",
     "output_type": "stream",
     "text": [
      "2500\n",
      "2401\n",
      "2304\n",
      "2209\n",
      "2116\n",
      "2025\n",
      "1936\n",
      "1849\n",
      "1764\n",
      "1681\n",
      "1600\n",
      "1521\n",
      "1444\n",
      "1369\n",
      "1296\n",
      "1225\n",
      "1156\n",
      "1089\n",
      "1024\n",
      "961\n",
      "900\n",
      "841\n",
      "784\n",
      "729\n",
      "676\n",
      "625\n"
     ]
    }
   ],
   "source": [
    "n = 50\n",
    "while n >= 25:\n",
    "    print(n ** 2)\n",
    "    n -= 1"
   ]
  },
  {
   "cell_type": "markdown",
   "id": "491cce14",
   "metadata": {},
   "source": [
    "# Python中的分支结构"
   ]
  },
  {
   "cell_type": "code",
   "execution_count": 32,
   "id": "e3a8ad58",
   "metadata": {
    "ExecuteTime": {
     "end_time": "2022-10-30T08:01:21.363257Z",
     "start_time": "2022-10-30T08:01:21.358270Z"
    },
    "collapsed": true
   },
   "outputs": [
    {
     "name": "stdout",
     "output_type": "stream",
     "text": [
      "1\n",
      "2\n",
      "3\n",
      "4\n",
      "201\n",
      "202\n",
      "203\n"
     ]
    }
   ],
   "source": [
    "# 单分支\n",
    "for i in list1:\n",
    "    if type(i) == int:\n",
    "        print(i)"
   ]
  },
  {
   "cell_type": "code",
   "execution_count": 33,
   "id": "de0e9a7a",
   "metadata": {
    "ExecuteTime": {
     "end_time": "2022-10-30T08:02:18.808862Z",
     "start_time": "2022-10-30T08:02:18.798890Z"
    },
    "collapsed": true
   },
   "outputs": [
    {
     "name": "stdout",
     "output_type": "stream",
     "text": [
      "1\n",
      "2\n",
      "3\n",
      "4\n",
      "0\n",
      "0\n",
      "201\n",
      "202\n",
      "203\n"
     ]
    }
   ],
   "source": [
    "# 双分支\n",
    "for i in list1:\n",
    "    if type(i) == int:\n",
    "        print(i)\n",
    "    else:\n",
    "        print(0)"
   ]
  },
  {
   "cell_type": "code",
   "execution_count": 34,
   "id": "fde344d3",
   "metadata": {
    "ExecuteTime": {
     "end_time": "2022-10-30T08:03:02.616466Z",
     "start_time": "2022-10-30T08:03:02.607491Z"
    },
    "collapsed": true
   },
   "outputs": [
    {
     "name": "stdout",
     "output_type": "stream",
     "text": [
      "1\n",
      "2\n",
      "3\n",
      "4\n",
      "False\n",
      "0\n",
      "201\n",
      "202\n",
      "203\n"
     ]
    }
   ],
   "source": [
    "# 多分支\n",
    "for i in list1:\n",
    "    if type(i) == int:\n",
    "        print(i)\n",
    "    elif type(i) == bool:\n",
    "        print(i)\n",
    "    else:\n",
    "        print(0)"
   ]
  },
  {
   "cell_type": "markdown",
   "id": "4b78acd6",
   "metadata": {},
   "source": [
    "# 列表推导式"
   ]
  },
  {
   "cell_type": "code",
   "execution_count": 37,
   "id": "b2a57496",
   "metadata": {
    "ExecuteTime": {
     "end_time": "2022-10-30T08:09:42.847042Z",
     "start_time": "2022-10-30T08:09:42.828091Z"
    },
    "collapsed": true
   },
   "outputs": [
    {
     "data": {
      "text/plain": [
       "[4,\n",
       " 9,\n",
       " 16,\n",
       " 25,\n",
       " 36,\n",
       " 49,\n",
       " 64,\n",
       " 81,\n",
       " 100,\n",
       " 121,\n",
       " 144,\n",
       " 169,\n",
       " 196,\n",
       " 225,\n",
       " 256,\n",
       " 289,\n",
       " 324,\n",
       " 361,\n",
       " 400,\n",
       " 441]"
      ]
     },
     "execution_count": 37,
     "metadata": {},
     "output_type": "execute_result"
    }
   ],
   "source": [
    "# 例子：已知现在有一个列表，列表中的元素为1-20.现在要获得一个  所有元素+1  然后取平方构成  的列表\n",
    "res = []\n",
    "for i in range(1, 21):\n",
    "    res.append((i + 1) ** 2)\n",
    "res"
   ]
  },
  {
   "cell_type": "code",
   "execution_count": 38,
   "id": "dfdb3db9",
   "metadata": {
    "ExecuteTime": {
     "end_time": "2022-10-30T08:10:15.967423Z",
     "start_time": "2022-10-30T08:10:15.958447Z"
    },
    "collapsed": true
   },
   "outputs": [
    {
     "data": {
      "text/plain": [
       "[4,\n",
       " 9,\n",
       " 16,\n",
       " 25,\n",
       " 36,\n",
       " 49,\n",
       " 64,\n",
       " 81,\n",
       " 100,\n",
       " 121,\n",
       " 144,\n",
       " 169,\n",
       " 196,\n",
       " 225,\n",
       " 256,\n",
       " 289,\n",
       " 324,\n",
       " 361,\n",
       " 400,\n",
       " 441]"
      ]
     },
     "execution_count": 38,
     "metadata": {},
     "output_type": "execute_result"
    }
   ],
   "source": [
    "# 使用列表推导式改写\n",
    "res = [(i + 1) ** 2 for i in range(1, 21)]\n",
    "res"
   ]
  },
  {
   "cell_type": "markdown",
   "id": "c4dca3ac",
   "metadata": {},
   "source": [
    "# 函数的定义"
   ]
  },
  {
   "cell_type": "code",
   "execution_count": 39,
   "id": "052f709b",
   "metadata": {
    "ExecuteTime": {
     "end_time": "2022-10-30T08:15:19.424754Z",
     "start_time": "2022-10-30T08:15:19.412755Z"
    }
   },
   "outputs": [],
   "source": [
    "# 能够对列表中的元素进行筛选，将所有的整数值筛选出来\n",
    "def get_int(list_):\n",
    "    res = []\n",
    "    for i in list_:\n",
    "        if type(i) == int:\n",
    "            res.append(i)\n",
    "    return res"
   ]
  },
  {
   "cell_type": "code",
   "execution_count": 41,
   "id": "e49a08df",
   "metadata": {
    "ExecuteTime": {
     "end_time": "2022-10-30T08:16:50.871758Z",
     "start_time": "2022-10-30T08:16:50.863812Z"
    }
   },
   "outputs": [],
   "source": [
    "# 利用列表推导式进行改进\n",
    "def get_int2(list_):\n",
    "    return [i for i in list_ if type(i) == int]"
   ]
  },
  {
   "cell_type": "code",
   "execution_count": 40,
   "id": "d88cca72",
   "metadata": {
    "ExecuteTime": {
     "end_time": "2022-10-30T08:15:43.909918Z",
     "start_time": "2022-10-30T08:15:43.899945Z"
    }
   },
   "outputs": [
    {
     "data": {
      "text/plain": [
       "[1, 2, 3, 4, 201, 202, 203]"
      ]
     },
     "execution_count": 40,
     "metadata": {},
     "output_type": "execute_result"
    }
   ],
   "source": [
    "get_int(list1)"
   ]
  },
  {
   "cell_type": "code",
   "execution_count": 42,
   "id": "c93b534f",
   "metadata": {
    "ExecuteTime": {
     "end_time": "2022-10-30T08:16:59.933275Z",
     "start_time": "2022-10-30T08:16:59.914326Z"
    }
   },
   "outputs": [
    {
     "data": {
      "text/plain": [
       "[1, 2, 3, 4, 201, 202, 203]"
      ]
     },
     "execution_count": 42,
     "metadata": {},
     "output_type": "execute_result"
    }
   ],
   "source": [
    "get_int2(list1)"
   ]
  },
  {
   "cell_type": "markdown",
   "id": "a13f2705",
   "metadata": {},
   "source": [
    "# 文件操作"
   ]
  },
  {
   "cell_type": "markdown",
   "id": "02e7fe1c",
   "metadata": {},
   "source": [
    "## 文件的存储"
   ]
  },
  {
   "cell_type": "code",
   "execution_count": 44,
   "id": "adeef18d",
   "metadata": {
    "ExecuteTime": {
     "end_time": "2022-10-30T08:35:24.383259Z",
     "start_time": "2022-10-30T08:35:24.374285Z"
    }
   },
   "outputs": [],
   "source": [
    "# 将list1中的元素写入到本地文件\n",
    "f = open('list.txt', 'w')\n",
    "f.write(str(list1))\n",
    "f.close()"
   ]
  },
  {
   "cell_type": "markdown",
   "id": "95ab581c",
   "metadata": {},
   "source": [
    "## 文件的读取"
   ]
  },
  {
   "cell_type": "code",
   "execution_count": 45,
   "id": "8ed93dc4",
   "metadata": {
    "ExecuteTime": {
     "end_time": "2022-10-30T08:37:11.655290Z",
     "start_time": "2022-10-30T08:37:11.650325Z"
    }
   },
   "outputs": [],
   "source": [
    "# 读取本地的list.txt文件\n",
    "f = open('list.txt', 'r')\n",
    "list_1 = f.read()\n",
    "f.close()"
   ]
  },
  {
   "cell_type": "code",
   "execution_count": 50,
   "id": "221f6043",
   "metadata": {
    "ExecuteTime": {
     "end_time": "2022-10-30T08:38:39.466765Z",
     "start_time": "2022-10-30T08:38:39.458763Z"
    }
   },
   "outputs": [
    {
     "data": {
      "text/plain": [
       "\"[1, 2, 3, 4, False, 'end', 201, 202, 203]\""
      ]
     },
     "execution_count": 50,
     "metadata": {},
     "output_type": "execute_result"
    }
   ],
   "source": [
    "list_1"
   ]
  },
  {
   "cell_type": "code",
   "execution_count": 49,
   "id": "afa026d3",
   "metadata": {
    "ExecuteTime": {
     "end_time": "2022-10-30T08:38:21.950138Z",
     "start_time": "2022-10-30T08:38:21.931218Z"
    }
   },
   "outputs": [
    {
     "data": {
      "text/plain": [
       "[1, 2, 3, 4, False, 'end', 201, 202, 203]"
      ]
     },
     "execution_count": 49,
     "metadata": {},
     "output_type": "execute_result"
    }
   ],
   "source": [
    "eval(list_1)"
   ]
  },
  {
   "cell_type": "code",
   "execution_count": 51,
   "id": "25d9a664",
   "metadata": {
    "ExecuteTime": {
     "end_time": "2022-10-30T08:40:10.683786Z",
     "start_time": "2022-10-30T08:40:10.664836Z"
    }
   },
   "outputs": [
    {
     "name": "stdout",
     "output_type": "stream",
     "text": [
      "[1, 2, 3, 4, False, 'end', 201, 202, 203]\n"
     ]
    }
   ],
   "source": [
    "with open('list.txt', 'r') as f:\n",
    "    list_2 = f.read()\n",
    "print(list_2)"
   ]
  }
 ],
 "metadata": {
  "kernelspec": {
   "display_name": "Python 3",
   "language": "python",
   "name": "python3"
  },
  "language_info": {
   "codemirror_mode": {
    "name": "ipython",
    "version": 3
   },
   "file_extension": ".py",
   "mimetype": "text/x-python",
   "name": "python",
   "nbconvert_exporter": "python",
   "pygments_lexer": "ipython3",
   "version": "3.8.8"
  },
  "toc": {
   "base_numbering": 1,
   "nav_menu": {},
   "number_sections": true,
   "sideBar": true,
   "skip_h1_title": false,
   "title_cell": "Table of Contents",
   "title_sidebar": "Contents",
   "toc_cell": false,
   "toc_position": {
    "height": "calc(100% - 180px)",
    "left": "10px",
    "top": "150px",
    "width": "264px"
   },
   "toc_section_display": true,
   "toc_window_display": true
  }
 },
 "nbformat": 4,
 "nbformat_minor": 5
}
