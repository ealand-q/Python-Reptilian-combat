{
 "cells": [
  {
   "cell_type": "code",
   "execution_count": 31,
   "id": "51edbd5f",
   "metadata": {
    "ExecuteTime": {
     "end_time": "2023-02-23T06:10:17.906297Z",
     "start_time": "2023-02-23T06:10:16.153192Z"
    }
   },
   "outputs": [
    {
     "name": "stdout",
     "output_type": "stream",
     "text": [
      "请输入一个整数(>1):20\n"
     ]
    },
    {
     "ename": "SyntaxError",
     "evalue": "'return' outside function (<ipython-input-31-93fe63a3b7df>, line 6)",
     "output_type": "error",
     "traceback": [
      "\u001b[1;36m  File \u001b[1;32m\"<ipython-input-31-93fe63a3b7df>\"\u001b[1;36m, line \u001b[1;32m6\u001b[0m\n\u001b[1;33m    return 0\u001b[0m\n\u001b[1;37m    ^\u001b[0m\n\u001b[1;31mSyntaxError\u001b[0m\u001b[1;31m:\u001b[0m 'return' outside function\n"
     ]
    }
   ],
   "source": [
    "import math\n",
    "m = int(input(\"请输入一个整数(>1):\"))\n",
    "k = int(math.sqrt(m))\n",
    "for i in range(2, k+2):\n",
    "    if m % i == 0:\n",
    "        return 0\n",
    "        break #可以整除，肯定不是素数，结束循环\n",
    "    if i == k+1: \n",
    "        print(m,\"是素数! \")\n",
    "        \n"
   ]
  },
  {
   "cell_type": "code",
   "execution_count": 74,
   "id": "81031155",
   "metadata": {
    "ExecuteTime": {
     "end_time": "2023-02-23T07:26:35.215517Z",
     "start_time": "2023-02-23T06:52:01.888932Z"
    },
    "code_folding": []
   },
   "outputs": [
    {
     "name": "stdout",
     "output_type": "stream",
     "text": [
      "12415236\n",
      "1242155613464734735\n",
      "No\n",
      "2147483647\n",
      "Yes\n"
     ]
    },
    {
     "ename": "KeyboardInterrupt",
     "evalue": "Interrupted by user",
     "output_type": "error",
     "traceback": [
      "\u001b[1;31m---------------------------------------------------------------------------\u001b[0m",
      "\u001b[1;31mKeyboardInterrupt\u001b[0m                         Traceback (most recent call last)",
      "\u001b[1;32m<ipython-input-74-d71749b59d70>\u001b[0m in \u001b[0;36m<module>\u001b[1;34m\u001b[0m\n\u001b[0;32m     11\u001b[0m \u001b[0mn\u001b[0m \u001b[1;33m=\u001b[0m \u001b[0mint\u001b[0m\u001b[1;33m(\u001b[0m\u001b[0minput\u001b[0m\u001b[1;33m(\u001b[0m\u001b[1;33m)\u001b[0m\u001b[1;33m)\u001b[0m\u001b[1;33m\u001b[0m\u001b[1;33m\u001b[0m\u001b[0m\n\u001b[0;32m     12\u001b[0m \u001b[1;32mfor\u001b[0m \u001b[0mi\u001b[0m \u001b[1;32min\u001b[0m \u001b[0mrange\u001b[0m\u001b[1;33m(\u001b[0m\u001b[0mn\u001b[0m\u001b[1;33m)\u001b[0m\u001b[1;33m:\u001b[0m\u001b[1;33m\u001b[0m\u001b[1;33m\u001b[0m\u001b[0m\n\u001b[1;32m---> 13\u001b[1;33m     \u001b[0mt\u001b[0m\u001b[1;33m=\u001b[0m\u001b[0mint\u001b[0m\u001b[1;33m(\u001b[0m\u001b[0minput\u001b[0m\u001b[1;33m(\u001b[0m\u001b[1;33m)\u001b[0m\u001b[1;33m)\u001b[0m\u001b[1;33m\u001b[0m\u001b[1;33m\u001b[0m\u001b[0m\n\u001b[0m\u001b[0;32m     14\u001b[0m     \u001b[1;32mif\u001b[0m\u001b[1;33m(\u001b[0m\u001b[0misPrime\u001b[0m\u001b[1;33m(\u001b[0m\u001b[0mt\u001b[0m\u001b[1;33m)\u001b[0m\u001b[1;33m)\u001b[0m\u001b[1;33m:\u001b[0m\u001b[1;33m\u001b[0m\u001b[1;33m\u001b[0m\u001b[0m\n\u001b[0;32m     15\u001b[0m         \u001b[0mprint\u001b[0m\u001b[1;33m(\u001b[0m\u001b[1;34m\"Yes\"\u001b[0m\u001b[1;33m)\u001b[0m\u001b[1;33m\u001b[0m\u001b[1;33m\u001b[0m\u001b[0m\n",
      "\u001b[1;32mD:\\ANACONDA\\lib\\site-packages\\ipykernel\\kernelbase.py\u001b[0m in \u001b[0;36mraw_input\u001b[1;34m(self, prompt)\u001b[0m\n\u001b[0;32m    858\u001b[0m                 \u001b[1;34m\"raw_input was called, but this frontend does not support input requests.\"\u001b[0m\u001b[1;33m\u001b[0m\u001b[1;33m\u001b[0m\u001b[0m\n\u001b[0;32m    859\u001b[0m             )\n\u001b[1;32m--> 860\u001b[1;33m         return self._input_request(str(prompt),\n\u001b[0m\u001b[0;32m    861\u001b[0m             \u001b[0mself\u001b[0m\u001b[1;33m.\u001b[0m\u001b[0m_parent_ident\u001b[0m\u001b[1;33m,\u001b[0m\u001b[1;33m\u001b[0m\u001b[1;33m\u001b[0m\u001b[0m\n\u001b[0;32m    862\u001b[0m             \u001b[0mself\u001b[0m\u001b[1;33m.\u001b[0m\u001b[0m_parent_header\u001b[0m\u001b[1;33m,\u001b[0m\u001b[1;33m\u001b[0m\u001b[1;33m\u001b[0m\u001b[0m\n",
      "\u001b[1;32mD:\\ANACONDA\\lib\\site-packages\\ipykernel\\kernelbase.py\u001b[0m in \u001b[0;36m_input_request\u001b[1;34m(self, prompt, ident, parent, password)\u001b[0m\n\u001b[0;32m    902\u001b[0m             \u001b[1;32mexcept\u001b[0m \u001b[0mKeyboardInterrupt\u001b[0m\u001b[1;33m:\u001b[0m\u001b[1;33m\u001b[0m\u001b[1;33m\u001b[0m\u001b[0m\n\u001b[0;32m    903\u001b[0m                 \u001b[1;31m# re-raise KeyboardInterrupt, to truncate traceback\u001b[0m\u001b[1;33m\u001b[0m\u001b[1;33m\u001b[0m\u001b[1;33m\u001b[0m\u001b[0m\n\u001b[1;32m--> 904\u001b[1;33m                 \u001b[1;32mraise\u001b[0m \u001b[0mKeyboardInterrupt\u001b[0m\u001b[1;33m(\u001b[0m\u001b[1;34m\"Interrupted by user\"\u001b[0m\u001b[1;33m)\u001b[0m \u001b[1;32mfrom\u001b[0m \u001b[1;32mNone\u001b[0m\u001b[1;33m\u001b[0m\u001b[1;33m\u001b[0m\u001b[0m\n\u001b[0m\u001b[0;32m    905\u001b[0m             \u001b[1;32mexcept\u001b[0m \u001b[0mException\u001b[0m \u001b[1;32mas\u001b[0m \u001b[0me\u001b[0m\u001b[1;33m:\u001b[0m\u001b[1;33m\u001b[0m\u001b[1;33m\u001b[0m\u001b[0m\n\u001b[0;32m    906\u001b[0m                 \u001b[0mself\u001b[0m\u001b[1;33m.\u001b[0m\u001b[0mlog\u001b[0m\u001b[1;33m.\u001b[0m\u001b[0mwarning\u001b[0m\u001b[1;33m(\u001b[0m\u001b[1;34m\"Invalid Message:\"\u001b[0m\u001b[1;33m,\u001b[0m \u001b[0mexc_info\u001b[0m\u001b[1;33m=\u001b[0m\u001b[1;32mTrue\u001b[0m\u001b[1;33m)\u001b[0m\u001b[1;33m\u001b[0m\u001b[1;33m\u001b[0m\u001b[0m\n",
      "\u001b[1;31mKeyboardInterrupt\u001b[0m: Interrupted by user"
     ]
    }
   ],
   "source": [
    "import math\n",
    "def isPrime(x):\n",
    "    if (x == 2) or (x == 3):\n",
    "        return True\n",
    "    if (x % 6 != 1) and (x % 6 != 5):\n",
    "        return False\n",
    "    for i in range(5, int(x ** 0.5) + 1, 6):\n",
    "        if (x % i == 0) or (x % (i + 2) == 0):\n",
    "            return False\n",
    "    return True\n",
    "n = int(input())\n",
    "for i in range(n):\n",
    "    t=int(input())\n",
    "    if(isPrime(t)):\n",
    "        print(\"Yes\")\n",
    "    else:\n",
    "        print(\"No\")"
   ]
  },
  {
   "cell_type": "code",
   "execution_count": 61,
   "id": "56ab7f07",
   "metadata": {
    "ExecuteTime": {
     "end_time": "2023-02-23T06:43:43.407179Z",
     "start_time": "2023-02-23T06:43:43.393389Z"
    }
   },
   "outputs": [
    {
     "name": "stdout",
     "output_type": "stream",
     "text": [
      "3\n",
      "3\n"
     ]
    }
   ],
   "source": [
    "num=11\n",
    "num=int(math.sqrt(num))\n",
    "print(num)\n",
    "for i in range(3,num+2,2):\n",
    "    print(i)"
   ]
  },
  {
   "cell_type": "code",
   "execution_count": 64,
   "id": "881f5e99",
   "metadata": {
    "ExecuteTime": {
     "end_time": "2023-02-23T06:46:43.542867Z",
     "start_time": "2023-02-23T06:46:42.237328Z"
    }
   },
   "outputs": [
    {
     "name": "stdout",
     "output_type": "stream",
     "text": [
      "请输入一个整数(>1)：1\n",
      "1 是合数！\n"
     ]
    }
   ],
   "source": [
    "\n",
    "import math\n",
    "\n",
    "m = int(input(\"请输入一个整数(>1)：\"))\n",
    "\n",
    "k = int(math.sqrt(m))\n",
    "\n",
    "for i in range(2, k+2):\n",
    "\n",
    "    if m % i == 0:\n",
    "\n",
    "        break #可以整除，肯定不是素数，结束循环\n",
    "\n",
    "if i == k+1 and m!=1: print(m, \"是素数！\")\n",
    "\n",
    "else: print(m, \"是合数！\")"
   ]
  },
  {
   "cell_type": "code",
   "execution_count": 63,
   "id": "59d9d08d",
   "metadata": {
    "ExecuteTime": {
     "end_time": "2023-02-23T06:45:53.075191Z",
     "start_time": "2023-02-23T06:45:53.073184Z"
    }
   },
   "outputs": [
    {
     "name": "stdout",
     "output_type": "stream",
     "text": [
      "1\n"
     ]
    }
   ],
   "source": [
    "x=True\n",
    "if x:\n",
    "    print(1)\n",
    "else:\n",
    "    print(0)"
   ]
  },
  {
   "cell_type": "code",
   "execution_count": 78,
   "id": "44bcf60d",
   "metadata": {
    "ExecuteTime": {
     "end_time": "2023-02-23T07:28:40.963960Z",
     "start_time": "2023-02-23T07:28:40.957926Z"
    }
   },
   "outputs": [
    {
     "name": "stdout",
     "output_type": "stream",
     "text": [
      "Yes\n"
     ]
    }
   ],
   "source": [
    "def isPrime(x):\n",
    "    if (x == 2) or (x == 3):\n",
    "        return True\n",
    "    if (x % 6 != 1) and (x % 6 != 5):\n",
    "        return False\n",
    "    for i in range(5, int(x ** 0.5) + 1, 6):\n",
    "        if (x % i == 0) or (x % (i + 2) == 0):\n",
    "            return False\n",
    "    return True\n",
    "n = int(input())\n",
    "for i in range(n):\n",
    "    t=int(input())\n",
    "    if(isPrime(t)):\n",
    "        print(\"Yes\")\n",
    "    else:\n",
    "        print(\"No\")"
   ]
  },
  {
   "cell_type": "code",
   "execution_count": 80,
   "id": "7acfedc0",
   "metadata": {
    "ExecuteTime": {
     "end_time": "2023-02-23T07:58:47.153923Z",
     "start_time": "2023-02-23T07:58:44.765887Z"
    }
   },
   "outputs": [
    {
     "name": "stdout",
     "output_type": "stream",
     "text": [
      "1\n",
      "1\n",
      "No\n"
     ]
    }
   ],
   "source": [
    "def isPrime(x):\n",
    "    if x == 2:\n",
    "        return True\n",
    "    elif x % 2 == 0 or x==1:\n",
    "        return False\n",
    "    for i in range(3, int(x ** 0.5) + 1, 2):\n",
    "        if x % i == 0:\n",
    "            return False\n",
    "    return True\n",
    "n = int(input())\n",
    "for i in range(n):\n",
    "    t=int(input())\n",
    "    if(isPrime(t)):\n",
    "        print(\"Yes\")\n",
    "    else:\n",
    "        print(\"No\")"
   ]
  },
  {
   "cell_type": "code",
   "execution_count": 1,
   "id": "90e61ee6",
   "metadata": {
    "ExecuteTime": {
     "end_time": "2023-02-23T11:53:23.573108Z",
     "start_time": "2023-02-23T10:57:49.572288Z"
    }
   },
   "outputs": [
    {
     "name": "stdout",
     "output_type": "stream",
     "text": [
      "10\n",
      "3 2 22 10 58 8 125\n",
      "5 1 345 3 211 5 233 7 13 8 101\n",
      "1 7 8800\n",
      "2 1 1000 2 1000\n",
      "2 4 250 10 320\n",
      "6 5 11 9 22 8 33 7 44 10 55 4 2\n",
      "1 3 8800\n",
      "2 1 23 2 123\n",
      "1 8 250\n",
      "4 2 121 4 516 7 112 9 10\n"
     ]
    },
    {
     "ename": "KeyError",
     "evalue": "2",
     "output_type": "error",
     "traceback": [
      "\u001b[1;31m---------------------------------------------------------------------------\u001b[0m",
      "\u001b[1;31mKeyError\u001b[0m                                  Traceback (most recent call last)",
      "\u001b[1;32m<ipython-input-1-0748b21092fc>\u001b[0m in \u001b[0;36m<module>\u001b[1;34m\u001b[0m\n\u001b[0;32m     14\u001b[0m     \u001b[0mj\u001b[0m\u001b[1;33m=\u001b[0m\u001b[1;36m0\u001b[0m\u001b[1;33m\u001b[0m\u001b[1;33m\u001b[0m\u001b[0m\n\u001b[0;32m     15\u001b[0m     \u001b[1;32mwhile\u001b[0m \u001b[0mj\u001b[0m\u001b[1;33m<\u001b[0m\u001b[1;33m(\u001b[0m\u001b[0mlen\u001b[0m\u001b[1;33m(\u001b[0m\u001b[0mi\u001b[0m\u001b[1;33m)\u001b[0m\u001b[1;33m-\u001b[0m\u001b[1;36m1\u001b[0m\u001b[1;33m)\u001b[0m\u001b[1;33m:\u001b[0m\u001b[1;33m\u001b[0m\u001b[1;33m\u001b[0m\u001b[0m\n\u001b[1;32m---> 16\u001b[1;33m         \u001b[0mtotal\u001b[0m\u001b[1;33m[\u001b[0m\u001b[0mi\u001b[0m\u001b[1;33m[\u001b[0m\u001b[0mj\u001b[0m\u001b[1;33m+\u001b[0m\u001b[1;36m1\u001b[0m\u001b[1;33m]\u001b[0m\u001b[1;33m]\u001b[0m\u001b[1;33m+=\u001b[0m\u001b[0mi\u001b[0m\u001b[1;33m[\u001b[0m\u001b[0mj\u001b[0m\u001b[1;33m+\u001b[0m\u001b[1;36m2\u001b[0m\u001b[1;33m]\u001b[0m\u001b[1;33m\u001b[0m\u001b[1;33m\u001b[0m\u001b[0m\n\u001b[0m\u001b[0;32m     17\u001b[0m         \u001b[0mj\u001b[0m\u001b[1;33m+=\u001b[0m\u001b[1;36m2\u001b[0m\u001b[1;33m\u001b[0m\u001b[1;33m\u001b[0m\u001b[0m\n\u001b[0;32m     18\u001b[0m \u001b[1;32mfor\u001b[0m \u001b[0mi\u001b[0m \u001b[1;32min\u001b[0m \u001b[0mtotal\u001b[0m\u001b[1;33m.\u001b[0m\u001b[0mitems\u001b[0m\u001b[1;33m(\u001b[0m\u001b[1;33m)\u001b[0m\u001b[1;33m:\u001b[0m\u001b[1;33m\u001b[0m\u001b[1;33m\u001b[0m\u001b[0m\n",
      "\u001b[1;31mKeyError\u001b[0m: 2"
     ]
    }
   ],
   "source": [
    "n=int(input())\n",
    "lis=[]\n",
    "total={}\n",
    "for i in range(n):\n",
    "    x=list(map(int,input().split(' ')))\n",
    "    lis.append(x)\n",
    "for i in lis:\n",
    "    m=2\n",
    "    while m<=len(i):\n",
    "        sum=0\n",
    "        sum+=i[m]\n",
    "        m+=2\n",
    "    total[(lis.index(i))+1]=sum\n",
    "    j=0\n",
    "    while j<(len(i)-1):\n",
    "        total[i[j+1]]+=i[j+2]\n",
    "        j+=2\n",
    "for i in total.items():\n",
    "    print(i)"
   ]
  },
  {
   "cell_type": "code",
   "execution_count": null,
   "id": "0d1dc3f0",
   "metadata": {},
   "outputs": [],
   "source": [
    "n=int(input())\n",
    "lis=[]\n",
    "total={}\n",
    "for i in range(n):\n",
    "    x=list(map(int,input().split(' ')))\n",
    "    lis.append(x)\n",
    "for i in lis:\n",
    "    m=2\n",
    "    while m<=len(i):\n",
    "        sum=0\n",
    "        sum+=i[m]\n",
    "        m+=2\n",
    "    total[(lis.index(i))+1]=sum\n",
    "    j=0\n",
    "    while j<(len(i)-1):\n",
    "        total[i[j+1]]+=i[j+2]\n",
    "        j+=2\n",
    "for i in total.items():\n",
    "    print(i)"
   ]
  },
  {
   "cell_type": "code",
   "execution_count": null,
   "id": "f8904293",
   "metadata": {
    "ExecuteTime": {
     "start_time": "2023-02-25T11:23:53.714Z"
    }
   },
   "outputs": [
    {
     "name": "stdout",
     "output_type": "stream",
     "text": [
      "9\n"
     ]
    }
   ],
   "source": [
    "# 输入总人数\n",
    "n = int(input())\n",
    "# 创建一个字典，用来存储每个人的编号和收入金额\n",
    "income = {}\n",
    "for i in range(1, n + 1):\n",
    "    income[i] = [0, 0] # 初始化为[0, 0]，第一个元素是收入金额，第二个元素是抢到红包的个数\n",
    "# 遍历每个人发红包的记录\n",
    "for i in range(1, n + 1):\n",
    "    # 输入发出去的红包个数和抢到红包的人和金额\n",
    "    line = input().split()\n",
    "    k = int(line[0]) # 红包个数\n",
    "    if k == 0: # 如果没有发红包，跳过这一行\n",
    "        continue\n",
    "    else:\n",
    "        for j in range(1, k + 1):\n",
    "            ni = int(line[j * 2 - 1]) # 抢到红包的人编号\n",
    "            pi = int(line[j * 2]) # 抢到红包的金额（分）\n",
    "            income[ni][0] += pi / 100 # 更新收入金额（元）\n",
    "            income[ni][1] += 1 # 更新抢到红包的个数\n",
    "\n",
    "# 将字典转换成一个列表，按照收入金额、抢到红包的个数和编号排序\n",
    "income_list = []\n",
    "for key, value in income.items():\n",
    "    income_list.append([key, value[0], value[1]])\n",
    "income_list.sort(key=lambda x: (-x[1], -x[2], x[0]))\n",
    "\n",
    "# 输出列表中的每个元素\n",
    "for item in income_list:\n",
    "    print(item[0], \"{:.2f}\".format(item[1]))"
   ]
  },
  {
   "cell_type": "code",
   "execution_count": 1,
   "id": "c500d091",
   "metadata": {
    "ExecuteTime": {
     "end_time": "2023-02-26T06:50:12.242474Z",
     "start_time": "2023-02-26T06:50:01.161308Z"
    }
   },
   "outputs": [
    {
     "name": "stdout",
     "output_type": "stream",
     "text": [
      "0.1 1.2 9\n"
     ]
    }
   ],
   "source": [
    "a,b,c=map(eval,input().split(\" \"))"
   ]
  },
  {
   "cell_type": "code",
   "execution_count": 2,
   "id": "5a06f0f4",
   "metadata": {
    "ExecuteTime": {
     "end_time": "2023-02-26T06:50:18.356785Z",
     "start_time": "2023-02-26T06:50:18.340039Z"
    }
   },
   "outputs": [
    {
     "data": {
      "text/plain": [
       "0.1"
      ]
     },
     "execution_count": 2,
     "metadata": {},
     "output_type": "execute_result"
    }
   ],
   "source": [
    "a\n"
   ]
  },
  {
   "cell_type": "code",
   "execution_count": 4,
   "id": "0a68b03f",
   "metadata": {
    "ExecuteTime": {
     "end_time": "2023-02-26T06:50:38.634612Z",
     "start_time": "2023-02-26T06:50:38.630239Z"
    }
   },
   "outputs": [
    {
     "name": "stdout",
     "output_type": "stream",
     "text": [
      "0.10 "
     ]
    }
   ],
   "source": [
    "print(\"{:.2f}\".format(a),end=\" \")"
   ]
  },
  {
   "cell_type": "code",
   "execution_count": 5,
   "id": "d040a41f",
   "metadata": {
    "ExecuteTime": {
     "end_time": "2023-02-26T06:51:24.072509Z",
     "start_time": "2023-02-26T06:51:24.062730Z"
    },
    "scrolled": true
   },
   "outputs": [
    {
     "ename": "IndentationError",
     "evalue": "unexpected indent (<ipython-input-5-03f6466f4c2e>, line 12)",
     "output_type": "error",
     "traceback": [
      "\u001b[1;36m  File \u001b[1;32m\"<ipython-input-5-03f6466f4c2e>\"\u001b[1;36m, line \u001b[1;32m12\u001b[0m\n\u001b[1;33m    lim=a*shuxin\u001b[0m\n\u001b[1;37m    ^\u001b[0m\n\u001b[1;31mIndentationError\u001b[0m\u001b[1;31m:\u001b[0m unexpected indent\n"
     ]
    }
   ],
   "source": [
    "a,b,c=map(eval,input().split(\" \"))\n",
    "if b==0:\n",
    "    shuxin=2.455\n",
    "    lim=a*shuxin\n",
    "    print(\"{:.2f}\".format(a*shuxin),end=\" \")\n",
    "    if c<lim:\n",
    "        print(\"T_T\")\n",
    "    else:\n",
    "        print(\"^_^\")\n",
    "else :\n",
    "    shuxin=1.26\n",
    "        lim=a*shuxin\n",
    "    print(\"{:.2f}\".format(a*shuxin),end=\" \")\n",
    "    if c<lim:\n",
    "        print(\"T_T\")\n",
    "    else:\n",
    "        print(\"^_^\")"
   ]
  },
  {
   "cell_type": "code",
   "execution_count": 6,
   "id": "0a2a8cd0",
   "metadata": {
    "ExecuteTime": {
     "end_time": "2023-02-26T07:06:29.334587Z",
     "start_time": "2023-02-26T07:06:20.162352Z"
    }
   },
   "outputs": [
    {
     "name": "stdout",
     "output_type": "stream",
     "text": [
      "12 18 18 8\n"
     ]
    }
   ],
   "source": [
    "a,b,c,d=map(eval,input().split(\" \"))\n",
    "elder=c\n",
    "younger=d\n",
    "one=1\n",
    "two=2\n",
    "if a<b:\n",
    "    elder=d\n",
    "    younger=c\n",
    "    one=2\n",
    "    two=1\n",
    "if elder>=a and younger>=a:\n",
    "    print(f\"{elder}-Y\",end=\" \")\n",
    "    print(f\"{younger}-Y\")\n",
    "    print(\"huan ying ru guan\")\n",
    "elif elder>=b and younger<a :\n",
    "    print(f\"{elder}-Y\",end=\" \")\n",
    "    print(f\"{younger}-N\")\n",
    "    print(f\"qing {one} zhao gu hao {two}\")\n",
    "elif elder<a and younger<a :\n",
    "    print(f\"{elder}-N\",end=\" \")\n",
    "    print(f\"{younger}-N\")\n",
    "    print(\"zhang da zai lai ba\")\n",
    "elif elder<b and elder>a and younger<a:\n",
    "    print(f\"{elder}-Y\",end=\" \")\n",
    "    print(f\"{younger}-N\")\n",
    "    print(f\"{one}: huan ying ru guan\")"
   ]
  },
  {
   "cell_type": "code",
   "execution_count": 7,
   "id": "a159ef05",
   "metadata": {
    "ExecuteTime": {
     "end_time": "2023-02-26T07:06:37.582434Z",
     "start_time": "2023-02-26T07:06:37.566379Z"
    }
   },
   "outputs": [
    {
     "data": {
      "text/plain": [
       "12"
      ]
     },
     "execution_count": 7,
     "metadata": {},
     "output_type": "execute_result"
    }
   ],
   "source": [
    "a"
   ]
  },
  {
   "cell_type": "code",
   "execution_count": 8,
   "id": "62140027",
   "metadata": {
    "ExecuteTime": {
     "end_time": "2023-02-26T07:06:40.720799Z",
     "start_time": "2023-02-26T07:06:40.706942Z"
    }
   },
   "outputs": [
    {
     "data": {
      "text/plain": [
       "18"
      ]
     },
     "execution_count": 8,
     "metadata": {},
     "output_type": "execute_result"
    }
   ],
   "source": [
    "b"
   ]
  },
  {
   "cell_type": "code",
   "execution_count": 9,
   "id": "272decca",
   "metadata": {
    "ExecuteTime": {
     "end_time": "2023-02-26T07:06:44.077312Z",
     "start_time": "2023-02-26T07:06:44.069978Z"
    }
   },
   "outputs": [
    {
     "data": {
      "text/plain": [
       "18"
      ]
     },
     "execution_count": 9,
     "metadata": {},
     "output_type": "execute_result"
    }
   ],
   "source": [
    "c"
   ]
  },
  {
   "cell_type": "code",
   "execution_count": 10,
   "id": "ca076b79",
   "metadata": {
    "ExecuteTime": {
     "end_time": "2023-02-26T07:06:49.857695Z",
     "start_time": "2023-02-26T07:06:49.854471Z"
    }
   },
   "outputs": [
    {
     "data": {
      "text/plain": [
       "8"
      ]
     },
     "execution_count": 10,
     "metadata": {},
     "output_type": "execute_result"
    }
   ],
   "source": [
    "d"
   ]
  },
  {
   "cell_type": "code",
   "execution_count": 13,
   "id": "8909c2c0",
   "metadata": {
    "ExecuteTime": {
     "end_time": "2023-02-26T07:36:15.825351Z",
     "start_time": "2023-02-26T07:36:15.813360Z"
    }
   },
   "outputs": [
    {
     "ename": "SyntaxError",
     "evalue": "invalid syntax (<ipython-input-13-de01a3be4ec1>, line 1)",
     "output_type": "error",
     "traceback": [
      "\u001b[1;36m  File \u001b[1;32m\"<ipython-input-13-de01a3be4ec1>\"\u001b[1;36m, line \u001b[1;32m1\u001b[0m\n\u001b[1;33m    math.max{1,2,3}\u001b[0m\n\u001b[1;37m            ^\u001b[0m\n\u001b[1;31mSyntaxError\u001b[0m\u001b[1;31m:\u001b[0m invalid syntax\n"
     ]
    }
   ],
   "source": [
    "math.max{1,2,3}"
   ]
  },
  {
   "cell_type": "code",
   "execution_count": 14,
   "id": "6859c8dd",
   "metadata": {
    "ExecuteTime": {
     "end_time": "2023-02-26T07:38:09.351593Z",
     "start_time": "2023-02-26T07:38:09.345973Z"
    }
   },
   "outputs": [
    {
     "data": {
      "text/plain": [
       "3"
      ]
     },
     "execution_count": 14,
     "metadata": {},
     "output_type": "execute_result"
    }
   ],
   "source": [
    "max(1,2,3)"
   ]
  },
  {
   "cell_type": "code",
   "execution_count": null,
   "id": "ac25a058",
   "metadata": {},
   "outputs": [],
   "source": [
    "x1"
   ]
  },
  {
   "cell_type": "code",
   "execution_count": 23,
   "id": "02e51282",
   "metadata": {
    "ExecuteTime": {
     "end_time": "2023-02-26T08:05:11.245644Z",
     "start_time": "2023-02-26T08:05:11.234285Z"
    }
   },
   "outputs": [],
   "source": [
    "def shaizi(x1,a) :\n",
    "    if a in x1:\n",
    "        x1.remove(a)\n",
    "    x1.sort()\n",
    "    return x1[-1]"
   ]
  },
  {
   "cell_type": "code",
   "execution_count": 24,
   "id": "4a835f65",
   "metadata": {
    "ExecuteTime": {
     "end_time": "2023-02-26T08:05:13.593823Z",
     "start_time": "2023-02-26T08:05:13.583107Z"
    }
   },
   "outputs": [
    {
     "data": {
      "text/plain": [
       "6"
      ]
     },
     "execution_count": 24,
     "metadata": {},
     "output_type": "execute_result"
    }
   ],
   "source": [
    "shaizi([1,2,3,4,5,6],3)"
   ]
  },
  {
   "cell_type": "code",
   "execution_count": 25,
   "id": "585ed5b0",
   "metadata": {
    "ExecuteTime": {
     "end_time": "2023-02-26T08:12:07.579985Z",
     "start_time": "2023-02-26T08:12:07.569380Z"
    }
   },
   "outputs": [],
   "source": [
    "dic={}\n",
    "for i in range(6):\n",
    "    dic[i+1]=[1,2,3,4,5,6]"
   ]
  },
  {
   "cell_type": "code",
   "execution_count": 26,
   "id": "bf32b6a8",
   "metadata": {
    "ExecuteTime": {
     "end_time": "2023-02-26T08:12:14.098373Z",
     "start_time": "2023-02-26T08:12:14.083599Z"
    }
   },
   "outputs": [
    {
     "data": {
      "text/plain": [
       "{1: [1, 2, 3, 4, 5, 6],\n",
       " 2: [1, 2, 3, 4, 5, 6],\n",
       " 3: [1, 2, 3, 4, 5, 6],\n",
       " 4: [1, 2, 3, 4, 5, 6],\n",
       " 5: [1, 2, 3, 4, 5, 6],\n",
       " 6: [1, 2, 3, 4, 5, 6]}"
      ]
     },
     "execution_count": 26,
     "metadata": {},
     "output_type": "execute_result"
    }
   ],
   "source": [
    "dic"
   ]
  },
  {
   "cell_type": "code",
   "execution_count": 27,
   "id": "7eb42043",
   "metadata": {
    "ExecuteTime": {
     "end_time": "2023-02-26T08:12:46.929498Z",
     "start_time": "2023-02-26T08:12:32.192104Z"
    }
   },
   "outputs": [
    {
     "name": "stdout",
     "output_type": "stream",
     "text": [
      "3 6 5 4 1 4\n"
     ]
    }
   ],
   "source": [
    "s=list(map(eval,input().split(\" \")))"
   ]
  },
  {
   "cell_type": "code",
   "execution_count": 28,
   "id": "5354e03a",
   "metadata": {
    "ExecuteTime": {
     "end_time": "2023-02-26T08:12:50.433912Z",
     "start_time": "2023-02-26T08:12:50.421576Z"
    }
   },
   "outputs": [
    {
     "data": {
      "text/plain": [
       "[3, 6, 5, 4, 1, 4]"
      ]
     },
     "execution_count": 28,
     "metadata": {},
     "output_type": "execute_result"
    }
   ],
   "source": [
    "s"
   ]
  },
  {
   "cell_type": "code",
   "execution_count": 30,
   "id": "ef73390c",
   "metadata": {
    "ExecuteTime": {
     "end_time": "2023-02-26T08:13:25.082667Z",
     "start_time": "2023-02-26T08:13:25.068088Z"
    }
   },
   "outputs": [
    {
     "name": "stdout",
     "output_type": "stream",
     "text": [
      "0\n",
      "1\n",
      "2\n",
      "3\n",
      "4\n",
      "3\n"
     ]
    }
   ],
   "source": [
    "for i in s:\n",
    "    x=s.index(i)\n",
    "    print(x)"
   ]
  },
  {
   "cell_type": "code",
   "execution_count": 31,
   "id": "bd44aa42",
   "metadata": {
    "ExecuteTime": {
     "end_time": "2023-02-26T08:14:03.873582Z",
     "start_time": "2023-02-26T08:14:03.855437Z"
    }
   },
   "outputs": [
    {
     "data": {
      "text/plain": [
       "[1, 2, 3, 4, 5, 6]"
      ]
     },
     "execution_count": 31,
     "metadata": {},
     "output_type": "execute_result"
    }
   ],
   "source": [
    "dic[x]"
   ]
  },
  {
   "cell_type": "code",
   "execution_count": 50,
   "id": "794148b3",
   "metadata": {
    "ExecuteTime": {
     "end_time": "2023-02-26T08:36:47.272287Z",
     "start_time": "2023-02-26T08:36:42.022104Z"
    },
    "scrolled": true
   },
   "outputs": [
    {
     "name": "stdout",
     "output_type": "stream",
     "text": [
      "3 6 5 4 1 4\n",
      "3\n",
      "0\n",
      "[1, 2, 4, 5, 6]\n",
      "1\n",
      "[1, 2, 3, 4, 5]\n",
      "2\n",
      "[1, 2, 3, 4, 6]\n",
      "3\n",
      "[1, 2, 3, 5, 6]\n",
      "4\n",
      "[2, 3, 4, 5, 6]\n",
      "5\n",
      "[1, 2, 3, 5, 6]\n",
      "6 5 6 6 6 6\n",
      "0\n",
      "[1, 2, 4, 5]\n",
      "1\n",
      "[1, 2, 3, 4]\n",
      "2\n",
      "[1, 2, 3, 4]\n",
      "3\n",
      "[1, 2, 3, 5]\n",
      "4\n",
      "[2, 3, 4, 5]\n",
      "5\n",
      "[1, 2, 3, 5]\n",
      "5 4 4 5 5 5\n",
      "0\n",
      "[1, 2, 4]\n",
      "1\n",
      "[1, 2, 3]\n",
      "2\n",
      "[1, 2, 3]\n",
      "3\n",
      "[1, 2, 3]\n",
      "4\n",
      "[2, 3, 4]\n",
      "5\n",
      "[1, 2, 3]\n",
      "4 3 3 3 4 3\n"
     ]
    }
   ],
   "source": [
    "def shaizi(x1,a) :\n",
    "    if a in x1:\n",
    "        x1.remove(a)\n",
    "    x1.sort()\n",
    "    return x1[-1]\n",
    "dic={}\n",
    "for i in range(6):\n",
    "    dic[i+1]=[1,2,3,4,5,6]\n",
    "s=list(map(eval,input().split(\" \")))\n",
    "n=int(input())\n",
    "for i in range(n):\n",
    "    end=[]\n",
    "    for i in s:\n",
    "        x=s.index(i)\n",
    "        s[x]=0\n",
    "        end.append(shaizi(dic[x+1],i))\n",
    "    s=end\n",
    "    for i in end[0:-1]:\n",
    "        print(i,end=\" \")\n",
    "    print(end[-1])"
   ]
  },
  {
   "cell_type": "code",
   "execution_count": 37,
   "id": "2774cc94",
   "metadata": {
    "ExecuteTime": {
     "end_time": "2023-02-26T08:20:10.055716Z",
     "start_time": "2023-02-26T08:20:10.044850Z"
    }
   },
   "outputs": [],
   "source": [
    "x=[1,2,3]\n",
    "x.remove(2)"
   ]
  },
  {
   "cell_type": "code",
   "execution_count": 38,
   "id": "8a9d3d9a",
   "metadata": {
    "ExecuteTime": {
     "end_time": "2023-02-26T08:20:16.540308Z",
     "start_time": "2023-02-26T08:20:16.530998Z"
    }
   },
   "outputs": [
    {
     "data": {
      "text/plain": [
       "[1, 3]"
      ]
     },
     "execution_count": 38,
     "metadata": {},
     "output_type": "execute_result"
    }
   ],
   "source": [
    "x"
   ]
  },
  {
   "cell_type": "code",
   "execution_count": null,
   "id": "94a63d69",
   "metadata": {},
   "outputs": [],
   "source": [
    "s=\n",
    "for i in range(n):\n",
    "    end=[]\n",
    "    for i in s:\n",
    "        x=s.index(i)\n",
    "        end.append(shaizi(dic[x+1],i))\n",
    "        print(dic[x+1])\n",
    "    s=end"
   ]
  },
  {
   "cell_type": "code",
   "execution_count": 40,
   "id": "d4202fff",
   "metadata": {
    "ExecuteTime": {
     "end_time": "2023-02-26T08:22:53.490010Z",
     "start_time": "2023-02-26T08:22:53.480953Z"
    }
   },
   "outputs": [],
   "source": [
    "x1=[1,2,3,4,5,6]"
   ]
  },
  {
   "cell_type": "code",
   "execution_count": 49,
   "id": "18ee280a",
   "metadata": {
    "ExecuteTime": {
     "end_time": "2023-02-26T08:36:01.308062Z",
     "start_time": "2023-02-26T08:36:01.299084Z"
    }
   },
   "outputs": [
    {
     "data": {
      "text/plain": [
       "[1, 0, 3, 4, 2]"
      ]
     },
     "execution_count": 49,
     "metadata": {},
     "output_type": "execute_result"
    }
   ],
   "source": [
    "x1=[1,2,3,4,2]\n",
    "z=x1.index(2)\n",
    "x1[z]=0\n",
    "x1"
   ]
  },
  {
   "cell_type": "code",
   "execution_count": null,
   "id": "7780a0d1",
   "metadata": {},
   "outputs": [],
   "source": [
    "for i in range(len(A)):\n",
    "        for j in range(lenA[0]):\n",
    "        temp=[]\n",
    "        t=0\n",
    "        t+=A[i][j]*B[j][i]\n",
    "        temp.append(t)"
   ]
  },
  {
   "cell_type": "code",
   "execution_count": 51,
   "id": "f3efaa1a",
   "metadata": {
    "ExecuteTime": {
     "end_time": "2023-02-26T09:31:14.794992Z",
     "start_time": "2023-02-26T09:30:01.014287Z"
    }
   },
   "outputs": [
    {
     "name": "stdout",
     "output_type": "stream",
     "text": [
      "2 3\n",
      "1 2 3\n",
      "4 5 6\n",
      "3 4\n",
      "7 8 9 0\n",
      "-1 -2 -3 -4\n",
      "5 6 7 8\n",
      "1 7\n",
      "2 -1\n",
      "3 5\n",
      "4 8\n",
      "5 -2\n",
      "6 6\n",
      "2 4\n"
     ]
    }
   ],
   "source": [
    "import math\n",
    "a,b=map(int,input().split(\" \"))\n",
    "A=[]\n",
    "for i in range(a):\n",
    "    x=list(map(int,input().split(\" \")))\n",
    "    A.append(x)\n",
    "c,d=map(int,input().split(\" \"))\n",
    "B=[]\n",
    "for i in range(c):\n",
    "    x=list(map(int,input().split(\" \")))\n",
    "    B.append(x)\n",
    "end=[]\n",
    "if b != c:\n",
    "    print(f\"Error: {b} != {c}\")\n",
    "elif b==c:\n",
    "    for i in range(len(A)):\n",
    "        temp=[]\n",
    "        for j in range(len(A[i])):\n",
    "            t=0\n",
    "            if A[i][j]>=0 and B[j][i]>=0:\n",
    "                t+=A[i][j]*B[j][i]\n",
    "                temp.append(t)\n",
    "            elif A[i][j]>=0 and B[j][i]<0:\n",
    "                t-=(abs(A[i][j]))*(abs(B[j][i]))\n",
    "                temp.append(t)\n",
    "            elif A[i][j]<0 and B[j][i]>=0:\n",
    "                t-=(abs(A[i][j]))*(abs(B[j][i]))\n",
    "                temp.append(t)\n",
    "            elif A[i][j]<0 and B[j][i]<0:\n",
    "                t+=(abs(A[i][j]))*(abs(B[j][i]))\n",
    "                temp.append(t)\n",
    "        end.append(temp)\n",
    "    print(f'{a} {d}')\n"
   ]
  }
 ],
 "metadata": {
  "hide_input": false,
  "kernelspec": {
   "display_name": "Python 3",
   "language": "python",
   "name": "python3"
  },
  "language_info": {
   "codemirror_mode": {
    "name": "ipython",
    "version": 3
   },
   "file_extension": ".py",
   "mimetype": "text/x-python",
   "name": "python",
   "nbconvert_exporter": "python",
   "pygments_lexer": "ipython3",
   "version": "3.8.8"
  },
  "toc": {
   "base_numbering": 1,
   "nav_menu": {},
   "number_sections": true,
   "sideBar": true,
   "skip_h1_title": false,
   "title_cell": "Table of Contents",
   "title_sidebar": "Contents",
   "toc_cell": false,
   "toc_position": {},
   "toc_section_display": true,
   "toc_window_display": true
  }
 },
 "nbformat": 4,
 "nbformat_minor": 5
}
